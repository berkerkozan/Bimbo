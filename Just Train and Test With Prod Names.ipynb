{
 "cells": [
  {
   "cell_type": "code",
   "execution_count": 1,
   "metadata": {
    "collapsed": true
   },
   "outputs": [],
   "source": [
    "import numpy as np  # linear algebra\n",
    "import pandas as pd  # data processing, CSV file I/O (e.g. pd.read_csv)\n",
    "from sklearn.cross_validation import train_test_split\n",
    "from ml_metrics import rmsle\n",
    "import xgboost as xgb\n",
    "import math\n",
    "from sklearn.feature_extraction.text import CountVectorizer\n",
    "from sklearn import datasets, linear_model\n",
    "from datetime import datetime\n"
   ]
  },
  {
   "cell_type": "code",
   "execution_count": 2,
   "metadata": {
    "collapsed": true
   },
   "outputs": [],
   "source": [
    "def evalerror(preds, dtrain):\n",
    "\n",
    "    labels = dtrain.get_label()\n",
    "    assert len(preds) == len(labels)\n",
    "    labels = labels.tolist()\n",
    "    preds = preds.tolist()\n",
    "    terms_to_sum = [(math.log(labels[i] + 1) - math.log(max(0,preds[i]) + 1))\n",
    "                    ** 2.0 for i,pred in enumerate(labels)]\n",
    "    return 'error', (sum(terms_to_sum) * (1.0/len(preds))) ** 0.5"
   ]
  },
  {
   "cell_type": "code",
   "execution_count": 3,
   "metadata": {
    "collapsed": false
   },
   "outputs": [],
   "source": [
    "train_joined = pd.read_csv('../input/train_alld_prodnames10.csv')\n",
    "test_joined = pd.read_csv('../input/test_alld_prodnames10.csv')"
   ]
  },
  {
   "cell_type": "code",
   "execution_count": 4,
   "metadata": {
    "collapsed": false
   },
   "outputs": [
    {
     "name": "stdout",
     "output_type": "stream",
     "text": [
      "<class 'pandas.core.frame.DataFrame'>\n",
      "RangeIndex: 74013023 entries, 0 to 74013022\n",
      "Data columns (total 23 columns):\n",
      "Demanda_uni_equil    int64\n",
      "d1                   float64\n",
      "d2                   float64\n",
      "d3                   float64\n",
      "d4                   float64\n",
      "d5                   float64\n",
      "d6                   float64\n",
      "Cliente_ID           int64\n",
      "Producto_ID          int64\n",
      "p_total_demand       int64\n",
      "total_demand         int64\n",
      "weight               float64\n",
      "pieces               float64\n",
      "canelit              float64\n",
      "delici chochit       float64\n",
      "delici vainill       float64\n",
      "gansit               float64\n",
      "medi noch            float64\n",
      "pan blanc            float64\n",
      "pan integral         float64\n",
      "pinguin              float64\n",
      "tortillin            float64\n",
      "wond                 float64\n",
      "dtypes: float64(18), int64(5)\n",
      "memory usage: 12.7 GB\n"
     ]
    }
   ],
   "source": [
    "train_joined.info()"
   ]
  },
  {
   "cell_type": "code",
   "execution_count": 5,
   "metadata": {
    "collapsed": false
   },
   "outputs": [
    {
     "data": {
      "text/html": [
       "<div>\n",
       "<table border=\"1\" class=\"dataframe\">\n",
       "  <thead>\n",
       "    <tr style=\"text-align: right;\">\n",
       "      <th></th>\n",
       "      <th>Demanda_uni_equil</th>\n",
       "      <th>d1</th>\n",
       "      <th>d2</th>\n",
       "      <th>d3</th>\n",
       "      <th>d4</th>\n",
       "      <th>d5</th>\n",
       "      <th>d6</th>\n",
       "      <th>Cliente_ID</th>\n",
       "      <th>Producto_ID</th>\n",
       "      <th>p_total_demand</th>\n",
       "      <th>...</th>\n",
       "      <th>canelit</th>\n",
       "      <th>delici chochit</th>\n",
       "      <th>delici vainill</th>\n",
       "      <th>gansit</th>\n",
       "      <th>medi noch</th>\n",
       "      <th>pan blanc</th>\n",
       "      <th>pan integral</th>\n",
       "      <th>pinguin</th>\n",
       "      <th>tortillin</th>\n",
       "      <th>wond</th>\n",
       "    </tr>\n",
       "  </thead>\n",
       "  <tbody>\n",
       "    <tr>\n",
       "      <th>0</th>\n",
       "      <td>1</td>\n",
       "      <td>-999.0</td>\n",
       "      <td>-999.0</td>\n",
       "      <td>-999.0</td>\n",
       "      <td>-999.0</td>\n",
       "      <td>-999.0</td>\n",
       "      <td>-999.0</td>\n",
       "      <td>100000</td>\n",
       "      <td>43274</td>\n",
       "      <td>1639486</td>\n",
       "      <td>...</td>\n",
       "      <td>0.0</td>\n",
       "      <td>0.0</td>\n",
       "      <td>0.0</td>\n",
       "      <td>0.0</td>\n",
       "      <td>0.0</td>\n",
       "      <td>0.0</td>\n",
       "      <td>0.0</td>\n",
       "      <td>0.0</td>\n",
       "      <td>0.0</td>\n",
       "      <td>0.0</td>\n",
       "    </tr>\n",
       "    <tr>\n",
       "      <th>1</th>\n",
       "      <td>2</td>\n",
       "      <td>1.0</td>\n",
       "      <td>-999.0</td>\n",
       "      <td>-999.0</td>\n",
       "      <td>-999.0</td>\n",
       "      <td>-999.0</td>\n",
       "      <td>-999.0</td>\n",
       "      <td>100000</td>\n",
       "      <td>43274</td>\n",
       "      <td>1639486</td>\n",
       "      <td>...</td>\n",
       "      <td>0.0</td>\n",
       "      <td>0.0</td>\n",
       "      <td>0.0</td>\n",
       "      <td>0.0</td>\n",
       "      <td>0.0</td>\n",
       "      <td>0.0</td>\n",
       "      <td>0.0</td>\n",
       "      <td>0.0</td>\n",
       "      <td>0.0</td>\n",
       "      <td>0.0</td>\n",
       "    </tr>\n",
       "    <tr>\n",
       "      <th>2</th>\n",
       "      <td>2</td>\n",
       "      <td>2.0</td>\n",
       "      <td>1.0</td>\n",
       "      <td>-999.0</td>\n",
       "      <td>-999.0</td>\n",
       "      <td>-999.0</td>\n",
       "      <td>-999.0</td>\n",
       "      <td>100000</td>\n",
       "      <td>43274</td>\n",
       "      <td>1639486</td>\n",
       "      <td>...</td>\n",
       "      <td>0.0</td>\n",
       "      <td>0.0</td>\n",
       "      <td>0.0</td>\n",
       "      <td>0.0</td>\n",
       "      <td>0.0</td>\n",
       "      <td>0.0</td>\n",
       "      <td>0.0</td>\n",
       "      <td>0.0</td>\n",
       "      <td>0.0</td>\n",
       "      <td>0.0</td>\n",
       "    </tr>\n",
       "    <tr>\n",
       "      <th>3</th>\n",
       "      <td>2</td>\n",
       "      <td>0.0</td>\n",
       "      <td>0.0</td>\n",
       "      <td>2.0</td>\n",
       "      <td>2.0</td>\n",
       "      <td>1.0</td>\n",
       "      <td>-999.0</td>\n",
       "      <td>100000</td>\n",
       "      <td>43274</td>\n",
       "      <td>1639486</td>\n",
       "      <td>...</td>\n",
       "      <td>0.0</td>\n",
       "      <td>0.0</td>\n",
       "      <td>0.0</td>\n",
       "      <td>0.0</td>\n",
       "      <td>0.0</td>\n",
       "      <td>0.0</td>\n",
       "      <td>0.0</td>\n",
       "      <td>0.0</td>\n",
       "      <td>0.0</td>\n",
       "      <td>0.0</td>\n",
       "    </tr>\n",
       "    <tr>\n",
       "      <th>4</th>\n",
       "      <td>1</td>\n",
       "      <td>-999.0</td>\n",
       "      <td>-999.0</td>\n",
       "      <td>-999.0</td>\n",
       "      <td>-999.0</td>\n",
       "      <td>-999.0</td>\n",
       "      <td>-999.0</td>\n",
       "      <td>1000032</td>\n",
       "      <td>43274</td>\n",
       "      <td>1639486</td>\n",
       "      <td>...</td>\n",
       "      <td>0.0</td>\n",
       "      <td>0.0</td>\n",
       "      <td>0.0</td>\n",
       "      <td>0.0</td>\n",
       "      <td>0.0</td>\n",
       "      <td>0.0</td>\n",
       "      <td>0.0</td>\n",
       "      <td>0.0</td>\n",
       "      <td>0.0</td>\n",
       "      <td>0.0</td>\n",
       "    </tr>\n",
       "  </tbody>\n",
       "</table>\n",
       "<p>5 rows × 23 columns</p>\n",
       "</div>"
      ],
      "text/plain": [
       "   Demanda_uni_equil     d1     d2     d3     d4     d5     d6  Cliente_ID  \\\n",
       "0                  1 -999.0 -999.0 -999.0 -999.0 -999.0 -999.0      100000   \n",
       "1                  2    1.0 -999.0 -999.0 -999.0 -999.0 -999.0      100000   \n",
       "2                  2    2.0    1.0 -999.0 -999.0 -999.0 -999.0      100000   \n",
       "3                  2    0.0    0.0    2.0    2.0    1.0 -999.0      100000   \n",
       "4                  1 -999.0 -999.0 -999.0 -999.0 -999.0 -999.0     1000032   \n",
       "\n",
       "   Producto_ID  p_total_demand  ...   canelit  delici chochit  delici vainill  \\\n",
       "0        43274         1639486  ...       0.0             0.0             0.0   \n",
       "1        43274         1639486  ...       0.0             0.0             0.0   \n",
       "2        43274         1639486  ...       0.0             0.0             0.0   \n",
       "3        43274         1639486  ...       0.0             0.0             0.0   \n",
       "4        43274         1639486  ...       0.0             0.0             0.0   \n",
       "\n",
       "   gansit  medi noch  pan blanc  pan integral  pinguin  tortillin  wond  \n",
       "0     0.0        0.0        0.0           0.0      0.0        0.0   0.0  \n",
       "1     0.0        0.0        0.0           0.0      0.0        0.0   0.0  \n",
       "2     0.0        0.0        0.0           0.0      0.0        0.0   0.0  \n",
       "3     0.0        0.0        0.0           0.0      0.0        0.0   0.0  \n",
       "4     0.0        0.0        0.0           0.0      0.0        0.0   0.0  \n",
       "\n",
       "[5 rows x 23 columns]"
      ]
     },
     "execution_count": 5,
     "metadata": {},
     "output_type": "execute_result"
    }
   ],
   "source": [
    "train_joined.head()"
   ]
  },
  {
   "cell_type": "raw",
   "metadata": {},
   "source": []
  },
  {
   "cell_type": "code",
   "execution_count": 6,
   "metadata": {
    "collapsed": false,
    "scrolled": true
   },
   "outputs": [
    {
     "data": {
      "text/html": [
       "<div>\n",
       "<table border=\"1\" class=\"dataframe\">\n",
       "  <thead>\n",
       "    <tr style=\"text-align: right;\">\n",
       "      <th></th>\n",
       "      <th>Cliente_ID</th>\n",
       "      <th>Producto_ID</th>\n",
       "      <th>d1</th>\n",
       "      <th>d2</th>\n",
       "      <th>d3</th>\n",
       "      <th>d4</th>\n",
       "      <th>d5</th>\n",
       "      <th>d6</th>\n",
       "      <th>id</th>\n",
       "      <th>p_total_demand</th>\n",
       "      <th>...</th>\n",
       "      <th>canelit</th>\n",
       "      <th>delici chochit</th>\n",
       "      <th>delici vainill</th>\n",
       "      <th>gansit</th>\n",
       "      <th>medi noch</th>\n",
       "      <th>pan blanc</th>\n",
       "      <th>pan integral</th>\n",
       "      <th>pinguin</th>\n",
       "      <th>tortillin</th>\n",
       "      <th>wond</th>\n",
       "    </tr>\n",
       "  </thead>\n",
       "  <tbody>\n",
       "    <tr>\n",
       "      <th>0</th>\n",
       "      <td>4549769</td>\n",
       "      <td>32940</td>\n",
       "      <td>2.0</td>\n",
       "      <td>2.0</td>\n",
       "      <td>0.0</td>\n",
       "      <td>0.0</td>\n",
       "      <td>0.0</td>\n",
       "      <td>0.0</td>\n",
       "      <td>2</td>\n",
       "      <td>1003938</td>\n",
       "      <td>...</td>\n",
       "      <td>0.0</td>\n",
       "      <td>0.0</td>\n",
       "      <td>0.0</td>\n",
       "      <td>0.0</td>\n",
       "      <td>0.0</td>\n",
       "      <td>0.0</td>\n",
       "      <td>0.0</td>\n",
       "      <td>0.0</td>\n",
       "      <td>0.0</td>\n",
       "      <td>0.0</td>\n",
       "    </tr>\n",
       "    <tr>\n",
       "      <th>1</th>\n",
       "      <td>1942590</td>\n",
       "      <td>32940</td>\n",
       "      <td>4.0</td>\n",
       "      <td>3.0</td>\n",
       "      <td>3.0</td>\n",
       "      <td>2.0</td>\n",
       "      <td>0.0</td>\n",
       "      <td>0.0</td>\n",
       "      <td>233</td>\n",
       "      <td>1003938</td>\n",
       "      <td>...</td>\n",
       "      <td>0.0</td>\n",
       "      <td>0.0</td>\n",
       "      <td>0.0</td>\n",
       "      <td>0.0</td>\n",
       "      <td>0.0</td>\n",
       "      <td>0.0</td>\n",
       "      <td>0.0</td>\n",
       "      <td>0.0</td>\n",
       "      <td>0.0</td>\n",
       "      <td>0.0</td>\n",
       "    </tr>\n",
       "    <tr>\n",
       "      <th>2</th>\n",
       "      <td>460716</td>\n",
       "      <td>32940</td>\n",
       "      <td>0.0</td>\n",
       "      <td>0.0</td>\n",
       "      <td>0.0</td>\n",
       "      <td>0.0</td>\n",
       "      <td>0.0</td>\n",
       "      <td>0.0</td>\n",
       "      <td>616</td>\n",
       "      <td>1003938</td>\n",
       "      <td>...</td>\n",
       "      <td>0.0</td>\n",
       "      <td>0.0</td>\n",
       "      <td>0.0</td>\n",
       "      <td>0.0</td>\n",
       "      <td>0.0</td>\n",
       "      <td>0.0</td>\n",
       "      <td>0.0</td>\n",
       "      <td>0.0</td>\n",
       "      <td>0.0</td>\n",
       "      <td>0.0</td>\n",
       "    </tr>\n",
       "    <tr>\n",
       "      <th>3</th>\n",
       "      <td>2266767</td>\n",
       "      <td>32940</td>\n",
       "      <td>0.0</td>\n",
       "      <td>0.0</td>\n",
       "      <td>4.0</td>\n",
       "      <td>0.0</td>\n",
       "      <td>0.0</td>\n",
       "      <td>2.0</td>\n",
       "      <td>895</td>\n",
       "      <td>1003938</td>\n",
       "      <td>...</td>\n",
       "      <td>0.0</td>\n",
       "      <td>0.0</td>\n",
       "      <td>0.0</td>\n",
       "      <td>0.0</td>\n",
       "      <td>0.0</td>\n",
       "      <td>0.0</td>\n",
       "      <td>0.0</td>\n",
       "      <td>0.0</td>\n",
       "      <td>0.0</td>\n",
       "      <td>0.0</td>\n",
       "    </tr>\n",
       "    <tr>\n",
       "      <th>4</th>\n",
       "      <td>2266767</td>\n",
       "      <td>32940</td>\n",
       "      <td>-999.0</td>\n",
       "      <td>0.0</td>\n",
       "      <td>0.0</td>\n",
       "      <td>4.0</td>\n",
       "      <td>0.0</td>\n",
       "      <td>0.0</td>\n",
       "      <td>2551064</td>\n",
       "      <td>1003938</td>\n",
       "      <td>...</td>\n",
       "      <td>0.0</td>\n",
       "      <td>0.0</td>\n",
       "      <td>0.0</td>\n",
       "      <td>0.0</td>\n",
       "      <td>0.0</td>\n",
       "      <td>0.0</td>\n",
       "      <td>0.0</td>\n",
       "      <td>0.0</td>\n",
       "      <td>0.0</td>\n",
       "      <td>0.0</td>\n",
       "    </tr>\n",
       "  </tbody>\n",
       "</table>\n",
       "<p>5 rows × 23 columns</p>\n",
       "</div>"
      ],
      "text/plain": [
       "   Cliente_ID  Producto_ID     d1   d2   d3   d4   d5   d6       id  \\\n",
       "0     4549769        32940    2.0  2.0  0.0  0.0  0.0  0.0        2   \n",
       "1     1942590        32940    4.0  3.0  3.0  2.0  0.0  0.0      233   \n",
       "2      460716        32940    0.0  0.0  0.0  0.0  0.0  0.0      616   \n",
       "3     2266767        32940    0.0  0.0  4.0  0.0  0.0  2.0      895   \n",
       "4     2266767        32940 -999.0  0.0  0.0  4.0  0.0  0.0  2551064   \n",
       "\n",
       "   p_total_demand  ...   canelit  delici chochit  delici vainill  gansit  \\\n",
       "0         1003938  ...       0.0             0.0             0.0     0.0   \n",
       "1         1003938  ...       0.0             0.0             0.0     0.0   \n",
       "2         1003938  ...       0.0             0.0             0.0     0.0   \n",
       "3         1003938  ...       0.0             0.0             0.0     0.0   \n",
       "4         1003938  ...       0.0             0.0             0.0     0.0   \n",
       "\n",
       "   medi noch  pan blanc  pan integral  pinguin  tortillin  wond  \n",
       "0        0.0        0.0           0.0      0.0        0.0   0.0  \n",
       "1        0.0        0.0           0.0      0.0        0.0   0.0  \n",
       "2        0.0        0.0           0.0      0.0        0.0   0.0  \n",
       "3        0.0        0.0           0.0      0.0        0.0   0.0  \n",
       "4        0.0        0.0           0.0      0.0        0.0   0.0  \n",
       "\n",
       "[5 rows x 23 columns]"
      ]
     },
     "execution_count": 6,
     "metadata": {},
     "output_type": "execute_result"
    }
   ],
   "source": [
    "test_joined.head()"
   ]
  },
  {
   "cell_type": "code",
   "execution_count": 7,
   "metadata": {
    "collapsed": false
   },
   "outputs": [],
   "source": [
    "train_joined = train_joined.drop(['Cliente_ID'],axis = 1).drop(['Producto_ID'],axis = 1)\n",
    "test_joined = test_joined.drop(['Cliente_ID'],axis = 1).drop(['Producto_ID'],axis = 1)\n",
    "\n",
    "train_joined[['Demanda_uni_equil', 'p_total_demand', 'total_demand']] =train_joined[['Demanda_uni_equil', 'p_total_demand', 'total_demand']].astype('float64')\n",
    "test_joined[['p_total_demand', 'total_demand']]=test_joined[['p_total_demand', 'total_demand']].astype('float64')\n",
    "\n"
   ]
  },
  {
   "cell_type": "code",
   "execution_count": 8,
   "metadata": {
    "collapsed": false
   },
   "outputs": [],
   "source": [
    "ids = test_joined['id']\n",
    "test_joined = test_joined.drop(['id'],axis = 1)"
   ]
  },
  {
   "cell_type": "code",
   "execution_count": 9,
   "metadata": {
    "collapsed": false
   },
   "outputs": [
    {
     "name": "stdout",
     "output_type": "stream",
     "text": [
      "('Division_Set_Shapes:', (74013023, 20), (74013023,))\n",
      "('Validation_Set_Shapes:', (59210418, 20), (14802605, 20))\n"
     ]
    }
   ],
   "source": [
    "y = train_joined['Demanda_uni_equil']\n",
    "X = train_joined[test_joined.columns.values]\n",
    "\n",
    "X_train, X_test, y_train, y_test = train_test_split(X, y, test_size=0.2, random_state=1729)\n",
    "\n",
    "print ('Division_Set_Shapes:', X.shape, y.shape)\n",
    "print ('Validation_Set_Shapes:', X_train.shape, X_test.shape)"
   ]
  },
  {
   "cell_type": "code",
   "execution_count": 10,
   "metadata": {
    "collapsed": false
   },
   "outputs": [
    {
     "name": "stdout",
     "output_type": "stream",
     "text": [
      "<class 'pandas.core.frame.DataFrame'>\n",
      "Int64Index: 59210418 entries, 28817307 to 38733043\n",
      "Data columns (total 20 columns):\n",
      "d1                float64\n",
      "d2                float64\n",
      "d3                float64\n",
      "d4                float64\n",
      "d5                float64\n",
      "d6                float64\n",
      "p_total_demand    float64\n",
      "total_demand      float64\n",
      "weight            float64\n",
      "pieces            float64\n",
      "canelit           float64\n",
      "delici chochit    float64\n",
      "delici vainill    float64\n",
      "gansit            float64\n",
      "medi noch         float64\n",
      "pan blanc         float64\n",
      "pan integral      float64\n",
      "pinguin           float64\n",
      "tortillin         float64\n",
      "wond              float64\n",
      "dtypes: float64(20)\n",
      "memory usage: 9.3 GB\n"
     ]
    }
   ],
   "source": [
    "X_train.info()"
   ]
  },
  {
   "cell_type": "code",
   "execution_count": 11,
   "metadata": {
    "collapsed": true
   },
   "outputs": [],
   "source": [
    "params = {}\n",
    "params['objective'] = \"reg:linear\"\n",
    "params['eta'] = 0.025\n",
    "params['max_depth'] = 5\n",
    "params['subsample'] = 0.8\n",
    "params['colsample_bytree'] = 0.6\n",
    "params['silent'] = True"
   ]
  },
  {
   "cell_type": "code",
   "execution_count": 12,
   "metadata": {
    "collapsed": false
   },
   "outputs": [
    {
     "name": "stdout",
     "output_type": "stream",
     "text": [
      "[0]\ttrain_joined-error:1.35077\n",
      "Will train until train_joined-error hasn't improved in 20 rounds.\n",
      "[10]\ttrain_joined-error:0.872309\n",
      "[20]\ttrain_joined-error:0.704571\n",
      "[30]\ttrain_joined-error:0.641633\n",
      "[40]\ttrain_joined-error:0.612959\n",
      "[50]\ttrain_joined-error:0.600205\n",
      "[60]\ttrain_joined-error:0.598027\n",
      "[70]\ttrain_joined-error:0.59968\n",
      "Stopping. Best iteration:\n",
      "[57]\ttrain_joined-error:0.597979\n",
      "\n",
      "('RMSLE Score:', nan)\n"
     ]
    }
   ],
   "source": [
    "test_preds = np.zeros(test_joined.shape[0])\n",
    "xg_train = xgb.DMatrix(X_train, label=y_train, missing = -999)\n",
    "xg_test = xgb.DMatrix(X_test)\n",
    "\n",
    "watchlist = [(xg_train, 'train_joined')]\n",
    "num_rounds = 200\n",
    "\n",
    "xgclassifier = xgb.train(params, xg_train, num_rounds, watchlist, feval = evalerror,\n",
    "                         early_stopping_rounds= 20, verbose_eval = 10)\n",
    "preds = xgclassifier.predict(xg_test, ntree_limit=xgclassifier.best_iteration)\n",
    "\n",
    "print ('RMSLE Score:', rmsle(y_test, preds))"
   ]
  },
  {
   "cell_type": "code",
   "execution_count": 13,
   "metadata": {
    "collapsed": true
   },
   "outputs": [],
   "source": [
    "fxg_test = xgb.DMatrix(test_joined)\n",
    "fold_preds = np.around(xgclassifier.predict(fxg_test, ntree_limit=xgclassifier.best_iteration), decimals = 1)\n",
    "test_preds += fold_preds"
   ]
  },
  {
   "cell_type": "code",
   "execution_count": 14,
   "metadata": {
    "collapsed": true
   },
   "outputs": [],
   "source": [
    "submission = pd.DataFrame({'id':ids, 'Demanda_uni_equil': test_preds})"
   ]
  },
  {
   "cell_type": "code",
   "execution_count": 15,
   "metadata": {
    "collapsed": true
   },
   "outputs": [],
   "source": [
    "submission.Demanda_uni_equil = submission.Demanda_uni_equil.round()"
   ]
  },
  {
   "cell_type": "code",
   "execution_count": 17,
   "metadata": {
    "collapsed": false
   },
   "outputs": [
    {
     "name": "stdout",
     "output_type": "stream",
     "text": [
      "done\n"
     ]
    }
   ],
   "source": [
    "submission[[\"id\",\"Demanda_uni_equil\"]].to_csv('../submissions/ALL' +\n",
    "                                              datetime.now().strftime('%Y-%m-%d-%H-%M-%S') +'.csv', index=False)\n",
    "\n",
    "print ('done')"
   ]
  },
  {
   "cell_type": "code",
   "execution_count": null,
   "metadata": {
    "collapsed": true
   },
   "outputs": [],
   "source": []
  }
 ],
 "metadata": {
  "kernelspec": {
   "display_name": "Python [Root]",
   "language": "python",
   "name": "Python [Root]"
  },
  "language_info": {
   "codemirror_mode": {
    "name": "ipython",
    "version": 2
   },
   "file_extension": ".py",
   "mimetype": "text/x-python",
   "name": "python",
   "nbconvert_exporter": "python",
   "pygments_lexer": "ipython2",
   "version": "2.7.12"
  }
 },
 "nbformat": 4,
 "nbformat_minor": 0
}
