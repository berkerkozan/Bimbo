{
 "cells": [
  {
   "cell_type": "code",
   "execution_count": 1,
   "metadata": {
    "collapsed": true
   },
   "outputs": [],
   "source": [
    "def lookUpWord(vec,dtm,word):\n",
    "    i = vec.get_feature_names().index(word)\n",
    "    return dtm[:,i].nonzero()[0]"
   ]
  },
  {
   "cell_type": "code",
   "execution_count": 2,
   "metadata": {
    "collapsed": true
   },
   "outputs": [],
   "source": [
    "from sklearn.feature_extraction.text import CountVectorizer"
   ]
  },
  {
   "cell_type": "code",
   "execution_count": 3,
   "metadata": {
    "collapsed": true
   },
   "outputs": [],
   "source": [
    "corpus = [\n",
    "'This is is',\n",
    "'is the'\n",
    "]\n",
    "\n",
    "dff = pd.DataFrame({})"
   ]
  },
  {
   "cell_type": "code",
   "execution_count": 4,
   "metadata": {
    "collapsed": false
   },
   "outputs": [
    {
     "data": {
      "text/plain": [
       "<2x3 sparse matrix of type '<type 'numpy.int64'>'\n",
       "\twith 4 stored elements in Compressed Sparse Row format>"
      ]
     },
     "execution_count": 4,
     "metadata": {},
     "output_type": "execute_result"
    }
   ],
   "source": [
    "X = CountVectorizer()\n",
    "Y = X.fit_transform(corpus)\n",
    "Y"
   ]
  },
  {
   "cell_type": "code",
   "execution_count": 5,
   "metadata": {
    "collapsed": false
   },
   "outputs": [
    {
     "data": {
      "text/plain": [
       "array([[2, 0, 1],\n",
       "       [1, 1, 0]])"
      ]
     },
     "execution_count": 5,
     "metadata": {},
     "output_type": "execute_result"
    }
   ],
   "source": [
    "Y.toarray()"
   ]
  },
  {
   "cell_type": "code",
   "execution_count": 6,
   "metadata": {
    "collapsed": false
   },
   "outputs": [
    {
     "data": {
      "text/plain": [
       "array([[1, 4],\n",
       "       [2, 5],\n",
       "       [3, 6]])"
      ]
     },
     "execution_count": 6,
     "metadata": {},
     "output_type": "execute_result"
    }
   ],
   "source": [
    "import numpy as np\n",
    "a = np.array([ [1,2,3], [4,5,6]])\n",
    "a.T"
   ]
  },
  {
   "cell_type": "code",
   "execution_count": 7,
   "metadata": {
    "collapsed": false
   },
   "outputs": [
    {
     "data": {
      "text/plain": [
       "array([[[ 1,  2,  3],\n",
       "        [ 2,  3,  4],\n",
       "        [ 5,  6,  7]],\n",
       "\n",
       "       [[ 1,  2,  3],\n",
       "        [ 2,  3,  4],\n",
       "        [ 8,  9, 10]]])"
      ]
     },
     "execution_count": 7,
     "metadata": {},
     "output_type": "execute_result"
    }
   ],
   "source": [
    "import numpy as np\n",
    "npArray = np.array([ [[1,2,3], [2,3,4],[5,6,7]] , [[1,2,3], [2,3,4],[8,9,10]] ])\n",
    "npArray"
   ]
  },
  {
   "cell_type": "code",
   "execution_count": 8,
   "metadata": {
    "collapsed": false
   },
   "outputs": [
    {
     "name": "stdout",
     "output_type": "stream",
     "text": [
      "(2, 3, 3)\n"
     ]
    },
    {
     "data": {
      "text/plain": [
       "array([[ 2,  4,  6],\n",
       "       [ 4,  6,  8],\n",
       "       [13, 15, 17]])"
      ]
     },
     "execution_count": 8,
     "metadata": {},
     "output_type": "execute_result"
    }
   ],
   "source": [
    "print npArray.shape\n",
    "npArray.sum(axis=0)"
   ]
  },
  {
   "cell_type": "code",
   "execution_count": 9,
   "metadata": {
    "collapsed": false
   },
   "outputs": [
    {
     "data": {
      "text/plain": [
       "array([[1, 2, 3],\n",
       "       [2, 3, 4]])"
      ]
     },
     "execution_count": 9,
     "metadata": {},
     "output_type": "execute_result"
    }
   ],
   "source": [
    "npArray = np.array([ [1,2,3], [2,3,4]])\n",
    "npArray"
   ]
  },
  {
   "cell_type": "code",
   "execution_count": 10,
   "metadata": {
    "collapsed": false
   },
   "outputs": [
    {
     "data": {
      "text/plain": [
       "array([6, 9])"
      ]
     },
     "execution_count": 10,
     "metadata": {},
     "output_type": "execute_result"
    }
   ],
   "source": [
    "npArray.sum(axis=1)"
   ]
  },
  {
   "cell_type": "code",
   "execution_count": 11,
   "metadata": {
    "collapsed": false
   },
   "outputs": [
    {
     "name": "stdout",
     "output_type": "stream",
     "text": [
      "[2 3 4]\n",
      "[0 2 5 9]\n",
      "OneHotEncoder(categorical_features='all', dtype=<type 'float'>,\n",
      "       handle_unknown='error', n_values='auto', sparse=True)\n"
     ]
    }
   ],
   "source": [
    "from sklearn.preprocessing import OneHotEncoder\n",
    "enc = OneHotEncoder()\n",
    "enc.fit([[0, 0, 3], [1, 1, 0], [0, 2, 1], [1, 0, 2]])  \n",
    "print enc.n_values_\n",
    "print enc.feature_indices_\n",
    "enc.transform([[0, 1, 1]])\n",
    "print enc"
   ]
  },
  {
   "cell_type": "code",
   "execution_count": 12,
   "metadata": {
    "collapsed": false
   },
   "outputs": [
    {
     "name": "stdout",
     "output_type": "stream",
     "text": [
      "[[0 3]\n",
      " [1 0]\n",
      " [0 2]]\n"
     ]
    }
   ],
   "source": [
    "import pandas as pd\n",
    "import scipy.sparse as sps\n",
    "\n",
    "df = pd.DataFrame({'tag1': ['sean', 'udi', 'bogdan'], 'tag2': ['sean', 'udi', 'udi'], 'freq': [1,2,3]})\n",
    "# tag1 -> rows, tag2 -> columns\n",
    "df.set_index(['tag1', 'tag2'], inplace=True)\n",
    "\n",
    "mat = sps.coo_matrix((df.freq, (df.index.labels[0], df.index.labels[1])))\n",
    "print(mat.todense())"
   ]
  },
  {
   "cell_type": "code",
   "execution_count": 13,
   "metadata": {
    "collapsed": false
   },
   "outputs": [
    {
     "data": {
      "text/html": [
       "<div>\n",
       "<table border=\"1\" class=\"dataframe\">\n",
       "  <thead>\n",
       "    <tr style=\"text-align: right;\">\n",
       "      <th></th>\n",
       "      <th></th>\n",
       "      <th>freq</th>\n",
       "    </tr>\n",
       "    <tr>\n",
       "      <th>tag1</th>\n",
       "      <th>tag2</th>\n",
       "      <th></th>\n",
       "    </tr>\n",
       "  </thead>\n",
       "  <tbody>\n",
       "    <tr>\n",
       "      <th>sean</th>\n",
       "      <th>sean</th>\n",
       "      <td>1</td>\n",
       "    </tr>\n",
       "    <tr>\n",
       "      <th>udi</th>\n",
       "      <th>udi</th>\n",
       "      <td>2</td>\n",
       "    </tr>\n",
       "    <tr>\n",
       "      <th>bogdan</th>\n",
       "      <th>udi</th>\n",
       "      <td>3</td>\n",
       "    </tr>\n",
       "  </tbody>\n",
       "</table>\n",
       "</div>"
      ],
      "text/plain": [
       "             freq\n",
       "tag1   tag2      \n",
       "sean   sean     1\n",
       "udi    udi      2\n",
       "bogdan udi      3"
      ]
     },
     "execution_count": 13,
     "metadata": {},
     "output_type": "execute_result"
    }
   ],
   "source": [
    "df"
   ]
  },
  {
   "cell_type": "code",
   "execution_count": 2,
   "metadata": {
    "collapsed": true
   },
   "outputs": [],
   "source": [
    "import pandas as pd\n",
    "import numpy as np\n",
    "series = pd.Series([20, 21, 12], index=['London', 'New York','Helsinki'])"
   ]
  },
  {
   "cell_type": "code",
   "execution_count": 15,
   "metadata": {
    "collapsed": false
   },
   "outputs": [
    {
     "data": {
      "text/plain": [
       "London      20\n",
       "New York    21\n",
       "Helsinki    12\n",
       "dtype: int64"
      ]
     },
     "execution_count": 15,
     "metadata": {},
     "output_type": "execute_result"
    }
   ],
   "source": [
    "series"
   ]
  },
  {
   "cell_type": "code",
   "execution_count": 16,
   "metadata": {
    "collapsed": false
   },
   "outputs": [
    {
     "data": {
      "text/plain": [
       "London      20\n",
       "New York    21\n",
       "Helsinki    12\n",
       "dtype: int64"
      ]
     },
     "execution_count": 16,
     "metadata": {},
     "output_type": "execute_result"
    }
   ],
   "source": [
    "series.apply(np.max)"
   ]
  },
  {
   "cell_type": "code",
   "execution_count": 17,
   "metadata": {
    "collapsed": false
   },
   "outputs": [
    {
     "data": {
      "text/plain": [
       "{'France': 'Paris', 'Italy': 'Rome', 'US': 'Washington DC'}"
      ]
     },
     "execution_count": 17,
     "metadata": {},
     "output_type": "execute_result"
    }
   ],
   "source": [
    "L = [('Italy', 'Rome'), ('France', 'Paris'), ('US', 'Washington DC')]\n",
    "dict(L)"
   ]
  },
  {
   "cell_type": "code",
   "execution_count": 24,
   "metadata": {
    "collapsed": false
   },
   "outputs": [
    {
     "data": {
      "text/html": [
       "<div>\n",
       "<table border=\"1\" class=\"dataframe\">\n",
       "  <thead>\n",
       "    <tr style=\"text-align: right;\">\n",
       "      <th></th>\n",
       "      <th>1</th>\n",
       "      <th>2</th>\n",
       "    </tr>\n",
       "  </thead>\n",
       "  <tbody>\n",
       "    <tr>\n",
       "      <th>0</th>\n",
       "      <td>1.0</td>\n",
       "      <td>0.0</td>\n",
       "    </tr>\n",
       "    <tr>\n",
       "      <th>1</th>\n",
       "      <td>0.0</td>\n",
       "      <td>1.0</td>\n",
       "    </tr>\n",
       "    <tr>\n",
       "      <th>2</th>\n",
       "      <td>1.0</td>\n",
       "      <td>0.0</td>\n",
       "    </tr>\n",
       "  </tbody>\n",
       "</table>\n",
       "</div>"
      ],
      "text/plain": [
       "     1    2\n",
       "0  1.0  0.0\n",
       "1  0.0  1.0\n",
       "2  1.0  0.0"
      ]
     },
     "execution_count": 24,
     "metadata": {},
     "output_type": "execute_result"
    }
   ],
   "source": [
    "pd.get_dummies({\"a\":1,\"b\":2,\"c\":1})"
   ]
  },
  {
   "cell_type": "code",
   "execution_count": 1,
   "metadata": {
    "collapsed": false
   },
   "outputs": [
    {
     "name": "stdout",
     "output_type": "stream",
     "text": [
      "   freq  freq2  freq3\n",
      "0     1      1      1\n",
      "1     2      2      2\n",
      "2     3      3      3\n"
     ]
    },
    {
     "data": {
      "text/html": [
       "<div>\n",
       "<table border=\"1\" class=\"dataframe\">\n",
       "  <thead>\n",
       "    <tr style=\"text-align: right;\">\n",
       "      <th></th>\n",
       "      <th>freq</th>\n",
       "      <th>freq2</th>\n",
       "      <th>freq3</th>\n",
       "    </tr>\n",
       "  </thead>\n",
       "  <tbody>\n",
       "    <tr>\n",
       "      <th>0</th>\n",
       "      <td>0</td>\n",
       "      <td>0</td>\n",
       "      <td>0</td>\n",
       "    </tr>\n",
       "    <tr>\n",
       "      <th>1</th>\n",
       "      <td>1</td>\n",
       "      <td>1</td>\n",
       "      <td>1</td>\n",
       "    </tr>\n",
       "    <tr>\n",
       "      <th>2</th>\n",
       "      <td>2</td>\n",
       "      <td>2</td>\n",
       "      <td>2</td>\n",
       "    </tr>\n",
       "  </tbody>\n",
       "</table>\n",
       "</div>"
      ],
      "text/plain": [
       "   freq  freq2  freq3\n",
       "0     0      0      0\n",
       "1     1      1      1\n",
       "2     2      2      2"
      ]
     },
     "execution_count": 1,
     "metadata": {},
     "output_type": "execute_result"
    }
   ],
   "source": [
    "import pandas as pd\n",
    "import scipy.sparse as sps\n",
    "\n",
    "df = pd.DataFrame({'freq2': [1,2,3], 'freq3': [1,2,3], 'freq': [1,2,3]})\n",
    "print df\n",
    "df - df.iloc[0]"
   ]
  },
  {
   "cell_type": "code",
   "execution_count": 6,
   "metadata": {
    "collapsed": false
   },
   "outputs": [
    {
     "name": "stdout",
     "output_type": "stream",
     "text": [
      "0    1\n",
      "1    2\n",
      "2    3\n",
      "3    4\n",
      "4    5\n",
      "5    6\n",
      "6    7\n",
      "7    8\n",
      "8    9\n",
      "dtype: int64\n",
      "0         NaN\n",
      "1         NaN\n",
      "2    2.000000\n",
      "3    1.000000\n",
      "4    0.666667\n",
      "5    0.500000\n",
      "6    0.400000\n",
      "7    0.333333\n",
      "8    0.285714\n",
      "dtype: float64\n"
     ]
    }
   ],
   "source": [
    "ser = pd.Series(np.arange(1,10))\n",
    "print ser\n",
    "print ser.pct_change(periods=2)"
   ]
  },
  {
   "cell_type": "code",
   "execution_count": 15,
   "metadata": {
    "collapsed": false
   },
   "outputs": [
    {
     "name": "stdout",
     "output_type": "stream",
     "text": [
      "                   A         B         C\n",
      "2000-01-01 -0.892897 -0.731282 -0.309898\n",
      "2000-01-02 -0.142474  1.389146  1.860335\n",
      "2000-01-03 -0.647468  0.572068 -1.422506\n",
      "2000-01-04 -0.598652  1.027636 -0.116715\n",
      "2000-01-05  1.552082 -0.222794 -0.691522\n",
      "2000-01-06 -0.243378  0.074893 -0.292245\n",
      "2000-01-07 -1.071232  0.199398  0.000788\n",
      "2000-01-08  1.135393  0.064921  0.873834\n",
      "2000-01-09 -0.904898  0.327185  1.005680\n",
      "2000-01-10 -2.685419  0.379783  0.949139\n",
      "                   A         B         C\n",
      "2000-01-01       NaN       NaN       NaN\n",
      "2000-01-02       NaN       NaN       NaN\n",
      "2000-01-03 -1.682839  1.229933  0.127930\n",
      "2000-01-04 -1.388594  2.988850  0.321113\n",
      "2000-01-05  0.305962  1.376910 -2.230743\n",
      "2000-01-06  0.710051  0.879734 -1.100482\n",
      "2000-01-07  0.237472  0.051497 -0.982979\n",
      "2000-01-08 -0.179217  0.339211  0.582377\n",
      "2000-01-09 -0.840736  0.591503  1.880302\n",
      "2000-01-10 -2.454924  0.771888  2.828653\n"
     ]
    }
   ],
   "source": [
    "s = pd.Series(np.random.randn(1000), index=pd.date_range('1/1/2000', periods=1000))\n",
    "s = s.cumsum()\n",
    "\n",
    "dfa = pd.DataFrame(np.random.randn(1000, 3),\n",
    "                 index=pd.date_range('1/1/2000', periods=1000),\n",
    "                 columns=['A', 'B', 'C'])\n",
    "r = dfa.rolling(window=3)\n",
    "print dfa.head(10)\n",
    "print r.sum().head(10)"
   ]
  },
  {
   "cell_type": "code",
   "execution_count": 20,
   "metadata": {
    "collapsed": false
   },
   "outputs": [
    {
     "name": "stdout",
     "output_type": "stream",
     "text": [
      "0     True\n",
      "1     True\n",
      "2    False\n",
      "dtype: bool\n",
      "0     NaN\n",
      "1    None\n",
      "2       c\n",
      "dtype: object\n",
      "0     True\n",
      "1     True\n",
      "2    False\n",
      "dtype: bool\n",
      "0    NaN\n",
      "1    NaN\n",
      "2    3.0\n",
      "dtype: float64\n"
     ]
    }
   ],
   "source": [
    "s = pd.Series([\"a\", \"b\", \"c\"])\n",
    "s[0] = np.nan\n",
    "s[1] = None\n",
    "print s.isnull()\n",
    "print s\n",
    "\n",
    "s = pd.Series([1,2,3])\n",
    "s[0] = np.nan\n",
    "s[1] = None\n",
    "print s.isnull()\n",
    "print s"
   ]
  },
  {
   "cell_type": "code",
   "execution_count": 33,
   "metadata": {
    "collapsed": false
   },
   "outputs": [
    {
     "name": "stdout",
     "output_type": "stream",
     "text": [
      "          A         B         C\n",
      "0  0.368492  0.568508 -1.063306\n",
      "1 -0.513870 -0.650085 -1.057037\n",
      "2 -0.253484 -1.065769 -1.191611\n",
      "3       NaN  3.072860  0.180028\n",
      "4       NaN       NaN -0.189929\n",
      "5  0.012497       NaN       NaN\n",
      "6 -0.047750 -1.180888       NaN\n",
      "7  1.958306  1.811587       NaN\n",
      "8 -1.585755  1.492877 -0.265813\n",
      "9 -0.012972  0.801191  0.221841\n",
      "A   -0.009317\n",
      "B    0.606285\n",
      "C   -0.480832\n",
      "dtype: float64\n",
      "       A      B      C\n",
      "0   True   True   True\n",
      "1   True   True   True\n",
      "2   True   True   True\n",
      "3  False   True   True\n",
      "4  False  False   True\n",
      "5   True  False  False\n",
      "6   True   True  False\n",
      "7   True   True  False\n",
      "8   True   True   True\n",
      "9   True   True   True\n",
      "A   -0.009317\n",
      "B    0.606285\n",
      "C   -0.480832\n",
      "dtype: float64\n"
     ]
    },
    {
     "data": {
      "text/html": [
       "<div>\n",
       "<table border=\"1\" class=\"dataframe\">\n",
       "  <thead>\n",
       "    <tr style=\"text-align: right;\">\n",
       "      <th></th>\n",
       "      <th>A</th>\n",
       "      <th>B</th>\n",
       "      <th>C</th>\n",
       "    </tr>\n",
       "  </thead>\n",
       "  <tbody>\n",
       "    <tr>\n",
       "      <th>0</th>\n",
       "      <td>0.368492</td>\n",
       "      <td>0.568508</td>\n",
       "      <td>-1.063306</td>\n",
       "    </tr>\n",
       "    <tr>\n",
       "      <th>1</th>\n",
       "      <td>-0.513870</td>\n",
       "      <td>-0.650085</td>\n",
       "      <td>-1.057037</td>\n",
       "    </tr>\n",
       "    <tr>\n",
       "      <th>2</th>\n",
       "      <td>-0.253484</td>\n",
       "      <td>-1.065769</td>\n",
       "      <td>-1.191611</td>\n",
       "    </tr>\n",
       "    <tr>\n",
       "      <th>3</th>\n",
       "      <td>-0.009317</td>\n",
       "      <td>3.072860</td>\n",
       "      <td>0.180028</td>\n",
       "    </tr>\n",
       "    <tr>\n",
       "      <th>4</th>\n",
       "      <td>-0.009317</td>\n",
       "      <td>0.606285</td>\n",
       "      <td>-0.189929</td>\n",
       "    </tr>\n",
       "    <tr>\n",
       "      <th>5</th>\n",
       "      <td>0.012497</td>\n",
       "      <td>0.606285</td>\n",
       "      <td>-0.480832</td>\n",
       "    </tr>\n",
       "    <tr>\n",
       "      <th>6</th>\n",
       "      <td>-0.047750</td>\n",
       "      <td>-1.180888</td>\n",
       "      <td>-0.480832</td>\n",
       "    </tr>\n",
       "    <tr>\n",
       "      <th>7</th>\n",
       "      <td>1.958306</td>\n",
       "      <td>1.811587</td>\n",
       "      <td>-0.480832</td>\n",
       "    </tr>\n",
       "    <tr>\n",
       "      <th>8</th>\n",
       "      <td>-1.585755</td>\n",
       "      <td>1.492877</td>\n",
       "      <td>-0.265813</td>\n",
       "    </tr>\n",
       "    <tr>\n",
       "      <th>9</th>\n",
       "      <td>-0.012972</td>\n",
       "      <td>0.801191</td>\n",
       "      <td>0.221841</td>\n",
       "    </tr>\n",
       "  </tbody>\n",
       "</table>\n",
       "</div>"
      ],
      "text/plain": [
       "          A         B         C\n",
       "0  0.368492  0.568508 -1.063306\n",
       "1 -0.513870 -0.650085 -1.057037\n",
       "2 -0.253484 -1.065769 -1.191611\n",
       "3 -0.009317  3.072860  0.180028\n",
       "4 -0.009317  0.606285 -0.189929\n",
       "5  0.012497  0.606285 -0.480832\n",
       "6 -0.047750 -1.180888 -0.480832\n",
       "7  1.958306  1.811587 -0.480832\n",
       "8 -1.585755  1.492877 -0.265813\n",
       "9 -0.012972  0.801191  0.221841"
      ]
     },
     "execution_count": 33,
     "metadata": {},
     "output_type": "execute_result"
    }
   ],
   "source": [
    "dff = pd.DataFrame(np.random.randn(10,3), columns=list('ABC'))\n",
    "\n",
    "dff.iloc[3:5,0] = np.nan\n",
    "\n",
    "dff.iloc[4:6,1] = np.nan\n",
    "\n",
    "dff.iloc[5:8,2] = np.nan\n",
    "print dff\n",
    "print dff.mean()\n",
    "print pd.notnull(dff)\n",
    "print dff.mean()\n",
    "dff.where(pd.notnull(dff), dff.mean(), axis='columns')"
   ]
  },
  {
   "cell_type": "code",
   "execution_count": 52,
   "metadata": {
    "collapsed": false
   },
   "outputs": [
    {
     "name": "stdout",
     "output_type": "stream",
     "text": [
      "0    0.028211\n",
      "1    0.046962\n",
      "2    0.056907\n",
      "3    0.068027\n",
      "4    0.073473\n",
      "5    0.081774\n",
      "6    0.094448\n",
      "7    0.099160\n",
      "8    0.106859\n",
      "9    0.116222\n",
      "dtype: float64\n",
      "Float64Index([45.0, 46.0, 47.0, 48.0, 49.0, 49.25, 49.5, 49.75, 50.0, 50.25], dtype='float64')\n"
     ]
    }
   ],
   "source": [
    "ser = pd.Series(np.sort(np.random.uniform(size=100)))\n",
    "print ser.head(10)\n",
    "new_index = ser.index | (pd.Index([49.25, 49.5, 49.75, 50.25, 50.5, 50.75]))\n",
    "print new_index[45:55]"
   ]
  },
  {
   "cell_type": "code",
   "execution_count": 17,
   "metadata": {
    "collapsed": false
   },
   "outputs": [
    {
     "name": "stdout",
     "output_type": "stream",
     "text": [
      "     A      B         C         D\n",
      "0  foo    one  0.180589  1.739854\n",
      "1  bar    one  0.599591 -0.747192\n",
      "2  foo    two  0.195411  1.402002\n",
      "3  bar  three  0.741355 -0.310320\n",
      "4  foo    two  0.047621 -0.780875\n",
      "5  bar    two  0.196059  0.551007\n",
      "6  foo    one  1.060872 -0.447528\n",
      "7  foo  three -0.296094  0.180078\n",
      "       B         C         D\n",
      "A                           \n",
      "bar  one  0.599591 -0.747192\n",
      "foo  one  0.180589  1.739854\n",
      "                  C         D\n",
      "A                            \n",
      "bar count  3.000000  3.000000\n",
      "    mean   0.512335 -0.168835\n",
      "    std    0.282926  0.660563\n",
      "    min    0.196059 -0.747192\n",
      "    25%    0.397825 -0.528756\n",
      "    50%    0.599591 -0.310320\n",
      "    75%    0.670473  0.120343\n",
      "    max    0.741355  0.551007\n",
      "foo count  5.000000  5.000000\n",
      "    mean   0.237680  0.418706\n",
      "    std    0.500931  1.113396\n",
      "    min   -0.296094 -0.780875\n",
      "    25%    0.047621 -0.447528\n",
      "    50%    0.180589  0.180078\n",
      "    75%    0.195411  1.402002\n",
      "    max    1.060872  1.739854\n",
      "A\n",
      "bar    0.599591\n",
      "foo    0.180589\n",
      "Name: C, dtype: float64\n",
      "                  C         D\n",
      "A   B                        \n",
      "bar one    0.599591 -0.747192\n",
      "    three  0.741355 -0.310320\n",
      "    two    0.196059  0.551007\n",
      "foo one    0.180589  1.739854\n",
      "    one    1.060872 -0.447528\n",
      "    three -0.296094  0.180078\n",
      "    two    0.195411  1.402002\n",
      "    two    0.047621 -0.780875\n",
      "A         \n",
      "bar  count    3.000000\n",
      "     mean     0.512335\n",
      "     std      0.282926\n",
      "     min      0.196059\n",
      "     25%      0.397825\n",
      "     50%      0.599591\n",
      "     75%      0.670473\n",
      "     max      0.741355\n",
      "foo  count    5.000000\n",
      "     mean     0.237680\n",
      "     std      0.500931\n",
      "     min     -0.296094\n",
      "     25%      0.047621\n",
      "     50%      0.180589\n",
      "     75%      0.195411\n",
      "     max      1.060872\n",
      "dtype: float64\n"
     ]
    }
   ],
   "source": [
    "df = pd.DataFrame({'A' : ['foo', 'bar', 'foo', 'bar',\n",
    "            'foo', 'bar', 'foo', 'foo'],\n",
    "     'B' : ['one', 'one', 'two', 'three',\n",
    "            'two', 'two', 'one', 'three'],\n",
    "     'C' : np.random.randn(8),\n",
    "     'D' : np.random.randn(8)})\n",
    "print df\n",
    "grouped = df.groupby('A')\n",
    "print grouped.first()\n",
    "print grouped.describe()\n",
    "print grouped['C'].first()\n",
    "#new_index = zip(df.A.values,df.B.values)\n",
    "#print df.A\n",
    "#print df.A.values\n",
    "#df.index = pd.MultiIndex.from_tuples(new_index)\n",
    "#print pd.MultiIndex.from_tuples(new_index)\n",
    "df.set_index(['A','B'],inplace=True)\n",
    "df.sort_index(inplace=True)\n",
    "print df\n",
    "df.reset_index().groupby('A').describe()\n",
    "df = df.reset_index()\n",
    "grouped = df.groupby('A')['C']\n",
    "print grouped.describe()"
   ]
  },
  {
   "cell_type": "code",
   "execution_count": 5,
   "metadata": {
    "collapsed": false
   },
   "outputs": [
    {
     "name": "stdout",
     "output_type": "stream",
     "text": [
      "2000-01-08    0.547771\n",
      "2000-01-09    0.512619\n",
      "2000-01-10    0.502378\n",
      "2000-01-11    0.473076\n",
      "2000-01-12    0.463808\n",
      "Freq: D, dtype: float64\n",
      "2002-09-30    0.369144\n",
      "2002-10-01    0.353884\n",
      "2002-10-02    0.277330\n",
      "2002-10-03    0.279289\n",
      "2002-10-04    0.263101\n",
      "Freq: D, dtype: float64\n",
      "2000-01-08    0.547771\n",
      "2001-01-01    0.245153\n",
      "2002-01-01    0.769496\n",
      "dtype: float64\n",
      "this is transformed head\n",
      "2000-01-08    0.846641\n",
      "2000-01-09    0.583984\n",
      "2000-01-10    0.507463\n",
      "2000-01-11    0.288511\n",
      "2000-01-12    0.219257\n",
      "2000-01-13    0.268742\n",
      "2000-01-14    0.143204\n",
      "2000-01-15   -0.277422\n",
      "2000-01-16   -0.218724\n",
      "2000-01-17   -0.209009\n",
      "Freq: D, dtype: float64\n"
     ]
    },
    {
     "data": {
      "text/plain": [
       "<matplotlib.axes._subplots.AxesSubplot at 0x116d631d0>"
      ]
     },
     "execution_count": 5,
     "metadata": {},
     "output_type": "execute_result"
    },
    {
     "data": {
      "image/png": "[encoded data removed]",
      "text/plain": [
       "<matplotlib.figure.Figure at 0x116d6d190>"
      ]
     },
     "metadata": {},
     "output_type": "display_data"
    }
   ],
   "source": [
    "%matplotlib inline \n",
    "import matplotlib.pylab\n",
    "import numpy as np\n",
    "import pandas as pd\n",
    "\n",
    "index = pd.date_range('10/1/1999', periods=1100)\n",
    "ts = pd.Series(np.random.normal(0.5, 2, 1100), index)\n",
    "ts = ts.rolling(window=100,min_periods=100).mean().dropna()\n",
    "# moved up\n",
    "\n",
    "\n",
    "print ts.head()\n",
    "print ts.tail()\n",
    "\n",
    "key = lambda x: x.year\n",
    "\n",
    "zscore = lambda x: (x - x.mean()) / x.std()\n",
    "#print ts.groupby(key).groups[2000][1]\n",
    "print ts.groupby(key).head(1)\n",
    "transformed = ts.groupby(key).transform(zscore)\n",
    "#print transformed.groups\n",
    "print \"this is transformed head\"\n",
    "print transformed.head(10) \n",
    "#groups[2000][:5]\n",
    "\n",
    "grouped_trans = transformed.groupby(key)\n",
    "#print grouped_trans.head(10)\n",
    "\n",
    "compare = pd.DataFrame({'Original': ts, 'Transformed': transformed})\n",
    "compare.plot()"
   ]
  },
  {
   "cell_type": "code",
   "execution_count": 11,
   "metadata": {
    "collapsed": false
   },
   "outputs": [
    {
     "name": "stdout",
     "output_type": "stream",
     "text": [
      "['JP' 'US' 'UK' 'US' 'JP' 'JP' 'JP' 'GR' 'US' 'JP']\n",
      "['US' 'US' 'UK']\n"
     ]
    }
   ],
   "source": [
    "countries = np.array(['US', 'UK', 'GR', 'JP'])\n",
    "key = countries[np.random.randint(0, 4, 10)]\n",
    "print key\n",
    "print countries[[0,0,1]]"
   ]
  },
  {
   "cell_type": "code",
   "execution_count": 20,
   "metadata": {
    "collapsed": false
   },
   "outputs": [
    {
     "name": "stdout",
     "output_type": "stream",
     "text": [
      "0   -1.490927\n",
      "1   -0.781444\n",
      "2    1.433773\n",
      "3   -0.051255\n",
      "4    0.095218\n",
      "dtype: float64\n",
      "0    [-2.0737, -0.698]\n",
      "1    [-2.0737, -0.698]\n",
      "2       (0.612, 2.532]\n",
      "3    (-0.698, 0.00855]\n",
      "4     (0.00855, 0.612]\n",
      "dtype: category\n",
      "Categories (4, object): [[-2.0737, -0.698] < (-0.698, 0.00855] < (0.00855, 0.612] < (0.612, 2.532]]\n"
     ]
    }
   ],
   "source": [
    "data = pd.Series(np.random.randn(100))\n",
    "print data.head(5)\n",
    "factor = pd.qcut(data, [0, .25, .5, .75, 1.])\n",
    "print factor.head(5)"
   ]
  },
  {
   "cell_type": "code",
   "execution_count": 26,
   "metadata": {
    "collapsed": false
   },
   "outputs": [
    {
     "name": "stdout",
     "output_type": "stream",
     "text": [
      "          0         1  g\n",
      "0  0.471435 -1.190976  A\n",
      "1  1.432707 -0.312652  A\n",
      "2 -0.720589  0.887163  B\n",
      "3  0.859588 -0.636524  A\n",
      "4  0.015696 -2.242685  B\n",
      "          0         1  g\n",
      "0  0.471435 -1.190976  A\n",
      "1  1.432707 -0.312652  A\n",
      "2 -0.720589  3.887163  B\n",
      "3  0.859588 -0.636524  A\n",
      "4  0.015696  0.757315  B\n"
     ]
    },
    {
     "name": "stderr",
     "output_type": "stream",
     "text": [
      "/anaconda/envs/py27/lib/python2.7/site-packages/pandas/tools/plotting.py:3079: FutureWarning: \n",
      "The default value for 'return_type' will change to 'axes' in a future release.\n",
      " To use the future behavior now, set return_type='axes'.\n",
      " To keep the previous behavior and silence this warning, set return_type='dict'.\n",
      "  rot=rot, grid=grid, **kwds)\n"
     ]
    },
    {
     "data": {
      "text/plain": [
       "OrderedDict([('A',\n",
       "              {'boxes': [<matplotlib.lines.Line2D at 0x11783f5d0>,\n",
       "                <matplotlib.lines.Line2D at 0x11785bc10>],\n",
       "               'caps': [<matplotlib.lines.Line2D at 0x11784e2d0>,\n",
       "                <matplotlib.lines.Line2D at 0x11784e910>,\n",
       "                <matplotlib.lines.Line2D at 0x117866ed0>,\n",
       "                <matplotlib.lines.Line2D at 0x117871550>],\n",
       "               'fliers': [<matplotlib.lines.Line2D at 0x11785b5d0>,\n",
       "                <matplotlib.lines.Line2D at 0x11787d210>],\n",
       "               'means': [],\n",
       "               'medians': [<matplotlib.lines.Line2D at 0x11784ef50>,\n",
       "                <matplotlib.lines.Line2D at 0x117871b90>],\n",
       "               'whiskers': [<matplotlib.lines.Line2D at 0x11783f6d0>,\n",
       "                <matplotlib.lines.Line2D at 0x11783fc50>,\n",
       "                <matplotlib.lines.Line2D at 0x117866250>,\n",
       "                <matplotlib.lines.Line2D at 0x117866890>]}),\n",
       "             ('B',\n",
       "              {'boxes': [<matplotlib.lines.Line2D at 0x11756a810>,\n",
       "                <matplotlib.lines.Line2D at 0x11772dd10>],\n",
       "               'caps': [<matplotlib.lines.Line2D at 0x1178011d0>,\n",
       "                <matplotlib.lines.Line2D at 0x117801150>,\n",
       "                <matplotlib.lines.Line2D at 0x117785290>,\n",
       "                <matplotlib.lines.Line2D at 0x11789d150>],\n",
       "               'fliers': [<matplotlib.lines.Line2D at 0x1177dac90>,\n",
       "                <matplotlib.lines.Line2D at 0x11789ddd0>],\n",
       "               'means': [],\n",
       "               'medians': [<matplotlib.lines.Line2D at 0x1177f91d0>,\n",
       "                <matplotlib.lines.Line2D at 0x11789d790>],\n",
       "               'whiskers': [<matplotlib.lines.Line2D at 0x11787d850>,\n",
       "                <matplotlib.lines.Line2D at 0x11787dfd0>,\n",
       "                <matplotlib.lines.Line2D at 0x117760d50>,\n",
       "                <matplotlib.lines.Line2D at 0x11772a690>]})])"
      ]
     },
     "execution_count": 26,
     "metadata": {},
     "output_type": "execute_result"
    },
    {
     "data": {
      "image/png": "[encoded data removed]",
      "text/plain": [
       "<matplotlib.figure.Figure at 0x10402c290>"
      ]
     },
     "metadata": {},
     "output_type": "display_data"
    }
   ],
   "source": [
    "np.random.seed(1234)\n",
    "df = pd.DataFrame(np.random.randn(50, 2))\n",
    "df['g'] = np.random.choice(['A', 'B'], size=50)\n",
    "print df.head(5)\n",
    "df.loc[df['g'] == 'B', 1] += 3\n",
    "print df.head(5)\n",
    "df.groupby('g').boxplot()"
   ]
  },
  {
   "cell_type": "code",
   "execution_count": 27,
   "metadata": {
    "collapsed": false
   },
   "outputs": [
    {
     "data": {
      "text/plain": [
       "a    1\n",
       "b    1\n",
       "c    1\n",
       "d    9\n",
       "dtype: int64"
      ]
     },
     "execution_count": 27,
     "metadata": {},
     "output_type": "execute_result"
    }
   ],
   "source": [
    "df = pd.DataFrame({'a':[1,0,0], 'b':[0,1,0], 'c':[1,0,0], 'd':[2,3,4]})\n",
    "df.sum()"
   ]
  },
  {
   "cell_type": "code",
   "execution_count": 51,
   "metadata": {
    "collapsed": false
   },
   "outputs": [
    {
     "name": "stdout",
     "output_type": "stream",
     "text": [
      "   b_sum  c_mean\n",
      "0      3       4\n",
      "     b_sum  c_mean\n",
      "a                 \n",
      "0 0      2     0.5\n",
      "1 0      2     0.5\n",
      "2 0      2     0.5\n"
     ]
    },
    {
     "data": {
      "text/html": [
       "<div>\n",
       "<table border=\"1\" class=\"dataframe\">\n",
       "  <thead>\n",
       "    <tr style=\"text-align: right;\">\n",
       "      <th></th>\n",
       "      <th>b_sum</th>\n",
       "      <th>c_mean</th>\n",
       "    </tr>\n",
       "    <tr>\n",
       "      <th>a</th>\n",
       "      <th></th>\n",
       "      <th></th>\n",
       "    </tr>\n",
       "  </thead>\n",
       "  <tbody>\n",
       "    <tr>\n",
       "      <th>0</th>\n",
       "      <td>2.0</td>\n",
       "      <td>0.5</td>\n",
       "    </tr>\n",
       "    <tr>\n",
       "      <th>1</th>\n",
       "      <td>2.0</td>\n",
       "      <td>0.5</td>\n",
       "    </tr>\n",
       "    <tr>\n",
       "      <th>2</th>\n",
       "      <td>2.0</td>\n",
       "      <td>0.5</td>\n",
       "    </tr>\n",
       "  </tbody>\n",
       "</table>\n",
       "</div>"
      ],
      "text/plain": [
       "   b_sum  c_mean\n",
       "a               \n",
       "0    2.0     0.5\n",
       "1    2.0     0.5\n",
       "2    2.0     0.5"
      ]
     },
     "execution_count": 51,
     "metadata": {},
     "output_type": "execute_result"
    }
   ],
   "source": [
    "df = pd.DataFrame({\n",
    " 'a':  [0, 0, 0, 0, 1, 1, 1, 1, 2, 2, 2, 2],\n",
    " 'b':  [0, 0, 1, 1, 0, 0, 1, 1, 0, 0, 1, 1],\n",
    " 'c':  [1, 0, 1, 0, 1, 0, 1, 0, 1, 0, 1, 0],\n",
    " 'd':  [0, 0, 0, 1, 0, 0, 0, 1, 0, 0, 0, 1],\n",
    " })\n",
    "\n",
    "result = {'b_sum': [3], 'c_mean': [4]}\n",
    "a = pd.DataFrame(result)\n",
    "print a\n",
    "\n",
    "def compute_metrics(x):\n",
    "   result = {'b_sum': [x['b'].sum()], 'c_mean': [x['c'].mean()]}\n",
    "   return pd.DataFrame(result)\n",
    "\n",
    "def compute_metrics2(x):\n",
    "   result = {'b_sum': x['b'].sum(), 'c_mean': x['c'].mean()}\n",
    "   return pd.Series(result)\n",
    "\n",
    "result = df.groupby('a').apply(compute_metrics)\n",
    "print result\n",
    "\n",
    "result = df.groupby('a').apply(compute_metrics2)\n",
    "result"
   ]
  },
  {
   "cell_type": "code",
   "execution_count": 58,
   "metadata": {
    "collapsed": false
   },
   "outputs": [
    {
     "name": "stdout",
     "output_type": "stream",
     "text": [
      "    A   B key1 key2    C    D\n",
      "0  A0  B0   K0   K0   C0   D0\n",
      "1  A1  B1   K0   K1  NaN  NaN\n",
      "2  A2  B2   K1   K0   C1   D1\n",
      "3  A3  B3   K2   K1   C3   D3\n"
     ]
    }
   ],
   "source": [
    "left = pd.DataFrame({'A': ['A0', 'A1', 'A2', 'A3'],\n",
    "  'B': ['B0', 'B1', 'B2', 'B3'],\n",
    "  'key1': ['K0', 'K0', 'K1', 'K2'],\n",
    "  'key2': ['K0', 'K1', 'K0', 'K1']})\n",
    "\n",
    "\n",
    "index = pd.MultiIndex.from_tuples([('K0', 'K0'), ('K1', 'K0'),\n",
    "                                 ('K2', 'K0'), ('K2', 'K1')])\n",
    "\n",
    "\n",
    "right = pd.DataFrame({'C': ['C0', 'C1', 'C2', 'C3'],\n",
    "                   'D': ['D0', 'D1', 'D2', 'D3']},\n",
    "                  index=index)\n",
    "result = left.join(right, on=['key1', 'key2'])\n",
    "print result"
   ]
  },
  {
   "cell_type": "code",
   "execution_count": null,
   "metadata": {
    "collapsed": false
   },
   "outputs": [
    {
     "data": {
      "text/html": [
       "<div>\n",
       "<table border=\"1\" class=\"dataframe\">\n",
       "  <thead>\n",
       "    <tr style=\"text-align: right;\">\n",
       "      <th></th>\n",
       "      <th>Semana</th>\n",
       "      <th>Agencia_ID</th>\n",
       "      <th>Canal_ID</th>\n",
       "      <th>Ruta_SAK</th>\n",
       "      <th>Cliente_ID</th>\n",
       "      <th>Producto_ID</th>\n",
       "      <th>Venta_uni_hoy</th>\n",
       "      <th>Venta_hoy</th>\n",
       "      <th>Dev_uni_proxima</th>\n",
       "      <th>Dev_proxima</th>\n",
       "      <th>Demanda_uni_equil</th>\n",
       "    </tr>\n",
       "  </thead>\n",
       "  <tbody>\n",
       "    <tr>\n",
       "      <th>0</th>\n",
       "      <td>3</td>\n",
       "      <td>1218</td>\n",
       "      <td>1</td>\n",
       "      <td>2802</td>\n",
       "      <td>2033723</td>\n",
       "      <td>36746</td>\n",
       "      <td>1</td>\n",
       "      <td>11.53</td>\n",
       "      <td>0</td>\n",
       "      <td>0.0</td>\n",
       "      <td>1</td>\n",
       "    </tr>\n",
       "    <tr>\n",
       "      <th>1</th>\n",
       "      <td>3</td>\n",
       "      <td>1384</td>\n",
       "      <td>1</td>\n",
       "      <td>1103</td>\n",
       "      <td>1671187</td>\n",
       "      <td>1220</td>\n",
       "      <td>1</td>\n",
       "      <td>7.64</td>\n",
       "      <td>0</td>\n",
       "      <td>0.0</td>\n",
       "      <td>1</td>\n",
       "    </tr>\n",
       "    <tr>\n",
       "      <th>2</th>\n",
       "      <td>3</td>\n",
       "      <td>1437</td>\n",
       "      <td>1</td>\n",
       "      <td>1204</td>\n",
       "      <td>4128360</td>\n",
       "      <td>43206</td>\n",
       "      <td>72</td>\n",
       "      <td>324.00</td>\n",
       "      <td>0</td>\n",
       "      <td>0.0</td>\n",
       "      <td>72</td>\n",
       "    </tr>\n",
       "    <tr>\n",
       "      <th>3</th>\n",
       "      <td>3</td>\n",
       "      <td>1463</td>\n",
       "      <td>1</td>\n",
       "      <td>2841</td>\n",
       "      <td>430175</td>\n",
       "      <td>31507</td>\n",
       "      <td>2</td>\n",
       "      <td>12.50</td>\n",
       "      <td>0</td>\n",
       "      <td>0.0</td>\n",
       "      <td>2</td>\n",
       "    </tr>\n",
       "    <tr>\n",
       "      <th>4</th>\n",
       "      <td>3</td>\n",
       "      <td>1629</td>\n",
       "      <td>1</td>\n",
       "      <td>1242</td>\n",
       "      <td>1752239</td>\n",
       "      <td>1250</td>\n",
       "      <td>3</td>\n",
       "      <td>22.92</td>\n",
       "      <td>0</td>\n",
       "      <td>0.0</td>\n",
       "      <td>3</td>\n",
       "    </tr>\n",
       "    <tr>\n",
       "      <th>5</th>\n",
       "      <td>3</td>\n",
       "      <td>1636</td>\n",
       "      <td>1</td>\n",
       "      <td>1009</td>\n",
       "      <td>471149</td>\n",
       "      <td>1109</td>\n",
       "      <td>3</td>\n",
       "      <td>45.03</td>\n",
       "      <td>0</td>\n",
       "      <td>0.0</td>\n",
       "      <td>3</td>\n",
       "    </tr>\n",
       "    <tr>\n",
       "      <th>6</th>\n",
       "      <td>3</td>\n",
       "      <td>2030</td>\n",
       "      <td>1</td>\n",
       "      <td>2007</td>\n",
       "      <td>207742</td>\n",
       "      <td>43084</td>\n",
       "      <td>2</td>\n",
       "      <td>16.30</td>\n",
       "      <td>0</td>\n",
       "      <td>0.0</td>\n",
       "      <td>2</td>\n",
       "    </tr>\n",
       "    <tr>\n",
       "      <th>7</th>\n",
       "      <td>3</td>\n",
       "      <td>2237</td>\n",
       "      <td>1</td>\n",
       "      <td>1111</td>\n",
       "      <td>611222</td>\n",
       "      <td>1284</td>\n",
       "      <td>6</td>\n",
       "      <td>18.12</td>\n",
       "      <td>0</td>\n",
       "      <td>0.0</td>\n",
       "      <td>6</td>\n",
       "    </tr>\n",
       "    <tr>\n",
       "      <th>8</th>\n",
       "      <td>4</td>\n",
       "      <td>1116</td>\n",
       "      <td>1</td>\n",
       "      <td>1453</td>\n",
       "      <td>112097</td>\n",
       "      <td>1212</td>\n",
       "      <td>3</td>\n",
       "      <td>25.14</td>\n",
       "      <td>0</td>\n",
       "      <td>0.0</td>\n",
       "      <td>3</td>\n",
       "    </tr>\n",
       "    <tr>\n",
       "      <th>9</th>\n",
       "      <td>4</td>\n",
       "      <td>1124</td>\n",
       "      <td>1</td>\n",
       "      <td>1209</td>\n",
       "      <td>4241036</td>\n",
       "      <td>1284</td>\n",
       "      <td>8</td>\n",
       "      <td>24.16</td>\n",
       "      <td>0</td>\n",
       "      <td>0.0</td>\n",
       "      <td>8</td>\n",
       "    </tr>\n",
       "  </tbody>\n",
       "</table>\n",
       "</div>"
      ],
      "text/plain": [
       "   Semana  Agencia_ID  Canal_ID  Ruta_SAK  Cliente_ID  Producto_ID  \\\n",
       "0       3        1218         1      2802     2033723        36746   \n",
       "1       3        1384         1      1103     1671187         1220   \n",
       "2       3        1437         1      1204     4128360        43206   \n",
       "3       3        1463         1      2841      430175        31507   \n",
       "4       3        1629         1      1242     1752239         1250   \n",
       "5       3        1636         1      1009      471149         1109   \n",
       "6       3        2030         1      2007      207742        43084   \n",
       "7       3        2237         1      1111      611222         1284   \n",
       "8       4        1116         1      1453      112097         1212   \n",
       "9       4        1124         1      1209     4241036         1284   \n",
       "\n",
       "   Venta_uni_hoy  Venta_hoy  Dev_uni_proxima  Dev_proxima  Demanda_uni_equil  \n",
       "0              1      11.53                0          0.0                  1  \n",
       "1              1       7.64                0          0.0                  1  \n",
       "2             72     324.00                0          0.0                 72  \n",
       "3              2      12.50                0          0.0                  2  \n",
       "4              3      22.92                0          0.0                  3  \n",
       "5              3      45.03                0          0.0                  3  \n",
       "6              2      16.30                0          0.0                  2  \n",
       "7              6      18.12                0          0.0                  6  \n",
       "8              3      25.14                0          0.0                  3  \n",
       "9              8      24.16                0          0.0                  8  "
      ]
     },
     "execution_count": 7,
     "metadata": {},
     "output_type": "execute_result"
    }
   ],
   "source": [
    "import numpy as np\n",
    "import pandas as pd\n",
    "train = pd.read_csv('../input/train_100.csv', nrows = 10)\n",
    "train"
   ]
  },
  {
   "cell_type": "code",
   "execution_count": 8,
   "metadata": {
    "collapsed": false
   },
   "outputs": [
    {
     "data": {
      "text/plain": [
       "[0, 1]"
      ]
     },
     "execution_count": 8,
     "metadata": {},
     "output_type": "execute_result"
    }
   ],
   "source": [
    "dictt= {0:1,1:2}\n",
    "#[ohe_dict_broadcast.value[i] for i in raw_feats if i in ohe_dict_broadcast]\n",
    "listt = [0,2,1]\n",
    "[i for i in listt if i in dictt]\n"
   ]
  },
  {
   "cell_type": "code",
   "execution_count": 10,
   "metadata": {
    "collapsed": false
   },
   "outputs": [
    {
     "data": {
      "text/plain": [
       "6"
      ]
     },
     "execution_count": 10,
     "metadata": {},
     "output_type": "execute_result"
    }
   ],
   "source": [
    "sum([1,2,3])"
   ]
  },
  {
   "cell_type": "code",
   "execution_count": null,
   "metadata": {
    "collapsed": true
   },
   "outputs": [],
   "source": []
  }
 ],
 "metadata": {
  "kernelspec": {
   "display_name": "Python 2",
   "language": "python",
   "name": "python2"
  },
  "language_info": {
   "codemirror_mode": {
    "name": "ipython",
    "version": 2
   },
   "file_extension": ".py",
   "mimetype": "text/x-python",
   "name": "python",
   "nbconvert_exporter": "python",
   "pygments_lexer": "ipython2",
   "version": "2.7.11"
  }
 },
 "nbformat": 4,
 "nbformat_minor": 0
}
