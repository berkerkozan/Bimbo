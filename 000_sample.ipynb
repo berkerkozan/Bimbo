{
 "cells": [
  {
   "cell_type": "code",
   "execution_count": 1,
   "metadata": {
    "collapsed": false
   },
   "outputs": [
    {
     "name": "stdout",
     "output_type": "stream",
     "text": [
      "There are 6999252 lines..\n",
      "created ../input/test_100.csv\n",
      "9.21956419945\n",
      "There are 74180465 lines..\n",
      "created ../input/train_100.csv\n",
      "122.974208117\n",
      "There are 6999252 lines..\n",
      "created ../input/test_1000.csv\n",
      "12.407449007\n",
      "There are 74180465 lines..\n",
      "created ../input/train_1000.csv\n",
      "148.269334078\n",
      "There are 6999252 lines..\n",
      "created ../input/test_1000000.csv\n",
      "14.1200730801\n",
      "There are 74180465 lines..\n",
      "created ../input/train_1000000.csv\n",
      "145.917282104\n"
     ]
    }
   ],
   "source": [
    "import random\n",
    "import timeit\n",
    "\n",
    "sampleSizeList = [100,1000,1000000] # Sample Size\n",
    "# test = '../input/test_alld_totals.csv'\n",
    "# train = '../input/train_alld_totals.csv'\n",
    "\n",
    "test = '../input/test.csv'\n",
    "train = '../input/train.csv'\n",
    "\n",
    "from Library import FileOperations\n",
    "\n",
    "random.seed(1)\n",
    "\n",
    "for sampleSize in sampleSizeList:\n",
    "    print(timeit.timeit(lambda:FileOperations.createSampleFile(test,sampleSize),number=1))\n",
    "    print(timeit.timeit(lambda:FileOperations.createSampleFile(train,sampleSize),number=1))"
   ]
  },
  {
   "cell_type": "code",
   "execution_count": null,
   "metadata": {
    "collapsed": true
   },
   "outputs": [],
   "source": []
  }
 ],
 "metadata": {
  "kernelspec": {
   "display_name": "Python [Root]",
   "language": "python",
   "name": "Python [Root]"
  },
  "language_info": {
   "codemirror_mode": {
    "name": "ipython",
    "version": 2
   },
   "file_extension": ".py",
   "mimetype": "text/x-python",
   "name": "python",
   "nbconvert_exporter": "python",
   "pygments_lexer": "ipython2",
   "version": "2.7.12"
  }
 },
 "nbformat": 4,
 "nbformat_minor": 0
}
