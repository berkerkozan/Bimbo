{
 "cells": [
  {
   "cell_type": "code",
   "execution_count": 17,
   "metadata": {
    "collapsed": true
   },
   "outputs": [],
   "source": [
    "%matplotlib inline\n",
    "import matplotlib\n",
    "import matplotlib.pyplot as plt\n",
    "\n",
    "import numpy as np  # linear algebra\n",
    "import pandas as pd  # data processing, CSV file I/O (e.g. pd.read_csv)\n",
    "import nltk.corpus\n",
    "from nltk.stem.snowball import SnowballStemmer\n",
    "from sklearn.cross_validation import train_test_split\n",
    "from ml_metrics import rmsle\n",
    "import xgboost as xgb\n",
    "import math\n",
    "from sklearn.feature_extraction.text import CountVectorizer\n",
    "from sklearn import datasets, linear_model, preprocessing\n",
    "import scipy.sparse as sps\n",
    "from scipy.sparse import coo_matrix, hstack, vstack, csr_matrix\n",
    "from scipy import io\n",
    "from datetime import datetime\n",
    "import gc\n",
    "from sklearn.feature_extraction.text import TfidfVectorizer, CountVectorizer\n",
    "from sklearn.feature_extraction.text import CountVectorizer"
   ]
  },
  {
   "cell_type": "code",
   "execution_count": 13,
   "metadata": {
    "collapsed": true
   },
   "outputs": [],
   "source": [
    "townstate = pd.read_csv(\"../input/town_state.csv\", encoding='utf-8')"
   ]
  },
  {
   "cell_type": "code",
   "execution_count": 14,
   "metadata": {
    "collapsed": false
   },
   "outputs": [
    {
     "name": "stdout",
     "output_type": "stream",
     "text": [
      "<class 'pandas.core.frame.DataFrame'>\n",
      "RangeIndex: 790 entries, 0 to 789\n",
      "Data columns (total 3 columns):\n",
      "Agencia_ID    790 non-null int64\n",
      "Town          790 non-null object\n",
      "State         790 non-null object\n",
      "dtypes: int64(1), object(2)\n",
      "memory usage: 18.6+ KB\n"
     ]
    }
   ],
   "source": [
    "townstate.info()"
   ]
  },
  {
   "cell_type": "code",
   "execution_count": 15,
   "metadata": {
    "collapsed": false
   },
   "outputs": [],
   "source": [
    "townstate['Town_ID']=townstate['Town'].str[:4]\n",
    "#df['state'].str[:2]"
   ]
  },
  {
   "cell_type": "code",
   "execution_count": 24,
   "metadata": {
    "collapsed": false
   },
   "outputs": [
    {
     "name": "stdout",
     "output_type": "stream",
     "text": [
      "<class 'pandas.core.frame.DataFrame'>\n",
      "RangeIndex: 790 entries, 0 to 789\n",
      "Data columns (total 5 columns):\n",
      "Agencia_ID    790 non-null int64\n",
      "Town          790 non-null object\n",
      "State         790 non-null object\n",
      "Town_ID       790 non-null object\n",
      "State_ID      790 non-null int64\n",
      "dtypes: int64(2), object(3)\n",
      "memory usage: 30.9+ KB\n"
     ]
    }
   ],
   "source": [
    "townstate.info()"
   ]
  },
  {
   "cell_type": "code",
   "execution_count": 25,
   "metadata": {
    "collapsed": false
   },
   "outputs": [
    {
     "data": {
      "text/html": [
       "<div>\n",
       "<table border=\"1\" class=\"dataframe\">\n",
       "  <thead>\n",
       "    <tr style=\"text-align: right;\">\n",
       "      <th></th>\n",
       "      <th>Agencia_ID</th>\n",
       "      <th>Town</th>\n",
       "      <th>State</th>\n",
       "      <th>Town_ID</th>\n",
       "      <th>State_ID</th>\n",
       "    </tr>\n",
       "  </thead>\n",
       "  <tbody>\n",
       "    <tr>\n",
       "      <th>0</th>\n",
       "      <td>1110</td>\n",
       "      <td>2008 AG. LAGO FILT</td>\n",
       "      <td>MÉXICO, D.F.</td>\n",
       "      <td>2008</td>\n",
       "      <td>16</td>\n",
       "    </tr>\n",
       "    <tr>\n",
       "      <th>1</th>\n",
       "      <td>1111</td>\n",
       "      <td>2002 AG. AZCAPOTZALCO</td>\n",
       "      <td>MÉXICO, D.F.</td>\n",
       "      <td>2002</td>\n",
       "      <td>16</td>\n",
       "    </tr>\n",
       "    <tr>\n",
       "      <th>2</th>\n",
       "      <td>1112</td>\n",
       "      <td>2004 AG. CUAUTITLAN</td>\n",
       "      <td>ESTADO DE MÉXICO</td>\n",
       "      <td>2004</td>\n",
       "      <td>9</td>\n",
       "    </tr>\n",
       "    <tr>\n",
       "      <th>3</th>\n",
       "      <td>1113</td>\n",
       "      <td>2008 AG. LAGO FILT</td>\n",
       "      <td>MÉXICO, D.F.</td>\n",
       "      <td>2008</td>\n",
       "      <td>16</td>\n",
       "    </tr>\n",
       "    <tr>\n",
       "      <th>4</th>\n",
       "      <td>1114</td>\n",
       "      <td>2029 AG.IZTAPALAPA 2</td>\n",
       "      <td>MÉXICO, D.F.</td>\n",
       "      <td>2029</td>\n",
       "      <td>16</td>\n",
       "    </tr>\n",
       "  </tbody>\n",
       "</table>\n",
       "</div>"
      ],
      "text/plain": [
       "   Agencia_ID                   Town             State Town_ID  State_ID\n",
       "0        1110     2008 AG. LAGO FILT      MÉXICO, D.F.    2008        16\n",
       "1        1111  2002 AG. AZCAPOTZALCO      MÉXICO, D.F.    2002        16\n",
       "2        1112    2004 AG. CUAUTITLAN  ESTADO DE MÉXICO    2004         9\n",
       "3        1113     2008 AG. LAGO FILT      MÉXICO, D.F.    2008        16\n",
       "4        1114   2029 AG.IZTAPALAPA 2      MÉXICO, D.F.    2029        16"
      ]
     },
     "execution_count": 25,
     "metadata": {},
     "output_type": "execute_result"
    }
   ],
   "source": [
    "townstate.head()"
   ]
  },
  {
   "cell_type": "code",
   "execution_count": 18,
   "metadata": {
    "collapsed": false
   },
   "outputs": [],
   "source": [
    "import collections\n",
    "from collections import Counter"
   ]
  },
  {
   "cell_type": "code",
   "execution_count": 19,
   "metadata": {
    "collapsed": false
   },
   "outputs": [
    {
     "data": {
      "text/plain": [
       "<matplotlib.axes._subplots.AxesSubplot at 0x7fee52948e50>"
      ]
     },
     "execution_count": 19,
     "metadata": {},
     "output_type": "execute_result"
    },
    {
     "data": {
      "image/png": "[encoded data removed]",
      "text/plain": [
       "<matplotlib.figure.Figure at 0x7fee4e658810>"
      ]
     },
     "metadata": {},
     "output_type": "display_data"
    }
   ],
   "source": [
    "states = townstate['State']\n",
    "shortname_counter = Counter(states)\n",
    "\n",
    "df = pd.DataFrame.from_dict(shortname_counter, orient='index')\n",
    "df.plot(kind='bar')"
   ]
  },
  {
   "cell_type": "code",
   "execution_count": 23,
   "metadata": {
    "collapsed": false
   },
   "outputs": [
    {
     "data": {
      "text/plain": [
       "[u'BAJA CALIFORNIA SUR', u'QUINTANA ROO', u'BAJA CALIFORNIA NORTE']"
      ]
     },
     "execution_count": 23,
     "metadata": {},
     "output_type": "execute_result"
    }
   ],
   "source": [
    "le = preprocessing.LabelEncoder()\n",
    "\n",
    "townstate['State_ID']=le.fit_transform(states)\n",
    "\n",
    "list(le.classes_)\n",
    "\n",
    "#le.transform([\"tokyo\", \"tokyo\", \"paris\"]) \n",
    "\n",
    "list(le.inverse_transform([2, 22, 1]))"
   ]
  },
  {
   "cell_type": "code",
   "execution_count": 6,
   "metadata": {
    "collapsed": false
   },
   "outputs": [
    {
     "data": {
      "text/plain": [
       "Counter({u'AGUASCALIENTES': 7,\n",
       "         u'BAJA CALIFORNIA NORTE': 32,\n",
       "         u'BAJA CALIFORNIA SUR': 17,\n",
       "         u'CAMPECHE': 12,\n",
       "         u'CHIAPAS': 16,\n",
       "         u'CHIHUAHUA': 25,\n",
       "         u'COAHUILA': 29,\n",
       "         u'COLIMA': 10,\n",
       "         u'DURANGO': 11,\n",
       "         u'ESTADO DE M\\xc9XICO': 71,\n",
       "         u'GUANAJUATO': 39,\n",
       "         u'GUERRERO': 21,\n",
       "         u'HIDALGO': 21,\n",
       "         u'JALISCO': 55,\n",
       "         u'MICHOAC\\xc1N': 33,\n",
       "         u'MORELOS': 14,\n",
       "         u'M\\xc9XICO, D.F.': 65,\n",
       "         u'NAYARIT': 10,\n",
       "         u'NUEVO LE\\xd3N': 34,\n",
       "         u'OAXACA': 22,\n",
       "         u'PUEBLA': 34,\n",
       "         u'QUERETARO': 6,\n",
       "         u'QUINTANA ROO': 14,\n",
       "         u'Queretaro de Arteaga': 2,\n",
       "         u'SAN LUIS POTOS\\xcd': 15,\n",
       "         u'SINALOA': 23,\n",
       "         u'SONORA': 34,\n",
       "         u'TABASCO': 14,\n",
       "         u'TAMAULIPAS': 32,\n",
       "         u'TLAXCALA': 6,\n",
       "         u'VERACRUZ': 45,\n",
       "         u'YUCAT\\xc1N': 11,\n",
       "         u'ZACATECAS': 10})"
      ]
     },
     "execution_count": 6,
     "metadata": {},
     "output_type": "execute_result"
    }
   ],
   "source": [
    "shortname_counter"
   ]
  },
  {
   "cell_type": "code",
   "execution_count": 27,
   "metadata": {
    "collapsed": false
   },
   "outputs": [],
   "source": [
    "townstate = townstate.drop(['Town', 'State'], axis=1)"
   ]
  },
  {
   "cell_type": "code",
   "execution_count": 38,
   "metadata": {
    "collapsed": false
   },
   "outputs": [
    {
     "data": {
      "text/html": [
       "<div>\n",
       "<table border=\"1\" class=\"dataframe\">\n",
       "  <thead>\n",
       "    <tr style=\"text-align: right;\">\n",
       "      <th></th>\n",
       "      <th>Agencia_ID</th>\n",
       "      <th>Town_ID</th>\n",
       "      <th>State_ID</th>\n",
       "    </tr>\n",
       "  </thead>\n",
       "  <tbody>\n",
       "    <tr>\n",
       "      <th>count</th>\n",
       "      <td>790.000000</td>\n",
       "      <td>790.000000</td>\n",
       "      <td>790.000000</td>\n",
       "    </tr>\n",
       "    <tr>\n",
       "      <th>mean</th>\n",
       "      <td>8531.505063</td>\n",
       "      <td>2296.905063</td>\n",
       "      <td>15.443038</td>\n",
       "    </tr>\n",
       "    <tr>\n",
       "      <th>std</th>\n",
       "      <td>9908.708738</td>\n",
       "      <td>176.136001</td>\n",
       "      <td>8.667125</td>\n",
       "    </tr>\n",
       "    <tr>\n",
       "      <th>min</th>\n",
       "      <td>1110.000000</td>\n",
       "      <td>2001.000000</td>\n",
       "      <td>0.000000</td>\n",
       "    </tr>\n",
       "    <tr>\n",
       "      <th>25%</th>\n",
       "      <td>1513.500000</td>\n",
       "      <td>2161.000000</td>\n",
       "      <td>9.000000</td>\n",
       "    </tr>\n",
       "    <tr>\n",
       "      <th>50%</th>\n",
       "      <td>2063.500000</td>\n",
       "      <td>2309.000000</td>\n",
       "      <td>14.000000</td>\n",
       "    </tr>\n",
       "    <tr>\n",
       "      <th>75%</th>\n",
       "      <td>21616.500000</td>\n",
       "      <td>2417.000000</td>\n",
       "      <td>22.000000</td>\n",
       "    </tr>\n",
       "    <tr>\n",
       "      <th>max</th>\n",
       "      <td>25769.000000</td>\n",
       "      <td>3216.000000</td>\n",
       "      <td>32.000000</td>\n",
       "    </tr>\n",
       "  </tbody>\n",
       "</table>\n",
       "</div>"
      ],
      "text/plain": [
       "         Agencia_ID      Town_ID    State_ID\n",
       "count    790.000000   790.000000  790.000000\n",
       "mean    8531.505063  2296.905063   15.443038\n",
       "std     9908.708738   176.136001    8.667125\n",
       "min     1110.000000  2001.000000    0.000000\n",
       "25%     1513.500000  2161.000000    9.000000\n",
       "50%     2063.500000  2309.000000   14.000000\n",
       "75%    21616.500000  2417.000000   22.000000\n",
       "max    25769.000000  3216.000000   32.000000"
      ]
     },
     "execution_count": 38,
     "metadata": {},
     "output_type": "execute_result"
    }
   ],
   "source": [
    "townstate.describe()"
   ]
  },
  {
   "cell_type": "code",
   "execution_count": 40,
   "metadata": {
    "collapsed": false
   },
   "outputs": [],
   "source": [
    "townstate = townstate.astype('uint16')\n",
    "townstate[['State_ID']] =townstate[['State_ID']] .astype('uint8')\n"
   ]
  },
  {
   "cell_type": "code",
   "execution_count": 41,
   "metadata": {
    "collapsed": false
   },
   "outputs": [
    {
     "name": "stdout",
     "output_type": "stream",
     "text": [
      "<class 'pandas.core.frame.DataFrame'>\n",
      "RangeIndex: 790 entries, 0 to 789\n",
      "Data columns (total 3 columns):\n",
      "Agencia_ID    790 non-null uint16\n",
      "Town_ID       790 non-null uint16\n",
      "State_ID      790 non-null uint8\n",
      "dtypes: uint16(2), uint8(1)\n",
      "memory usage: 3.9 KB\n"
     ]
    }
   ],
   "source": [
    "townstate.info()"
   ]
  },
  {
   "cell_type": "code",
   "execution_count": null,
   "metadata": {
    "collapsed": true
   },
   "outputs": [],
   "source": []
  },
  {
   "cell_type": "code",
   "execution_count": 42,
   "metadata": {
    "collapsed": true
   },
   "outputs": [],
   "source": [
    "townstate.to_csv('../input/town_state_ID.csv')"
   ]
  },
  {
   "cell_type": "code",
   "execution_count": null,
   "metadata": {
    "collapsed": true
   },
   "outputs": [],
   "source": []
  }
 ],
 "metadata": {
  "anaconda-cloud": {},
  "kernelspec": {
   "display_name": "Python 2",
   "language": "python",
   "name": "python2"
  },
  "language_info": {
   "codemirror_mode": {
    "name": "ipython",
    "version": 2
   },
   "file_extension": ".py",
   "mimetype": "text/x-python",
   "name": "python",
   "nbconvert_exporter": "python",
   "pygments_lexer": "ipython2",
   "version": "2.7.12"
  }
 },
 "nbformat": 4,
 "nbformat_minor": 0
}
