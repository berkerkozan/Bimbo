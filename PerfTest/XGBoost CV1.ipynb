{
 "cells": [
  {
   "cell_type": "code",
   "execution_count": 1,
   "metadata": {
    "collapsed": false
   },
   "outputs": [],
   "source": [
    "import pickle\n",
    "import xgboost as xgb\n",
    "\n",
    "import numpy as np\n",
    "from sklearn.cross_validation import KFold, train_test_split\n",
    "from sklearn.metrics import confusion_matrix, mean_squared_error\n",
    "from sklearn.grid_search import GridSearchCV\n",
    "from sklearn.datasets import load_iris, load_digits, load_boston\n",
    "%matplotlib inline\n",
    "import seaborn as sns\n",
    "from sklearn.metrics import r2_score, mean_squared_error, make_scorer\n",
    "from collections import OrderedDict\n",
    "import gc"
   ]
  },
  {
   "cell_type": "code",
   "execution_count": 2,
   "metadata": {
    "collapsed": false
   },
   "outputs": [],
   "source": [
    "rng = np.random.RandomState(31337)\n",
    "boston = load_boston()\n",
    "y = boston['target']\n",
    "X = boston['data']"
   ]
  },
  {
   "cell_type": "code",
   "execution_count": 3,
   "metadata": {
    "collapsed": false
   },
   "outputs": [
    {
     "name": "stdout",
     "output_type": "stream",
     "text": [
      "(506, 13)\n",
      "(506,)\n"
     ]
    },
    {
     "data": {
      "text/plain": [
       "[-1, -1, -1, -1]"
      ]
     },
     "execution_count": 3,
     "metadata": {},
     "output_type": "execute_result"
    }
   ],
   "source": [
    "X = boston['data']\n",
    "y = boston['target']\n",
    "print X.shape\n",
    "print y.shape\n",
    "X_train = X[:400]\n",
    "X_test = X[400:]\n",
    "y_train = y[:400]\n",
    "y_test = y[400:]\n",
    "\n",
    "tempX = 400 * [-1] + y_test.shape[0] * [0]\n",
    "tempX[:4]"
   ]
  },
  {
   "cell_type": "code",
   "execution_count": 4,
   "metadata": {
    "collapsed": true
   },
   "outputs": [],
   "source": [
    "def RMSE(y_true,y_pred):\n",
    "    mse = np.sqrt(mean_squared_error(y_true, y_pred))\n",
    "    print 'MSE: %2.3f' % mse\n",
    "    return mse"
   ]
  },
  {
   "cell_type": "markdown",
   "metadata": {},
   "source": [
    "# Don't have early stop option!!!!!!!!So didn't use so far..\n",
    "## Semi-Automatic Hyperparameter Tuning, it can't predict. Only gives optimum parameter..\n",
    "## Predict doesn't work, because when refit = False, it doesn't assign best estimator!!!\n",
    "## Doesn't do 2 fold, this is what i want for Bimbo.."
   ]
  },
  {
   "cell_type": "code",
   "execution_count": 5,
   "metadata": {
    "collapsed": false
   },
   "outputs": [
    {
     "name": "stdout",
     "output_type": "stream",
     "text": [
      "Boston Housing: regression\n",
      "Fitting 1 folds for each of 1 candidates, totalling 1 fits\n",
      "MSE: 5.585\n"
     ]
    },
    {
     "name": "stderr",
     "output_type": "stream",
     "text": [
      "[Parallel(n_jobs=-1)]: Done   1 out of   1 | elapsed:    0.5s finished\n"
     ]
    },
    {
     "data": {
      "text/plain": [
       "GridSearchCV(cv=sklearn.cross_validation.PredefinedSplit(test_fold=[-1 -1 ...,  0  0]),\n",
       "       error_score='raise',\n",
       "       estimator=XGBRegressor(base_score=0.5, colsample_bylevel=1, colsample_bytree=0.4,\n",
       "       gamma=0, learning_rate=0.1, max_delta_step=0, max_depth=10,\n",
       "       min_child_weight=5, missing=None, n_estimators=100, nthread=-1,\n",
       "       objective='reg:linear', reg_alpha=0, reg_lambda=1,\n",
       "       scale_pos_weight=1, seed=0, silent=True, subsample=1.0),\n",
       "       fit_params={}, iid=True, n_jobs=-1,\n",
       "       param_grid={'n_estimators': [200]}, pre_dispatch='2*n_jobs',\n",
       "       refit=False, scoring=make_scorer(RMSE, greater_is_better=False),\n",
       "       verbose=1)"
      ]
     },
     "execution_count": 5,
     "metadata": {},
     "output_type": "execute_result"
    }
   ],
   "source": [
    "print(\"Boston Housing: regression\")\n",
    "boston = load_boston()\n",
    "y = boston['target']\n",
    "X = boston['data']\n",
    "#X_train, X_test, y_train, y_test = train_test_split(X, y, test_size=0.2, random_state=1729)\n",
    "\n",
    "\n",
    "'''base_score=0.5, colsample_bylevel=1, colsample_bytree=1, gamma=0,\n",
    "       learning_rate=0.1, max_delta_step=0, max_depth=3,\n",
    "       min_child_weight=1, missing=None, n_estimators=100, nthread=-1,\n",
    "       objective='reg:linear', reg_alpha=0, reg_lambda=1,\n",
    "       scale_pos_weight=1, seed=0, silent=True, subsample=1\n",
    "        \n",
    "        \n",
    "learning_rate=0.1\n",
    "max_depth=3\n",
    "missing=np.nan, learning_rate=0.02, subsample=0.9, colsample_bytree=0.85\n",
    "'''\n",
    "\n",
    "#in order depth= 10, subsample=1.0, min_child_weight = 5, col_sample_bytree = 0.2, eta = 0.1, \n",
    "#col_sample_bytree = 0.4 - 1\n",
    "#gamma = 0.05,0.1 0.3, 0.5, 0.7, 1\n",
    "#lambda = 0.01, 0.1, 1\n",
    "#alpha = 0.01, 0.1, 1\n",
    "#n_estimators is last..\n",
    "\n",
    "#Start from 10 and play up down..\n",
    "depth = [12,8]\n",
    "subsample = [0.8,0.6]\n",
    "min_child_weight = [3,7]\n",
    "col_sample_bytree = [0.3,0.5,0.8,1]\n",
    "#lambdaa = [0.01, 0.1, 1]\n",
    "#alpha = [0.01, 0.1]\n",
    "#Use this eta to find the optimum iteration\n",
    "eta = [0.05]\n",
    "\n",
    "defaultParams = {\"max_depth\":10, \"subsample\":1., \"min_child_weight\":5, \"colsample_bytree\":0.4, \"missing\":np.nan}\n",
    "\n",
    "import numpy as np\n",
    "from sklearn.cross_validation import PredefinedSplit\n",
    "#ps = PredefinedSplit(test_fold=[-1, -1, -1, 0,0])\n",
    "ps = PredefinedSplit(test_fold=tempX)\n",
    "\n",
    "#ps = PredefinedSplit(test_fold=[0, 1, 2, 1])\n",
    "#len(ps)\n",
    "\n",
    "\n",
    "\n",
    "#xgb_model.fit(X_train,y_train,eval_set=[(X_train, y_train),(X_test, y_test)],\n",
    " #        verbose=10, early_stopping_rounds = 50)\n",
    "\n",
    "cv_params = {'n_estimators': [200]}\n",
    "\n",
    "\n",
    "optimized_Xgb = GridSearchCV(xgb.XGBRegressor(**defaultParams), \n",
    "    cv_params, cv = ps, n_jobs = -1,verbose=1,refit=False, scoring = make_scorer(RMSE, greater_is_better=False)) \n",
    "\n",
    "optimized_Xgb.fit(X,y)\n",
    "\n",
    "#optimized_GBM.best_estimator_ = optimized_GBM.estimator\n",
    "\n",
    "#print(optimized_GBM.best_score_)\n",
    "#print(optimized_GBM.best_params_)\n",
    "\n",
    "\n",
    "#predictions = optimized_GBM.predict(X_train)\n",
    "#predictionsTest = optimized_GBM.predict(X_test)\n",
    "#print( np.sqrt(mean_squared_error(y_train, predictions)))\n",
    "#print( np.sqrt(mean_squared_error(y_test, predictionsTest)))"
   ]
  },
  {
   "cell_type": "markdown",
   "metadata": {},
   "source": [
    "## Pickle, Save Model.."
   ]
  },
  {
   "cell_type": "code",
   "execution_count": 12,
   "metadata": {
    "collapsed": false
   },
   "outputs": [
    {
     "name": "stdout",
     "output_type": "stream",
     "text": [
      "Pickling sklearn API models\n"
     ]
    },
    {
     "ename": "XGBoostError",
     "evalue": "need to call fit beforehand",
     "output_type": "error",
     "traceback": [
      "\u001b[0;31m---------------------------------------------------------------------------\u001b[0m",
      "\u001b[0;31mXGBoostError\u001b[0m                              Traceback (most recent call last)",
      "\u001b[0;32m<ipython-input-12-e82f90905f3f>\u001b[0m in \u001b[0;36m<module>\u001b[0;34m()\u001b[0m\n\u001b[1;32m      3\u001b[0m \u001b[0mpickle\u001b[0m\u001b[0;34m.\u001b[0m\u001b[0mdump\u001b[0m\u001b[0;34m(\u001b[0m\u001b[0mxgb_model\u001b[0m\u001b[0;34m,\u001b[0m \u001b[0mopen\u001b[0m\u001b[0;34m(\u001b[0m\u001b[0;34m\"best_boston.pkl\"\u001b[0m\u001b[0;34m,\u001b[0m \u001b[0;34m\"wb\"\u001b[0m\u001b[0;34m)\u001b[0m\u001b[0;34m)\u001b[0m\u001b[0;34m\u001b[0m\u001b[0m\n\u001b[1;32m      4\u001b[0m \u001b[0mclf2\u001b[0m \u001b[0;34m=\u001b[0m \u001b[0mpickle\u001b[0m\u001b[0;34m.\u001b[0m\u001b[0mload\u001b[0m\u001b[0;34m(\u001b[0m\u001b[0mopen\u001b[0m\u001b[0;34m(\u001b[0m\u001b[0;34m\"best_boston.pkl\"\u001b[0m\u001b[0;34m,\u001b[0m \u001b[0;34m\"rb\"\u001b[0m\u001b[0;34m)\u001b[0m\u001b[0;34m)\u001b[0m\u001b[0;34m\u001b[0m\u001b[0m\n\u001b[0;32m----> 5\u001b[0;31m \u001b[0;32mprint\u001b[0m\u001b[0;34m(\u001b[0m\u001b[0mnp\u001b[0m\u001b[0;34m.\u001b[0m\u001b[0mallclose\u001b[0m\u001b[0;34m(\u001b[0m\u001b[0mxgb_model\u001b[0m\u001b[0;34m.\u001b[0m\u001b[0mpredict\u001b[0m\u001b[0;34m(\u001b[0m\u001b[0mX_train\u001b[0m\u001b[0;34m)\u001b[0m\u001b[0;34m,\u001b[0m \u001b[0mclf2\u001b[0m\u001b[0;34m.\u001b[0m\u001b[0mpredict\u001b[0m\u001b[0;34m(\u001b[0m\u001b[0mX_train\u001b[0m\u001b[0;34m)\u001b[0m\u001b[0;34m)\u001b[0m\u001b[0;34m)\u001b[0m\u001b[0;34m\u001b[0m\u001b[0m\n\u001b[0m",
      "\u001b[0;32m//anaconda/lib/python2.7/site-packages/xgboost/sklearn.pyc\u001b[0m in \u001b[0;36mpredict\u001b[0;34m(self, data, output_margin, ntree_limit)\u001b[0m\n\u001b[1;32m    202\u001b[0m         \u001b[0;31m# pylint: disable=missing-docstring,invalid-name\u001b[0m\u001b[0;34m\u001b[0m\u001b[0;34m\u001b[0m\u001b[0m\n\u001b[1;32m    203\u001b[0m         \u001b[0mtest_dmatrix\u001b[0m \u001b[0;34m=\u001b[0m \u001b[0mDMatrix\u001b[0m\u001b[0;34m(\u001b[0m\u001b[0mdata\u001b[0m\u001b[0;34m,\u001b[0m \u001b[0mmissing\u001b[0m\u001b[0;34m=\u001b[0m\u001b[0mself\u001b[0m\u001b[0;34m.\u001b[0m\u001b[0mmissing\u001b[0m\u001b[0;34m)\u001b[0m\u001b[0;34m\u001b[0m\u001b[0m\n\u001b[0;32m--> 204\u001b[0;31m         return self.booster().predict(test_dmatrix,\n\u001b[0m\u001b[1;32m    205\u001b[0m                                       \u001b[0moutput_margin\u001b[0m\u001b[0;34m=\u001b[0m\u001b[0moutput_margin\u001b[0m\u001b[0;34m,\u001b[0m\u001b[0;34m\u001b[0m\u001b[0m\n\u001b[1;32m    206\u001b[0m                                       ntree_limit=ntree_limit)\n",
      "\u001b[0;32m//anaconda/lib/python2.7/site-packages/xgboost/sklearn.pyc\u001b[0m in \u001b[0;36mbooster\u001b[0;34m(self)\u001b[0m\n\u001b[1;32m    107\u001b[0m         \"\"\"\n\u001b[1;32m    108\u001b[0m         \u001b[0;32mif\u001b[0m \u001b[0mself\u001b[0m\u001b[0;34m.\u001b[0m\u001b[0m_Booster\u001b[0m \u001b[0;32mis\u001b[0m \u001b[0mNone\u001b[0m\u001b[0;34m:\u001b[0m\u001b[0;34m\u001b[0m\u001b[0m\n\u001b[0;32m--> 109\u001b[0;31m             \u001b[0;32mraise\u001b[0m \u001b[0mXGBoostError\u001b[0m\u001b[0;34m(\u001b[0m\u001b[0;34m'need to call fit beforehand'\u001b[0m\u001b[0;34m)\u001b[0m\u001b[0;34m\u001b[0m\u001b[0m\n\u001b[0m\u001b[1;32m    110\u001b[0m         \u001b[0;32mreturn\u001b[0m \u001b[0mself\u001b[0m\u001b[0;34m.\u001b[0m\u001b[0m_Booster\u001b[0m\u001b[0;34m\u001b[0m\u001b[0m\n\u001b[1;32m    111\u001b[0m \u001b[0;34m\u001b[0m\u001b[0m\n",
      "\u001b[0;31mXGBoostError\u001b[0m: need to call fit beforehand"
     ]
    }
   ],
   "source": [
    "print(\"Pickling sklearn API models\")\n",
    "# must open in binary format to pickle\n",
    "pickle.dump(xgb_model, open(\"best_boston.pkl\", \"wb\"))\n",
    "clf2 = pickle.load(open(\"best_boston.pkl\", \"rb\"))\n",
    "print(np.allclose(xgb_model.predict(X_train), clf2.predict(X_train)))"
   ]
  },
  {
   "cell_type": "markdown",
   "metadata": {},
   "source": [
    "## Manuel Hyperparameter Tuning Davut "
   ]
  },
  {
   "cell_type": "code",
   "execution_count": 6,
   "metadata": {
    "collapsed": false,
    "scrolled": false
   },
   "outputs": [
    {
     "name": "stdout",
     "output_type": "stream",
     "text": [
      "Boston Housing: regression\n",
      "[0]\tvalidation_0-rmse:23.1009\tvalidation_1-rmse:14.6234\n",
      "Multiple eval metrics have been passed: 'validation_1-rmse' will be used for early stopping.\n",
      "\n",
      "Will train until validation_1-rmse hasn't improved in 30 rounds.\n",
      "[1]\tvalidation_0-rmse:21.0086\tvalidation_1-rmse:12.6123\n",
      "[2]\tvalidation_0-rmse:19.1358\tvalidation_1-rmse:11.3087\n",
      "[3]\tvalidation_0-rmse:17.4515\tvalidation_1-rmse:10.0673\n",
      "[4]\tvalidation_0-rmse:15.8429\tvalidation_1-rmse:8.91073\n",
      "[5]\tvalidation_0-rmse:14.3663\tvalidation_1-rmse:7.99402\n",
      "[6]\tvalidation_0-rmse:13.1263\tvalidation_1-rmse:6.84218\n",
      "[7]\tvalidation_0-rmse:12.0237\tvalidation_1-rmse:6.22083\n",
      "[8]\tvalidation_0-rmse:11.019\tvalidation_1-rmse:5.59899\n",
      "[9]\tvalidation_0-rmse:10.13\tvalidation_1-rmse:5.06344\n",
      "[10]\tvalidation_0-rmse:9.26016\tvalidation_1-rmse:4.56539\n",
      "[11]\tvalidation_0-rmse:8.51636\tvalidation_1-rmse:4.21592\n",
      "[12]\tvalidation_0-rmse:7.77885\tvalidation_1-rmse:3.95813\n",
      "[13]\tvalidation_0-rmse:7.13544\tvalidation_1-rmse:3.70216\n",
      "[14]\tvalidation_0-rmse:6.54363\tvalidation_1-rmse:3.5417\n",
      "[15]\tvalidation_0-rmse:6.01406\tvalidation_1-rmse:3.5099\n",
      "[16]\tvalidation_0-rmse:5.5481\tvalidation_1-rmse:3.43295\n",
      "[17]\tvalidation_0-rmse:5.13642\tvalidation_1-rmse:3.4163\n",
      "[18]\tvalidation_0-rmse:4.76883\tvalidation_1-rmse:3.43239\n",
      "[19]\tvalidation_0-rmse:4.4397\tvalidation_1-rmse:3.44221\n",
      "[20]\tvalidation_0-rmse:4.14469\tvalidation_1-rmse:3.51449\n",
      "[21]\tvalidation_0-rmse:3.90818\tvalidation_1-rmse:3.6203\n",
      "[22]\tvalidation_0-rmse:3.65727\tvalidation_1-rmse:3.71067\n",
      "[23]\tvalidation_0-rmse:3.39814\tvalidation_1-rmse:3.75526\n",
      "[24]\tvalidation_0-rmse:3.20688\tvalidation_1-rmse:3.91971\n",
      "[25]\tvalidation_0-rmse:3.02649\tvalidation_1-rmse:3.99591\n",
      "[26]\tvalidation_0-rmse:2.87184\tvalidation_1-rmse:4.05241\n",
      "[27]\tvalidation_0-rmse:2.709\tvalidation_1-rmse:4.34476\n",
      "[28]\tvalidation_0-rmse:2.55144\tvalidation_1-rmse:4.40314\n",
      "[29]\tvalidation_0-rmse:2.38869\tvalidation_1-rmse:4.61618\n",
      "[30]\tvalidation_0-rmse:2.26553\tvalidation_1-rmse:4.66014\n",
      "[31]\tvalidation_0-rmse:2.13536\tvalidation_1-rmse:4.69092\n",
      "[32]\tvalidation_0-rmse:2.01661\tvalidation_1-rmse:4.6982\n",
      "[33]\tvalidation_0-rmse:1.9245\tvalidation_1-rmse:4.81974\n",
      "[34]\tvalidation_0-rmse:1.84394\tvalidation_1-rmse:4.84937\n",
      "[35]\tvalidation_0-rmse:1.7792\tvalidation_1-rmse:4.92667\n",
      "[36]\tvalidation_0-rmse:1.69011\tvalidation_1-rmse:4.95501\n",
      "[37]\tvalidation_0-rmse:1.6253\tvalidation_1-rmse:5.04373\n",
      "[38]\tvalidation_0-rmse:1.55237\tvalidation_1-rmse:5.06142\n",
      "[39]\tvalidation_0-rmse:1.50998\tvalidation_1-rmse:5.08716\n",
      "[40]\tvalidation_0-rmse:1.45577\tvalidation_1-rmse:5.16585\n",
      "[41]\tvalidation_0-rmse:1.40875\tvalidation_1-rmse:5.17191\n",
      "[42]\tvalidation_0-rmse:1.35395\tvalidation_1-rmse:5.21664\n",
      "[43]\tvalidation_0-rmse:1.30369\tvalidation_1-rmse:5.22831\n",
      "[44]\tvalidation_0-rmse:1.28235\tvalidation_1-rmse:5.24863\n",
      "[45]\tvalidation_0-rmse:1.22978\tvalidation_1-rmse:5.33154\n",
      "[46]\tvalidation_0-rmse:1.18519\tvalidation_1-rmse:5.35776\n",
      "[47]\tvalidation_0-rmse:1.14698\tvalidation_1-rmse:5.343\n",
      "Stopping. Best iteration:\n",
      "[17]\tvalidation_0-rmse:5.13642\tvalidation_1-rmse:3.4163\n",
      "\n",
      "trainResult:  5.13642232447\n",
      "testResult:  3.41629732029\n",
      "Best Iteration:  17\n",
      "Best Score:  3.416297\n",
      "Axes(0.125,0.125;0.775x0.775)\n"
     ]
    },
    {
     "data": {
      "image/png": "[encoded data removed]",
      "text/plain": [
       "<matplotlib.figure.Figure at 0x10617d0d0>"
      ]
     },
     "metadata": {},
     "output_type": "display_data"
    }
   ],
   "source": [
    "print(\"Boston Housing: regression\")\n",
    "#y = boston['target']\n",
    "#X = boston['data']\n",
    "#X_train, X_test, y_train, y_test = train_test_split(X, y, test_size=0.2, random_state=1729)\n",
    "\n",
    "\n",
    "'''base_score=0.5, colsample_bylevel=1, colsample_bytree=1, gamma=0,\n",
    "       learning_rate=0.1, max_delta_step=0, max_depth=3,\n",
    "       min_child_weight=1, missing=None, n_estimators=100, nthread=-1,\n",
    "       objective='reg:linear', reg_alpha=0, reg_lambda=1,\n",
    "       scale_pos_weight=1, seed=0, silent=True, subsample=1\n",
    "        \n",
    "        \n",
    "learning_rate=0.1\n",
    "max_depth=3\n",
    "missing=np.nan, learning_rate=0.02, subsample=0.9, colsample_bytree=0.85\n",
    "'''\n",
    "\n",
    "#in order depth= 10, subsample=1.0, min_child_weight = 5, col_sample_bytree = 0.2, eta = 0.1, \n",
    "\n",
    "#col_sample_bytree = 0.4 - 1\n",
    "#gamma = 0.05,0.1 0.3, 0.5, 0.7, 1\n",
    "#lambda = 0.01, 0.1, 1\n",
    "#alpha = 0.01, 0.1, 1\n",
    "#n_estimators is last..\n",
    "\n",
    "\n",
    "defaultParams = {\"max_depth\":10, \"subsample\":1., \"min_child_weight\":5, \"colsample_bytree\":0.4, \"missing\":np.nan\n",
    "                ,\"n_estimators\":300}\n",
    "xgb_model = xgb.XGBRegressor(**defaultParams) \n",
    "\n",
    "\n",
    "xgb_model.fit(X_train,y_train,eval_set=[(X_train, y_train),(X_test, y_test)],\n",
    "         verbose=1, early_stopping_rounds = 30)\n",
    "\n",
    "\n",
    "predictions = xgb_model.predict(X_train,ntree_limit  = xgb_model.best_iteration+1)\n",
    "predictionsTest = xgb_model.predict(X_test,ntree_limit  = xgb_model.best_iteration+1)\n",
    "\n",
    "print \"trainResult: \", np.sqrt(mean_squared_error(y_train, predictions))\n",
    "print \"testResult: \", np.sqrt(mean_squared_error(y_test, predictionsTest))\n",
    "print \"Best Iteration: \", xgb_model.best_iteration\n",
    "print \"Best Score: \", xgb_model.best_score\n",
    "print xgb.plot_importance(xgb_model)"
   ]
  },
  {
   "cell_type": "markdown",
   "metadata": {},
   "source": [
    "## Automatic XGBoost"
   ]
  },
  {
   "cell_type": "code",
   "execution_count": 7,
   "metadata": {
    "collapsed": false
   },
   "outputs": [],
   "source": [
    "def GiveBestParameterWithoutCV(defaultParams, testParams, X_train, X_test, Y_train, Y_test, fitParams):\n",
    "    xgb_model = xgb.XGBRegressor(**defaultParams) \n",
    "    \n",
    "    minRmse = 10000\n",
    "    minRmseParameter = 10000\n",
    "    bestIteration = 1000\n",
    "        \n",
    "    for key,values in testParams:\n",
    "        minRmseParameter = xgb_model.get_xgb_params()[key]\n",
    "        \n",
    "        for value in values:\n",
    "            \n",
    "            xgb_model.set_params(**{key:value})\n",
    "            xgb_model.fit(X_train,Y_train, eval_set=[(X_train, Y_train),(X_test, Y_test)],\n",
    "                  **fitParams)\n",
    "            if xgb_model.best_score < minRmse:\n",
    "                minRmse = xgb_model.best_score\n",
    "                minRmseParameter = value\n",
    "                bestIteration = xgb_model.best_iteration\n",
    "                \n",
    "        xgb_model.set_params(**{key:minRmseParameter})\n",
    "        print \"Parameters are finished for {}. Best Iteration is {}\".format(key, bestIteration)\n",
    "        print \"Minimum Rmse : {}, optimum parameter is {} between {}\".format(minRmse, minRmseParameter, values)\n",
    "    gc.collect()"
   ]
  },
  {
   "cell_type": "code",
   "execution_count": 8,
   "metadata": {
    "collapsed": false,
    "scrolled": false
   },
   "outputs": [
    {
     "name": "stdout",
     "output_type": "stream",
     "text": [
      "[0]\tvalidation_0-rmse:23.1009\tvalidation_1-rmse:14.6234\n",
      "Multiple eval metrics have been passed: 'validation_1-rmse' will be used for early stopping.\n",
      "\n",
      "Will train until validation_1-rmse hasn't improved in 50 rounds.\n",
      "[10]\tvalidation_0-rmse:9.25949\tvalidation_1-rmse:4.56019\n",
      "[20]\tvalidation_0-rmse:4.13939\tvalidation_1-rmse:3.47237\n",
      "[30]\tvalidation_0-rmse:2.25765\tvalidation_1-rmse:4.62288\n",
      "[40]\tvalidation_0-rmse:1.48033\tvalidation_1-rmse:5.12618\n",
      "[50]\tvalidation_0-rmse:1.05455\tvalidation_1-rmse:5.39472\n",
      "[60]\tvalidation_0-rmse:0.818546\tvalidation_1-rmse:5.48539\n",
      "Stopping. Best iteration:\n",
      "[17]\tvalidation_0-rmse:5.13125\tvalidation_1-rmse:3.37505\n",
      "\n",
      "[0]\tvalidation_0-rmse:23.1009\tvalidation_1-rmse:14.6234\n",
      "Multiple eval metrics have been passed: 'validation_1-rmse' will be used for early stopping.\n",
      "\n",
      "Will train until validation_1-rmse hasn't improved in 50 rounds.\n",
      "[10]\tvalidation_0-rmse:9.26368\tvalidation_1-rmse:4.569\n",
      "[20]\tvalidation_0-rmse:4.15646\tvalidation_1-rmse:3.53157\n",
      "[30]\tvalidation_0-rmse:2.3231\tvalidation_1-rmse:4.61501\n",
      "[40]\tvalidation_0-rmse:1.57235\tvalidation_1-rmse:5.05125\n",
      "[50]\tvalidation_0-rmse:1.15644\tvalidation_1-rmse:5.24142\n",
      "[60]\tvalidation_0-rmse:0.949572\tvalidation_1-rmse:5.35413\n",
      "Stopping. Best iteration:\n",
      "[17]\tvalidation_0-rmse:5.13832\tvalidation_1-rmse:3.40469\n",
      "\n",
      "[0]\tvalidation_0-rmse:23.1009\tvalidation_1-rmse:14.6234\n",
      "Multiple eval metrics have been passed: 'validation_1-rmse' will be used for early stopping.\n",
      "\n",
      "Will train until validation_1-rmse hasn't improved in 50 rounds.\n",
      "[10]\tvalidation_0-rmse:9.31532\tvalidation_1-rmse:4.40814\n",
      "[20]\tvalidation_0-rmse:4.23619\tvalidation_1-rmse:3.64106\n",
      "[30]\tvalidation_0-rmse:2.45596\tvalidation_1-rmse:4.72876\n",
      "[40]\tvalidation_0-rmse:1.74568\tvalidation_1-rmse:5.3155\n",
      "[50]\tvalidation_0-rmse:1.37812\tvalidation_1-rmse:5.51213\n",
      "[60]\tvalidation_0-rmse:1.15878\tvalidation_1-rmse:5.63725\n",
      "Stopping. Best iteration:\n",
      "[14]\tvalidation_0-rmse:6.61782\tvalidation_1-rmse:3.42212\n",
      "\n",
      "[0]\tvalidation_0-rmse:23.1009\tvalidation_1-rmse:14.6234\n",
      "Multiple eval metrics have been passed: 'validation_1-rmse' will be used for early stopping.\n",
      "\n",
      "Will train until validation_1-rmse hasn't improved in 50 rounds.\n",
      "[10]\tvalidation_0-rmse:9.25949\tvalidation_1-rmse:4.56019\n",
      "[20]\tvalidation_0-rmse:4.13939\tvalidation_1-rmse:3.47237\n",
      "[30]\tvalidation_0-rmse:2.25105\tvalidation_1-rmse:4.64958\n",
      "[40]\tvalidation_0-rmse:1.46294\tvalidation_1-rmse:5.21827\n",
      "[50]\tvalidation_0-rmse:1.03271\tvalidation_1-rmse:5.45265\n",
      "[60]\tvalidation_0-rmse:0.799139\tvalidation_1-rmse:5.47378\n",
      "Stopping. Best iteration:\n",
      "[17]\tvalidation_0-rmse:5.13125\tvalidation_1-rmse:3.37505\n",
      "\n",
      "Parameters are finished for max_depth. Best Iteration is 17\n",
      "Minimum Rmse : 3.375049, optimum parameter is 12 between [12, 8, 6, 14]\n",
      "[0]\tvalidation_0-rmse:23.1357\tvalidation_1-rmse:14.6704\n",
      "Multiple eval metrics have been passed: 'validation_1-rmse' will be used for early stopping.\n",
      "\n",
      "Will train until validation_1-rmse hasn't improved in 50 rounds.\n",
      "[10]\tvalidation_0-rmse:9.26179\tvalidation_1-rmse:5.07983\n",
      "[20]\tvalidation_0-rmse:4.16007\tvalidation_1-rmse:3.52149\n",
      "[30]\tvalidation_0-rmse:2.29019\tvalidation_1-rmse:3.76932\n",
      "[40]\tvalidation_0-rmse:1.50586\tvalidation_1-rmse:4.29741\n",
      "[50]\tvalidation_0-rmse:1.09813\tvalidation_1-rmse:4.49722\n",
      "[60]\tvalidation_0-rmse:0.860887\tvalidation_1-rmse:4.62065\n",
      "[70]\tvalidation_0-rmse:0.729688\tvalidation_1-rmse:4.64544\n",
      "Stopping. Best iteration:\n",
      "[23]\tvalidation_0-rmse:3.39533\tvalidation_1-rmse:3.45794\n",
      "\n",
      "[0]\tvalidation_0-rmse:23.1311\tvalidation_1-rmse:14.6504\n",
      "Multiple eval metrics have been passed: 'validation_1-rmse' will be used for early stopping.\n",
      "\n",
      "Will train until validation_1-rmse hasn't improved in 50 rounds.\n",
      "[10]\tvalidation_0-rmse:9.3422\tvalidation_1-rmse:4.92696\n",
      "[20]\tvalidation_0-rmse:4.27159\tvalidation_1-rmse:3.47751\n",
      "[30]\tvalidation_0-rmse:2.43132\tvalidation_1-rmse:3.94522\n",
      "[40]\tvalidation_0-rmse:1.62856\tvalidation_1-rmse:4.61188\n",
      "[50]\tvalidation_0-rmse:1.23497\tvalidation_1-rmse:4.90079\n",
      "[60]\tvalidation_0-rmse:1.01843\tvalidation_1-rmse:4.92244\n",
      "[70]\tvalidation_0-rmse:0.870206\tvalidation_1-rmse:4.94707\n",
      "Stopping. Best iteration:\n",
      "[21]\tvalidation_0-rmse:3.99694\tvalidation_1-rmse:3.46199\n",
      "\n",
      "[0]\tvalidation_0-rmse:23.1689\tvalidation_1-rmse:14.4585\n",
      "Multiple eval metrics have been passed: 'validation_1-rmse' will be used for early stopping.\n",
      "\n",
      "Will train until validation_1-rmse hasn't improved in 50 rounds.\n",
      "[10]\tvalidation_0-rmse:9.49453\tvalidation_1-rmse:4.89482\n",
      "[20]\tvalidation_0-rmse:4.52327\tvalidation_1-rmse:3.36061\n",
      "[30]\tvalidation_0-rmse:2.74588\tvalidation_1-rmse:3.88089\n",
      "[40]\tvalidation_0-rmse:1.98074\tvalidation_1-rmse:4.63384\n",
      "[50]\tvalidation_0-rmse:1.62241\tvalidation_1-rmse:4.94427\n",
      "[60]\tvalidation_0-rmse:1.38143\tvalidation_1-rmse:4.96434\n",
      "[70]\tvalidation_0-rmse:1.21575\tvalidation_1-rmse:5.03616\n",
      "Stopping. Best iteration:\n",
      "[21]\tvalidation_0-rmse:4.24937\tvalidation_1-rmse:3.34964\n",
      "\n",
      "Parameters are finished for subsample. Best Iteration is 21\n",
      "Minimum Rmse : 3.34964, optimum parameter is 0.6 between [0.9, 0.8, 0.6]\n",
      "[0]\tvalidation_0-rmse:23.1669\tvalidation_1-rmse:14.4448\n",
      "Multiple eval metrics have been passed: 'validation_1-rmse' will be used for early stopping.\n",
      "\n",
      "Will train until validation_1-rmse hasn't improved in 50 rounds.\n",
      "[10]\tvalidation_0-rmse:9.50477\tvalidation_1-rmse:5.03958\n",
      "[20]\tvalidation_0-rmse:4.35999\tvalidation_1-rmse:3.50421\n",
      "[30]\tvalidation_0-rmse:2.30223\tvalidation_1-rmse:4.02064\n",
      "[40]\tvalidation_0-rmse:1.39416\tvalidation_1-rmse:4.33344\n",
      "[50]\tvalidation_0-rmse:0.946493\tvalidation_1-rmse:4.57353\n",
      "[60]\tvalidation_0-rmse:0.654698\tvalidation_1-rmse:4.52167\n",
      "[70]\tvalidation_0-rmse:0.488918\tvalidation_1-rmse:4.52862\n",
      "Stopping. Best iteration:\n",
      "[21]\tvalidation_0-rmse:4.0553\tvalidation_1-rmse:3.4612\n",
      "\n",
      "[0]\tvalidation_0-rmse:23.1689\tvalidation_1-rmse:14.4585\n",
      "Multiple eval metrics have been passed: 'validation_1-rmse' will be used for early stopping.\n",
      "\n",
      "Will train until validation_1-rmse hasn't improved in 50 rounds.\n",
      "[10]\tvalidation_0-rmse:9.49097\tvalidation_1-rmse:4.87041\n",
      "[20]\tvalidation_0-rmse:4.42863\tvalidation_1-rmse:3.41862\n",
      "[30]\tvalidation_0-rmse:2.51471\tvalidation_1-rmse:4.04275\n",
      "[40]\tvalidation_0-rmse:1.68336\tvalidation_1-rmse:4.59555\n",
      "[50]\tvalidation_0-rmse:1.27202\tvalidation_1-rmse:4.82867\n",
      "[60]\tvalidation_0-rmse:1.00495\tvalidation_1-rmse:4.82548\n",
      "[70]\tvalidation_0-rmse:0.830243\tvalidation_1-rmse:4.88545\n",
      "Stopping. Best iteration:\n",
      "[21]\tvalidation_0-rmse:4.14396\tvalidation_1-rmse:3.40125\n",
      "\n",
      "[0]\tvalidation_0-rmse:23.1719\tvalidation_1-rmse:14.52\n",
      "Multiple eval metrics have been passed: 'validation_1-rmse' will be used for early stopping.\n",
      "\n",
      "Will train until validation_1-rmse hasn't improved in 50 rounds.\n",
      "[10]\tvalidation_0-rmse:9.49537\tvalidation_1-rmse:4.9334\n",
      "[20]\tvalidation_0-rmse:4.60121\tvalidation_1-rmse:3.42628\n",
      "[30]\tvalidation_0-rmse:2.9609\tvalidation_1-rmse:3.88435\n",
      "[40]\tvalidation_0-rmse:2.25678\tvalidation_1-rmse:4.62512\n",
      "[50]\tvalidation_0-rmse:1.91498\tvalidation_1-rmse:5.13788\n",
      "[60]\tvalidation_0-rmse:1.68605\tvalidation_1-rmse:5.13746\n",
      "[70]\tvalidation_0-rmse:1.5325\tvalidation_1-rmse:5.17637\n",
      "Stopping. Best iteration:\n",
      "[21]\tvalidation_0-rmse:4.33243\tvalidation_1-rmse:3.40319\n",
      "\n",
      "Parameters are finished for min_child_weight. Best Iteration is 21\n",
      "Minimum Rmse : 3.34964, optimum parameter is 5 between [1, 3, 7]\n",
      "[0]\tvalidation_0-rmse:23.1689\tvalidation_1-rmse:14.4585\n",
      "Multiple eval metrics have been passed: 'validation_1-rmse' will be used for early stopping.\n",
      "\n",
      "Will train until validation_1-rmse hasn't improved in 50 rounds.\n",
      "[10]\tvalidation_0-rmse:9.88914\tvalidation_1-rmse:4.99878\n",
      "[20]\tvalidation_0-rmse:4.97883\tvalidation_1-rmse:3.76321\n",
      "[30]\tvalidation_0-rmse:3.10184\tvalidation_1-rmse:4.20663\n",
      "[40]\tvalidation_0-rmse:2.31316\tvalidation_1-rmse:4.44139\n",
      "[50]\tvalidation_0-rmse:1.90928\tvalidation_1-rmse:4.58226\n",
      "[60]\tvalidation_0-rmse:1.61882\tvalidation_1-rmse:4.51654\n",
      "[70]\tvalidation_0-rmse:1.42519\tvalidation_1-rmse:4.58678\n",
      "Stopping. Best iteration:\n",
      "[21]\tvalidation_0-rmse:4.68548\tvalidation_1-rmse:3.72324\n",
      "\n",
      "[0]\tvalidation_0-rmse:23.1689\tvalidation_1-rmse:14.4585\n",
      "Multiple eval metrics have been passed: 'validation_1-rmse' will be used for early stopping.\n",
      "\n",
      "Will train until validation_1-rmse hasn't improved in 50 rounds.\n",
      "[10]\tvalidation_0-rmse:9.26309\tvalidation_1-rmse:5.2064\n",
      "[20]\tvalidation_0-rmse:4.3763\tvalidation_1-rmse:3.4378\n",
      "[30]\tvalidation_0-rmse:2.61578\tvalidation_1-rmse:3.85868\n",
      "[40]\tvalidation_0-rmse:1.91017\tvalidation_1-rmse:4.57216\n",
      "[50]\tvalidation_0-rmse:1.58671\tvalidation_1-rmse:5.02669\n",
      "[60]\tvalidation_0-rmse:1.34684\tvalidation_1-rmse:4.95244\n",
      "[70]\tvalidation_0-rmse:1.18685\tvalidation_1-rmse:5.03754\n",
      "Stopping. Best iteration:\n",
      "[21]\tvalidation_0-rmse:4.07516\tvalidation_1-rmse:3.31956\n",
      "\n",
      "[0]\tvalidation_0-rmse:23.1689\tvalidation_1-rmse:14.4585\n",
      "Multiple eval metrics have been passed: 'validation_1-rmse' will be used for early stopping.\n",
      "\n",
      "Will train until validation_1-rmse hasn't improved in 50 rounds.\n",
      "[10]\tvalidation_0-rmse:9.22915\tvalidation_1-rmse:4.65883\n",
      "[20]\tvalidation_0-rmse:4.26305\tvalidation_1-rmse:3.47611\n",
      "[30]\tvalidation_0-rmse:2.56199\tvalidation_1-rmse:4.27327\n",
      "[40]\tvalidation_0-rmse:1.82264\tvalidation_1-rmse:5.29472\n",
      "[50]\tvalidation_0-rmse:1.52288\tvalidation_1-rmse:5.6959\n",
      "[60]\tvalidation_0-rmse:1.28711\tvalidation_1-rmse:5.74956\n",
      "Stopping. Best iteration:\n",
      "[16]\tvalidation_0-rmse:5.71638\tvalidation_1-rmse:3.38698\n",
      "\n",
      "[0]\tvalidation_0-rmse:23.1308\tvalidation_1-rmse:14.4589\n",
      "Multiple eval metrics have been passed: 'validation_1-rmse' will be used for early stopping.\n",
      "\n",
      "Will train until validation_1-rmse hasn't improved in 50 rounds.\n",
      "[10]\tvalidation_0-rmse:9.12842\tvalidation_1-rmse:5.5446\n",
      "[20]\tvalidation_0-rmse:4.2457\tvalidation_1-rmse:3.551\n",
      "[30]\tvalidation_0-rmse:2.55036\tvalidation_1-rmse:3.53024\n",
      "[40]\tvalidation_0-rmse:1.81198\tvalidation_1-rmse:3.80701\n",
      "[50]\tvalidation_0-rmse:1.50879\tvalidation_1-rmse:4.02066\n",
      "[60]\tvalidation_0-rmse:1.3\tvalidation_1-rmse:4.23002\n",
      "[70]\tvalidation_0-rmse:1.12413\tvalidation_1-rmse:4.28942\n",
      "Stopping. Best iteration:\n",
      "[22]\tvalidation_0-rmse:3.72739\tvalidation_1-rmse:3.27842\n",
      "\n",
      "[0]\tvalidation_0-rmse:23.1308\tvalidation_1-rmse:14.4589\n",
      "Multiple eval metrics have been passed: 'validation_1-rmse' will be used for early stopping.\n",
      "\n",
      "Will train until validation_1-rmse hasn't improved in 50 rounds.\n",
      "[10]\tvalidation_0-rmse:9.09155\tvalidation_1-rmse:5.91676\n",
      "[20]\tvalidation_0-rmse:4.24267\tvalidation_1-rmse:3.63427\n",
      "[30]\tvalidation_0-rmse:2.47653\tvalidation_1-rmse:3.61376\n",
      "[40]\tvalidation_0-rmse:1.76928\tvalidation_1-rmse:3.65163\n",
      "[50]\tvalidation_0-rmse:1.47105\tvalidation_1-rmse:3.66754\n",
      "[60]\tvalidation_0-rmse:1.20131\tvalidation_1-rmse:3.80876\n",
      "[70]\tvalidation_0-rmse:1.0233\tvalidation_1-rmse:3.90336\n",
      "Stopping. Best iteration:\n",
      "[27]\tvalidation_0-rmse:2.81837\tvalidation_1-rmse:3.51064\n",
      "\n",
      "Parameters are finished for colsample_bytree. Best Iteration is 22\n",
      "Minimum Rmse : 3.278419, optimum parameter is 0.8 between [0.3, 0.5, 0.6, 0.8, 1]\n",
      "[0]\tvalidation_0-rmse:24.33\tvalidation_1-rmse:15.2946\n",
      "Multiple eval metrics have been passed: 'validation_1-rmse' will be used for early stopping.\n",
      "\n",
      "Will train until validation_1-rmse hasn't improved in 50 rounds.\n",
      "[10]\tvalidation_0-rmse:15.2149\tvalidation_1-rmse:9.14854\n",
      "[20]\tvalidation_0-rmse:9.70099\tvalidation_1-rmse:5.91917\n",
      "[30]\tvalidation_0-rmse:6.43744\tvalidation_1-rmse:4.08874\n",
      "[40]\tvalidation_0-rmse:4.42566\tvalidation_1-rmse:3.45971\n",
      "[50]\tvalidation_0-rmse:3.2608\tvalidation_1-rmse:3.42196\n",
      "[60]\tvalidation_0-rmse:2.53242\tvalidation_1-rmse:3.50051\n",
      "[70]\tvalidation_0-rmse:2.0896\tvalidation_1-rmse:3.69317\n",
      "[80]\tvalidation_0-rmse:1.78395\tvalidation_1-rmse:3.86358\n",
      "[90]\tvalidation_0-rmse:1.59182\tvalidation_1-rmse:4.00066\n",
      "Stopping. Best iteration:\n",
      "[45]\tvalidation_0-rmse:3.77016\tvalidation_1-rmse:3.39443\n",
      "\n",
      "Parameters are finished for learning_rate. Best Iteration is 22\n",
      "Minimum Rmse : 3.278419, optimum parameter is 0.1 between [0.05]\n"
     ]
    }
   ],
   "source": [
    "defaultParams = {\"max_depth\":10, \"subsample\":1., \"min_child_weight\":5, \"colsample_bytree\":0.4, \"missing\":np.nan\n",
    "                ,\"n_estimators\":300, \"learning_rate\":0.1}\n",
    "testParams = [(\"max_depth\",[12,8,6,14]), (\"subsample\",[0.9,0.8,0.6]), (\"min_child_weight\",[1,3,7]),\n",
    "                  (\"colsample_bytree\",[0.3,0.5,0.6, 0.8,1]), (\"learning_rate\",[0.05])]\n",
    "fitParams = {\"verbose\":10, \"early_stopping_rounds\": 50}\n",
    "\n",
    "GiveBestParameterWithoutCV(defaultParams,testParams, X_train, X_test, y_train, y_test, fitParams )"
   ]
  },
  {
   "cell_type": "code",
   "execution_count": null,
   "metadata": {
    "collapsed": true
   },
   "outputs": [],
   "source": [
    "\n",
    "\n",
    "#Start from 10 and play up down..\n",
    "max_depth = [12,8,6,14]\n",
    "subsample = [0.8,0.6]\n",
    "min_child_weight = [3,7]\n",
    "colsample_bytree = [0.3,0.5,0.8,1]\n",
    "#lambdaa = [0.01, 0.1, 1]\n",
    "#alpha = [0.01, 0.1]\n",
    "#Use this eta to find the optimum iteration\n",
    "eta = [0.05]\n",
    "\n",
    "xgb_model.fit(X_train,y_train,eval_set=[(X_train, y_train),(X_test, y_test)],\n",
    "         verbose=1, early_stopping_rounds = 30)"
   ]
  },
  {
   "cell_type": "code",
   "execution_count": null,
   "metadata": {
    "collapsed": true
   },
   "outputs": [],
   "source": [
    "3.764692"
   ]
  },
  {
   "cell_type": "code",
   "execution_count": 1,
   "metadata": {
    "collapsed": false
   },
   "outputs": [
    {
     "ename": "NameError",
     "evalue": "name 'xgb_model' is not defined",
     "output_type": "error",
     "traceback": [
      "\u001b[0;31m\u001b[0m",
      "\u001b[0;31mNameError\u001b[0mTraceback (most recent call last)",
      "\u001b[0;32m<ipython-input-1-77f616839564>\u001b[0m in \u001b[0;36m<module>\u001b[0;34m()\u001b[0m\n\u001b[0;32m----> 1\u001b[0;31m \u001b[0mxgb_model\u001b[0m\u001b[0;34m\u001b[0m\u001b[0m\n\u001b[0m",
      "\u001b[0;31mNameError\u001b[0m: name 'xgb_model' is not defined"
     ]
    }
   ],
   "source": [
    "xgb_model"
   ]
  },
  {
   "cell_type": "code",
   "execution_count": 60,
   "metadata": {
    "collapsed": false
   },
   "outputs": [
    {
     "data": {
      "text/plain": [
       "XGBRegressor(base_score=0.5, colsample_bylevel=1, colsample_bytree=0.4,\n",
       "       gamma=0, learning_rate=0.1, max_delta_step=0, max_depth=10,\n",
       "       min_child_weight=4, missing=None, n_estimators=300, nthread=-1,\n",
       "       objective='reg:linear', reg_alpha=0, reg_lambda=1,\n",
       "       scale_pos_weight=1, seed=0, silent=True, subsample=1.0)"
      ]
     },
     "execution_count": 60,
     "metadata": {},
     "output_type": "execute_result"
    }
   ],
   "source": [
    "xgb_model.set_params(**{\"min_child_weight\":4})"
   ]
  },
  {
   "cell_type": "code",
   "execution_count": 74,
   "metadata": {
    "collapsed": false
   },
   "outputs": [
    {
     "data": {
      "text/plain": [
       "4"
      ]
     },
     "execution_count": 74,
     "metadata": {},
     "output_type": "execute_result"
    }
   ],
   "source": [
    "xgb_model.get_xgb_params()[\"min_child_weight\"]"
   ]
  },
  {
   "cell_type": "code",
   "execution_count": 81,
   "metadata": {
    "collapsed": false
   },
   "outputs": [],
   "source": [
    "a = OrderedDict({\"max_depth\":10, \"subsample\":1., \"min_child_weight\":5, \"colsample_bytree\":0.4, \"missing\":np.nan\n",
    "                ,\"n_estimators\":300, \"learning_rate\":0.1})"
   ]
  },
  {
   "cell_type": "code",
   "execution_count": 82,
   "metadata": {
    "collapsed": false
   },
   "outputs": [
    {
     "name": "stdout",
     "output_type": "stream",
     "text": [
      "OrderedDict([('colsample_bytree', 0.4), ('missing', nan), ('learning_rate', 0.1), ('min_child_weight', 5), ('n_estimators', 300), ('subsample', 1.0), ('max_depth', 10)])\n",
      "OrderedDict([('colsample_bytree', 0.4), ('missing', nan), ('learning_rate', 0.1), ('min_child_weight', 5), ('n_estimators', 300), ('subsample', 1.0), ('max_depth', 10)])\n",
      "OrderedDict([('colsample_bytree', 0.4), ('missing', nan), ('learning_rate', 0.1), ('min_child_weight', 5), ('n_estimators', 300), ('subsample', 1.0), ('max_depth', 10)])\n",
      "OrderedDict([('colsample_bytree', 0.4), ('missing', nan), ('learning_rate', 0.1), ('min_child_weight', 5), ('n_estimators', 300), ('subsample', 1.0), ('max_depth', 10)])\n",
      "OrderedDict([('colsample_bytree', 0.4), ('missing', nan), ('learning_rate', 0.1), ('min_child_weight', 5), ('n_estimators', 300), ('subsample', 1.0), ('max_depth', 10)])\n",
      "OrderedDict([('colsample_bytree', 0.4), ('missing', nan), ('learning_rate', 0.1), ('min_child_weight', 5), ('n_estimators', 300), ('subsample', 1.0), ('max_depth', 10)])\n",
      "OrderedDict([('colsample_bytree', 0.4), ('missing', nan), ('learning_rate', 0.1), ('min_child_weight', 5), ('n_estimators', 300), ('subsample', 1.0), ('max_depth', 10)])\n"
     ]
    }
   ],
   "source": [
    "for i in a:\n",
    "    print a"
   ]
  },
  {
   "cell_type": "code",
   "execution_count": 102,
   "metadata": {
    "collapsed": false
   },
   "outputs": [],
   "source": [
    "qwe = [(\"max_depth\",[12,8]), (\"subsample\",[0.8,0.6]), (\"min_child_weight\",[3,7]),\n",
    "                  (\"colsample_bytree\",[0.3,0.5,0.8,1]), (\"learning_rate\",[0.05])]"
   ]
  },
  {
   "cell_type": "code",
   "execution_count": 101,
   "metadata": {
    "collapsed": false
   },
   "outputs": [
    {
     "name": "stdout",
     "output_type": "stream",
     "text": [
      "('max_depth', [12, 8])\n",
      "('subsample', [0.8, 0.6])\n",
      "('min_child_weight', [3, 7])\n",
      "('colsample_bytree', [0.3, 0.5, 0.8, 1])\n",
      "('learning_rate', [0.05])\n"
     ]
    }
   ],
   "source": [
    "for i in qwe:\n",
    "    print i"
   ]
  },
  {
   "cell_type": "code",
   "execution_count": null,
   "metadata": {
    "collapsed": true
   },
   "outputs": [],
   "source": []
  }
 ],
 "metadata": {
  "anaconda-cloud": {},
  "kernelspec": {
   "display_name": "Python [Root]",
   "language": "python",
   "name": "Python [Root]"
  },
  "language_info": {
   "codemirror_mode": {
    "name": "ipython",
    "version": 2
   },
   "file_extension": ".py",
   "mimetype": "text/x-python",
   "name": "python",
   "nbconvert_exporter": "python",
   "pygments_lexer": "ipython2",
   "version": "2.7.12"
  }
 },
 "nbformat": 4,
 "nbformat_minor": 0
}
