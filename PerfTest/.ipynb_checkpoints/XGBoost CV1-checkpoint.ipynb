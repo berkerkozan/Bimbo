{
 "cells": [
  {
   "cell_type": "code",
   "execution_count": 4,
   "metadata": {
    "collapsed": false
   },
   "outputs": [],
   "source": [
    "import pickle\n",
    "import xgboost as xgb\n",
    "\n",
    "import numpy as np\n",
    "from sklearn.cross_validation import KFold, train_test_split\n",
    "from sklearn.metrics import confusion_matrix, mean_squared_error\n",
    "from sklearn.grid_search import GridSearchCV\n",
    "from sklearn.datasets import load_iris, load_digits, load_boston\n",
    "%matplotlib inline\n",
    "import seaborn as sns\n",
    "from sklearn.metrics import r2_score, mean_squared_error, make_scorer\n",
    "from collections import OrderedDict\n",
    "import gc"
   ]
  },
  {
   "cell_type": "code",
   "execution_count": 5,
   "metadata": {
    "collapsed": false
   },
   "outputs": [],
   "source": [
    "rng = np.random.RandomState(31337)\n",
    "boston = load_boston()\n",
    "y = boston['target']\n",
    "X = boston['data']"
   ]
  },
  {
   "cell_type": "code",
   "execution_count": 9,
   "metadata": {
    "collapsed": false
   },
   "outputs": [
    {
     "name": "stdout",
     "output_type": "stream",
     "text": [
      "(506, 13)\n",
      "(506,)\n"
     ]
    },
    {
     "data": {
      "text/plain": [
       "[-1, -1, -1, -1]"
      ]
     },
     "execution_count": 9,
     "metadata": {},
     "output_type": "execute_result"
    }
   ],
   "source": [
    "X = boston['data']\n",
    "y = boston['target']\n",
    "print X.shape\n",
    "print y.shape\n",
    "X_train = X[:400]\n",
    "X_test = X[400:]\n",
    "y_train = y[:400]\n",
    "y_test = y[400:]\n",
    "\n",
    "tempX = 400 * [-1] + y_test.shape[0] * [0]\n",
    "tempX[:4]"
   ]
  },
  {
   "cell_type": "code",
   "execution_count": 10,
   "metadata": {
    "collapsed": true
   },
   "outputs": [],
   "source": [
    "def RMSE(y_true,y_pred):\n",
    "    mse = np.sqrt(mean_squared_error(y_true, y_pred))\n",
    "    print 'MSE: %2.3f' % mse\n",
    "    return mse"
   ]
  },
  {
   "cell_type": "markdown",
   "metadata": {},
   "source": [
    "# Don't have early stop option!!!!!!!!So didn't use so far..\n",
    "## Semi-Automatic Hyperparameter Tuning, it can't predict. Only gives optimum parameter..\n",
    "## Predict doesn't work, because when refit = False, it doesn't assign best estimator!!!\n",
    "## Doesn't do 2 fold, this is what i want for Bimbo.."
   ]
  },
  {
   "cell_type": "code",
   "execution_count": 19,
   "metadata": {
    "collapsed": false
   },
   "outputs": [
    {
     "name": "stdout",
     "output_type": "stream",
     "text": [
      "Boston Housing: regression\n",
      "Fitting 1 folds for each of 1 candidates, totalling 1 fits\n",
      "MSE: 5.543\n"
     ]
    },
    {
     "name": "stderr",
     "output_type": "stream",
     "text": [
      "[Parallel(n_jobs=-1)]: Done   1 jobs       | elapsed:    0.1s\n",
      "[Parallel(n_jobs=-1)]: Done   1 out of   1 | elapsed:    0.1s finished\n"
     ]
    },
    {
     "data": {
      "text/plain": [
       "GridSearchCV(cv=sklearn.cross_validation.PredefinedSplit(test_fold=[-1 -1 ...,  0  0]),\n",
       "       error_score='raise',\n",
       "       estimator=XGBRegressor(base_score=0.5, colsample_bylevel=1, colsample_bytree=0.4,\n",
       "       gamma=0, learning_rate=0.1, max_delta_step=0, max_depth=10,\n",
       "       min_child_weight=5, missing=None, n_estimators=100, nthread=-1,\n",
       "       objective='reg:linear', reg_alpha=0, reg_lambda=1,\n",
       "       scale_pos_weight=1, seed=0, silent=True, subsample=1.0),\n",
       "       fit_params={}, iid=True, loss_func=None, n_jobs=-1,\n",
       "       param_grid={'n_estimators': [200]}, pre_dispatch='2*n_jobs',\n",
       "       refit=False, score_func=None,\n",
       "       scoring=make_scorer(RMSE, greater_is_better=False), verbose=1)"
      ]
     },
     "execution_count": 19,
     "metadata": {},
     "output_type": "execute_result"
    }
   ],
   "source": [
    "print(\"Boston Housing: regression\")\n",
    "boston = load_boston()\n",
    "y = boston['target']\n",
    "X = boston['data']\n",
    "#X_train, X_test, y_train, y_test = train_test_split(X, y, test_size=0.2, random_state=1729)\n",
    "\n",
    "\n",
    "'''base_score=0.5, colsample_bylevel=1, colsample_bytree=1, gamma=0,\n",
    "       learning_rate=0.1, max_delta_step=0, max_depth=3,\n",
    "       min_child_weight=1, missing=None, n_estimators=100, nthread=-1,\n",
    "       objective='reg:linear', reg_alpha=0, reg_lambda=1,\n",
    "       scale_pos_weight=1, seed=0, silent=True, subsample=1\n",
    "        \n",
    "        \n",
    "learning_rate=0.1\n",
    "max_depth=3\n",
    "missing=np.nan, learning_rate=0.02, subsample=0.9, colsample_bytree=0.85\n",
    "'''\n",
    "\n",
    "#in order depth= 10, subsample=1.0, min_child_weight = 5, col_sample_bytree = 0.2, eta = 0.1, \n",
    "#col_sample_bytree = 0.4 - 1\n",
    "#gamma = 0.05,0.1 0.3, 0.5, 0.7, 1\n",
    "#lambda = 0.01, 0.1, 1\n",
    "#alpha = 0.01, 0.1, 1\n",
    "#n_estimators is last..\n",
    "\n",
    "#Start from 10 and play up down..\n",
    "depth = [12,8]\n",
    "subsample = [0.8,0.6]\n",
    "min_child_weight = [3,7]\n",
    "col_sample_bytree = [0.3,0.5,0.8,1]\n",
    "#lambdaa = [0.01, 0.1, 1]\n",
    "#alpha = [0.01, 0.1]\n",
    "#Use this eta to find the optimum iteration\n",
    "eta = [0.05]\n",
    "\n",
    "defaultParams = {\"max_depth\":10, \"subsample\":1., \"min_child_weight\":5, \"colsample_bytree\":0.4, \"missing\":np.nan}\n",
    "\n",
    "import numpy as np\n",
    "from sklearn.cross_validation import PredefinedSplit\n",
    "#ps = PredefinedSplit(test_fold=[-1, -1, -1, 0,0])\n",
    "ps = PredefinedSplit(test_fold=tempX)\n",
    "\n",
    "#ps = PredefinedSplit(test_fold=[0, 1, 2, 1])\n",
    "#len(ps)\n",
    "\n",
    "\n",
    "\n",
    "#xgb_model.fit(X_train,y_train,eval_set=[(X_train, y_train),(X_test, y_test)],\n",
    " #        verbose=10, early_stopping_rounds = 50)\n",
    "\n",
    "cv_params = {'n_estimators': [200]}\n",
    "\n",
    "\n",
    "optimized_Xgb = GridSearchCV(xgb.XGBRegressor(**defaultParams), \n",
    "    cv_params, cv = ps, n_jobs = -1,verbose=1,refit=False, scoring = make_scorer(RMSE, greater_is_better=False)) \n",
    "\n",
    "optimized_Xgb.fit(X,y)\n",
    "\n",
    "#optimized_GBM.best_estimator_ = optimized_GBM.estimator\n",
    "\n",
    "#print(optimized_GBM.best_score_)\n",
    "#print(optimized_GBM.best_params_)\n",
    "\n",
    "\n",
    "#predictions = optimized_GBM.predict(X_train)\n",
    "#predictionsTest = optimized_GBM.predict(X_test)\n",
    "#print( np.sqrt(mean_squared_error(y_train, predictions)))\n",
    "#print( np.sqrt(mean_squared_error(y_test, predictionsTest)))"
   ]
  },
  {
   "cell_type": "markdown",
   "metadata": {},
   "source": [
    "## Pickle, Save Model.."
   ]
  },
  {
   "cell_type": "code",
   "execution_count": 12,
   "metadata": {
    "collapsed": false
   },
   "outputs": [
    {
     "name": "stdout",
     "output_type": "stream",
     "text": [
      "Pickling sklearn API models\n"
     ]
    },
    {
     "ename": "XGBoostError",
     "evalue": "need to call fit beforehand",
     "output_type": "error",
     "traceback": [
      "\u001b[0;31m---------------------------------------------------------------------------\u001b[0m",
      "\u001b[0;31mXGBoostError\u001b[0m                              Traceback (most recent call last)",
      "\u001b[0;32m<ipython-input-12-e82f90905f3f>\u001b[0m in \u001b[0;36m<module>\u001b[0;34m()\u001b[0m\n\u001b[1;32m      3\u001b[0m \u001b[0mpickle\u001b[0m\u001b[0;34m.\u001b[0m\u001b[0mdump\u001b[0m\u001b[0;34m(\u001b[0m\u001b[0mxgb_model\u001b[0m\u001b[0;34m,\u001b[0m \u001b[0mopen\u001b[0m\u001b[0;34m(\u001b[0m\u001b[0;34m\"best_boston.pkl\"\u001b[0m\u001b[0;34m,\u001b[0m \u001b[0;34m\"wb\"\u001b[0m\u001b[0;34m)\u001b[0m\u001b[0;34m)\u001b[0m\u001b[0;34m\u001b[0m\u001b[0m\n\u001b[1;32m      4\u001b[0m \u001b[0mclf2\u001b[0m \u001b[0;34m=\u001b[0m \u001b[0mpickle\u001b[0m\u001b[0;34m.\u001b[0m\u001b[0mload\u001b[0m\u001b[0;34m(\u001b[0m\u001b[0mopen\u001b[0m\u001b[0;34m(\u001b[0m\u001b[0;34m\"best_boston.pkl\"\u001b[0m\u001b[0;34m,\u001b[0m \u001b[0;34m\"rb\"\u001b[0m\u001b[0;34m)\u001b[0m\u001b[0;34m)\u001b[0m\u001b[0;34m\u001b[0m\u001b[0m\n\u001b[0;32m----> 5\u001b[0;31m \u001b[0;32mprint\u001b[0m\u001b[0;34m(\u001b[0m\u001b[0mnp\u001b[0m\u001b[0;34m.\u001b[0m\u001b[0mallclose\u001b[0m\u001b[0;34m(\u001b[0m\u001b[0mxgb_model\u001b[0m\u001b[0;34m.\u001b[0m\u001b[0mpredict\u001b[0m\u001b[0;34m(\u001b[0m\u001b[0mX_train\u001b[0m\u001b[0;34m)\u001b[0m\u001b[0;34m,\u001b[0m \u001b[0mclf2\u001b[0m\u001b[0;34m.\u001b[0m\u001b[0mpredict\u001b[0m\u001b[0;34m(\u001b[0m\u001b[0mX_train\u001b[0m\u001b[0;34m)\u001b[0m\u001b[0;34m)\u001b[0m\u001b[0;34m)\u001b[0m\u001b[0;34m\u001b[0m\u001b[0m\n\u001b[0m",
      "\u001b[0;32m//anaconda/lib/python2.7/site-packages/xgboost/sklearn.pyc\u001b[0m in \u001b[0;36mpredict\u001b[0;34m(self, data, output_margin, ntree_limit)\u001b[0m\n\u001b[1;32m    202\u001b[0m         \u001b[0;31m# pylint: disable=missing-docstring,invalid-name\u001b[0m\u001b[0;34m\u001b[0m\u001b[0;34m\u001b[0m\u001b[0m\n\u001b[1;32m    203\u001b[0m         \u001b[0mtest_dmatrix\u001b[0m \u001b[0;34m=\u001b[0m \u001b[0mDMatrix\u001b[0m\u001b[0;34m(\u001b[0m\u001b[0mdata\u001b[0m\u001b[0;34m,\u001b[0m \u001b[0mmissing\u001b[0m\u001b[0;34m=\u001b[0m\u001b[0mself\u001b[0m\u001b[0;34m.\u001b[0m\u001b[0mmissing\u001b[0m\u001b[0;34m)\u001b[0m\u001b[0;34m\u001b[0m\u001b[0m\n\u001b[0;32m--> 204\u001b[0;31m         return self.booster().predict(test_dmatrix,\n\u001b[0m\u001b[1;32m    205\u001b[0m                                       \u001b[0moutput_margin\u001b[0m\u001b[0;34m=\u001b[0m\u001b[0moutput_margin\u001b[0m\u001b[0;34m,\u001b[0m\u001b[0;34m\u001b[0m\u001b[0m\n\u001b[1;32m    206\u001b[0m                                       ntree_limit=ntree_limit)\n",
      "\u001b[0;32m//anaconda/lib/python2.7/site-packages/xgboost/sklearn.pyc\u001b[0m in \u001b[0;36mbooster\u001b[0;34m(self)\u001b[0m\n\u001b[1;32m    107\u001b[0m         \"\"\"\n\u001b[1;32m    108\u001b[0m         \u001b[0;32mif\u001b[0m \u001b[0mself\u001b[0m\u001b[0;34m.\u001b[0m\u001b[0m_Booster\u001b[0m \u001b[0;32mis\u001b[0m \u001b[0mNone\u001b[0m\u001b[0;34m:\u001b[0m\u001b[0;34m\u001b[0m\u001b[0m\n\u001b[0;32m--> 109\u001b[0;31m             \u001b[0;32mraise\u001b[0m \u001b[0mXGBoostError\u001b[0m\u001b[0;34m(\u001b[0m\u001b[0;34m'need to call fit beforehand'\u001b[0m\u001b[0;34m)\u001b[0m\u001b[0;34m\u001b[0m\u001b[0m\n\u001b[0m\u001b[1;32m    110\u001b[0m         \u001b[0;32mreturn\u001b[0m \u001b[0mself\u001b[0m\u001b[0;34m.\u001b[0m\u001b[0m_Booster\u001b[0m\u001b[0;34m\u001b[0m\u001b[0m\n\u001b[1;32m    111\u001b[0m \u001b[0;34m\u001b[0m\u001b[0m\n",
      "\u001b[0;31mXGBoostError\u001b[0m: need to call fit beforehand"
     ]
    }
   ],
   "source": [
    "print(\"Pickling sklearn API models\")\n",
    "# must open in binary format to pickle\n",
    "pickle.dump(xgb_model, open(\"best_boston.pkl\", \"wb\"))\n",
    "clf2 = pickle.load(open(\"best_boston.pkl\", \"rb\"))\n",
    "print(np.allclose(xgb_model.predict(X_train), clf2.predict(X_train)))"
   ]
  },
  {
   "cell_type": "markdown",
   "metadata": {},
   "source": [
    "## Manuel Hyperparameter Tuning Davut "
   ]
  },
  {
   "cell_type": "code",
   "execution_count": 30,
   "metadata": {
    "collapsed": false,
    "scrolled": false
   },
   "outputs": [
    {
     "name": "stdout",
     "output_type": "stream",
     "text": [
      "Boston Housing: regression\n",
      "trainResult:  5.94774586383\n",
      "testResult:  3.76469176192\n",
      "Best Iteration:  15\n",
      "Best Score:  3.764692\n",
      "Axes(0.125,0.125;0.775x0.775)\n"
     ]
    },
    {
     "name": "stderr",
     "output_type": "stream",
     "text": [
      "Will train until validation_1 error hasn't decreased in 30 rounds.\n",
      "[0]\tvalidation_0-rmse:23.131414\tvalidation_1-rmse:14.183814\n",
      "[1]\tvalidation_0-rmse:20.966824\tvalidation_1-rmse:12.762135\n",
      "[2]\tvalidation_0-rmse:19.017046\tvalidation_1-rmse:11.396545\n",
      "[3]\tvalidation_0-rmse:17.309326\tvalidation_1-rmse:9.977957\n",
      "[4]\tvalidation_0-rmse:15.728290\tvalidation_1-rmse:8.827554\n",
      "[5]\tvalidation_0-rmse:14.333989\tvalidation_1-rmse:7.753925\n",
      "[6]\tvalidation_0-rmse:13.089965\tvalidation_1-rmse:6.812794\n",
      "[7]\tvalidation_0-rmse:11.976292\tvalidation_1-rmse:6.122922\n",
      "[8]\tvalidation_0-rmse:10.925667\tvalidation_1-rmse:5.568113\n",
      "[9]\tvalidation_0-rmse:9.959489\tvalidation_1-rmse:5.022428\n",
      "[10]\tvalidation_0-rmse:9.081215\tvalidation_1-rmse:4.615676\n",
      "[11]\tvalidation_0-rmse:8.308702\tvalidation_1-rmse:4.311479\n",
      "[12]\tvalidation_0-rmse:7.669021\tvalidation_1-rmse:4.077378\n",
      "[13]\tvalidation_0-rmse:7.041759\tvalidation_1-rmse:3.952145\n",
      "[14]\tvalidation_0-rmse:6.481558\tvalidation_1-rmse:3.870467\n",
      "[15]\tvalidation_0-rmse:5.947747\tvalidation_1-rmse:3.764692\n",
      "[16]\tvalidation_0-rmse:5.485374\tvalidation_1-rmse:3.765239\n",
      "[17]\tvalidation_0-rmse:5.069448\tvalidation_1-rmse:3.786620\n",
      "[18]\tvalidation_0-rmse:4.684884\tvalidation_1-rmse:3.775263\n",
      "[19]\tvalidation_0-rmse:4.352309\tvalidation_1-rmse:3.842848\n",
      "[20]\tvalidation_0-rmse:4.048081\tvalidation_1-rmse:3.867080\n",
      "[21]\tvalidation_0-rmse:3.766754\tvalidation_1-rmse:3.905899\n",
      "[22]\tvalidation_0-rmse:3.527300\tvalidation_1-rmse:3.948177\n",
      "[23]\tvalidation_0-rmse:3.291131\tvalidation_1-rmse:4.000016\n",
      "[24]\tvalidation_0-rmse:3.106033\tvalidation_1-rmse:4.136913\n",
      "[25]\tvalidation_0-rmse:2.919743\tvalidation_1-rmse:4.162389\n",
      "[26]\tvalidation_0-rmse:2.751752\tvalidation_1-rmse:4.335176\n",
      "[27]\tvalidation_0-rmse:2.604001\tvalidation_1-rmse:4.376230\n",
      "[28]\tvalidation_0-rmse:2.470059\tvalidation_1-rmse:4.417185\n",
      "[29]\tvalidation_0-rmse:2.332149\tvalidation_1-rmse:4.533206\n",
      "[30]\tvalidation_0-rmse:2.224444\tvalidation_1-rmse:4.595870\n",
      "[31]\tvalidation_0-rmse:2.118444\tvalidation_1-rmse:4.630688\n",
      "[32]\tvalidation_0-rmse:2.017338\tvalidation_1-rmse:4.682919\n",
      "[33]\tvalidation_0-rmse:1.923140\tvalidation_1-rmse:4.751122\n",
      "[34]\tvalidation_0-rmse:1.843365\tvalidation_1-rmse:4.779572\n",
      "[35]\tvalidation_0-rmse:1.775072\tvalidation_1-rmse:4.794268\n",
      "[36]\tvalidation_0-rmse:1.695288\tvalidation_1-rmse:4.887416\n",
      "[37]\tvalidation_0-rmse:1.628747\tvalidation_1-rmse:4.894354\n",
      "[38]\tvalidation_0-rmse:1.562230\tvalidation_1-rmse:4.923308\n",
      "[39]\tvalidation_0-rmse:1.518523\tvalidation_1-rmse:4.986403\n",
      "[40]\tvalidation_0-rmse:1.473880\tvalidation_1-rmse:5.004642\n",
      "[41]\tvalidation_0-rmse:1.414068\tvalidation_1-rmse:5.006896\n",
      "[42]\tvalidation_0-rmse:1.360603\tvalidation_1-rmse:5.037427\n",
      "[43]\tvalidation_0-rmse:1.308469\tvalidation_1-rmse:5.143317\n",
      "[44]\tvalidation_0-rmse:1.266907\tvalidation_1-rmse:5.154201\n",
      "[45]\tvalidation_0-rmse:1.241929\tvalidation_1-rmse:5.173134\n",
      "Stopping. Best iteration:\n",
      "[15]\tvalidation_0-rmse:5.947747\tvalidation_1-rmse:3.764692\n",
      "\n"
     ]
    },
    {
     "data": {
      "image/png": "[encoded data removed]",
      "text/plain": [
       "<matplotlib.figure.Figure at 0x112c482d0>"
      ]
     },
     "metadata": {},
     "output_type": "display_data"
    }
   ],
   "source": [
    "print(\"Boston Housing: regression\")\n",
    "#y = boston['target']\n",
    "#X = boston['data']\n",
    "#X_train, X_test, y_train, y_test = train_test_split(X, y, test_size=0.2, random_state=1729)\n",
    "\n",
    "\n",
    "'''base_score=0.5, colsample_bylevel=1, colsample_bytree=1, gamma=0,\n",
    "       learning_rate=0.1, max_delta_step=0, max_depth=3,\n",
    "       min_child_weight=1, missing=None, n_estimators=100, nthread=-1,\n",
    "       objective='reg:linear', reg_alpha=0, reg_lambda=1,\n",
    "       scale_pos_weight=1, seed=0, silent=True, subsample=1\n",
    "        \n",
    "        \n",
    "learning_rate=0.1\n",
    "max_depth=3\n",
    "missing=np.nan, learning_rate=0.02, subsample=0.9, colsample_bytree=0.85\n",
    "'''\n",
    "\n",
    "#in order depth= 10, subsample=1.0, min_child_weight = 5, col_sample_bytree = 0.2, eta = 0.1, \n",
    "\n",
    "#col_sample_bytree = 0.4 - 1\n",
    "#gamma = 0.05,0.1 0.3, 0.5, 0.7, 1\n",
    "#lambda = 0.01, 0.1, 1\n",
    "#alpha = 0.01, 0.1, 1\n",
    "#n_estimators is last..\n",
    "\n",
    "\n",
    "defaultParams = {\"max_depth\":10, \"subsample\":1., \"min_child_weight\":5, \"colsample_bytree\":0.4, \"missing\":np.nan\n",
    "                ,\"n_estimators\":300}\n",
    "xgb_model = xgb.XGBRegressor(**defaultParams) \n",
    "\n",
    "\n",
    "xgb_model.fit(X_train,y_train,eval_set=[(X_train, y_train),(X_test, y_test)],\n",
    "         verbose=1, early_stopping_rounds = 30)\n",
    "\n",
    "\n",
    "predictions = xgb_model.predict(X_train,ntree_limit  = xgb_model.best_iteration+1)\n",
    "predictionsTest = xgb_model.predict(X_test,ntree_limit  = xgb_model.best_iteration+1)\n",
    "\n",
    "print \"trainResult: \", np.sqrt(mean_squared_error(y_train, predictions))\n",
    "print \"testResult: \", np.sqrt(mean_squared_error(y_test, predictionsTest))\n",
    "print \"Best Iteration: \", xgb_model.best_iteration\n",
    "print \"Best Score: \", xgb_model.best_score\n",
    "print xgb.plot_importance(xgb_model)"
   ]
  },
  {
   "cell_type": "markdown",
   "metadata": {},
   "source": [
    "## Automatic XGBoost"
   ]
  },
  {
   "cell_type": "code",
   "execution_count": 5,
   "metadata": {
    "collapsed": false
   },
   "outputs": [],
   "source": [
    "def GiveBestParameterWithoutCV(defaultParams, testParams, X_train, X_test, Y_train, Y_test, fitParams):\n",
    "    xgb_model = xgb.XGBRegressor(**defaultParams) \n",
    "    \n",
    "    minRmse = 10000\n",
    "    minRmseParameter = 10000\n",
    "    bestIteration = 1000\n",
    "        \n",
    "    for key,values in testParams:\n",
    "        minRmseParameter = xgb_model.get_xgb_params()[key]\n",
    "        \n",
    "        for value in values:\n",
    "            \n",
    "            xgb_model.set_params(**{key:value})\n",
    "            xgb_model.fit(X_train,Y_train, eval_set=[(X_train, Y_train),(X_test, Y_test)],\n",
    "                  **fitParams)\n",
    "            if xgb_model.best_score < minRmse:\n",
    "                minRmse = xgb_model.best_score\n",
    "                minRmseParameter = value\n",
    "                bestIteration = xgb_model.best_iteration\n",
    "                \n",
    "        xgb_model.set_params(**{key:minRmseParameter})\n",
    "        print \"Parameters are finished for {}. Best Iteration is {}\".format(key, bestIteration)\n",
    "        print \"Minimum Rmse : {}, optimum parameter is {} between {}\".format(minRmse, minRmseParameter, values)\n",
    "    gc.collect()"
   ]
  },
  {
   "cell_type": "code",
   "execution_count": 6,
   "metadata": {
    "collapsed": false
   },
   "outputs": [
    {
     "ename": "NameError",
     "evalue": "name 'X_train' is not defined",
     "output_type": "error",
     "traceback": [
      "\u001b[0;31m\u001b[0m",
      "\u001b[0;31mNameError\u001b[0mTraceback (most recent call last)",
      "\u001b[0;32m<ipython-input-6-5eafe16c60ef>\u001b[0m in \u001b[0;36m<module>\u001b[0;34m()\u001b[0m\n\u001b[1;32m      5\u001b[0m \u001b[0mfitParams\u001b[0m \u001b[0;34m=\u001b[0m \u001b[0;34m{\u001b[0m\u001b[0;34m\"verbose\"\u001b[0m\u001b[0;34m:\u001b[0m\u001b[0;36m10\u001b[0m\u001b[0;34m,\u001b[0m \u001b[0;34m\"early_stopping_rounds\"\u001b[0m\u001b[0;34m:\u001b[0m \u001b[0;36m50\u001b[0m\u001b[0;34m}\u001b[0m\u001b[0;34m\u001b[0m\u001b[0m\n\u001b[1;32m      6\u001b[0m \u001b[0;34m\u001b[0m\u001b[0m\n\u001b[0;32m----> 7\u001b[0;31m \u001b[0mGiveBestParameterWithoutCV\u001b[0m\u001b[0;34m(\u001b[0m\u001b[0mdefaultParams\u001b[0m\u001b[0;34m,\u001b[0m\u001b[0mtestParams\u001b[0m\u001b[0;34m,\u001b[0m \u001b[0mX_train\u001b[0m\u001b[0;34m,\u001b[0m \u001b[0mX_test\u001b[0m\u001b[0;34m,\u001b[0m \u001b[0my_train\u001b[0m\u001b[0;34m,\u001b[0m \u001b[0my_test\u001b[0m\u001b[0;34m,\u001b[0m \u001b[0mfitParams\u001b[0m \u001b[0;34m)\u001b[0m\u001b[0;34m\u001b[0m\u001b[0m\n\u001b[0m",
      "\u001b[0;31mNameError\u001b[0m: name 'X_train' is not defined"
     ]
    }
   ],
   "source": [
    "defaultParams = {\"max_depth\":10, \"subsample\":1., \"min_child_weight\":5, \"colsample_bytree\":0.4, \"missing\":np.nan\n",
    "                ,\"n_estimators\":300, \"learning_rate\":0.1}\n",
    "testParams = [(\"max_depth\",[12,8,6,14]), (\"subsample\",[0.9,0.8,0.6]), (\"min_child_weight\",[1,3,7]),\n",
    "                  (\"colsample_bytree\",[0.3,0.5,0.6, 0.8,1]), (\"learning_rate\",[0.05])]\n",
    "fitParams = {\"verbose\":10, \"early_stopping_rounds\": 50}\n",
    "\n",
    "GiveBestParameterWithoutCV(defaultParams,testParams, X_train, X_test, y_train, y_test, fitParams )"
   ]
  },
  {
   "cell_type": "code",
   "execution_count": null,
   "metadata": {
    "collapsed": true
   },
   "outputs": [],
   "source": [
    "\n",
    "\n",
    "#Start from 10 and play up down..\n",
    "max_depth = [12,8]\n",
    "subsample = [0.8,0.6]\n",
    "min_child_weight = [3,7]\n",
    "colsample_bytree = [0.3,0.5,0.8,1]\n",
    "#lambdaa = [0.01, 0.1, 1]\n",
    "#alpha = [0.01, 0.1]\n",
    "#Use this eta to find the optimum iteration\n",
    "eta = [0.05]\n",
    "\n",
    "xgb_model.fit(X_train,y_train,eval_set=[(X_train, y_train),(X_test, y_test)],\n",
    "         verbose=1, early_stopping_rounds = 30)"
   ]
  },
  {
   "cell_type": "code",
   "execution_count": null,
   "metadata": {
    "collapsed": true
   },
   "outputs": [],
   "source": [
    "3.764692"
   ]
  },
  {
   "cell_type": "code",
   "execution_count": 1,
   "metadata": {
    "collapsed": false
   },
   "outputs": [
    {
     "ename": "NameError",
     "evalue": "name 'xgb_model' is not defined",
     "output_type": "error",
     "traceback": [
      "\u001b[0;31m\u001b[0m",
      "\u001b[0;31mNameError\u001b[0mTraceback (most recent call last)",
      "\u001b[0;32m<ipython-input-1-77f616839564>\u001b[0m in \u001b[0;36m<module>\u001b[0;34m()\u001b[0m\n\u001b[0;32m----> 1\u001b[0;31m \u001b[0mxgb_model\u001b[0m\u001b[0;34m\u001b[0m\u001b[0m\n\u001b[0m",
      "\u001b[0;31mNameError\u001b[0m: name 'xgb_model' is not defined"
     ]
    }
   ],
   "source": [
    "xgb_model"
   ]
  },
  {
   "cell_type": "code",
   "execution_count": 60,
   "metadata": {
    "collapsed": false
   },
   "outputs": [
    {
     "data": {
      "text/plain": [
       "XGBRegressor(base_score=0.5, colsample_bylevel=1, colsample_bytree=0.4,\n",
       "       gamma=0, learning_rate=0.1, max_delta_step=0, max_depth=10,\n",
       "       min_child_weight=4, missing=None, n_estimators=300, nthread=-1,\n",
       "       objective='reg:linear', reg_alpha=0, reg_lambda=1,\n",
       "       scale_pos_weight=1, seed=0, silent=True, subsample=1.0)"
      ]
     },
     "execution_count": 60,
     "metadata": {},
     "output_type": "execute_result"
    }
   ],
   "source": [
    "xgb_model.set_params(**{\"min_child_weight\":4})"
   ]
  },
  {
   "cell_type": "code",
   "execution_count": 74,
   "metadata": {
    "collapsed": false
   },
   "outputs": [
    {
     "data": {
      "text/plain": [
       "4"
      ]
     },
     "execution_count": 74,
     "metadata": {},
     "output_type": "execute_result"
    }
   ],
   "source": [
    "xgb_model.get_xgb_params()[\"min_child_weight\"]"
   ]
  },
  {
   "cell_type": "code",
   "execution_count": 81,
   "metadata": {
    "collapsed": false
   },
   "outputs": [],
   "source": [
    "a = OrderedDict({\"max_depth\":10, \"subsample\":1., \"min_child_weight\":5, \"colsample_bytree\":0.4, \"missing\":np.nan\n",
    "                ,\"n_estimators\":300, \"learning_rate\":0.1})"
   ]
  },
  {
   "cell_type": "code",
   "execution_count": 82,
   "metadata": {
    "collapsed": false
   },
   "outputs": [
    {
     "name": "stdout",
     "output_type": "stream",
     "text": [
      "OrderedDict([('colsample_bytree', 0.4), ('missing', nan), ('learning_rate', 0.1), ('min_child_weight', 5), ('n_estimators', 300), ('subsample', 1.0), ('max_depth', 10)])\n",
      "OrderedDict([('colsample_bytree', 0.4), ('missing', nan), ('learning_rate', 0.1), ('min_child_weight', 5), ('n_estimators', 300), ('subsample', 1.0), ('max_depth', 10)])\n",
      "OrderedDict([('colsample_bytree', 0.4), ('missing', nan), ('learning_rate', 0.1), ('min_child_weight', 5), ('n_estimators', 300), ('subsample', 1.0), ('max_depth', 10)])\n",
      "OrderedDict([('colsample_bytree', 0.4), ('missing', nan), ('learning_rate', 0.1), ('min_child_weight', 5), ('n_estimators', 300), ('subsample', 1.0), ('max_depth', 10)])\n",
      "OrderedDict([('colsample_bytree', 0.4), ('missing', nan), ('learning_rate', 0.1), ('min_child_weight', 5), ('n_estimators', 300), ('subsample', 1.0), ('max_depth', 10)])\n",
      "OrderedDict([('colsample_bytree', 0.4), ('missing', nan), ('learning_rate', 0.1), ('min_child_weight', 5), ('n_estimators', 300), ('subsample', 1.0), ('max_depth', 10)])\n",
      "OrderedDict([('colsample_bytree', 0.4), ('missing', nan), ('learning_rate', 0.1), ('min_child_weight', 5), ('n_estimators', 300), ('subsample', 1.0), ('max_depth', 10)])\n"
     ]
    }
   ],
   "source": [
    "for i in a:\n",
    "    print a"
   ]
  },
  {
   "cell_type": "code",
   "execution_count": 102,
   "metadata": {
    "collapsed": false
   },
   "outputs": [],
   "source": [
    "qwe = [(\"max_depth\",[12,8]), (\"subsample\",[0.8,0.6]), (\"min_child_weight\",[3,7]),\n",
    "                  (\"colsample_bytree\",[0.3,0.5,0.8,1]), (\"learning_rate\",[0.05])]"
   ]
  },
  {
   "cell_type": "code",
   "execution_count": 101,
   "metadata": {
    "collapsed": false
   },
   "outputs": [
    {
     "name": "stdout",
     "output_type": "stream",
     "text": [
      "('max_depth', [12, 8])\n",
      "('subsample', [0.8, 0.6])\n",
      "('min_child_weight', [3, 7])\n",
      "('colsample_bytree', [0.3, 0.5, 0.8, 1])\n",
      "('learning_rate', [0.05])\n"
     ]
    }
   ],
   "source": [
    "for i in qwe:\n",
    "    print i"
   ]
  },
  {
   "cell_type": "code",
   "execution_count": null,
   "metadata": {
    "collapsed": true
   },
   "outputs": [],
   "source": []
  }
 ],
 "metadata": {
  "anaconda-cloud": {},
  "kernelspec": {
   "display_name": "Python 2",
   "language": "python",
   "name": "python2"
  },
  "language_info": {
   "codemirror_mode": {
    "name": "ipython",
    "version": 2
   },
   "file_extension": ".py",
   "mimetype": "text/x-python",
   "name": "python",
   "nbconvert_exporter": "python",
   "pygments_lexer": "ipython2",
   "version": "2.7.12"
  }
 },
 "nbformat": 4,
 "nbformat_minor": 0
}
