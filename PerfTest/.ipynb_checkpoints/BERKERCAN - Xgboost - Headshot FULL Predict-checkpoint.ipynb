{
 "cells": [
  {
   "cell_type": "code",
   "execution_count": 1,
   "metadata": {
    "collapsed": false
   },
   "outputs": [],
   "source": [
    "import pickle\n",
    "import xgboost as xgb\n",
    "import pandas as pd\n",
    "import numpy as np\n",
    "from sklearn.cross_validation import KFold, train_test_split\n",
    "from sklearn.metrics import confusion_matrix, mean_squared_error\n",
    "from sklearn.grid_search import GridSearchCV\n",
    "from sklearn.datasets import load_iris, load_digits, load_boston\n",
    "%matplotlib inline\n",
    "import seaborn as sns\n",
    "from sklearn.metrics import r2_score, mean_squared_error, make_scorer\n",
    "from collections import OrderedDict\n",
    "import gc\n",
    "from sklearn import datasets, linear_model,preprocessing\n",
    "from IPython.display import display, HTML\n",
    "import time\n",
    "import nltk.corpus\n",
    "from nltk.stem.snowball import SnowballStemmer"
   ]
  },
  {
   "cell_type": "code",
   "execution_count": 2,
   "metadata": {
    "collapsed": true
   },
   "outputs": [],
   "source": [
    "def RMSE(y_true,y_pred):\n",
    "    mse = np.sqrt(mean_squared_error(y_true, y_pred))\n",
    "    print 'MSE: %2.3f' % mse\n",
    "    return mse"
   ]
  },
  {
   "cell_type": "code",
   "execution_count": 3,
   "metadata": {
    "collapsed": true
   },
   "outputs": [],
   "source": [
    "#take 1 CSV, then split it to 3..\n",
    "class FeatureEngineering:\n",
    "\n",
    "    def __init__(self, ValidationStart, ValidationEnd, trainHdfPath, trainHdfFile, testHdfPath1, testHdfPath2, testHdfFile, \n",
    "                 testTypes, trainTypes, trainCsvPath, testCsvPath, maxLag=0):\n",
    "        self.ValidationStart = ValidationStart\n",
    "        self.ValidationEnd = ValidationEnd\n",
    "        self.maxLag = maxLag\n",
    "        self.trainHdfPath = trainHdfPath\n",
    "        self.trainHdfFile = trainHdfFile\n",
    "        self.testHdfPath1 = testHdfPath1\n",
    "        self.testHdfPath2 = testHdfPath2\n",
    "        self.testHdfFile = testHdfFile\n",
    "        self.testTypes = testTypes\n",
    "        self.trainTypes = trainTypes\n",
    "        self.trainCsvPath = trainCsvPath\n",
    "        self.testCsvPath = testCsvPath\n",
    "        \n",
    "    @staticmethod\n",
    "    def __printDataFrameBasics__(data):\n",
    "        display(data.head(2))\n",
    "        #print data.dtypes\n",
    "        gc.collect()\n",
    "        print(data.info(memory_usage=True))\n",
    "        \n",
    "    @staticmethod    \n",
    "    def changeIndexTypeToLowerMemory(data):\n",
    "        ##########\n",
    "        #This is very critical, i accept max number is 2^32. Also, if don't do that, memory gets so much higher..\n",
    "        ##########\n",
    "        #data.reset_index(inplace=True)\n",
    "        #data.drop(\"index\",axis=1, inplace=True)\n",
    "        #data.index = data.index.astype('uint32')\n",
    "        gc.collect()\n",
    "        \n",
    "    def ReadHdf(self, trainOrTestOrBoth):\n",
    "        '''Reads and holds Df in object memory'''            \n",
    "        if trainOrTestOrBoth == 'train' or trainOrTestOrBoth=='both':\n",
    "            self.train = pd.read_hdf(self.trainHdfPath,self.trainHdfFile)\n",
    "            FeatureEngineering.changeIndexTypeToLowerMemory(self.train)\n",
    "            FeatureEngineering.__printDataFrameBasics__(self.train)\n",
    "            \n",
    "        if trainOrTestOrBoth == 'test' or trainOrTestOrBoth=='both':\n",
    "            self.test1 = pd.read_hdf(self.testHdfPath1,self.testHdfFile)\n",
    "            self.test2 = pd.read_hdf(self.testHdfPath2,self.testHdfFile)\n",
    "            FeatureEngineering.changeIndexTypeToLowerMemory(self.test1)\n",
    "            FeatureEngineering.changeIndexTypeToLowerMemory(self.test2)\n",
    "            FeatureEngineering.__printDataFrameBasics__(self.test1)\n",
    "            FeatureEngineering.__printDataFrameBasics__(self.test2)\n",
    "        \n",
    "    def ReadCsv(self, trainOrTestOrBoth):\n",
    "        '''Reads and holds Df in memory'''\n",
    "        if trainOrTestOrBoth == 'train' or trainOrTestOrBoth == 'both':\n",
    "            self.train = pd.read_csv(self.trainCsvPath, usecols=self.trainTypes.keys(), dtype=self.trainTypes)\n",
    "            FeatureEngineering.changeIndexTypeToLowerMemory(self.train)\n",
    "            FeatureEngineering.__printDataFrameBasics__(self.train)\n",
    "        if trainOrTestOrBoth == 'test' or trainOrTestOrBoth=='both':\n",
    "            tempTest = pd.read_csv(self.testCsvPath, usecols=self.testTypes.keys(), dtype=self.testTypes)\n",
    "            self.test1 = tempTest.loc[tempTest.Semana.values == self.ValidationStart]\n",
    "            self.test2 = tempTest.loc[tempTest.Semana.values == self.ValidationEnd]\n",
    "            del tempTest\n",
    "            FeatureEngineering.changeIndexTypeToLowerMemory(self.test1)\n",
    "            FeatureEngineering.changeIndexTypeToLowerMemory(self.test2)\n",
    "            FeatureEngineering.__printDataFrameBasics__(self.test1)\n",
    "            FeatureEngineering.__printDataFrameBasics__(self.test2)\n",
    "            \n",
    "    @staticmethod\n",
    "    def ConvertCsvToHdf(csvPath, HdfPath, HdfName, ColumnTypeDict ):\n",
    "        tempDf = pd.read_csv(csvPath, usecols=ColumnTypeDict.keys(), dtype=ColumnTypeDict,index=False)\n",
    "        tempDf.to_hdf(HdfPath, HdfName, format='t')\n",
    "        del tempDf\n",
    "        gc.collect()\n",
    "        print \"ConvertCsvToHdf is done..\"\n",
    "\n",
    "    def Preprocess(self, trainOrTestOrBoth, columnFunctionTypeList):\n",
    "        '''columnFunctionTypeList = [ ['C1',Func1,Type], ['C2',Func2,Type],..    ]'''\n",
    "        for column, func, localType in columnFunctionTypeList:\n",
    "            if trainOrTestOrBoth == 'train' or trainOrTestOrBoth =='both':\n",
    "                self.train.loc[:,column] =  np.apply_along_axis(func,0,FE.train[column].values).astype(localType)\n",
    "                #np.apply_along_axis(lambda x: x+1,0,FE.train[\"Semana\"]).astype(\"int32\")\n",
    "            if trainOrTestOrBoth == 'test' or trainOrTestOrBoth == 'both':\n",
    "                self.test1.loc[:,column] =  np.apply_along_axis(func,0,FE.test1[column].values).astype(localType)\n",
    "                self.test2.loc[:,column] =  np.apply_along_axis(func,0,FE.test2[column].values).astype(localType)\n",
    "        gc.collect()\n",
    "        \n",
    "    def SaveDataFrameToHdf(self,trainOrTestOrBoth):\n",
    "        if trainOrTestOrBoth == 'train' or trainOrTestOrBoth=='both':\n",
    "            self.train.to_hdf(self.trainHdfPath, self.trainHdfFile, format='t', index=\"False\")\n",
    "        if trainOrTestOrBoth == 'test' or trainOrTestOrBoth=='both':\n",
    "            self.test1.to_hdf(self.testHdfPath1, self.testHdfFile, format='t', index=\"False\")\n",
    "            self.test2.to_hdf(self.testHdfPath2, self.testHdfFile, format='t', index=\"False\")\n",
    "        \n",
    "    def AddDemandaGeneralMean(self,trainOrTestOrBoth): \n",
    "        #self.train.loc[:,\"DemandaGeneralMean\"] = self.train[\"Demanda_uni_equil\"].loc[\n",
    "         #   self.train.loc[:,'Semana'] < 10].mean().astype(\"float32\")\n",
    "            \n",
    "        meanOfDemanda = self.train[\"Demanda_uni_equil\"].values.mean().astype(\"float32\")\n",
    "        \n",
    "        if trainOrTestOrBoth == 'train' or trainOrTestOrBoth=='both':\n",
    "            self.train.loc[:,\"DemandaGeneralMean\"] = meanOfDemanda\n",
    "        if trainOrTestOrBoth == 'test' or trainOrTestOrBoth=='both':\n",
    "            self.test1.loc[:,\"DemandaGeneralMean\"] = meanOfDemanda\n",
    "            self.test2.loc[:,\"DemandaGeneralMean\"] = meanOfDemanda\n",
    "        \n",
    "        #self.train.loc[:,\"DemandaGeneralMean\"] = self.train[\"Demanda_uni_equil\"].values[\n",
    "        #(self.train.loc[:,'Semana'].values < self.ValidationStart).values].mean().astype(\"float32\")\n",
    "        gc.collect()\n",
    "        \n",
    "    '''ConfigElements(0,[ (\"A\",[\"Semana\",\"Agencia_ID\"],[\"count\",\"count\"]),'''\n",
    "    def AddConfigurableFeaturesToTrain(self, config):\n",
    "        if config.lag > self.maxLag:\n",
    "            self.maxLag = config.lag\n",
    "        \n",
    "        tempData = self.train[self.train['Semana'].values <= (self.ValidationEnd - config.lag)]\n",
    "        #display(tempData)\n",
    "        if(config.lag != 0):\n",
    "            tempData.loc[:,'Semana'] = tempData['Semana'].values + config.lag\n",
    "        #display(tempData)\n",
    "        \n",
    "        #Means iterative.. eliminate as long as np.nan exists..If there is already one, don't create, use the existing\n",
    "        if config.targetVariable != \"\" and  config.targetVariable not in self.train.columns:\n",
    "            self.train.loc[:,config.targetVariable] = np.nan\n",
    "            self.test1.loc[:,config.targetVariable] = np.nan\n",
    "            \n",
    "            if config.lag != 1:\n",
    "                self.test2.loc[:,config.targetVariable] = np.nan\n",
    "        \n",
    "        for name,groups,aggregate in config.nameAndGroups:\n",
    "            if name not in self.train.columns:\n",
    "                print \"{} is not in columns..\".format(name)            \n",
    "                \n",
    "                groupedDataframe = tempData[groups+['Demanda_uni_equil']].copy().groupby(groups).agg(aggregate[0])\n",
    "                gc.collect()\n",
    "                #groupedDataframe.columns = groupedDataframe.columns.droplevel(0)\n",
    "                groupedDataframe.columns = [name]\n",
    "                \n",
    "                #This is means of the counts of the semana-columns tuples!..!!!\n",
    "                #If no lag and mean, mean of the columns without semana!!..\n",
    "                #If there is lag and count, count of the columns x weeks before\n",
    "                #If there is lag and mean, mean of the columns x weeks before\n",
    "                #if(config.lag == 0 and aggregate == \"count\"):\n",
    "                if(len(aggregate)>1):\n",
    "                    groupedDataframe.reset_index(inplace=True)\n",
    "                    groupedDataframe.drop(\"Semana\",axis=1, inplace=True)\n",
    "                    groups = groups[1:]\n",
    "                    groupedDataframe = groupedDataframe.groupby(groups).agg(aggregate[1])\n",
    "                    groupedDataframe.columns = [name]\n",
    "                    gc.collect()\n",
    "                \n",
    "                display(groupedDataframe)\n",
    "                self.train = self.train.merge( groupedDataframe, left_on=groups,\n",
    "                    right_index=True, how='left', sort=False,copy=False)\n",
    "                gc.collect()\n",
    "                self.test1 = self.test1.merge( groupedDataframe, left_on=groups,\n",
    "                    right_index=True, how='left', sort=False,copy=False)\n",
    "                gc.collect()\n",
    "                if config.lag != 1:\n",
    "                    self.test2 = self.test2.merge( groupedDataframe, left_on=groups,\n",
    "                        right_index=True, how='left', sort=False,copy=False)\n",
    "                \n",
    "                del groupedDataframe\n",
    "                gc.collect()\n",
    "            else:\n",
    "                print \"{} is in columns..\".format(name)\n",
    "            \n",
    "            display(self.train)\n",
    "            display(self.test1)\n",
    "            display(self.test2)\n",
    "            \n",
    "            #Means iterative..!!!!!\n",
    "            if config.targetVariable != \"\":\n",
    "                self.train.loc[pd.isnull(self.train[config.targetVariable].values), \n",
    "                    config.targetVariable] = self.train.loc[pd.isnull(self.train[config.targetVariable].values)\n",
    "                    , name].values\n",
    "                self.test1.loc[pd.isnull(self.test1[config.targetVariable].values), \n",
    "                    config.targetVariable] = self.test1.loc[pd.isnull(self.test1[config.targetVariable].values),\n",
    "                    name].values\n",
    "                if config.lag != 1:\n",
    "                    self.test2.loc[pd.isnull(self.test2[config.targetVariable].values), \n",
    "                        config.targetVariable] = self.test2.loc[pd.isnull(self.test2[config.targetVariable].values)\n",
    "                        , name].values\n",
    "                    \n",
    "                count = self.test1[config.targetVariable].isnull().sum()\n",
    "                print \"Count of missing numbers after {} in validation part 1 in column {} is {}\".format(name, \n",
    "                    config.targetVariable,str(count))\n",
    "                if config.lag != 1:\n",
    "                    count = self.test2.loc[:,config.targetVariable].isnull().sum()\n",
    "                    print \"Count of missing numbers after {} in validation part 2 in column {} is {}\".format(name, \n",
    "                        config.targetVariable,str(count))\n",
    "                \n",
    "                \n",
    "                #display(self.train)\n",
    "                #If column is already in Dataframe and we want to fill target variable, this deletes columns!!!\n",
    "                if(config.deleteColumns):\n",
    "                    self.train.drop(name, axis=1, inplace=True)\n",
    "                    self.test1.drop(name, axis=1, inplace=True)\n",
    "                    if config.lag != 1:\n",
    "                        self.test2.drop(name, axis=1, inplace=True)\n",
    "                gc.collect()\n",
    "                #Only in tesst\n",
    "                #if count == 0:\n",
    "                 #   break\n",
    "        del tempData\n",
    "        display(self.train)   \n",
    "        display(self.test1)   \n",
    "        display(self.test2)\n",
    "        gc.collect()\n",
    "        return \n",
    "    \n",
    "    def DeleteLaggedWeeksFromTrain(self):\n",
    "        self.train = self.train[self.train['Semana'].values >= (3 + self.maxLag)]\n",
    "        gc.collect()\n",
    "        display(self.train.head(2))\n",
    "        \n",
    "    def ReadFirstNRowsOfACsv(self, nrows, trainOrTestOrBoth) :\n",
    "        if trainOrTestOrBoth == 'train' or trainOrTestOrBoth=='both':\n",
    "            self.train = pd.read_csv(self.trainCsvPath, usecols=self.trainTypes.keys(), dtype=self.trainTypes, nrows = nrows)\n",
    "            FeatureEngineering.changeIndexTypeToLowerMemory(self.train)\n",
    "            FeatureEngineering.__printDataFrameBasics__(self.train)\n",
    "        if trainOrTestOrBoth == 'test' or trainOrTestOrBoth=='both':\n",
    "            tempTest = pd.read_csv(self.testCsvPath, usecols=self.testTypes.keys(), dtype=self.testTypes, nrows = nrows*2)\n",
    "            self.test1 = tempTest.loc[tempTest.Semana == self.ValidationStart]\n",
    "            self.test2 = tempTest.loc[tempTest.Semana == self.ValidationEnd]\n",
    "            del tempTest\n",
    "            FeatureEngineering.changeIndexTypeToLowerMemory(self.test1)\n",
    "            FeatureEngineering.changeIndexTypeToLowerMemory(self.test2)\n",
    "            FeatureEngineering.__printDataFrameBasics__(self.test1)\n",
    "            FeatureEngineering.__printDataFrameBasics__(self.test2)\n",
    "    \n",
    "    #Use when concatanating train and validation before predict test for example..\n",
    "    def AppendTestToTrain(self,deleteTest = True):\n",
    "        self.train = self.train.append(self.test1,ignore_index=True)\n",
    "        gc.collect()\n",
    "        if(deleteTest):\n",
    "            del self.test1\n",
    "            gc.collect()\n",
    "        try:\n",
    "            self.train = self.train.append(self.test2,ignore_index=True)\n",
    "            gc.collect()\n",
    "            if(deleteTest):\n",
    "                del self.test2\n",
    "                gc.collect()\n",
    "        except:\n",
    "            pass\n",
    "        #BAD PERFORMANCE!!\n",
    "    #Split train data to train and test1 and test2 (validation)\n",
    "    #def SplitTrainToTestUsingValidationStart(self):\n",
    "     #   boolCondition = self.train.Semana == self.ValidationStart\n",
    "      #  self.test1 = self.train.loc[boolCondition]\n",
    "       # self.train.drop((self.train.loc[boolCondition].index), axis=0,inplace=True)\n",
    "        \n",
    "       # boolCondition = self.train.Semana == self.ValidationEnd\n",
    "       # self.test2 = self.train.loc[boolCondition]\n",
    "       # self.train.drop((self.train.loc[boolCondition].index), axis=0,inplace=True)\n",
    "      #  del boolCondition\n",
    "      #  gc.collect()\n",
    "    \n",
    "    #Reaches 3x memory from train, because of test1, test2 and train itself at the end.. GC fixed in the end..\n",
    "    def SplitTrainToTestUsingValidationStart(self):\n",
    "        boolCondition = self.train.Semana.values == self.ValidationStart\n",
    "        self.test1 = self.train[boolCondition]\n",
    "        boolCondition = self.train.Semana.values == self.ValidationEnd\n",
    "        self.test2 = self.train[boolCondition]\n",
    "        FE.train = FE.train[ FE.train.Semana.values < FE.ValidationStart ]\n",
    "        del boolCondition\n",
    "        gc.collect()\n",
    "        \n",
    "    def XgboostPredictAndSee(self, Test1OrTest2):\n",
    "        self.train_y = self.train[\"Demanda_uni_equil\"].copy()\n",
    "        self.train.drop(\"Demanda_uni_equil\",axis=1, inplace=True)\n",
    "        "
   ]
  },
  {
   "cell_type": "code",
   "execution_count": 4,
   "metadata": {
    "collapsed": false
   },
   "outputs": [
    {
     "name": "stdout",
     "output_type": "stream",
     "text": [
      "{'trainCsvPath': '../../input/train.csv', 'maxLag': 3, 'testTypes': {'Cliente_ID': <type 'numpy.uint32'>, 'Ruta_SAK': <type 'numpy.uint16'>, 'Canal_ID': <type 'numpy.uint8'>, 'Producto_ID': <type 'numpy.uint16'>, 'Agencia_ID': <type 'numpy.uint16'>, 'Semana': <type 'numpy.uint8'>, 'id': <type 'numpy.uint32'>}, 'testHdfFile': 'test', 'trainTypes': {'Dev_proxima': <type 'numpy.float32'>, 'Venta_uni_hoy': <type 'numpy.uint16'>, 'Cliente_ID': <type 'numpy.uint32'>, 'Demanda_uni_equil': <type 'numpy.uint32'>, 'Ruta_SAK': <type 'numpy.uint16'>, 'Canal_ID': <type 'numpy.uint8'>, 'Venta_hoy': <type 'numpy.float32'>, 'Producto_ID': <type 'numpy.uint16'>, 'Agencia_ID': <type 'numpy.uint16'>, 'Dev_uni_proxima': <type 'numpy.uint32'>, 'Semana': <type 'numpy.uint8'>}, 'testHdfPath1': '../../input/test1_full_wz2.h5', 'ValidationEnd': 11, 'testHdfPath2': '../../input/test2_full_wz2.h5', 'testCsvPath': '../../input/test.csv', 'ValidationStart': 10, 'trainHdfFile': 'train', 'trainHdfPath': '../../input/train_full_wz2.h5'}\n"
     ]
    }
   ],
   "source": [
    "parameterDict =       {\"ValidationStart\":10, \n",
    " \"ValidationEnd\":11,\n",
    "   \"maxLag\":3,\n",
    "    \"trainHdfPath\":'../../input/train_full_wz2.h5',\n",
    "    \"trainHdfFile\":\"train\",\n",
    "    \"testHdfPath1\":\"../../input/test1_full_wz2.h5\",\n",
    "    \"testHdfPath2\":\"../../input/test2_full_wz2.h5\",\n",
    "    \"testHdfFile\":\"test\", \n",
    "    \"trainTypes\" : {'Semana':np.uint8, 'Agencia_ID':np.uint16, 'Canal_ID':np.uint8,'Ruta_SAK':np.uint16, \n",
    "        'Cliente_ID':np.uint32, 'Producto_ID':np.uint16,'Venta_uni_hoy':np.uint16, 'Venta_hoy':np.float32,\n",
    "                    'Dev_uni_proxima': np.uint32, 'Dev_proxima':np.float32,'Demanda_uni_equil':np.uint32}, \n",
    "    \"testTypes\" : {'id':np.uint32,'Semana':np.uint8, 'Agencia_ID':np.uint16, 'Canal_ID':np.uint8,'Ruta_SAK':np.uint16,\n",
    "        'Cliente_ID':np.uint32, 'Producto_ID':np.uint16},\n",
    "    \"trainCsvPath\":'../../input/train.csv'   ,\n",
    "    \"testCsvPath\":'../../input/test.csv'}\n",
    "\n",
    "FE = FeatureEngineering(**parameterDict)\n",
    "print FE.__dict__"
   ]
  },
  {
   "cell_type": "code",
   "execution_count": 5,
   "metadata": {
    "collapsed": false,
    "scrolled": false
   },
   "outputs": [
    {
     "data": {
      "text/html": [
       "<div>\n",
       "<table border=\"1\" class=\"dataframe\">\n",
       "  <thead>\n",
       "    <tr style=\"text-align: right;\">\n",
       "      <th></th>\n",
       "      <th>Semana</th>\n",
       "      <th>Agencia_ID</th>\n",
       "      <th>Canal_ID</th>\n",
       "      <th>Ruta_SAK</th>\n",
       "      <th>Cliente_ID</th>\n",
       "      <th>Producto_ID</th>\n",
       "      <th>Venta_uni_hoy</th>\n",
       "      <th>Venta_hoy</th>\n",
       "      <th>Dev_uni_proxima</th>\n",
       "      <th>Dev_proxima</th>\n",
       "      <th>...</th>\n",
       "      <th>ClientPerTown</th>\n",
       "      <th>client_return_sum</th>\n",
       "      <th>client_return_count</th>\n",
       "      <th>Client_return_rate</th>\n",
       "      <th>producto_return_sum</th>\n",
       "      <th>producto_return_count</th>\n",
       "      <th>producto_return_rate</th>\n",
       "      <th>prod_name_return_sum</th>\n",
       "      <th>prod_name_return_count</th>\n",
       "      <th>prod_name_return_rate</th>\n",
       "    </tr>\n",
       "  </thead>\n",
       "  <tbody>\n",
       "    <tr>\n",
       "      <th>0</th>\n",
       "      <td>3</td>\n",
       "      <td>1110</td>\n",
       "      <td>7</td>\n",
       "      <td>3301</td>\n",
       "      <td>15766</td>\n",
       "      <td>1212</td>\n",
       "      <td>3</td>\n",
       "      <td>25.139999</td>\n",
       "      <td>0</td>\n",
       "      <td>0.0</td>\n",
       "      <td>...</td>\n",
       "      <td>4408</td>\n",
       "      <td>0.0</td>\n",
       "      <td>160</td>\n",
       "      <td>0.0</td>\n",
       "      <td>11316.0</td>\n",
       "      <td>1196000</td>\n",
       "      <td>0.009462</td>\n",
       "      <td>20746.0</td>\n",
       "      <td>2029841</td>\n",
       "      <td>0.010221</td>\n",
       "    </tr>\n",
       "    <tr>\n",
       "      <th>1</th>\n",
       "      <td>3</td>\n",
       "      <td>1110</td>\n",
       "      <td>7</td>\n",
       "      <td>3301</td>\n",
       "      <td>15766</td>\n",
       "      <td>1216</td>\n",
       "      <td>4</td>\n",
       "      <td>33.520000</td>\n",
       "      <td>0</td>\n",
       "      <td>0.0</td>\n",
       "      <td>...</td>\n",
       "      <td>4408</td>\n",
       "      <td>0.0</td>\n",
       "      <td>160</td>\n",
       "      <td>0.0</td>\n",
       "      <td>8087.0</td>\n",
       "      <td>1024504</td>\n",
       "      <td>0.007894</td>\n",
       "      <td>14235.0</td>\n",
       "      <td>1689455</td>\n",
       "      <td>0.008426</td>\n",
       "    </tr>\n",
       "  </tbody>\n",
       "</table>\n",
       "<p>2 rows × 46 columns</p>\n",
       "</div>"
      ],
      "text/plain": [
       "   Semana  Agencia_ID  Canal_ID  Ruta_SAK  Cliente_ID  Producto_ID  \\\n",
       "0       3        1110         7      3301       15766         1212   \n",
       "1       3        1110         7      3301       15766         1216   \n",
       "\n",
       "   Venta_uni_hoy  Venta_hoy  Dev_uni_proxima  Dev_proxima  \\\n",
       "0              3  25.139999                0          0.0   \n",
       "1              4  33.520000                0          0.0   \n",
       "\n",
       "           ...            ClientPerTown  client_return_sum  \\\n",
       "0          ...                     4408                0.0   \n",
       "1          ...                     4408                0.0   \n",
       "\n",
       "   client_return_count  Client_return_rate  producto_return_sum  \\\n",
       "0                  160                 0.0              11316.0   \n",
       "1                  160                 0.0               8087.0   \n",
       "\n",
       "   producto_return_count  producto_return_rate  prod_name_return_sum  \\\n",
       "0                1196000              0.009462               20746.0   \n",
       "1                1024504              0.007894               14235.0   \n",
       "\n",
       "  prod_name_return_count  prod_name_return_rate  \n",
       "0                2029841               0.010221  \n",
       "1                1689455               0.008426  \n",
       "\n",
       "[2 rows x 46 columns]"
      ]
     },
     "metadata": {},
     "output_type": "display_data"
    },
    {
     "name": "stdout",
     "output_type": "stream",
     "text": [
      "<class 'pandas.core.frame.DataFrame'>\n",
      "Int64Index: 74180464 entries, 0 to 74180463\n",
      "Data columns (total 46 columns):\n",
      "Semana                                           uint8\n",
      "Agencia_ID                                       uint16\n",
      "Canal_ID                                         uint8\n",
      "Ruta_SAK                                         uint16\n",
      "Cliente_ID                                       uint32\n",
      "Producto_ID                                      uint16\n",
      "Venta_uni_hoy                                    uint16\n",
      "Venta_hoy                                        float32\n",
      "Dev_uni_proxima                                  uint32\n",
      "Dev_proxima                                      float32\n",
      "Demanda_uni_equil                                float64\n",
      "Town_ID                                          uint16\n",
      "State_ID                                         uint8\n",
      "weight                                           uint16\n",
      "pieces                                           uint8\n",
      "Prod_name_ID                                     uint16\n",
      "Brand_ID                                         uint8\n",
      "Demanda_uni_equil_original                       float64\n",
      "DemandaNotEqualTheDifferenceOfVentaUniAndDev     bool\n",
      "Lag0                                             float64\n",
      "Lag1                                             float64\n",
      "Lag2                                             float64\n",
      "Lag3                                             float64\n",
      "weightppieces                                    uint16\n",
      "Client_Sum_Venta_hoy                             float32\n",
      "Client_Sum_Venta_uni_hoy                         float32\n",
      "Client_Sum_venta_div_venta_uni                   float32\n",
      "prod_name_sum_Venta_hoy                          float32\n",
      "prod_name_sum_Venta_uni_hoy                      float32\n",
      "prod_name_sum_venta_div_venta_uni                float32\n",
      "Producto_sum_Venta_hoy                           float32\n",
      "Producto_sum_Venta_uni_hoy                       float32\n",
      "Producto_sum_venta_div_venta_uni                 float32\n",
      "Producto_ID_sum_demanda_divide_sum_venta_uni     float64\n",
      "Prod_name_ID_sum_demanda_divide_sum_venta_uni    float64\n",
      "Cliente_ID_sum_demanda_divide_sum_venta_uni      float64\n",
      "ClientPerTown                                    int64\n",
      "client_return_sum                                float64\n",
      "client_return_count                              int64\n",
      "Client_return_rate                               float64\n",
      "producto_return_sum                              float64\n",
      "producto_return_count                            int64\n",
      "producto_return_rate                             float64\n",
      "prod_name_return_sum                             float64\n",
      "prod_name_return_count                           int64\n",
      "prod_name_return_rate                            float64\n",
      "dtypes: bool(1), float32(11), float64(15), int64(4), uint16(8), uint32(2), uint8(5)\n",
      "memory usage: 16.2 GB\n",
      "None\n"
     ]
    },
    {
     "data": {
      "text/html": [
       "<div>\n",
       "<table border=\"1\" class=\"dataframe\">\n",
       "  <thead>\n",
       "    <tr style=\"text-align: right;\">\n",
       "      <th></th>\n",
       "      <th>id</th>\n",
       "      <th>Semana</th>\n",
       "      <th>Agencia_ID</th>\n",
       "      <th>Canal_ID</th>\n",
       "      <th>Ruta_SAK</th>\n",
       "      <th>Cliente_ID</th>\n",
       "      <th>Producto_ID</th>\n",
       "      <th>Town_ID</th>\n",
       "      <th>State_ID</th>\n",
       "      <th>weight</th>\n",
       "      <th>...</th>\n",
       "      <th>ClientPerTown</th>\n",
       "      <th>client_return_sum</th>\n",
       "      <th>client_return_count</th>\n",
       "      <th>Client_return_rate</th>\n",
       "      <th>producto_return_sum</th>\n",
       "      <th>producto_return_count</th>\n",
       "      <th>producto_return_rate</th>\n",
       "      <th>prod_name_return_sum</th>\n",
       "      <th>prod_name_return_count</th>\n",
       "      <th>prod_name_return_rate</th>\n",
       "    </tr>\n",
       "  </thead>\n",
       "  <tbody>\n",
       "    <tr>\n",
       "      <th>0</th>\n",
       "      <td>2</td>\n",
       "      <td>10</td>\n",
       "      <td>2045</td>\n",
       "      <td>1</td>\n",
       "      <td>2831</td>\n",
       "      <td>4549769</td>\n",
       "      <td>32940</td>\n",
       "      <td>2163</td>\n",
       "      <td>14</td>\n",
       "      <td>110</td>\n",
       "      <td>...</td>\n",
       "      <td>4180</td>\n",
       "      <td>0.0</td>\n",
       "      <td>22.0</td>\n",
       "      <td>0.0</td>\n",
       "      <td>1004.0</td>\n",
       "      <td>250443.0</td>\n",
       "      <td>0.004009</td>\n",
       "      <td>1205.0</td>\n",
       "      <td>301469.0</td>\n",
       "      <td>0.003997</td>\n",
       "    </tr>\n",
       "    <tr>\n",
       "      <th>1</th>\n",
       "      <td>7</td>\n",
       "      <td>10</td>\n",
       "      <td>1612</td>\n",
       "      <td>1</td>\n",
       "      <td>2837</td>\n",
       "      <td>4414012</td>\n",
       "      <td>35305</td>\n",
       "      <td>2352</td>\n",
       "      <td>30</td>\n",
       "      <td>75</td>\n",
       "      <td>...</td>\n",
       "      <td>4139</td>\n",
       "      <td>0.0</td>\n",
       "      <td>9.0</td>\n",
       "      <td>0.0</td>\n",
       "      <td>1709.0</td>\n",
       "      <td>537709.0</td>\n",
       "      <td>0.003178</td>\n",
       "      <td>6286.0</td>\n",
       "      <td>1455315.0</td>\n",
       "      <td>0.004319</td>\n",
       "    </tr>\n",
       "  </tbody>\n",
       "</table>\n",
       "<p>2 rows × 40 columns</p>\n",
       "</div>"
      ],
      "text/plain": [
       "   id  Semana  Agencia_ID  Canal_ID  Ruta_SAK  Cliente_ID  Producto_ID  \\\n",
       "0   2      10        2045         1      2831     4549769        32940   \n",
       "1   7      10        1612         1      2837     4414012        35305   \n",
       "\n",
       "   Town_ID  State_ID  weight          ...            ClientPerTown  \\\n",
       "0     2163        14     110          ...                     4180   \n",
       "1     2352        30      75          ...                     4139   \n",
       "\n",
       "   client_return_sum  client_return_count  Client_return_rate  \\\n",
       "0                0.0                 22.0                 0.0   \n",
       "1                0.0                  9.0                 0.0   \n",
       "\n",
       "   producto_return_sum  producto_return_count  producto_return_rate  \\\n",
       "0               1004.0               250443.0              0.004009   \n",
       "1               1709.0               537709.0              0.003178   \n",
       "\n",
       "   prod_name_return_sum  prod_name_return_count  prod_name_return_rate  \n",
       "0                1205.0                301469.0               0.003997  \n",
       "1                6286.0               1455315.0               0.004319  \n",
       "\n",
       "[2 rows x 40 columns]"
      ]
     },
     "metadata": {},
     "output_type": "display_data"
    },
    {
     "name": "stdout",
     "output_type": "stream",
     "text": [
      "<class 'pandas.core.frame.DataFrame'>\n",
      "Int64Index: 3538385 entries, 0 to 3538384\n",
      "Data columns (total 40 columns):\n",
      "id                                               uint32\n",
      "Semana                                           uint8\n",
      "Agencia_ID                                       uint16\n",
      "Canal_ID                                         uint8\n",
      "Ruta_SAK                                         uint16\n",
      "Cliente_ID                                       uint32\n",
      "Producto_ID                                      uint16\n",
      "Town_ID                                          uint16\n",
      "State_ID                                         uint8\n",
      "weight                                           uint16\n",
      "pieces                                           uint8\n",
      "Prod_name_ID                                     uint16\n",
      "Brand_ID                                         uint8\n",
      "Lag0                                             float64\n",
      "Lag1                                             float64\n",
      "Lag2                                             float64\n",
      "Lag3                                             float64\n",
      "weightppieces                                    uint16\n",
      "Client_Sum_Venta_hoy                             float32\n",
      "Client_Sum_Venta_uni_hoy                         float32\n",
      "Client_Sum_venta_div_venta_uni                   float32\n",
      "prod_name_sum_Venta_hoy                          float32\n",
      "prod_name_sum_Venta_uni_hoy                      float32\n",
      "prod_name_sum_venta_div_venta_uni                float32\n",
      "Producto_sum_Venta_hoy                           float32\n",
      "Producto_sum_Venta_uni_hoy                       float32\n",
      "Producto_sum_venta_div_venta_uni                 float32\n",
      "Producto_ID_sum_demanda_divide_sum_venta_uni     float64\n",
      "Prod_name_ID_sum_demanda_divide_sum_venta_uni    float64\n",
      "Cliente_ID_sum_demanda_divide_sum_venta_uni      float64\n",
      "ClientPerTown                                    int64\n",
      "client_return_sum                                float64\n",
      "client_return_count                              float64\n",
      "Client_return_rate                               float64\n",
      "producto_return_sum                              float64\n",
      "producto_return_count                            float64\n",
      "producto_return_rate                             float64\n",
      "prod_name_return_sum                             float64\n",
      "prod_name_return_count                           float64\n",
      "prod_name_return_rate                            float64\n",
      "dtypes: float32(9), float64(16), int64(1), uint16(7), uint32(2), uint8(5)\n",
      "memory usage: 698.5 MB\n",
      "None\n"
     ]
    },
    {
     "data": {
      "text/html": [
       "<div>\n",
       "<table border=\"1\" class=\"dataframe\">\n",
       "  <thead>\n",
       "    <tr style=\"text-align: right;\">\n",
       "      <th></th>\n",
       "      <th>id</th>\n",
       "      <th>Semana</th>\n",
       "      <th>Agencia_ID</th>\n",
       "      <th>Canal_ID</th>\n",
       "      <th>Ruta_SAK</th>\n",
       "      <th>Cliente_ID</th>\n",
       "      <th>Producto_ID</th>\n",
       "      <th>Town_ID</th>\n",
       "      <th>State_ID</th>\n",
       "      <th>weight</th>\n",
       "      <th>...</th>\n",
       "      <th>ClientPerTown</th>\n",
       "      <th>client_return_sum</th>\n",
       "      <th>client_return_count</th>\n",
       "      <th>Client_return_rate</th>\n",
       "      <th>producto_return_sum</th>\n",
       "      <th>producto_return_count</th>\n",
       "      <th>producto_return_rate</th>\n",
       "      <th>prod_name_return_sum</th>\n",
       "      <th>prod_name_return_count</th>\n",
       "      <th>prod_name_return_rate</th>\n",
       "    </tr>\n",
       "  </thead>\n",
       "  <tbody>\n",
       "    <tr>\n",
       "      <th>0</th>\n",
       "      <td>0</td>\n",
       "      <td>11</td>\n",
       "      <td>4037</td>\n",
       "      <td>1</td>\n",
       "      <td>2209</td>\n",
       "      <td>4639078</td>\n",
       "      <td>35305</td>\n",
       "      <td>2499</td>\n",
       "      <td>28</td>\n",
       "      <td>75</td>\n",
       "      <td>...</td>\n",
       "      <td>5795</td>\n",
       "      <td>1.0</td>\n",
       "      <td>16.0</td>\n",
       "      <td>0.0625</td>\n",
       "      <td>1709.0</td>\n",
       "      <td>537709.0</td>\n",
       "      <td>0.003178</td>\n",
       "      <td>6286.0</td>\n",
       "      <td>1455315.0</td>\n",
       "      <td>0.004319</td>\n",
       "    </tr>\n",
       "    <tr>\n",
       "      <th>1</th>\n",
       "      <td>1</td>\n",
       "      <td>11</td>\n",
       "      <td>2237</td>\n",
       "      <td>1</td>\n",
       "      <td>1226</td>\n",
       "      <td>4705135</td>\n",
       "      <td>1238</td>\n",
       "      <td>2402</td>\n",
       "      <td>4</td>\n",
       "      <td>140</td>\n",
       "      <td>...</td>\n",
       "      <td>7596</td>\n",
       "      <td>0.0</td>\n",
       "      <td>33.0</td>\n",
       "      <td>0.0000</td>\n",
       "      <td>11260.0</td>\n",
       "      <td>1191873.0</td>\n",
       "      <td>0.009447</td>\n",
       "      <td>12904.0</td>\n",
       "      <td>1363704.0</td>\n",
       "      <td>0.009462</td>\n",
       "    </tr>\n",
       "  </tbody>\n",
       "</table>\n",
       "<p>2 rows × 39 columns</p>\n",
       "</div>"
      ],
      "text/plain": [
       "   id  Semana  Agencia_ID  Canal_ID  Ruta_SAK  Cliente_ID  Producto_ID  \\\n",
       "0   0      11        4037         1      2209     4639078        35305   \n",
       "1   1      11        2237         1      1226     4705135         1238   \n",
       "\n",
       "   Town_ID  State_ID  weight          ...            ClientPerTown  \\\n",
       "0     2499        28      75          ...                     5795   \n",
       "1     2402         4     140          ...                     7596   \n",
       "\n",
       "   client_return_sum  client_return_count  Client_return_rate  \\\n",
       "0                1.0                 16.0              0.0625   \n",
       "1                0.0                 33.0              0.0000   \n",
       "\n",
       "   producto_return_sum  producto_return_count  producto_return_rate  \\\n",
       "0               1709.0               537709.0              0.003178   \n",
       "1              11260.0              1191873.0              0.009447   \n",
       "\n",
       "   prod_name_return_sum  prod_name_return_count  prod_name_return_rate  \n",
       "0                6286.0               1455315.0               0.004319  \n",
       "1               12904.0               1363704.0               0.009462  \n",
       "\n",
       "[2 rows x 39 columns]"
      ]
     },
     "metadata": {},
     "output_type": "display_data"
    },
    {
     "name": "stdout",
     "output_type": "stream",
     "text": [
      "<class 'pandas.core.frame.DataFrame'>\n",
      "Int64Index: 3460866 entries, 0 to 3460865\n",
      "Data columns (total 39 columns):\n",
      "id                                               uint32\n",
      "Semana                                           uint8\n",
      "Agencia_ID                                       uint16\n",
      "Canal_ID                                         uint8\n",
      "Ruta_SAK                                         uint16\n",
      "Cliente_ID                                       uint32\n",
      "Producto_ID                                      uint16\n",
      "Town_ID                                          uint16\n",
      "State_ID                                         uint8\n",
      "weight                                           uint16\n",
      "pieces                                           uint8\n",
      "Prod_name_ID                                     uint16\n",
      "Brand_ID                                         uint8\n",
      "Lag0                                             float64\n",
      "Lag2                                             float64\n",
      "Lag3                                             float64\n",
      "weightppieces                                    uint16\n",
      "Client_Sum_Venta_hoy                             float32\n",
      "Client_Sum_Venta_uni_hoy                         float32\n",
      "Client_Sum_venta_div_venta_uni                   float32\n",
      "prod_name_sum_Venta_hoy                          float32\n",
      "prod_name_sum_Venta_uni_hoy                      float32\n",
      "prod_name_sum_venta_div_venta_uni                float32\n",
      "Producto_sum_Venta_hoy                           float32\n",
      "Producto_sum_Venta_uni_hoy                       float32\n",
      "Producto_sum_venta_div_venta_uni                 float32\n",
      "Producto_ID_sum_demanda_divide_sum_venta_uni     float64\n",
      "Prod_name_ID_sum_demanda_divide_sum_venta_uni    float64\n",
      "Cliente_ID_sum_demanda_divide_sum_venta_uni      float64\n",
      "ClientPerTown                                    int64\n",
      "client_return_sum                                float64\n",
      "client_return_count                              float64\n",
      "Client_return_rate                               float64\n",
      "producto_return_sum                              float64\n",
      "producto_return_count                            float64\n",
      "producto_return_rate                             float64\n",
      "prod_name_return_sum                             float64\n",
      "prod_name_return_count                           float64\n",
      "prod_name_return_rate                            float64\n",
      "dtypes: float32(9), float64(15), int64(1), uint16(7), uint32(2), uint8(5)\n",
      "memory usage: 656.8 MB\n",
      "None\n"
     ]
    }
   ],
   "source": [
    "FE.ReadHdf('both')"
   ]
  },
  {
   "cell_type": "code",
   "execution_count": 6,
   "metadata": {
    "collapsed": false
   },
   "outputs": [
    {
     "data": {
      "text/html": [
       "<div>\n",
       "<table border=\"1\" class=\"dataframe\">\n",
       "  <thead>\n",
       "    <tr style=\"text-align: right;\">\n",
       "      <th></th>\n",
       "      <th>id</th>\n",
       "      <th>Semana</th>\n",
       "      <th>Agencia_ID</th>\n",
       "      <th>Canal_ID</th>\n",
       "      <th>Ruta_SAK</th>\n",
       "      <th>Cliente_ID</th>\n",
       "      <th>Producto_ID</th>\n",
       "      <th>Town_ID</th>\n",
       "      <th>State_ID</th>\n",
       "      <th>weight</th>\n",
       "      <th>...</th>\n",
       "      <th>ClientPerTown</th>\n",
       "      <th>client_return_sum</th>\n",
       "      <th>client_return_count</th>\n",
       "      <th>Client_return_rate</th>\n",
       "      <th>producto_return_sum</th>\n",
       "      <th>producto_return_count</th>\n",
       "      <th>producto_return_rate</th>\n",
       "      <th>prod_name_return_sum</th>\n",
       "      <th>prod_name_return_count</th>\n",
       "      <th>prod_name_return_rate</th>\n",
       "    </tr>\n",
       "  </thead>\n",
       "  <tbody>\n",
       "    <tr>\n",
       "      <th>0</th>\n",
       "      <td>0</td>\n",
       "      <td>11</td>\n",
       "      <td>4037</td>\n",
       "      <td>1</td>\n",
       "      <td>2209</td>\n",
       "      <td>4639078</td>\n",
       "      <td>35305</td>\n",
       "      <td>2499</td>\n",
       "      <td>28</td>\n",
       "      <td>75</td>\n",
       "      <td>...</td>\n",
       "      <td>5795</td>\n",
       "      <td>1.0</td>\n",
       "      <td>16.0</td>\n",
       "      <td>0.0625</td>\n",
       "      <td>1709.0</td>\n",
       "      <td>537709.0</td>\n",
       "      <td>0.003178</td>\n",
       "      <td>6286.0</td>\n",
       "      <td>1455315.0</td>\n",
       "      <td>0.004319</td>\n",
       "    </tr>\n",
       "  </tbody>\n",
       "</table>\n",
       "<p>1 rows × 39 columns</p>\n",
       "</div>"
      ],
      "text/plain": [
       "   id  Semana  Agencia_ID  Canal_ID  Ruta_SAK  Cliente_ID  Producto_ID  \\\n",
       "0   0      11        4037         1      2209     4639078        35305   \n",
       "\n",
       "   Town_ID  State_ID  weight          ...            ClientPerTown  \\\n",
       "0     2499        28      75          ...                     5795   \n",
       "\n",
       "   client_return_sum  client_return_count  Client_return_rate  \\\n",
       "0                1.0                 16.0              0.0625   \n",
       "\n",
       "   producto_return_sum  producto_return_count  producto_return_rate  \\\n",
       "0               1709.0               537709.0              0.003178   \n",
       "\n",
       "   prod_name_return_sum  prod_name_return_count  prod_name_return_rate  \n",
       "0                6286.0               1455315.0               0.004319  \n",
       "\n",
       "[1 rows x 39 columns]"
      ]
     },
     "execution_count": 6,
     "metadata": {},
     "output_type": "execute_result"
    }
   ],
   "source": [
    "FE.test2[(FE.test2.id == 0)]"
   ]
  },
  {
   "cell_type": "code",
   "execution_count": 7,
   "metadata": {
    "collapsed": false
   },
   "outputs": [
    {
     "data": {
      "text/html": [
       "<div>\n",
       "<table border=\"1\" class=\"dataframe\">\n",
       "  <thead>\n",
       "    <tr style=\"text-align: right;\">\n",
       "      <th></th>\n",
       "      <th>id</th>\n",
       "      <th>Semana</th>\n",
       "      <th>Agencia_ID</th>\n",
       "      <th>Canal_ID</th>\n",
       "      <th>Ruta_SAK</th>\n",
       "      <th>Cliente_ID</th>\n",
       "      <th>Producto_ID</th>\n",
       "      <th>Town_ID</th>\n",
       "      <th>State_ID</th>\n",
       "      <th>weight</th>\n",
       "      <th>...</th>\n",
       "      <th>ClientPerTown</th>\n",
       "      <th>client_return_sum</th>\n",
       "      <th>client_return_count</th>\n",
       "      <th>Client_return_rate</th>\n",
       "      <th>producto_return_sum</th>\n",
       "      <th>producto_return_count</th>\n",
       "      <th>producto_return_rate</th>\n",
       "      <th>prod_name_return_sum</th>\n",
       "      <th>prod_name_return_count</th>\n",
       "      <th>prod_name_return_rate</th>\n",
       "    </tr>\n",
       "  </thead>\n",
       "  <tbody>\n",
       "    <tr>\n",
       "      <th>0</th>\n",
       "      <td>0</td>\n",
       "      <td>11</td>\n",
       "      <td>4037</td>\n",
       "      <td>1</td>\n",
       "      <td>2209</td>\n",
       "      <td>4639078</td>\n",
       "      <td>35305</td>\n",
       "      <td>2499</td>\n",
       "      <td>28</td>\n",
       "      <td>75</td>\n",
       "      <td>...</td>\n",
       "      <td>5795</td>\n",
       "      <td>1.0</td>\n",
       "      <td>16.0</td>\n",
       "      <td>0.0625</td>\n",
       "      <td>1709.0</td>\n",
       "      <td>537709.0</td>\n",
       "      <td>0.003178</td>\n",
       "      <td>6286.0</td>\n",
       "      <td>1455315.0</td>\n",
       "      <td>0.004319</td>\n",
       "    </tr>\n",
       "  </tbody>\n",
       "</table>\n",
       "<p>1 rows × 39 columns</p>\n",
       "</div>"
      ],
      "text/plain": [
       "   id  Semana  Agencia_ID  Canal_ID  Ruta_SAK  Cliente_ID  Producto_ID  \\\n",
       "0   0      11        4037         1      2209     4639078        35305   \n",
       "\n",
       "   Town_ID  State_ID  weight          ...            ClientPerTown  \\\n",
       "0     2499        28      75          ...                     5795   \n",
       "\n",
       "   client_return_sum  client_return_count  Client_return_rate  \\\n",
       "0                1.0                 16.0              0.0625   \n",
       "\n",
       "   producto_return_sum  producto_return_count  producto_return_rate  \\\n",
       "0               1709.0               537709.0              0.003178   \n",
       "\n",
       "   prod_name_return_sum  prod_name_return_count  prod_name_return_rate  \n",
       "0                6286.0               1455315.0               0.004319  \n",
       "\n",
       "[1 rows x 39 columns]"
      ]
     },
     "execution_count": 7,
     "metadata": {},
     "output_type": "execute_result"
    }
   ],
   "source": [
    "FE.test2[(FE.test2.id == 0)]"
   ]
  },
  {
   "cell_type": "code",
   "execution_count": 8,
   "metadata": {
    "collapsed": false
   },
   "outputs": [],
   "source": [
    "#FE.ReadCsv('test')"
   ]
  },
  {
   "cell_type": "code",
   "execution_count": 9,
   "metadata": {
    "collapsed": false
   },
   "outputs": [
    {
     "data": {
      "text/plain": [
       "1"
      ]
     },
     "execution_count": 9,
     "metadata": {},
     "output_type": "execute_result"
    }
   ],
   "source": [
    "(FE.test2.id == 0).sum()"
   ]
  },
  {
   "cell_type": "code",
   "execution_count": null,
   "metadata": {
    "collapsed": true
   },
   "outputs": [],
   "source": []
  },
  {
   "cell_type": "code",
   "execution_count": null,
   "metadata": {
    "collapsed": true
   },
   "outputs": [],
   "source": []
  },
  {
   "cell_type": "code",
   "execution_count": 10,
   "metadata": {
    "collapsed": false
   },
   "outputs": [
    {
     "data": {
      "text/html": [
       "<div>\n",
       "<table border=\"1\" class=\"dataframe\">\n",
       "  <thead>\n",
       "    <tr style=\"text-align: right;\">\n",
       "      <th></th>\n",
       "      <th>Semana</th>\n",
       "      <th>Agencia_ID</th>\n",
       "      <th>Canal_ID</th>\n",
       "      <th>Ruta_SAK</th>\n",
       "      <th>Cliente_ID</th>\n",
       "      <th>Producto_ID</th>\n",
       "      <th>Venta_uni_hoy</th>\n",
       "      <th>Venta_hoy</th>\n",
       "      <th>Dev_uni_proxima</th>\n",
       "      <th>Dev_proxima</th>\n",
       "      <th>...</th>\n",
       "      <th>ClientPerTown</th>\n",
       "      <th>client_return_sum</th>\n",
       "      <th>client_return_count</th>\n",
       "      <th>Client_return_rate</th>\n",
       "      <th>producto_return_sum</th>\n",
       "      <th>producto_return_count</th>\n",
       "      <th>producto_return_rate</th>\n",
       "      <th>prod_name_return_sum</th>\n",
       "      <th>prod_name_return_count</th>\n",
       "      <th>prod_name_return_rate</th>\n",
       "    </tr>\n",
       "  </thead>\n",
       "  <tbody>\n",
       "    <tr>\n",
       "      <th>32790197</th>\n",
       "      <td>6</td>\n",
       "      <td>1110</td>\n",
       "      <td>7</td>\n",
       "      <td>3301</td>\n",
       "      <td>15766</td>\n",
       "      <td>1216</td>\n",
       "      <td>1</td>\n",
       "      <td>8.38</td>\n",
       "      <td>0</td>\n",
       "      <td>0.0</td>\n",
       "      <td>...</td>\n",
       "      <td>4408</td>\n",
       "      <td>0.0</td>\n",
       "      <td>160</td>\n",
       "      <td>0.0</td>\n",
       "      <td>8087.0</td>\n",
       "      <td>1024504</td>\n",
       "      <td>0.007894</td>\n",
       "      <td>14235.0</td>\n",
       "      <td>1689455</td>\n",
       "      <td>0.008426</td>\n",
       "    </tr>\n",
       "    <tr>\n",
       "      <th>32790198</th>\n",
       "      <td>6</td>\n",
       "      <td>1110</td>\n",
       "      <td>7</td>\n",
       "      <td>3301</td>\n",
       "      <td>15766</td>\n",
       "      <td>1238</td>\n",
       "      <td>2</td>\n",
       "      <td>19.66</td>\n",
       "      <td>0</td>\n",
       "      <td>0.0</td>\n",
       "      <td>...</td>\n",
       "      <td>4408</td>\n",
       "      <td>0.0</td>\n",
       "      <td>160</td>\n",
       "      <td>0.0</td>\n",
       "      <td>11260.0</td>\n",
       "      <td>1191873</td>\n",
       "      <td>0.009447</td>\n",
       "      <td>12904.0</td>\n",
       "      <td>1363704</td>\n",
       "      <td>0.009462</td>\n",
       "    </tr>\n",
       "  </tbody>\n",
       "</table>\n",
       "<p>2 rows × 46 columns</p>\n",
       "</div>"
      ],
      "text/plain": [
       "          Semana  Agencia_ID  Canal_ID  Ruta_SAK  Cliente_ID  Producto_ID  \\\n",
       "32790197       6        1110         7      3301       15766         1216   \n",
       "32790198       6        1110         7      3301       15766         1238   \n",
       "\n",
       "          Venta_uni_hoy  Venta_hoy  Dev_uni_proxima  Dev_proxima  \\\n",
       "32790197              1       8.38                0          0.0   \n",
       "32790198              2      19.66                0          0.0   \n",
       "\n",
       "                  ...            ClientPerTown  client_return_sum  \\\n",
       "32790197          ...                     4408                0.0   \n",
       "32790198          ...                     4408                0.0   \n",
       "\n",
       "          client_return_count  Client_return_rate  producto_return_sum  \\\n",
       "32790197                  160                 0.0               8087.0   \n",
       "32790198                  160                 0.0              11260.0   \n",
       "\n",
       "          producto_return_count  producto_return_rate  prod_name_return_sum  \\\n",
       "32790197                1024504              0.007894               14235.0   \n",
       "32790198                1191873              0.009447               12904.0   \n",
       "\n",
       "         prod_name_return_count  prod_name_return_rate  \n",
       "32790197                1689455               0.008426  \n",
       "32790198                1363704               0.009462  \n",
       "\n",
       "[2 rows x 46 columns]"
      ]
     },
     "metadata": {},
     "output_type": "display_data"
    }
   ],
   "source": [
    "FE.DeleteLaggedWeeksFromTrain()"
   ]
  },
  {
   "cell_type": "code",
   "execution_count": 11,
   "metadata": {
    "collapsed": false
   },
   "outputs": [],
   "source": [
    "test2columns = ['State_ID',\n",
    "       'weight', 'pieces', 'Brand_ID', 'Lag0',\n",
    "       'Lag2', 'Lag3', 'weightppieces', 'Client_Sum_Venta_hoy',\n",
    "       'Client_Sum_Venta_uni_hoy', 'Client_Sum_venta_div_venta_uni',\n",
    "       'prod_name_sum_Venta_hoy', 'prod_name_sum_Venta_uni_hoy',\n",
    "       'prod_name_sum_venta_div_venta_uni', 'Producto_sum_Venta_hoy',\n",
    "       'Producto_sum_Venta_uni_hoy', 'Producto_sum_venta_div_venta_uni',\n",
    "       'Producto_ID_sum_demanda_divide_sum_venta_uni',\n",
    "       'Prod_name_ID_sum_demanda_divide_sum_venta_uni',\n",
    "       'Cliente_ID_sum_demanda_divide_sum_venta_uni', 'ClientPerTown',\n",
    "       'client_return_sum', 'client_return_count', 'Client_return_rate',\n",
    "       'producto_return_sum', 'producto_return_count',\n",
    "       'producto_return_rate', 'prod_name_return_sum',\n",
    "       'prod_name_return_count', 'prod_name_return_rate']"
   ]
  },
  {
   "cell_type": "code",
   "execution_count": 12,
   "metadata": {
    "collapsed": false
   },
   "outputs": [],
   "source": [
    "columns_to_remove = ['client_return_sum', 'client_return_count',\n",
    "                     'Client_Sum_Venta_uni_hoy', 'Producto_sum_venta_div_venta_uni',\n",
    "                    'producto_return_sum', 'producto_return_rate', 'Client_return_rate',\n",
    "                     'prod_name_return_rate', 'prod_name_return_count', 'ClientPerTown',\n",
    "                     'prod_name_return_sum', 'producto_return_count'\n",
    "                    ]"
   ]
  },
  {
   "cell_type": "code",
   "execution_count": 13,
   "metadata": {
    "collapsed": false
   },
   "outputs": [],
   "source": [
    "test2columns = list ( set(test2columns) - set(columns_to_remove))"
   ]
  },
  {
   "cell_type": "code",
   "execution_count": 14,
   "metadata": {
    "collapsed": false
   },
   "outputs": [],
   "source": [
    "test1columns = test2columns + ['Lag1']"
   ]
  },
  {
   "cell_type": "code",
   "execution_count": 15,
   "metadata": {
    "collapsed": false
   },
   "outputs": [
    {
     "data": {
      "text/html": [
       "<div>\n",
       "<table border=\"1\" class=\"dataframe\">\n",
       "  <thead>\n",
       "    <tr style=\"text-align: right;\">\n",
       "      <th></th>\n",
       "      <th>id</th>\n",
       "      <th>Semana</th>\n",
       "      <th>Agencia_ID</th>\n",
       "      <th>Canal_ID</th>\n",
       "      <th>Ruta_SAK</th>\n",
       "      <th>Cliente_ID</th>\n",
       "      <th>Producto_ID</th>\n",
       "      <th>Town_ID</th>\n",
       "      <th>State_ID</th>\n",
       "      <th>weight</th>\n",
       "      <th>...</th>\n",
       "      <th>ClientPerTown</th>\n",
       "      <th>client_return_sum</th>\n",
       "      <th>client_return_count</th>\n",
       "      <th>Client_return_rate</th>\n",
       "      <th>producto_return_sum</th>\n",
       "      <th>producto_return_count</th>\n",
       "      <th>producto_return_rate</th>\n",
       "      <th>prod_name_return_sum</th>\n",
       "      <th>prod_name_return_count</th>\n",
       "      <th>prod_name_return_rate</th>\n",
       "    </tr>\n",
       "  </thead>\n",
       "  <tbody>\n",
       "    <tr>\n",
       "      <th>0</th>\n",
       "      <td>0</td>\n",
       "      <td>11</td>\n",
       "      <td>4037</td>\n",
       "      <td>1</td>\n",
       "      <td>2209</td>\n",
       "      <td>4639078</td>\n",
       "      <td>35305</td>\n",
       "      <td>2499</td>\n",
       "      <td>28</td>\n",
       "      <td>75</td>\n",
       "      <td>...</td>\n",
       "      <td>5795</td>\n",
       "      <td>1.0</td>\n",
       "      <td>16.0</td>\n",
       "      <td>0.0625</td>\n",
       "      <td>1709.0</td>\n",
       "      <td>537709.0</td>\n",
       "      <td>0.003178</td>\n",
       "      <td>6286.0</td>\n",
       "      <td>1455315.0</td>\n",
       "      <td>0.004319</td>\n",
       "    </tr>\n",
       "  </tbody>\n",
       "</table>\n",
       "<p>1 rows × 39 columns</p>\n",
       "</div>"
      ],
      "text/plain": [
       "   id  Semana  Agencia_ID  Canal_ID  Ruta_SAK  Cliente_ID  Producto_ID  \\\n",
       "0   0      11        4037         1      2209     4639078        35305   \n",
       "\n",
       "   Town_ID  State_ID  weight          ...            ClientPerTown  \\\n",
       "0     2499        28      75          ...                     5795   \n",
       "\n",
       "   client_return_sum  client_return_count  Client_return_rate  \\\n",
       "0                1.0                 16.0              0.0625   \n",
       "\n",
       "   producto_return_sum  producto_return_count  producto_return_rate  \\\n",
       "0               1709.0               537709.0              0.003178   \n",
       "\n",
       "   prod_name_return_sum  prod_name_return_count  prod_name_return_rate  \n",
       "0                6286.0               1455315.0               0.004319  \n",
       "\n",
       "[1 rows x 39 columns]"
      ]
     },
     "execution_count": 15,
     "metadata": {},
     "output_type": "execute_result"
    }
   ],
   "source": [
    "FE.test2[(FE.test2.id == 0)]"
   ]
  },
  {
   "cell_type": "code",
   "execution_count": 16,
   "metadata": {
    "collapsed": false
   },
   "outputs": [
    {
     "data": {
      "text/html": [
       "<div>\n",
       "<table border=\"1\" class=\"dataframe\">\n",
       "  <thead>\n",
       "    <tr style=\"text-align: right;\">\n",
       "      <th></th>\n",
       "      <th>id</th>\n",
       "      <th>Semana</th>\n",
       "      <th>Agencia_ID</th>\n",
       "      <th>Canal_ID</th>\n",
       "      <th>Ruta_SAK</th>\n",
       "      <th>Cliente_ID</th>\n",
       "      <th>Producto_ID</th>\n",
       "      <th>Town_ID</th>\n",
       "      <th>State_ID</th>\n",
       "      <th>weight</th>\n",
       "      <th>...</th>\n",
       "      <th>ClientPerTown</th>\n",
       "      <th>client_return_sum</th>\n",
       "      <th>client_return_count</th>\n",
       "      <th>Client_return_rate</th>\n",
       "      <th>producto_return_sum</th>\n",
       "      <th>producto_return_count</th>\n",
       "      <th>producto_return_rate</th>\n",
       "      <th>prod_name_return_sum</th>\n",
       "      <th>prod_name_return_count</th>\n",
       "      <th>prod_name_return_rate</th>\n",
       "    </tr>\n",
       "  </thead>\n",
       "  <tbody>\n",
       "    <tr>\n",
       "      <th>0</th>\n",
       "      <td>2</td>\n",
       "      <td>10</td>\n",
       "      <td>2045</td>\n",
       "      <td>1</td>\n",
       "      <td>2831</td>\n",
       "      <td>4549769</td>\n",
       "      <td>32940</td>\n",
       "      <td>2163</td>\n",
       "      <td>14</td>\n",
       "      <td>110</td>\n",
       "      <td>...</td>\n",
       "      <td>4180</td>\n",
       "      <td>0.0</td>\n",
       "      <td>22.0</td>\n",
       "      <td>0.0</td>\n",
       "      <td>1004.0</td>\n",
       "      <td>250443.0</td>\n",
       "      <td>0.004009</td>\n",
       "      <td>1205.0</td>\n",
       "      <td>301469.0</td>\n",
       "      <td>0.003997</td>\n",
       "    </tr>\n",
       "    <tr>\n",
       "      <th>1</th>\n",
       "      <td>7</td>\n",
       "      <td>10</td>\n",
       "      <td>1612</td>\n",
       "      <td>1</td>\n",
       "      <td>2837</td>\n",
       "      <td>4414012</td>\n",
       "      <td>35305</td>\n",
       "      <td>2352</td>\n",
       "      <td>30</td>\n",
       "      <td>75</td>\n",
       "      <td>...</td>\n",
       "      <td>4139</td>\n",
       "      <td>0.0</td>\n",
       "      <td>9.0</td>\n",
       "      <td>0.0</td>\n",
       "      <td>1709.0</td>\n",
       "      <td>537709.0</td>\n",
       "      <td>0.003178</td>\n",
       "      <td>6286.0</td>\n",
       "      <td>1455315.0</td>\n",
       "      <td>0.004319</td>\n",
       "    </tr>\n",
       "  </tbody>\n",
       "</table>\n",
       "<p>2 rows × 40 columns</p>\n",
       "</div>"
      ],
      "text/plain": [
       "   id  Semana  Agencia_ID  Canal_ID  Ruta_SAK  Cliente_ID  Producto_ID  \\\n",
       "0   2      10        2045         1      2831     4549769        32940   \n",
       "1   7      10        1612         1      2837     4414012        35305   \n",
       "\n",
       "   Town_ID  State_ID  weight          ...            ClientPerTown  \\\n",
       "0     2163        14     110          ...                     4180   \n",
       "1     2352        30      75          ...                     4139   \n",
       "\n",
       "   client_return_sum  client_return_count  Client_return_rate  \\\n",
       "0                0.0                 22.0                 0.0   \n",
       "1                0.0                  9.0                 0.0   \n",
       "\n",
       "   producto_return_sum  producto_return_count  producto_return_rate  \\\n",
       "0               1004.0               250443.0              0.004009   \n",
       "1               1709.0               537709.0              0.003178   \n",
       "\n",
       "   prod_name_return_sum  prod_name_return_count  prod_name_return_rate  \n",
       "0                1205.0                301469.0               0.003997  \n",
       "1                6286.0               1455315.0               0.004319  \n",
       "\n",
       "[2 rows x 40 columns]"
      ]
     },
     "execution_count": 16,
     "metadata": {},
     "output_type": "execute_result"
    }
   ],
   "source": [
    "FE.test1.head(2)"
   ]
  },
  {
   "cell_type": "code",
   "execution_count": 17,
   "metadata": {
    "collapsed": false
   },
   "outputs": [],
   "source": [
    "X_train = FE.train[test1columns]\n",
    "X_test = FE.test1[test1columns]\n",
    "y_train = FE.train[\"Demanda_uni_equil\"]\n",
    "#y_test = FE.test1[\"Demanda_uni_equil\"]"
   ]
  },
  {
   "cell_type": "code",
   "execution_count": 18,
   "metadata": {
    "collapsed": false
   },
   "outputs": [
    {
     "data": {
      "text/html": [
       "<div>\n",
       "<table border=\"1\" class=\"dataframe\">\n",
       "  <thead>\n",
       "    <tr style=\"text-align: right;\">\n",
       "      <th></th>\n",
       "      <th>id</th>\n",
       "      <th>Semana</th>\n",
       "      <th>Agencia_ID</th>\n",
       "      <th>Canal_ID</th>\n",
       "      <th>Ruta_SAK</th>\n",
       "      <th>Cliente_ID</th>\n",
       "      <th>Producto_ID</th>\n",
       "      <th>Town_ID</th>\n",
       "      <th>State_ID</th>\n",
       "      <th>weight</th>\n",
       "      <th>...</th>\n",
       "      <th>ClientPerTown</th>\n",
       "      <th>client_return_sum</th>\n",
       "      <th>client_return_count</th>\n",
       "      <th>Client_return_rate</th>\n",
       "      <th>producto_return_sum</th>\n",
       "      <th>producto_return_count</th>\n",
       "      <th>producto_return_rate</th>\n",
       "      <th>prod_name_return_sum</th>\n",
       "      <th>prod_name_return_count</th>\n",
       "      <th>prod_name_return_rate</th>\n",
       "    </tr>\n",
       "  </thead>\n",
       "  <tbody>\n",
       "    <tr>\n",
       "      <th>0</th>\n",
       "      <td>0</td>\n",
       "      <td>11</td>\n",
       "      <td>4037</td>\n",
       "      <td>1</td>\n",
       "      <td>2209</td>\n",
       "      <td>4639078</td>\n",
       "      <td>35305</td>\n",
       "      <td>2499</td>\n",
       "      <td>28</td>\n",
       "      <td>75</td>\n",
       "      <td>...</td>\n",
       "      <td>5795</td>\n",
       "      <td>1.0</td>\n",
       "      <td>16.0</td>\n",
       "      <td>0.0625</td>\n",
       "      <td>1709.0</td>\n",
       "      <td>537709.0</td>\n",
       "      <td>0.003178</td>\n",
       "      <td>6286.0</td>\n",
       "      <td>1455315.0</td>\n",
       "      <td>0.004319</td>\n",
       "    </tr>\n",
       "  </tbody>\n",
       "</table>\n",
       "<p>1 rows × 39 columns</p>\n",
       "</div>"
      ],
      "text/plain": [
       "   id  Semana  Agencia_ID  Canal_ID  Ruta_SAK  Cliente_ID  Producto_ID  \\\n",
       "0   0      11        4037         1      2209     4639078        35305   \n",
       "\n",
       "   Town_ID  State_ID  weight          ...            ClientPerTown  \\\n",
       "0     2499        28      75          ...                     5795   \n",
       "\n",
       "   client_return_sum  client_return_count  Client_return_rate  \\\n",
       "0                1.0                 16.0              0.0625   \n",
       "\n",
       "   producto_return_sum  producto_return_count  producto_return_rate  \\\n",
       "0               1709.0               537709.0              0.003178   \n",
       "\n",
       "   prod_name_return_sum  prod_name_return_count  prod_name_return_rate  \n",
       "0                6286.0               1455315.0               0.004319  \n",
       "\n",
       "[1 rows x 39 columns]"
      ]
     },
     "execution_count": 18,
     "metadata": {},
     "output_type": "execute_result"
    }
   ],
   "source": [
    "FE.test2[(FE.test2.id == 0)]"
   ]
  },
  {
   "cell_type": "code",
   "execution_count": 19,
   "metadata": {
    "collapsed": false
   },
   "outputs": [
    {
     "data": {
      "text/plain": [
       "(3460866, 39)"
      ]
     },
     "execution_count": 19,
     "metadata": {},
     "output_type": "execute_result"
    }
   ],
   "source": [
    "FE.test2.shape"
   ]
  },
  {
   "cell_type": "code",
   "execution_count": 20,
   "metadata": {
    "collapsed": false
   },
   "outputs": [
    {
     "data": {
      "text/plain": [
       "889"
      ]
     },
     "execution_count": 20,
     "metadata": {},
     "output_type": "execute_result"
    }
   ],
   "source": [
    "gc.collect()"
   ]
  },
  {
   "cell_type": "code",
   "execution_count": 21,
   "metadata": {
    "collapsed": false
   },
   "outputs": [
    {
     "name": "stdout",
     "output_type": "stream",
     "text": [
      "(41390267, 19)\n",
      "(3538385, 19)\n",
      "(41390267,)\n"
     ]
    }
   ],
   "source": [
    "print X_train.shape\n",
    "print X_test.shape\n",
    "print y_train.shape\n",
    "#print y_test.shape"
   ]
  },
  {
   "cell_type": "code",
   "execution_count": 22,
   "metadata": {
    "collapsed": false
   },
   "outputs": [
    {
     "data": {
      "text/html": [
       "<div>\n",
       "<table border=\"1\" class=\"dataframe\">\n",
       "  <thead>\n",
       "    <tr style=\"text-align: right;\">\n",
       "      <th></th>\n",
       "      <th>prod_name_sum_Venta_uni_hoy</th>\n",
       "      <th>Client_Sum_venta_div_venta_uni</th>\n",
       "      <th>weight</th>\n",
       "      <th>Client_Sum_Venta_hoy</th>\n",
       "      <th>Producto_sum_Venta_hoy</th>\n",
       "      <th>Producto_ID_sum_demanda_divide_sum_venta_uni</th>\n",
       "      <th>Lag3</th>\n",
       "      <th>Lag0</th>\n",
       "      <th>prod_name_sum_venta_div_venta_uni</th>\n",
       "      <th>Lag2</th>\n",
       "      <th>pieces</th>\n",
       "      <th>Cliente_ID_sum_demanda_divide_sum_venta_uni</th>\n",
       "      <th>weightppieces</th>\n",
       "      <th>prod_name_sum_Venta_hoy</th>\n",
       "      <th>Producto_sum_Venta_uni_hoy</th>\n",
       "      <th>State_ID</th>\n",
       "      <th>Prod_name_ID_sum_demanda_divide_sum_venta_uni</th>\n",
       "      <th>Brand_ID</th>\n",
       "      <th>Lag1</th>\n",
       "    </tr>\n",
       "  </thead>\n",
       "  <tbody>\n",
       "    <tr>\n",
       "      <th>32790197</th>\n",
       "      <td>5398186.0</td>\n",
       "      <td>6.942664</td>\n",
       "      <td>135</td>\n",
       "      <td>6151.200195</td>\n",
       "      <td>26691390.0</td>\n",
       "      <td>0.984187</td>\n",
       "      <td>1.609438</td>\n",
       "      <td>1.279644</td>\n",
       "      <td>10.397889</td>\n",
       "      <td>1.098612</td>\n",
       "      <td>2</td>\n",
       "      <td>0.997743</td>\n",
       "      <td>67</td>\n",
       "      <td>56129740.0</td>\n",
       "      <td>3181308.0</td>\n",
       "      <td>16</td>\n",
       "      <td>0.982811</td>\n",
       "      <td>4</td>\n",
       "      <td>1.386294</td>\n",
       "    </tr>\n",
       "    <tr>\n",
       "      <th>32790198</th>\n",
       "      <td>4384495.0</td>\n",
       "      <td>6.942664</td>\n",
       "      <td>140</td>\n",
       "      <td>6151.200195</td>\n",
       "      <td>38339704.0</td>\n",
       "      <td>0.982354</td>\n",
       "      <td>1.609438</td>\n",
       "      <td>1.195859</td>\n",
       "      <td>9.986341</td>\n",
       "      <td>1.386294</td>\n",
       "      <td>2</td>\n",
       "      <td>0.997743</td>\n",
       "      <td>70</td>\n",
       "      <td>43785060.0</td>\n",
       "      <td>3852209.0</td>\n",
       "      <td>16</td>\n",
       "      <td>0.982280</td>\n",
       "      <td>4</td>\n",
       "      <td>0.693147</td>\n",
       "    </tr>\n",
       "    <tr>\n",
       "      <th>32790199</th>\n",
       "      <td>12971467.0</td>\n",
       "      <td>6.942664</td>\n",
       "      <td>105</td>\n",
       "      <td>6151.200195</td>\n",
       "      <td>80161584.0</td>\n",
       "      <td>0.992308</td>\n",
       "      <td>1.386294</td>\n",
       "      <td>1.106057</td>\n",
       "      <td>7.689510</td>\n",
       "      <td>1.386294</td>\n",
       "      <td>6</td>\n",
       "      <td>0.997743</td>\n",
       "      <td>17</td>\n",
       "      <td>99744232.0</td>\n",
       "      <td>10469789.0</td>\n",
       "      <td>16</td>\n",
       "      <td>0.992016</td>\n",
       "      <td>4</td>\n",
       "      <td>1.098612</td>\n",
       "    </tr>\n",
       "  </tbody>\n",
       "</table>\n",
       "</div>"
      ],
      "text/plain": [
       "          prod_name_sum_Venta_uni_hoy  Client_Sum_venta_div_venta_uni  weight  \\\n",
       "32790197                    5398186.0                        6.942664     135   \n",
       "32790198                    4384495.0                        6.942664     140   \n",
       "32790199                   12971467.0                        6.942664     105   \n",
       "\n",
       "          Client_Sum_Venta_hoy  Producto_sum_Venta_hoy  \\\n",
       "32790197           6151.200195              26691390.0   \n",
       "32790198           6151.200195              38339704.0   \n",
       "32790199           6151.200195              80161584.0   \n",
       "\n",
       "          Producto_ID_sum_demanda_divide_sum_venta_uni      Lag3      Lag0  \\\n",
       "32790197                                      0.984187  1.609438  1.279644   \n",
       "32790198                                      0.982354  1.609438  1.195859   \n",
       "32790199                                      0.992308  1.386294  1.106057   \n",
       "\n",
       "          prod_name_sum_venta_div_venta_uni      Lag2  pieces  \\\n",
       "32790197                          10.397889  1.098612       2   \n",
       "32790198                           9.986341  1.386294       2   \n",
       "32790199                           7.689510  1.386294       6   \n",
       "\n",
       "          Cliente_ID_sum_demanda_divide_sum_venta_uni  weightppieces  \\\n",
       "32790197                                     0.997743             67   \n",
       "32790198                                     0.997743             70   \n",
       "32790199                                     0.997743             17   \n",
       "\n",
       "          prod_name_sum_Venta_hoy  Producto_sum_Venta_uni_hoy  State_ID  \\\n",
       "32790197               56129740.0                   3181308.0        16   \n",
       "32790198               43785060.0                   3852209.0        16   \n",
       "32790199               99744232.0                  10469789.0        16   \n",
       "\n",
       "          Prod_name_ID_sum_demanda_divide_sum_venta_uni  Brand_ID      Lag1  \n",
       "32790197                                       0.982811         4  1.386294  \n",
       "32790198                                       0.982280         4  0.693147  \n",
       "32790199                                       0.992016         4  1.098612  "
      ]
     },
     "metadata": {},
     "output_type": "display_data"
    },
    {
     "data": {
      "text/html": [
       "<div>\n",
       "<table border=\"1\" class=\"dataframe\">\n",
       "  <thead>\n",
       "    <tr style=\"text-align: right;\">\n",
       "      <th></th>\n",
       "      <th>prod_name_sum_Venta_uni_hoy</th>\n",
       "      <th>Client_Sum_venta_div_venta_uni</th>\n",
       "      <th>weight</th>\n",
       "      <th>Client_Sum_Venta_hoy</th>\n",
       "      <th>Producto_sum_Venta_hoy</th>\n",
       "      <th>Producto_ID_sum_demanda_divide_sum_venta_uni</th>\n",
       "      <th>Lag3</th>\n",
       "      <th>Lag0</th>\n",
       "      <th>prod_name_sum_venta_div_venta_uni</th>\n",
       "      <th>Lag2</th>\n",
       "      <th>pieces</th>\n",
       "      <th>Cliente_ID_sum_demanda_divide_sum_venta_uni</th>\n",
       "      <th>weightppieces</th>\n",
       "      <th>prod_name_sum_Venta_hoy</th>\n",
       "      <th>Producto_sum_Venta_uni_hoy</th>\n",
       "      <th>State_ID</th>\n",
       "      <th>Prod_name_ID_sum_demanda_divide_sum_venta_uni</th>\n",
       "      <th>Brand_ID</th>\n",
       "      <th>Lag1</th>\n",
       "    </tr>\n",
       "  </thead>\n",
       "  <tbody>\n",
       "    <tr>\n",
       "      <th>0</th>\n",
       "      <td>1255968.0</td>\n",
       "      <td>3.525146</td>\n",
       "      <td>110</td>\n",
       "      <td>602.799988</td>\n",
       "      <td>7877500.5</td>\n",
       "      <td>0.994470</td>\n",
       "      <td>1.353182</td>\n",
       "      <td>1.098612</td>\n",
       "      <td>7.838836</td>\n",
       "      <td>1.098612</td>\n",
       "      <td>10</td>\n",
       "      <td>1.000000</td>\n",
       "      <td>11</td>\n",
       "      <td>9845327.0</td>\n",
       "      <td>1009521.0</td>\n",
       "      <td>14</td>\n",
       "      <td>0.994717</td>\n",
       "      <td>23</td>\n",
       "      <td>1.098612</td>\n",
       "    </tr>\n",
       "    <tr>\n",
       "      <th>1</th>\n",
       "      <td>15018922.0</td>\n",
       "      <td>6.174839</td>\n",
       "      <td>75</td>\n",
       "      <td>191.419998</td>\n",
       "      <td>30979202.0</td>\n",
       "      <td>0.995613</td>\n",
       "      <td>1.891364</td>\n",
       "      <td>1.892663</td>\n",
       "      <td>6.327346</td>\n",
       "      <td>1.932827</td>\n",
       "      <td>0</td>\n",
       "      <td>1.000000</td>\n",
       "      <td>0</td>\n",
       "      <td>95029912.0</td>\n",
       "      <td>4959501.0</td>\n",
       "      <td>30</td>\n",
       "      <td>0.993341</td>\n",
       "      <td>23</td>\n",
       "      <td>1.853309</td>\n",
       "    </tr>\n",
       "    <tr>\n",
       "      <th>2</th>\n",
       "      <td>16196159.0</td>\n",
       "      <td>5.829977</td>\n",
       "      <td>125</td>\n",
       "      <td>2547.699951</td>\n",
       "      <td>104695280.0</td>\n",
       "      <td>0.988161</td>\n",
       "      <td>1.407666</td>\n",
       "      <td>1.907352</td>\n",
       "      <td>8.595759</td>\n",
       "      <td>1.609438</td>\n",
       "      <td>4</td>\n",
       "      <td>0.995423</td>\n",
       "      <td>31</td>\n",
       "      <td>139218288.0</td>\n",
       "      <td>12313013.0</td>\n",
       "      <td>24</td>\n",
       "      <td>0.985865</td>\n",
       "      <td>4</td>\n",
       "      <td>1.386294</td>\n",
       "    </tr>\n",
       "  </tbody>\n",
       "</table>\n",
       "</div>"
      ],
      "text/plain": [
       "   prod_name_sum_Venta_uni_hoy  Client_Sum_venta_div_venta_uni  weight  \\\n",
       "0                    1255968.0                        3.525146     110   \n",
       "1                   15018922.0                        6.174839      75   \n",
       "2                   16196159.0                        5.829977     125   \n",
       "\n",
       "   Client_Sum_Venta_hoy  Producto_sum_Venta_hoy  \\\n",
       "0            602.799988               7877500.5   \n",
       "1            191.419998              30979202.0   \n",
       "2           2547.699951             104695280.0   \n",
       "\n",
       "   Producto_ID_sum_demanda_divide_sum_venta_uni      Lag3      Lag0  \\\n",
       "0                                      0.994470  1.353182  1.098612   \n",
       "1                                      0.995613  1.891364  1.892663   \n",
       "2                                      0.988161  1.407666  1.907352   \n",
       "\n",
       "   prod_name_sum_venta_div_venta_uni      Lag2  pieces  \\\n",
       "0                           7.838836  1.098612      10   \n",
       "1                           6.327346  1.932827       0   \n",
       "2                           8.595759  1.609438       4   \n",
       "\n",
       "   Cliente_ID_sum_demanda_divide_sum_venta_uni  weightppieces  \\\n",
       "0                                     1.000000             11   \n",
       "1                                     1.000000              0   \n",
       "2                                     0.995423             31   \n",
       "\n",
       "   prod_name_sum_Venta_hoy  Producto_sum_Venta_uni_hoy  State_ID  \\\n",
       "0                9845327.0                   1009521.0        14   \n",
       "1               95029912.0                   4959501.0        30   \n",
       "2              139218288.0                  12313013.0        24   \n",
       "\n",
       "   Prod_name_ID_sum_demanda_divide_sum_venta_uni  Brand_ID      Lag1  \n",
       "0                                       0.994717        23  1.098612  \n",
       "1                                       0.993341        23  1.853309  \n",
       "2                                       0.985865         4  1.386294  "
      ]
     },
     "metadata": {},
     "output_type": "display_data"
    },
    {
     "data": {
      "text/plain": [
       "32790197    0.693147\n",
       "32790198    1.098612\n",
       "32790199    1.386294\n",
       "Name: Demanda_uni_equil, dtype: float64"
      ]
     },
     "metadata": {},
     "output_type": "display_data"
    }
   ],
   "source": [
    "display(X_train[:3])\n",
    "display(X_test[:3])\n",
    "display(y_train[:3])\n",
    "#display(y_test[:3])"
   ]
  },
  {
   "cell_type": "markdown",
   "metadata": {
    "collapsed": true
   },
   "source": [
    "17:22"
   ]
  },
  {
   "cell_type": "markdown",
   "metadata": {},
   "source": [
    "## Predict test1"
   ]
  },
  {
   "cell_type": "code",
   "execution_count": 23,
   "metadata": {
    "collapsed": false
   },
   "outputs": [
    {
     "name": "stdout",
     "output_type": "stream",
     "text": [
      "[0]\tvalidation_0-rmse:1.2674\n",
      "[1]\tvalidation_0-rmse:1.16816\n",
      "[2]\tvalidation_0-rmse:1.06159\n",
      "[3]\tvalidation_0-rmse:0.977354\n",
      "[4]\tvalidation_0-rmse:0.904152\n",
      "[5]\tvalidation_0-rmse:0.827762\n",
      "[6]\tvalidation_0-rmse:0.770608\n",
      "[7]\tvalidation_0-rmse:0.720874\n",
      "[8]\tvalidation_0-rmse:0.666218\n",
      "[9]\tvalidation_0-rmse:0.617476\n",
      "[10]\tvalidation_0-rmse:0.585614\n",
      "[11]\tvalidation_0-rmse:0.559351\n",
      "[12]\tvalidation_0-rmse:0.535475\n",
      "[13]\tvalidation_0-rmse:0.515255\n",
      "[14]\tvalidation_0-rmse:0.487327\n",
      "[15]\tvalidation_0-rmse:0.472794\n",
      "[16]\tvalidation_0-rmse:0.461294\n",
      "[17]\tvalidation_0-rmse:0.450903\n",
      "[18]\tvalidation_0-rmse:0.43358\n",
      "[19]\tvalidation_0-rmse:0.418451\n",
      "[20]\tvalidation_0-rmse:0.405882\n",
      "[21]\tvalidation_0-rmse:0.401143\n",
      "[22]\tvalidation_0-rmse:0.39154\n",
      "[23]\tvalidation_0-rmse:0.388763\n",
      "[24]\tvalidation_0-rmse:0.385955\n",
      "[25]\tvalidation_0-rmse:0.383633\n",
      "[26]\tvalidation_0-rmse:0.375335\n",
      "[27]\tvalidation_0-rmse:0.368133\n",
      "[28]\tvalidation_0-rmse:0.366798\n",
      "[29]\tvalidation_0-rmse:0.362065\n",
      "[30]\tvalidation_0-rmse:0.361158\n",
      "[31]\tvalidation_0-rmse:0.360398\n",
      "[32]\tvalidation_0-rmse:0.359877\n",
      "[33]\tvalidation_0-rmse:0.359437\n",
      "[34]\tvalidation_0-rmse:0.356603\n",
      "[35]\tvalidation_0-rmse:0.354549\n",
      "[36]\tvalidation_0-rmse:0.351862\n",
      "[37]\tvalidation_0-rmse:0.351644\n",
      "[38]\tvalidation_0-rmse:0.349263\n",
      "[39]\tvalidation_0-rmse:0.349043\n",
      "trainResult:  0.349042818671\n",
      "Best Iteration:  39\n",
      "Best Score:  0.476226\n",
      "Axes(0.125,0.125;0.775x0.775)\n"
     ]
    },
    {
     "data": {
      "image/png": "[encoded data removed]",
      "text/plain": [
       "<matplotlib.figure.Figure at 0x7fe65dc7a790>"
      ]
     },
     "metadata": {},
     "output_type": "display_data"
    }
   ],
   "source": [
    "clf1 = pickle.load(open(\"../../input/test1.pkl\", \"rb\"))\n",
    "clf1.set_params(**{\"n_estimators\" : clf1.best_iteration+1})\n",
    "\n",
    "clf1.fit(X_train,y_train, verbose=1, eval_set=[(X_train, y_train)])\n",
    "\n",
    "predictions = clf1.predict(X_train,ntree_limit  = clf1.best_iteration+1)\n",
    "predictionsTest = clf1.predict(X_test,ntree_limit  = clf1.best_iteration+1)\n",
    "\n",
    "print \"trainResult: \", np.sqrt(mean_squared_error(y_train, predictions))\n",
    "#print \"testResult: \", np.sqrt(mean_squared_error(y_test, predictionsTest))\n",
    "print \"Best Iteration: \", clf1.best_iteration\n",
    "print \"Best Score: \", clf1.best_score\n",
    "print xgb.plot_importance(clf1)"
   ]
  },
  {
   "cell_type": "code",
   "execution_count": 24,
   "metadata": {
    "collapsed": false
   },
   "outputs": [
    {
     "data": {
      "text/html": [
       "<div>\n",
       "<table border=\"1\" class=\"dataframe\">\n",
       "  <thead>\n",
       "    <tr style=\"text-align: right;\">\n",
       "      <th></th>\n",
       "      <th>id</th>\n",
       "      <th>Semana</th>\n",
       "      <th>Agencia_ID</th>\n",
       "      <th>Canal_ID</th>\n",
       "      <th>Ruta_SAK</th>\n",
       "      <th>Cliente_ID</th>\n",
       "      <th>Producto_ID</th>\n",
       "      <th>Town_ID</th>\n",
       "      <th>State_ID</th>\n",
       "      <th>weight</th>\n",
       "      <th>...</th>\n",
       "      <th>ClientPerTown</th>\n",
       "      <th>client_return_sum</th>\n",
       "      <th>client_return_count</th>\n",
       "      <th>Client_return_rate</th>\n",
       "      <th>producto_return_sum</th>\n",
       "      <th>producto_return_count</th>\n",
       "      <th>producto_return_rate</th>\n",
       "      <th>prod_name_return_sum</th>\n",
       "      <th>prod_name_return_count</th>\n",
       "      <th>prod_name_return_rate</th>\n",
       "    </tr>\n",
       "  </thead>\n",
       "  <tbody>\n",
       "    <tr>\n",
       "      <th>0</th>\n",
       "      <td>0</td>\n",
       "      <td>11</td>\n",
       "      <td>4037</td>\n",
       "      <td>1</td>\n",
       "      <td>2209</td>\n",
       "      <td>4639078</td>\n",
       "      <td>35305</td>\n",
       "      <td>2499</td>\n",
       "      <td>28</td>\n",
       "      <td>75</td>\n",
       "      <td>...</td>\n",
       "      <td>5795</td>\n",
       "      <td>1.0</td>\n",
       "      <td>16.0</td>\n",
       "      <td>0.0625</td>\n",
       "      <td>1709.0</td>\n",
       "      <td>537709.0</td>\n",
       "      <td>0.003178</td>\n",
       "      <td>6286.0</td>\n",
       "      <td>1455315.0</td>\n",
       "      <td>0.004319</td>\n",
       "    </tr>\n",
       "  </tbody>\n",
       "</table>\n",
       "<p>1 rows × 39 columns</p>\n",
       "</div>"
      ],
      "text/plain": [
       "   id  Semana  Agencia_ID  Canal_ID  Ruta_SAK  Cliente_ID  Producto_ID  \\\n",
       "0   0      11        4037         1      2209     4639078        35305   \n",
       "\n",
       "   Town_ID  State_ID  weight          ...            ClientPerTown  \\\n",
       "0     2499        28      75          ...                     5795   \n",
       "\n",
       "   client_return_sum  client_return_count  Client_return_rate  \\\n",
       "0                1.0                 16.0              0.0625   \n",
       "\n",
       "   producto_return_sum  producto_return_count  producto_return_rate  \\\n",
       "0               1709.0               537709.0              0.003178   \n",
       "\n",
       "   prod_name_return_sum  prod_name_return_count  prod_name_return_rate  \n",
       "0                6286.0               1455315.0               0.004319  \n",
       "\n",
       "[1 rows x 39 columns]"
      ]
     },
     "execution_count": 24,
     "metadata": {},
     "output_type": "execute_result"
    }
   ],
   "source": [
    "FE.test2[(FE.test2.id == 0)]"
   ]
  },
  {
   "cell_type": "code",
   "execution_count": 25,
   "metadata": {
    "collapsed": true
   },
   "outputs": [],
   "source": [
    "submission1 = pd.DataFrame({'id':FE.test1.id, 'Demanda_uni_equil': predictionsTest})"
   ]
  },
  {
   "cell_type": "code",
   "execution_count": 26,
   "metadata": {
    "collapsed": false
   },
   "outputs": [
    {
     "data": {
      "text/html": [
       "<div>\n",
       "<table border=\"1\" class=\"dataframe\">\n",
       "  <thead>\n",
       "    <tr style=\"text-align: right;\">\n",
       "      <th></th>\n",
       "      <th>id</th>\n",
       "      <th>Semana</th>\n",
       "      <th>Agencia_ID</th>\n",
       "      <th>Canal_ID</th>\n",
       "      <th>Ruta_SAK</th>\n",
       "      <th>Cliente_ID</th>\n",
       "      <th>Producto_ID</th>\n",
       "      <th>Town_ID</th>\n",
       "      <th>State_ID</th>\n",
       "      <th>weight</th>\n",
       "      <th>...</th>\n",
       "      <th>ClientPerTown</th>\n",
       "      <th>client_return_sum</th>\n",
       "      <th>client_return_count</th>\n",
       "      <th>Client_return_rate</th>\n",
       "      <th>producto_return_sum</th>\n",
       "      <th>producto_return_count</th>\n",
       "      <th>producto_return_rate</th>\n",
       "      <th>prod_name_return_sum</th>\n",
       "      <th>prod_name_return_count</th>\n",
       "      <th>prod_name_return_rate</th>\n",
       "    </tr>\n",
       "  </thead>\n",
       "  <tbody>\n",
       "    <tr>\n",
       "      <th>0</th>\n",
       "      <td>0</td>\n",
       "      <td>11</td>\n",
       "      <td>4037</td>\n",
       "      <td>1</td>\n",
       "      <td>2209</td>\n",
       "      <td>4639078</td>\n",
       "      <td>35305</td>\n",
       "      <td>2499</td>\n",
       "      <td>28</td>\n",
       "      <td>75</td>\n",
       "      <td>...</td>\n",
       "      <td>5795</td>\n",
       "      <td>1.0</td>\n",
       "      <td>16.0</td>\n",
       "      <td>0.0625</td>\n",
       "      <td>1709.0</td>\n",
       "      <td>537709.0</td>\n",
       "      <td>0.003178</td>\n",
       "      <td>6286.0</td>\n",
       "      <td>1455315.0</td>\n",
       "      <td>0.004319</td>\n",
       "    </tr>\n",
       "  </tbody>\n",
       "</table>\n",
       "<p>1 rows × 39 columns</p>\n",
       "</div>"
      ],
      "text/plain": [
       "   id  Semana  Agencia_ID  Canal_ID  Ruta_SAK  Cliente_ID  Producto_ID  \\\n",
       "0   0      11        4037         1      2209     4639078        35305   \n",
       "\n",
       "   Town_ID  State_ID  weight          ...            ClientPerTown  \\\n",
       "0     2499        28      75          ...                     5795   \n",
       "\n",
       "   client_return_sum  client_return_count  Client_return_rate  \\\n",
       "0                1.0                 16.0              0.0625   \n",
       "\n",
       "   producto_return_sum  producto_return_count  producto_return_rate  \\\n",
       "0               1709.0               537709.0              0.003178   \n",
       "\n",
       "   prod_name_return_sum  prod_name_return_count  prod_name_return_rate  \n",
       "0                6286.0               1455315.0               0.004319  \n",
       "\n",
       "[1 rows x 39 columns]"
      ]
     },
     "execution_count": 26,
     "metadata": {},
     "output_type": "execute_result"
    }
   ],
   "source": [
    "FE.test2[(FE.test2.id == 0)]"
   ]
  },
  {
   "cell_type": "code",
   "execution_count": 27,
   "metadata": {
    "collapsed": false
   },
   "outputs": [
    {
     "data": {
      "text/plain": [
       "(3460866, 39)"
      ]
     },
     "execution_count": 27,
     "metadata": {},
     "output_type": "execute_result"
    }
   ],
   "source": [
    "FE.test2.shape"
   ]
  },
  {
   "cell_type": "code",
   "execution_count": null,
   "metadata": {
    "collapsed": true
   },
   "outputs": [],
   "source": []
  },
  {
   "cell_type": "markdown",
   "metadata": {
    "collapsed": true
   },
   "source": [
    "## Predict test2"
   ]
  },
  {
   "cell_type": "code",
   "execution_count": 28,
   "metadata": {
    "collapsed": false
   },
   "outputs": [],
   "source": [
    "X_train = FE.train[test2columns]\n",
    "X_test = FE.test2[test2columns]\n",
    "y_train = FE.train[\"Demanda_uni_equil\"]\n",
    "#y_test = FE.test2[\"Demanda_uni_equil\"]"
   ]
  },
  {
   "cell_type": "code",
   "execution_count": 29,
   "metadata": {
    "collapsed": false
   },
   "outputs": [
    {
     "data": {
      "text/html": [
       "<div>\n",
       "<table border=\"1\" class=\"dataframe\">\n",
       "  <thead>\n",
       "    <tr style=\"text-align: right;\">\n",
       "      <th></th>\n",
       "      <th>id</th>\n",
       "      <th>Semana</th>\n",
       "      <th>Agencia_ID</th>\n",
       "      <th>Canal_ID</th>\n",
       "      <th>Ruta_SAK</th>\n",
       "      <th>Cliente_ID</th>\n",
       "      <th>Producto_ID</th>\n",
       "      <th>Town_ID</th>\n",
       "      <th>State_ID</th>\n",
       "      <th>weight</th>\n",
       "      <th>...</th>\n",
       "      <th>ClientPerTown</th>\n",
       "      <th>client_return_sum</th>\n",
       "      <th>client_return_count</th>\n",
       "      <th>Client_return_rate</th>\n",
       "      <th>producto_return_sum</th>\n",
       "      <th>producto_return_count</th>\n",
       "      <th>producto_return_rate</th>\n",
       "      <th>prod_name_return_sum</th>\n",
       "      <th>prod_name_return_count</th>\n",
       "      <th>prod_name_return_rate</th>\n",
       "    </tr>\n",
       "  </thead>\n",
       "  <tbody>\n",
       "    <tr>\n",
       "      <th>0</th>\n",
       "      <td>0</td>\n",
       "      <td>11</td>\n",
       "      <td>4037</td>\n",
       "      <td>1</td>\n",
       "      <td>2209</td>\n",
       "      <td>4639078</td>\n",
       "      <td>35305</td>\n",
       "      <td>2499</td>\n",
       "      <td>28</td>\n",
       "      <td>75</td>\n",
       "      <td>...</td>\n",
       "      <td>5795</td>\n",
       "      <td>1.0</td>\n",
       "      <td>16.0</td>\n",
       "      <td>0.0625</td>\n",
       "      <td>1709.0</td>\n",
       "      <td>537709.0</td>\n",
       "      <td>0.003178</td>\n",
       "      <td>6286.0</td>\n",
       "      <td>1455315.0</td>\n",
       "      <td>0.004319</td>\n",
       "    </tr>\n",
       "  </tbody>\n",
       "</table>\n",
       "<p>1 rows × 39 columns</p>\n",
       "</div>"
      ],
      "text/plain": [
       "   id  Semana  Agencia_ID  Canal_ID  Ruta_SAK  Cliente_ID  Producto_ID  \\\n",
       "0   0      11        4037         1      2209     4639078        35305   \n",
       "\n",
       "   Town_ID  State_ID  weight          ...            ClientPerTown  \\\n",
       "0     2499        28      75          ...                     5795   \n",
       "\n",
       "   client_return_sum  client_return_count  Client_return_rate  \\\n",
       "0                1.0                 16.0              0.0625   \n",
       "\n",
       "   producto_return_sum  producto_return_count  producto_return_rate  \\\n",
       "0               1709.0               537709.0              0.003178   \n",
       "\n",
       "   prod_name_return_sum  prod_name_return_count  prod_name_return_rate  \n",
       "0                6286.0               1455315.0               0.004319  \n",
       "\n",
       "[1 rows x 39 columns]"
      ]
     },
     "execution_count": 29,
     "metadata": {},
     "output_type": "execute_result"
    }
   ],
   "source": [
    "FE.test2[(FE.test2.id == 0)]"
   ]
  },
  {
   "cell_type": "code",
   "execution_count": 30,
   "metadata": {
    "collapsed": false
   },
   "outputs": [
    {
     "data": {
      "text/plain": [
       "(3460866, 39)"
      ]
     },
     "execution_count": 30,
     "metadata": {},
     "output_type": "execute_result"
    }
   ],
   "source": [
    "FE.test2.shape"
   ]
  },
  {
   "cell_type": "code",
   "execution_count": 31,
   "metadata": {
    "collapsed": false
   },
   "outputs": [
    {
     "name": "stdout",
     "output_type": "stream",
     "text": [
      "[0]\tvalidation_0-rmse:1.27375\n",
      "[1]\tvalidation_0-rmse:1.16964\n",
      "[2]\tvalidation_0-rmse:1.08323\n",
      "[3]\tvalidation_0-rmse:0.985944\n",
      "[4]\tvalidation_0-rmse:0.899545\n",
      "[5]\tvalidation_0-rmse:0.835217\n",
      "[6]\tvalidation_0-rmse:0.779343\n",
      "[7]\tvalidation_0-rmse:0.736951\n",
      "[8]\tvalidation_0-rmse:0.680367\n",
      "[9]\tvalidation_0-rmse:0.63097\n",
      "[10]\tvalidation_0-rmse:0.587671\n",
      "[11]\tvalidation_0-rmse:0.560115\n",
      "[12]\tvalidation_0-rmse:0.525228\n",
      "[13]\tvalidation_0-rmse:0.496188\n",
      "[14]\tvalidation_0-rmse:0.477893\n",
      "[15]\tvalidation_0-rmse:0.462461\n",
      "[16]\tvalidation_0-rmse:0.442786\n",
      "[17]\tvalidation_0-rmse:0.43282\n",
      "[18]\tvalidation_0-rmse:0.424475\n",
      "[19]\tvalidation_0-rmse:0.418273\n",
      "[20]\tvalidation_0-rmse:0.406407\n",
      "[21]\tvalidation_0-rmse:0.394219\n",
      "[22]\tvalidation_0-rmse:0.385854\n",
      "[23]\tvalidation_0-rmse:0.37695\n",
      "[24]\tvalidation_0-rmse:0.374252\n",
      "[25]\tvalidation_0-rmse:0.371739\n",
      "[26]\tvalidation_0-rmse:0.366997\n",
      "[27]\tvalidation_0-rmse:0.365563\n",
      "[28]\tvalidation_0-rmse:0.360075\n",
      "trainResult:  0.360075094132\n",
      "Best Iteration:  28\n",
      "Best Score:  0.498475\n",
      "Axes(0.125,0.125;0.775x0.775)\n"
     ]
    },
    {
     "data": {
      "image/png": "[encoded data removed]",
      "text/plain": [
       "<matplotlib.figure.Figure at 0x7fe252f05ed0>"
      ]
     },
     "metadata": {},
     "output_type": "display_data"
    }
   ],
   "source": [
    "clf2 = pickle.load(open(\"../../input/test2.pkl\", \"rb\"))\n",
    "\n",
    "clf2.set_params(**{\"n_estimators\" : clf2.best_iteration+1})\n",
    "\n",
    "clf2.fit(X_train,y_train, verbose=1, eval_set=[(X_train, y_train)])\n",
    "\n",
    "predictions = clf2.predict(X_train,ntree_limit  = clf2.best_iteration+1)\n",
    "predictionsTest = clf2.predict(X_test,ntree_limit  = clf2.best_iteration+1)\n",
    "\n",
    "print \"trainResult: \", np.sqrt(mean_squared_error(y_train, predictions))\n",
    "#print \"testResult: \", np.sqrt(mean_squared_error(y_test, predictionsTest))\n",
    "print \"Best Iteration: \", clf2.best_iteration\n",
    "print \"Best Score: \", clf2.best_score\n",
    "print xgb.plot_importance(clf2)"
   ]
  },
  {
   "cell_type": "code",
   "execution_count": 32,
   "metadata": {
    "collapsed": false
   },
   "outputs": [
    {
     "data": {
      "text/html": [
       "<div>\n",
       "<table border=\"1\" class=\"dataframe\">\n",
       "  <thead>\n",
       "    <tr style=\"text-align: right;\">\n",
       "      <th></th>\n",
       "      <th>id</th>\n",
       "      <th>Semana</th>\n",
       "      <th>Agencia_ID</th>\n",
       "      <th>Canal_ID</th>\n",
       "      <th>Ruta_SAK</th>\n",
       "      <th>Cliente_ID</th>\n",
       "      <th>Producto_ID</th>\n",
       "      <th>Town_ID</th>\n",
       "      <th>State_ID</th>\n",
       "      <th>weight</th>\n",
       "      <th>...</th>\n",
       "      <th>ClientPerTown</th>\n",
       "      <th>client_return_sum</th>\n",
       "      <th>client_return_count</th>\n",
       "      <th>Client_return_rate</th>\n",
       "      <th>producto_return_sum</th>\n",
       "      <th>producto_return_count</th>\n",
       "      <th>producto_return_rate</th>\n",
       "      <th>prod_name_return_sum</th>\n",
       "      <th>prod_name_return_count</th>\n",
       "      <th>prod_name_return_rate</th>\n",
       "    </tr>\n",
       "  </thead>\n",
       "  <tbody>\n",
       "    <tr>\n",
       "      <th>0</th>\n",
       "      <td>0</td>\n",
       "      <td>11</td>\n",
       "      <td>4037</td>\n",
       "      <td>1</td>\n",
       "      <td>2209</td>\n",
       "      <td>4639078</td>\n",
       "      <td>35305</td>\n",
       "      <td>2499</td>\n",
       "      <td>28</td>\n",
       "      <td>75</td>\n",
       "      <td>...</td>\n",
       "      <td>5795</td>\n",
       "      <td>1.0</td>\n",
       "      <td>16.0</td>\n",
       "      <td>0.0625</td>\n",
       "      <td>1709.0</td>\n",
       "      <td>537709.0</td>\n",
       "      <td>0.003178</td>\n",
       "      <td>6286.0</td>\n",
       "      <td>1455315.0</td>\n",
       "      <td>0.004319</td>\n",
       "    </tr>\n",
       "  </tbody>\n",
       "</table>\n",
       "<p>1 rows × 39 columns</p>\n",
       "</div>"
      ],
      "text/plain": [
       "   id  Semana  Agencia_ID  Canal_ID  Ruta_SAK  Cliente_ID  Producto_ID  \\\n",
       "0   0      11        4037         1      2209     4639078        35305   \n",
       "\n",
       "   Town_ID  State_ID  weight          ...            ClientPerTown  \\\n",
       "0     2499        28      75          ...                     5795   \n",
       "\n",
       "   client_return_sum  client_return_count  Client_return_rate  \\\n",
       "0                1.0                 16.0              0.0625   \n",
       "\n",
       "   producto_return_sum  producto_return_count  producto_return_rate  \\\n",
       "0               1709.0               537709.0              0.003178   \n",
       "\n",
       "   prod_name_return_sum  prod_name_return_count  prod_name_return_rate  \n",
       "0                6286.0               1455315.0               0.004319  \n",
       "\n",
       "[1 rows x 39 columns]"
      ]
     },
     "execution_count": 32,
     "metadata": {},
     "output_type": "execute_result"
    }
   ],
   "source": [
    "FE.test2[(FE.test2.id == 0)]"
   ]
  },
  {
   "cell_type": "code",
   "execution_count": 33,
   "metadata": {
    "collapsed": false
   },
   "outputs": [
    {
     "data": {
      "text/plain": [
       "(3460866, 39)"
      ]
     },
     "execution_count": 33,
     "metadata": {},
     "output_type": "execute_result"
    }
   ],
   "source": [
    "FE.test2.shape"
   ]
  },
  {
   "cell_type": "code",
   "execution_count": 34,
   "metadata": {
    "collapsed": true
   },
   "outputs": [],
   "source": [
    "submission2 = pd.DataFrame({'id':FE.test2.id, 'Demanda_uni_equil': predictionsTest})"
   ]
  },
  {
   "cell_type": "code",
   "execution_count": 35,
   "metadata": {
    "collapsed": false
   },
   "outputs": [
    {
     "data": {
      "text/html": [
       "<div>\n",
       "<table border=\"1\" class=\"dataframe\">\n",
       "  <thead>\n",
       "    <tr style=\"text-align: right;\">\n",
       "      <th></th>\n",
       "      <th>id</th>\n",
       "      <th>Semana</th>\n",
       "      <th>Agencia_ID</th>\n",
       "      <th>Canal_ID</th>\n",
       "      <th>Ruta_SAK</th>\n",
       "      <th>Cliente_ID</th>\n",
       "      <th>Producto_ID</th>\n",
       "      <th>Town_ID</th>\n",
       "      <th>State_ID</th>\n",
       "      <th>weight</th>\n",
       "      <th>...</th>\n",
       "      <th>ClientPerTown</th>\n",
       "      <th>client_return_sum</th>\n",
       "      <th>client_return_count</th>\n",
       "      <th>Client_return_rate</th>\n",
       "      <th>producto_return_sum</th>\n",
       "      <th>producto_return_count</th>\n",
       "      <th>producto_return_rate</th>\n",
       "      <th>prod_name_return_sum</th>\n",
       "      <th>prod_name_return_count</th>\n",
       "      <th>prod_name_return_rate</th>\n",
       "    </tr>\n",
       "  </thead>\n",
       "  <tbody>\n",
       "    <tr>\n",
       "      <th>0</th>\n",
       "      <td>0</td>\n",
       "      <td>11</td>\n",
       "      <td>4037</td>\n",
       "      <td>1</td>\n",
       "      <td>2209</td>\n",
       "      <td>4639078</td>\n",
       "      <td>35305</td>\n",
       "      <td>2499</td>\n",
       "      <td>28</td>\n",
       "      <td>75</td>\n",
       "      <td>...</td>\n",
       "      <td>5795</td>\n",
       "      <td>1.0</td>\n",
       "      <td>16.0</td>\n",
       "      <td>0.0625</td>\n",
       "      <td>1709.0</td>\n",
       "      <td>537709.0</td>\n",
       "      <td>0.003178</td>\n",
       "      <td>6286.0</td>\n",
       "      <td>1455315.0</td>\n",
       "      <td>0.004319</td>\n",
       "    </tr>\n",
       "  </tbody>\n",
       "</table>\n",
       "<p>1 rows × 39 columns</p>\n",
       "</div>"
      ],
      "text/plain": [
       "   id  Semana  Agencia_ID  Canal_ID  Ruta_SAK  Cliente_ID  Producto_ID  \\\n",
       "0   0      11        4037         1      2209     4639078        35305   \n",
       "\n",
       "   Town_ID  State_ID  weight          ...            ClientPerTown  \\\n",
       "0     2499        28      75          ...                     5795   \n",
       "\n",
       "   client_return_sum  client_return_count  Client_return_rate  \\\n",
       "0                1.0                 16.0              0.0625   \n",
       "\n",
       "   producto_return_sum  producto_return_count  producto_return_rate  \\\n",
       "0               1709.0               537709.0              0.003178   \n",
       "\n",
       "   prod_name_return_sum  prod_name_return_count  prod_name_return_rate  \n",
       "0                6286.0               1455315.0               0.004319  \n",
       "\n",
       "[1 rows x 39 columns]"
      ]
     },
     "execution_count": 35,
     "metadata": {},
     "output_type": "execute_result"
    }
   ],
   "source": [
    "FE.test2[(FE.test2.id == 0)]"
   ]
  },
  {
   "cell_type": "code",
   "execution_count": 36,
   "metadata": {
    "collapsed": false
   },
   "outputs": [
    {
     "data": {
      "text/plain": [
       "1"
      ]
     },
     "execution_count": 36,
     "metadata": {},
     "output_type": "execute_result"
    }
   ],
   "source": [
    "(FE.test2[\"id\"] == 0).sum()"
   ]
  },
  {
   "cell_type": "markdown",
   "metadata": {},
   "source": [
    "## Arrange Submission File"
   ]
  },
  {
   "cell_type": "code",
   "execution_count": 37,
   "metadata": {
    "collapsed": false
   },
   "outputs": [],
   "source": [
    "submission = submission2.append(submission1)"
   ]
  },
  {
   "cell_type": "code",
   "execution_count": 38,
   "metadata": {
    "collapsed": false
   },
   "outputs": [
    {
     "data": {
      "text/html": [
       "<div>\n",
       "<table border=\"1\" class=\"dataframe\">\n",
       "  <thead>\n",
       "    <tr style=\"text-align: right;\">\n",
       "      <th></th>\n",
       "      <th>Demanda_uni_equil</th>\n",
       "      <th>id</th>\n",
       "    </tr>\n",
       "  </thead>\n",
       "  <tbody>\n",
       "    <tr>\n",
       "      <th>0</th>\n",
       "      <td>1.586293</td>\n",
       "      <td>0</td>\n",
       "    </tr>\n",
       "    <tr>\n",
       "      <th>1</th>\n",
       "      <td>0.928641</td>\n",
       "      <td>1</td>\n",
       "    </tr>\n",
       "    <tr>\n",
       "      <th>2</th>\n",
       "      <td>0.993858</td>\n",
       "      <td>3</td>\n",
       "    </tr>\n",
       "    <tr>\n",
       "      <th>3</th>\n",
       "      <td>1.407226</td>\n",
       "      <td>4</td>\n",
       "    </tr>\n",
       "    <tr>\n",
       "      <th>4</th>\n",
       "      <td>1.421480</td>\n",
       "      <td>5</td>\n",
       "    </tr>\n",
       "    <tr>\n",
       "      <th>5</th>\n",
       "      <td>0.844768</td>\n",
       "      <td>6</td>\n",
       "    </tr>\n",
       "    <tr>\n",
       "      <th>6</th>\n",
       "      <td>1.679223</td>\n",
       "      <td>9</td>\n",
       "    </tr>\n",
       "    <tr>\n",
       "      <th>7</th>\n",
       "      <td>2.045991</td>\n",
       "      <td>10</td>\n",
       "    </tr>\n",
       "    <tr>\n",
       "      <th>8</th>\n",
       "      <td>1.681146</td>\n",
       "      <td>12</td>\n",
       "    </tr>\n",
       "    <tr>\n",
       "      <th>9</th>\n",
       "      <td>1.705539</td>\n",
       "      <td>15</td>\n",
       "    </tr>\n",
       "    <tr>\n",
       "      <th>10</th>\n",
       "      <td>0.952267</td>\n",
       "      <td>16</td>\n",
       "    </tr>\n",
       "    <tr>\n",
       "      <th>11</th>\n",
       "      <td>1.122779</td>\n",
       "      <td>17</td>\n",
       "    </tr>\n",
       "    <tr>\n",
       "      <th>12</th>\n",
       "      <td>1.490863</td>\n",
       "      <td>19</td>\n",
       "    </tr>\n",
       "    <tr>\n",
       "      <th>13</th>\n",
       "      <td>1.679580</td>\n",
       "      <td>20</td>\n",
       "    </tr>\n",
       "    <tr>\n",
       "      <th>14</th>\n",
       "      <td>2.193216</td>\n",
       "      <td>21</td>\n",
       "    </tr>\n",
       "    <tr>\n",
       "      <th>15</th>\n",
       "      <td>0.951604</td>\n",
       "      <td>23</td>\n",
       "    </tr>\n",
       "    <tr>\n",
       "      <th>16</th>\n",
       "      <td>0.732545</td>\n",
       "      <td>24</td>\n",
       "    </tr>\n",
       "    <tr>\n",
       "      <th>17</th>\n",
       "      <td>2.098179</td>\n",
       "      <td>25</td>\n",
       "    </tr>\n",
       "    <tr>\n",
       "      <th>18</th>\n",
       "      <td>1.683647</td>\n",
       "      <td>27</td>\n",
       "    </tr>\n",
       "    <tr>\n",
       "      <th>19</th>\n",
       "      <td>0.759713</td>\n",
       "      <td>28</td>\n",
       "    </tr>\n",
       "    <tr>\n",
       "      <th>20</th>\n",
       "      <td>0.787605</td>\n",
       "      <td>29</td>\n",
       "    </tr>\n",
       "    <tr>\n",
       "      <th>21</th>\n",
       "      <td>1.734899</td>\n",
       "      <td>30</td>\n",
       "    </tr>\n",
       "    <tr>\n",
       "      <th>22</th>\n",
       "      <td>1.989252</td>\n",
       "      <td>33</td>\n",
       "    </tr>\n",
       "    <tr>\n",
       "      <th>23</th>\n",
       "      <td>1.221168</td>\n",
       "      <td>34</td>\n",
       "    </tr>\n",
       "    <tr>\n",
       "      <th>24</th>\n",
       "      <td>0.960551</td>\n",
       "      <td>35</td>\n",
       "    </tr>\n",
       "    <tr>\n",
       "      <th>25</th>\n",
       "      <td>0.710320</td>\n",
       "      <td>36</td>\n",
       "    </tr>\n",
       "    <tr>\n",
       "      <th>26</th>\n",
       "      <td>1.869598</td>\n",
       "      <td>39</td>\n",
       "    </tr>\n",
       "    <tr>\n",
       "      <th>27</th>\n",
       "      <td>1.142011</td>\n",
       "      <td>40</td>\n",
       "    </tr>\n",
       "    <tr>\n",
       "      <th>28</th>\n",
       "      <td>3.179850</td>\n",
       "      <td>42</td>\n",
       "    </tr>\n",
       "    <tr>\n",
       "      <th>29</th>\n",
       "      <td>0.711106</td>\n",
       "      <td>45</td>\n",
       "    </tr>\n",
       "    <tr>\n",
       "      <th>...</th>\n",
       "      <td>...</td>\n",
       "      <td>...</td>\n",
       "    </tr>\n",
       "    <tr>\n",
       "      <th>3538355</th>\n",
       "      <td>2.191184</td>\n",
       "      <td>6999174</td>\n",
       "    </tr>\n",
       "    <tr>\n",
       "      <th>3538356</th>\n",
       "      <td>3.338451</td>\n",
       "      <td>6999175</td>\n",
       "    </tr>\n",
       "    <tr>\n",
       "      <th>3538357</th>\n",
       "      <td>0.687134</td>\n",
       "      <td>6999176</td>\n",
       "    </tr>\n",
       "    <tr>\n",
       "      <th>3538358</th>\n",
       "      <td>4.216543</td>\n",
       "      <td>6999179</td>\n",
       "    </tr>\n",
       "    <tr>\n",
       "      <th>3538359</th>\n",
       "      <td>1.171031</td>\n",
       "      <td>6999181</td>\n",
       "    </tr>\n",
       "    <tr>\n",
       "      <th>3538360</th>\n",
       "      <td>1.779066</td>\n",
       "      <td>6999193</td>\n",
       "    </tr>\n",
       "    <tr>\n",
       "      <th>3538361</th>\n",
       "      <td>0.761718</td>\n",
       "      <td>6999195</td>\n",
       "    </tr>\n",
       "    <tr>\n",
       "      <th>3538362</th>\n",
       "      <td>1.194803</td>\n",
       "      <td>6999196</td>\n",
       "    </tr>\n",
       "    <tr>\n",
       "      <th>3538363</th>\n",
       "      <td>2.529145</td>\n",
       "      <td>6999198</td>\n",
       "    </tr>\n",
       "    <tr>\n",
       "      <th>3538364</th>\n",
       "      <td>2.384704</td>\n",
       "      <td>6999200</td>\n",
       "    </tr>\n",
       "    <tr>\n",
       "      <th>3538365</th>\n",
       "      <td>0.866081</td>\n",
       "      <td>6999205</td>\n",
       "    </tr>\n",
       "    <tr>\n",
       "      <th>3538366</th>\n",
       "      <td>2.042190</td>\n",
       "      <td>6999207</td>\n",
       "    </tr>\n",
       "    <tr>\n",
       "      <th>3538367</th>\n",
       "      <td>1.155264</td>\n",
       "      <td>6999211</td>\n",
       "    </tr>\n",
       "    <tr>\n",
       "      <th>3538368</th>\n",
       "      <td>1.440204</td>\n",
       "      <td>6999212</td>\n",
       "    </tr>\n",
       "    <tr>\n",
       "      <th>3538369</th>\n",
       "      <td>1.372287</td>\n",
       "      <td>6999216</td>\n",
       "    </tr>\n",
       "    <tr>\n",
       "      <th>3538370</th>\n",
       "      <td>2.414600</td>\n",
       "      <td>6999217</td>\n",
       "    </tr>\n",
       "    <tr>\n",
       "      <th>3538371</th>\n",
       "      <td>0.658407</td>\n",
       "      <td>6999220</td>\n",
       "    </tr>\n",
       "    <tr>\n",
       "      <th>3538372</th>\n",
       "      <td>1.279577</td>\n",
       "      <td>6999222</td>\n",
       "    </tr>\n",
       "    <tr>\n",
       "      <th>3538373</th>\n",
       "      <td>1.756344</td>\n",
       "      <td>6999223</td>\n",
       "    </tr>\n",
       "    <tr>\n",
       "      <th>3538374</th>\n",
       "      <td>2.468923</td>\n",
       "      <td>6999225</td>\n",
       "    </tr>\n",
       "    <tr>\n",
       "      <th>3538375</th>\n",
       "      <td>1.229587</td>\n",
       "      <td>6999228</td>\n",
       "    </tr>\n",
       "    <tr>\n",
       "      <th>3538376</th>\n",
       "      <td>1.449417</td>\n",
       "      <td>6999229</td>\n",
       "    </tr>\n",
       "    <tr>\n",
       "      <th>3538377</th>\n",
       "      <td>1.221501</td>\n",
       "      <td>6999232</td>\n",
       "    </tr>\n",
       "    <tr>\n",
       "      <th>3538378</th>\n",
       "      <td>0.968996</td>\n",
       "      <td>6999233</td>\n",
       "    </tr>\n",
       "    <tr>\n",
       "      <th>3538379</th>\n",
       "      <td>1.339422</td>\n",
       "      <td>6999237</td>\n",
       "    </tr>\n",
       "    <tr>\n",
       "      <th>3538380</th>\n",
       "      <td>1.980668</td>\n",
       "      <td>6999238</td>\n",
       "    </tr>\n",
       "    <tr>\n",
       "      <th>3538381</th>\n",
       "      <td>0.758423</td>\n",
       "      <td>6999241</td>\n",
       "    </tr>\n",
       "    <tr>\n",
       "      <th>3538382</th>\n",
       "      <td>0.924393</td>\n",
       "      <td>6999242</td>\n",
       "    </tr>\n",
       "    <tr>\n",
       "      <th>3538383</th>\n",
       "      <td>2.242400</td>\n",
       "      <td>6999245</td>\n",
       "    </tr>\n",
       "    <tr>\n",
       "      <th>3538384</th>\n",
       "      <td>1.092225</td>\n",
       "      <td>6999247</td>\n",
       "    </tr>\n",
       "  </tbody>\n",
       "</table>\n",
       "<p>6999251 rows × 2 columns</p>\n",
       "</div>"
      ],
      "text/plain": [
       "         Demanda_uni_equil       id\n",
       "0                 1.586293        0\n",
       "1                 0.928641        1\n",
       "2                 0.993858        3\n",
       "3                 1.407226        4\n",
       "4                 1.421480        5\n",
       "5                 0.844768        6\n",
       "6                 1.679223        9\n",
       "7                 2.045991       10\n",
       "8                 1.681146       12\n",
       "9                 1.705539       15\n",
       "10                0.952267       16\n",
       "11                1.122779       17\n",
       "12                1.490863       19\n",
       "13                1.679580       20\n",
       "14                2.193216       21\n",
       "15                0.951604       23\n",
       "16                0.732545       24\n",
       "17                2.098179       25\n",
       "18                1.683647       27\n",
       "19                0.759713       28\n",
       "20                0.787605       29\n",
       "21                1.734899       30\n",
       "22                1.989252       33\n",
       "23                1.221168       34\n",
       "24                0.960551       35\n",
       "25                0.710320       36\n",
       "26                1.869598       39\n",
       "27                1.142011       40\n",
       "28                3.179850       42\n",
       "29                0.711106       45\n",
       "...                    ...      ...\n",
       "3538355           2.191184  6999174\n",
       "3538356           3.338451  6999175\n",
       "3538357           0.687134  6999176\n",
       "3538358           4.216543  6999179\n",
       "3538359           1.171031  6999181\n",
       "3538360           1.779066  6999193\n",
       "3538361           0.761718  6999195\n",
       "3538362           1.194803  6999196\n",
       "3538363           2.529145  6999198\n",
       "3538364           2.384704  6999200\n",
       "3538365           0.866081  6999205\n",
       "3538366           2.042190  6999207\n",
       "3538367           1.155264  6999211\n",
       "3538368           1.440204  6999212\n",
       "3538369           1.372287  6999216\n",
       "3538370           2.414600  6999217\n",
       "3538371           0.658407  6999220\n",
       "3538372           1.279577  6999222\n",
       "3538373           1.756344  6999223\n",
       "3538374           2.468923  6999225\n",
       "3538375           1.229587  6999228\n",
       "3538376           1.449417  6999229\n",
       "3538377           1.221501  6999232\n",
       "3538378           0.968996  6999233\n",
       "3538379           1.339422  6999237\n",
       "3538380           1.980668  6999238\n",
       "3538381           0.758423  6999241\n",
       "3538382           0.924393  6999242\n",
       "3538383           2.242400  6999245\n",
       "3538384           1.092225  6999247\n",
       "\n",
       "[6999251 rows x 2 columns]"
      ]
     },
     "execution_count": 38,
     "metadata": {},
     "output_type": "execute_result"
    }
   ],
   "source": [
    "submission"
   ]
  },
  {
   "cell_type": "code",
   "execution_count": 39,
   "metadata": {
    "collapsed": false
   },
   "outputs": [
    {
     "data": {
      "text/plain": [
       "1"
      ]
     },
     "execution_count": 39,
     "metadata": {},
     "output_type": "execute_result"
    }
   ],
   "source": [
    "(submission.id == 0).sum()"
   ]
  },
  {
   "cell_type": "code",
   "execution_count": 40,
   "metadata": {
    "collapsed": false
   },
   "outputs": [],
   "source": [
    "submission.loc[:,\"Demanda_uni_equil\"] = np.round(np.expm1(submission[\"Demanda_uni_equil\"]))"
   ]
  },
  {
   "cell_type": "code",
   "execution_count": 41,
   "metadata": {
    "collapsed": false
   },
   "outputs": [
    {
     "data": {
      "text/plain": [
       "1"
      ]
     },
     "execution_count": 41,
     "metadata": {},
     "output_type": "execute_result"
    }
   ],
   "source": [
    "(submission.id == 0).sum()"
   ]
  },
  {
   "cell_type": "code",
   "execution_count": 42,
   "metadata": {
    "collapsed": false
   },
   "outputs": [],
   "source": [
    "submission.sort_values(by=\"id\",inplace=True)"
   ]
  },
  {
   "cell_type": "code",
   "execution_count": 43,
   "metadata": {
    "collapsed": false
   },
   "outputs": [
    {
     "data": {
      "text/plain": [
       "1"
      ]
     },
     "execution_count": 43,
     "metadata": {},
     "output_type": "execute_result"
    }
   ],
   "source": [
    "(submission.id == 0).sum()"
   ]
  },
  {
   "cell_type": "code",
   "execution_count": 44,
   "metadata": {
    "collapsed": false
   },
   "outputs": [
    {
     "data": {
      "text/html": [
       "<div>\n",
       "<table border=\"1\" class=\"dataframe\">\n",
       "  <thead>\n",
       "    <tr style=\"text-align: right;\">\n",
       "      <th></th>\n",
       "      <th>Demanda_uni_equil</th>\n",
       "      <th>id</th>\n",
       "    </tr>\n",
       "  </thead>\n",
       "  <tbody>\n",
       "    <tr>\n",
       "      <th>0</th>\n",
       "      <td>4.0</td>\n",
       "      <td>0</td>\n",
       "    </tr>\n",
       "    <tr>\n",
       "      <th>1</th>\n",
       "      <td>2.0</td>\n",
       "      <td>1</td>\n",
       "    </tr>\n",
       "    <tr>\n",
       "      <th>0</th>\n",
       "      <td>2.0</td>\n",
       "      <td>2</td>\n",
       "    </tr>\n",
       "    <tr>\n",
       "      <th>2</th>\n",
       "      <td>2.0</td>\n",
       "      <td>3</td>\n",
       "    </tr>\n",
       "    <tr>\n",
       "      <th>3</th>\n",
       "      <td>3.0</td>\n",
       "      <td>4</td>\n",
       "    </tr>\n",
       "    <tr>\n",
       "      <th>4</th>\n",
       "      <td>3.0</td>\n",
       "      <td>5</td>\n",
       "    </tr>\n",
       "    <tr>\n",
       "      <th>5</th>\n",
       "      <td>1.0</td>\n",
       "      <td>6</td>\n",
       "    </tr>\n",
       "    <tr>\n",
       "      <th>1</th>\n",
       "      <td>5.0</td>\n",
       "      <td>7</td>\n",
       "    </tr>\n",
       "    <tr>\n",
       "      <th>2</th>\n",
       "      <td>5.0</td>\n",
       "      <td>8</td>\n",
       "    </tr>\n",
       "    <tr>\n",
       "      <th>6</th>\n",
       "      <td>4.0</td>\n",
       "      <td>9</td>\n",
       "    </tr>\n",
       "    <tr>\n",
       "      <th>7</th>\n",
       "      <td>7.0</td>\n",
       "      <td>10</td>\n",
       "    </tr>\n",
       "    <tr>\n",
       "      <th>3</th>\n",
       "      <td>2.0</td>\n",
       "      <td>11</td>\n",
       "    </tr>\n",
       "    <tr>\n",
       "      <th>8</th>\n",
       "      <td>4.0</td>\n",
       "      <td>12</td>\n",
       "    </tr>\n",
       "    <tr>\n",
       "      <th>4</th>\n",
       "      <td>5.0</td>\n",
       "      <td>13</td>\n",
       "    </tr>\n",
       "    <tr>\n",
       "      <th>5</th>\n",
       "      <td>2.0</td>\n",
       "      <td>14</td>\n",
       "    </tr>\n",
       "    <tr>\n",
       "      <th>9</th>\n",
       "      <td>5.0</td>\n",
       "      <td>15</td>\n",
       "    </tr>\n",
       "    <tr>\n",
       "      <th>10</th>\n",
       "      <td>2.0</td>\n",
       "      <td>16</td>\n",
       "    </tr>\n",
       "    <tr>\n",
       "      <th>11</th>\n",
       "      <td>2.0</td>\n",
       "      <td>17</td>\n",
       "    </tr>\n",
       "    <tr>\n",
       "      <th>6</th>\n",
       "      <td>1.0</td>\n",
       "      <td>18</td>\n",
       "    </tr>\n",
       "    <tr>\n",
       "      <th>12</th>\n",
       "      <td>3.0</td>\n",
       "      <td>19</td>\n",
       "    </tr>\n",
       "    <tr>\n",
       "      <th>13</th>\n",
       "      <td>4.0</td>\n",
       "      <td>20</td>\n",
       "    </tr>\n",
       "    <tr>\n",
       "      <th>14</th>\n",
       "      <td>8.0</td>\n",
       "      <td>21</td>\n",
       "    </tr>\n",
       "    <tr>\n",
       "      <th>7</th>\n",
       "      <td>9.0</td>\n",
       "      <td>22</td>\n",
       "    </tr>\n",
       "    <tr>\n",
       "      <th>15</th>\n",
       "      <td>2.0</td>\n",
       "      <td>23</td>\n",
       "    </tr>\n",
       "    <tr>\n",
       "      <th>16</th>\n",
       "      <td>1.0</td>\n",
       "      <td>24</td>\n",
       "    </tr>\n",
       "    <tr>\n",
       "      <th>17</th>\n",
       "      <td>7.0</td>\n",
       "      <td>25</td>\n",
       "    </tr>\n",
       "    <tr>\n",
       "      <th>8</th>\n",
       "      <td>2.0</td>\n",
       "      <td>26</td>\n",
       "    </tr>\n",
       "    <tr>\n",
       "      <th>18</th>\n",
       "      <td>4.0</td>\n",
       "      <td>27</td>\n",
       "    </tr>\n",
       "    <tr>\n",
       "      <th>19</th>\n",
       "      <td>1.0</td>\n",
       "      <td>28</td>\n",
       "    </tr>\n",
       "    <tr>\n",
       "      <th>20</th>\n",
       "      <td>1.0</td>\n",
       "      <td>29</td>\n",
       "    </tr>\n",
       "    <tr>\n",
       "      <th>...</th>\n",
       "      <td>...</td>\n",
       "      <td>...</td>\n",
       "    </tr>\n",
       "    <tr>\n",
       "      <th>3460849</th>\n",
       "      <td>3.0</td>\n",
       "      <td>6999221</td>\n",
       "    </tr>\n",
       "    <tr>\n",
       "      <th>3538372</th>\n",
       "      <td>3.0</td>\n",
       "      <td>6999222</td>\n",
       "    </tr>\n",
       "    <tr>\n",
       "      <th>3538373</th>\n",
       "      <td>5.0</td>\n",
       "      <td>6999223</td>\n",
       "    </tr>\n",
       "    <tr>\n",
       "      <th>3460850</th>\n",
       "      <td>1.0</td>\n",
       "      <td>6999224</td>\n",
       "    </tr>\n",
       "    <tr>\n",
       "      <th>3538374</th>\n",
       "      <td>11.0</td>\n",
       "      <td>6999225</td>\n",
       "    </tr>\n",
       "    <tr>\n",
       "      <th>3460851</th>\n",
       "      <td>3.0</td>\n",
       "      <td>6999226</td>\n",
       "    </tr>\n",
       "    <tr>\n",
       "      <th>3460852</th>\n",
       "      <td>6.0</td>\n",
       "      <td>6999227</td>\n",
       "    </tr>\n",
       "    <tr>\n",
       "      <th>3538375</th>\n",
       "      <td>2.0</td>\n",
       "      <td>6999228</td>\n",
       "    </tr>\n",
       "    <tr>\n",
       "      <th>3538376</th>\n",
       "      <td>3.0</td>\n",
       "      <td>6999229</td>\n",
       "    </tr>\n",
       "    <tr>\n",
       "      <th>3460853</th>\n",
       "      <td>88.0</td>\n",
       "      <td>6999230</td>\n",
       "    </tr>\n",
       "    <tr>\n",
       "      <th>3460854</th>\n",
       "      <td>2.0</td>\n",
       "      <td>6999231</td>\n",
       "    </tr>\n",
       "    <tr>\n",
       "      <th>3538377</th>\n",
       "      <td>2.0</td>\n",
       "      <td>6999232</td>\n",
       "    </tr>\n",
       "    <tr>\n",
       "      <th>3538378</th>\n",
       "      <td>2.0</td>\n",
       "      <td>6999233</td>\n",
       "    </tr>\n",
       "    <tr>\n",
       "      <th>3460855</th>\n",
       "      <td>1.0</td>\n",
       "      <td>6999234</td>\n",
       "    </tr>\n",
       "    <tr>\n",
       "      <th>3460856</th>\n",
       "      <td>5.0</td>\n",
       "      <td>6999235</td>\n",
       "    </tr>\n",
       "    <tr>\n",
       "      <th>3460857</th>\n",
       "      <td>2.0</td>\n",
       "      <td>6999236</td>\n",
       "    </tr>\n",
       "    <tr>\n",
       "      <th>3538379</th>\n",
       "      <td>3.0</td>\n",
       "      <td>6999237</td>\n",
       "    </tr>\n",
       "    <tr>\n",
       "      <th>3538380</th>\n",
       "      <td>6.0</td>\n",
       "      <td>6999238</td>\n",
       "    </tr>\n",
       "    <tr>\n",
       "      <th>3460858</th>\n",
       "      <td>6.0</td>\n",
       "      <td>6999239</td>\n",
       "    </tr>\n",
       "    <tr>\n",
       "      <th>3460859</th>\n",
       "      <td>1.0</td>\n",
       "      <td>6999240</td>\n",
       "    </tr>\n",
       "    <tr>\n",
       "      <th>3538381</th>\n",
       "      <td>1.0</td>\n",
       "      <td>6999241</td>\n",
       "    </tr>\n",
       "    <tr>\n",
       "      <th>3538382</th>\n",
       "      <td>2.0</td>\n",
       "      <td>6999242</td>\n",
       "    </tr>\n",
       "    <tr>\n",
       "      <th>3460860</th>\n",
       "      <td>7.0</td>\n",
       "      <td>6999243</td>\n",
       "    </tr>\n",
       "    <tr>\n",
       "      <th>3460861</th>\n",
       "      <td>34.0</td>\n",
       "      <td>6999244</td>\n",
       "    </tr>\n",
       "    <tr>\n",
       "      <th>3538383</th>\n",
       "      <td>8.0</td>\n",
       "      <td>6999245</td>\n",
       "    </tr>\n",
       "    <tr>\n",
       "      <th>3460862</th>\n",
       "      <td>2.0</td>\n",
       "      <td>6999246</td>\n",
       "    </tr>\n",
       "    <tr>\n",
       "      <th>3538384</th>\n",
       "      <td>2.0</td>\n",
       "      <td>6999247</td>\n",
       "    </tr>\n",
       "    <tr>\n",
       "      <th>3460863</th>\n",
       "      <td>3.0</td>\n",
       "      <td>6999248</td>\n",
       "    </tr>\n",
       "    <tr>\n",
       "      <th>3460864</th>\n",
       "      <td>2.0</td>\n",
       "      <td>6999249</td>\n",
       "    </tr>\n",
       "    <tr>\n",
       "      <th>3460865</th>\n",
       "      <td>1.0</td>\n",
       "      <td>6999250</td>\n",
       "    </tr>\n",
       "  </tbody>\n",
       "</table>\n",
       "<p>6999251 rows × 2 columns</p>\n",
       "</div>"
      ],
      "text/plain": [
       "         Demanda_uni_equil       id\n",
       "0                      4.0        0\n",
       "1                      2.0        1\n",
       "0                      2.0        2\n",
       "2                      2.0        3\n",
       "3                      3.0        4\n",
       "4                      3.0        5\n",
       "5                      1.0        6\n",
       "1                      5.0        7\n",
       "2                      5.0        8\n",
       "6                      4.0        9\n",
       "7                      7.0       10\n",
       "3                      2.0       11\n",
       "8                      4.0       12\n",
       "4                      5.0       13\n",
       "5                      2.0       14\n",
       "9                      5.0       15\n",
       "10                     2.0       16\n",
       "11                     2.0       17\n",
       "6                      1.0       18\n",
       "12                     3.0       19\n",
       "13                     4.0       20\n",
       "14                     8.0       21\n",
       "7                      9.0       22\n",
       "15                     2.0       23\n",
       "16                     1.0       24\n",
       "17                     7.0       25\n",
       "8                      2.0       26\n",
       "18                     4.0       27\n",
       "19                     1.0       28\n",
       "20                     1.0       29\n",
       "...                    ...      ...\n",
       "3460849                3.0  6999221\n",
       "3538372                3.0  6999222\n",
       "3538373                5.0  6999223\n",
       "3460850                1.0  6999224\n",
       "3538374               11.0  6999225\n",
       "3460851                3.0  6999226\n",
       "3460852                6.0  6999227\n",
       "3538375                2.0  6999228\n",
       "3538376                3.0  6999229\n",
       "3460853               88.0  6999230\n",
       "3460854                2.0  6999231\n",
       "3538377                2.0  6999232\n",
       "3538378                2.0  6999233\n",
       "3460855                1.0  6999234\n",
       "3460856                5.0  6999235\n",
       "3460857                2.0  6999236\n",
       "3538379                3.0  6999237\n",
       "3538380                6.0  6999238\n",
       "3460858                6.0  6999239\n",
       "3460859                1.0  6999240\n",
       "3538381                1.0  6999241\n",
       "3538382                2.0  6999242\n",
       "3460860                7.0  6999243\n",
       "3460861               34.0  6999244\n",
       "3538383                8.0  6999245\n",
       "3460862                2.0  6999246\n",
       "3538384                2.0  6999247\n",
       "3460863                3.0  6999248\n",
       "3460864                2.0  6999249\n",
       "3460865                1.0  6999250\n",
       "\n",
       "[6999251 rows x 2 columns]"
      ]
     },
     "execution_count": 44,
     "metadata": {},
     "output_type": "execute_result"
    }
   ],
   "source": [
    "submission"
   ]
  },
  {
   "cell_type": "markdown",
   "metadata": {},
   "source": [
    "# PAUSE"
   ]
  },
  {
   "cell_type": "code",
   "execution_count": 45,
   "metadata": {
    "collapsed": true
   },
   "outputs": [],
   "source": [
    "from datetime import datetime"
   ]
  },
  {
   "cell_type": "code",
   "execution_count": 46,
   "metadata": {
    "collapsed": false
   },
   "outputs": [],
   "source": [
    "submission[[\"id\",\"Demanda_uni_equil\"]].to_csv('../../input/' + \n",
    "                                              datetime.now().strftime('%Y-%m-%d-%H-%M-%S') +'.csv', index=False)"
   ]
  },
  {
   "cell_type": "code",
   "execution_count": null,
   "metadata": {
    "collapsed": true
   },
   "outputs": [],
   "source": []
  },
  {
   "cell_type": "markdown",
   "metadata": {},
   "source": [
    "# Stop"
   ]
  },
  {
   "cell_type": "markdown",
   "metadata": {
    "collapsed": false
   },
   "source": [
    "#FE.ReadCsv('test')"
   ]
  },
  {
   "cell_type": "markdown",
   "metadata": {
    "collapsed": true
   },
   "source": [
    "FE.test2 =  pd.DataFrame({\"id\":  FE.test2[\"id\"]})"
   ]
  },
  {
   "cell_type": "markdown",
   "metadata": {
    "collapsed": false
   },
   "source": [
    "#FE.test2.loc[:,\"Demanda_uni_equil\"] = 0"
   ]
  },
  {
   "cell_type": "markdown",
   "metadata": {
    "collapsed": false
   },
   "source": [
    "submission = FE.test2.append(submission1)"
   ]
  },
  {
   "cell_type": "markdown",
   "metadata": {
    "collapsed": false
   },
   "source": [
    "(submission.id == 0).sum()"
   ]
  },
  {
   "cell_type": "markdown",
   "metadata": {
    "collapsed": false
   },
   "source": [
    "(submission1.id == 0).sum()"
   ]
  },
  {
   "cell_type": "markdown",
   "metadata": {
    "collapsed": false
   },
   "source": [
    "(FE.test1.Semana == 0).sum()"
   ]
  },
  {
   "cell_type": "markdown",
   "metadata": {
    "collapsed": false
   },
   "source": [
    "(FE.test2.Semana == 0).sum()"
   ]
  },
  {
   "cell_type": "markdown",
   "metadata": {
    "collapsed": false
   },
   "source": [
    "(FE.test2.id != 0).sum()"
   ]
  },
  {
   "cell_type": "markdown",
   "metadata": {
    "collapsed": false
   },
   "source": [
    "(FE.test1.id != 0).sum()"
   ]
  },
  {
   "cell_type": "markdown",
   "metadata": {
    "collapsed": false
   },
   "source": [
    "FE.test2[(FE.test2.id == 0)]"
   ]
  },
  {
   "cell_type": "markdown",
   "metadata": {
    "collapsed": true
   },
   "source": []
  },
  {
   "cell_type": "markdown",
   "metadata": {
    "collapsed": true
   },
   "source": []
  },
  {
   "cell_type": "markdown",
   "metadata": {
    "collapsed": true
   },
   "source": []
  },
  {
   "cell_type": "markdown",
   "metadata": {
    "collapsed": false
   },
   "source": [
    "submission"
   ]
  },
  {
   "cell_type": "markdown",
   "metadata": {
    "collapsed": false
   },
   "source": [
    "submission.sort_values(by=\"id\",)"
   ]
  },
  {
   "cell_type": "markdown",
   "metadata": {
    "collapsed": true
   },
   "source": [
    "from datetime import datetime"
   ]
  },
  {
   "cell_type": "markdown",
   "metadata": {
    "collapsed": false
   },
   "source": [
    "submission[[\"id\",\"Demanda_uni_equil\"]].to_csv('../../input/' + \n",
    "                                              datetime.now().strftime('%Y-%m-%d-%H-%M-%S') +'.csv', index=False)"
   ]
  },
  {
   "cell_type": "markdown",
   "metadata": {},
   "source": [
    "## Test2 XGBoost"
   ]
  },
  {
   "cell_type": "markdown",
   "metadata": {
    "collapsed": true
   },
   "source": [
    "X_train = FE.train[test2columns]\n",
    "X_test = FE.test2[test2columns]\n",
    "y_train = FE.train[\"Demanda_uni_equil\"]\n",
    "y_test = FE.test2[\"Demanda_uni_equil\"]"
   ]
  },
  {
   "cell_type": "markdown",
   "metadata": {
    "collapsed": false
   },
   "source": [
    "print X_train.shape\n",
    "print X_test.shape\n",
    "print y_train.shape\n",
    "print y_test.shape\n",
    "gc.collect()"
   ]
  },
  {
   "cell_type": "markdown",
   "metadata": {
    "collapsed": false
   },
   "source": [
    "defaultParams = {\"max_depth\":6, \"subsample\":1., \"min_child_weight\":5, \"colsample_bytree\":0.4, \"missing\":np.nan\n",
    "                ,\"n_estimators\":500, \"learning_rate\":0.1}\n",
    "xgb_model2 = xgb.XGBRegressor(**defaultParams) \n",
    "\n",
    "\n",
    "xgb_model2.fit(X_train,y_train,eval_set=[(X_train, y_train),(X_test, y_test)],\n",
    "         verbose=1, early_stopping_rounds = 10)\n",
    "\n",
    "\n",
    "predictions = xgb_model2.predict(X_train,ntree_limit  = xgb_model2.best_iteration+1)\n",
    "predictionsTest = xgb_model2.predict(X_test,ntree_limit  = xgb_model2.best_iteration+1)\n",
    "\n",
    "print \"trainResult: \", np.sqrt(mean_squared_error(y_train, predictions))\n",
    "print \"testResult: \", np.sqrt(mean_squared_error(y_test, predictionsTest))\n",
    "print \"Best Iteration: \", xgb_model2.best_iteration\n",
    "print \"Best Score: \", xgb_model2.best_score\n",
    "print xgb.plot_importance(xgb_model2)"
   ]
  },
  {
   "cell_type": "markdown",
   "metadata": {
    "collapsed": false
   },
   "source": [
    "print(\"Pickling sklearn API models\")\n",
    "# must open in binary format to pickle\n",
    "pickle.dump(xgb_model2, open(\"../../input/test2.pkl\", \"wb\"))"
   ]
  },
  {
   "cell_type": "markdown",
   "metadata": {
    "collapsed": false
   },
   "source": [
    "clf2 = pickle.load(open(\"../../input/test2.pkl\", \"rb\"))\n",
    "\n",
    "clf2.set_params(**{\"n_estimators\" : clf2.best_iteration+1})\n",
    "\n",
    "clf2.fit(X_train,y_train, verbose=1, eval_set=[(X_train, y_train)])\n",
    "\n",
    "predictions = clf2.predict(X_train,ntree_limit  = clf2.best_iteration+1)\n",
    "predictionsTest = clf2.predict(X_test,ntree_limit  = clf2.best_iteration+1)\n",
    "\n",
    "print \"trainResult: \", np.sqrt(mean_squared_error(y_train, predictions))\n",
    "print \"testResult: \", np.sqrt(mean_squared_error(y_test, predictionsTest))\n",
    "print \"Best Iteration: \", clf2.best_iteration\n",
    "print \"Best Score: \", clf2.best_score\n",
    "print xgb.plot_importance(clf2)"
   ]
  },
  {
   "cell_type": "markdown",
   "metadata": {
    "collapsed": true
   },
   "source": []
  },
  {
   "cell_type": "markdown",
   "metadata": {
    "collapsed": true
   },
   "source": []
  },
  {
   "cell_type": "markdown",
   "metadata": {
    "collapsed": true
   },
   "source": []
  },
  {
   "cell_type": "markdown",
   "metadata": {
    "collapsed": true
   },
   "source": []
  },
  {
   "cell_type": "markdown",
   "metadata": {
    "collapsed": true
   },
   "source": []
  },
  {
   "cell_type": "markdown",
   "metadata": {
    "collapsed": true
   },
   "source": []
  },
  {
   "cell_type": "markdown",
   "metadata": {
    "collapsed": false
   },
   "source": [
    "corrDf = FE.train.corr()"
   ]
  },
  {
   "cell_type": "markdown",
   "metadata": {
    "collapsed": true
   },
   "source": [
    "corrDf.to_csv('../../input/coordf.csv')"
   ]
  },
  {
   "cell_type": "markdown",
   "metadata": {
    "collapsed": false
   },
   "source": [
    "corrDf.loc[:,0:16]"
   ]
  },
  {
   "cell_type": "markdown",
   "metadata": {
    "collapsed": true
   },
   "source": [
    "def GiveBestParameterWithoutCV(defaultParams, testParams, X_train, X_test, Y_train, Y_test, fitParams):\n",
    "    xgb_model = xgb.XGBRegressor(**defaultParams) \n",
    "    \n",
    "    minRmse = 10000\n",
    "    minRmseParameter = 10000\n",
    "    bestIteration = 1000\n",
    "        \n",
    "    for key,values in testParams:\n",
    "        minRmseParameter = xgb_model.get_xgb_params()[key]\n",
    "        \n",
    "        for value in values:\n",
    "            \n",
    "            xgb_model.set_params(**{key:value})\n",
    "            xgb_model.fit(X_train,Y_train, eval_set=[(X_train, Y_train),(X_test, Y_test)],\n",
    "                  **fitParams)\n",
    "            if xgb_model.best_score < minRmse:\n",
    "                minRmse = xgb_model.best_score\n",
    "                minRmseParameter = value\n",
    "                bestIteration = xgb_model.best_iteration\n",
    "                \n",
    "        xgb_model.set_params(**{key:minRmseParameter})\n",
    "        print \"Parameters are finished for {}. Best Iteration is {}\".format(key, bestIteration)\n",
    "        print \"Minimum Rmse : {}, optimum parameter is {} between {}\".format(minRmse, minRmseParameter, values)\n",
    "    gc.collect()"
   ]
  },
  {
   "cell_type": "markdown",
   "metadata": {
    "collapsed": false,
    "scrolled": false
   },
   "source": [
    "defaultParams = {\"max_depth\":10, \"subsample\":1., \"min_child_weight\":5, \"colsample_bytree\":0.4, \"missing\":np.nan\n",
    "                ,\"n_estimators\":500, \"learning_rate\":0.1}\n",
    "testParams = [(\"max_depth\",[12,8,6,14]), (\"subsample\",[0.9,0.8,0.6]), (\"min_child_weight\",[1,3,7]),\n",
    "                  (\"colsample_bytree\",[0.3,0.5,0.6, 0.8,1]), (\"learning_rate\",[0.05])]\n",
    "fitParams = {\"verbose\":2, \"early_stopping_rounds\": 10}\n",
    "\n",
    "GiveBestParameterWithoutCV(defaultParams,testParams, X_train, X_test, y_train, y_test, fitParams )"
   ]
  },
  {
   "cell_type": "markdown",
   "metadata": {
    "collapsed": false
   },
   "source": [
    "pd.DataFrame([np.round(np.expm1(predictionsTest[:20])),np.round(np.expm1(y_test[0:20]))])"
   ]
  },
  {
   "cell_type": "markdown",
   "metadata": {
    "collapsed": false
   },
   "source": [
    "np.sqrt(mean_squared_error(y_test, predictionsTest))"
   ]
  },
  {
   "cell_type": "markdown",
   "metadata": {
    "collapsed": false
   },
   "source": [
    "berker = pd.DataFrame( {\"Predict\": np.round(np.expm1(predictionsTest)),\n",
    "    \"Real\" : np.round(np.expm1(y_test))})"
   ]
  },
  {
   "cell_type": "markdown",
   "metadata": {
    "collapsed": false
   },
   "source": [
    "berker.plot()"
   ]
  },
  {
   "cell_type": "markdown",
   "metadata": {
    "collapsed": false
   },
   "source": [
    "np.mean(predictionsTest)"
   ]
  },
  {
   "cell_type": "markdown",
   "metadata": {
    "collapsed": false
   },
   "source": [
    "np.mean(y_test)"
   ]
  },
  {
   "cell_type": "markdown",
   "metadata": {
    "collapsed": true
   },
   "source": [
    "print(\"Pickling sklearn API models\")\n",
    "# must open in binary format to pickle\n",
    "pickle.dump(xgb_model, open(\"best_boston.pkl\", \"wb\"))"
   ]
  }
 ],
 "metadata": {
  "kernelspec": {
   "display_name": "Python [Root]",
   "language": "python",
   "name": "Python [Root]"
  },
  "language_info": {
   "codemirror_mode": {
    "name": "ipython",
    "version": 2
   },
   "file_extension": ".py",
   "mimetype": "text/x-python",
   "name": "python",
   "nbconvert_exporter": "python",
   "pygments_lexer": "ipython2",
   "version": "2.7.12"
  }
 },
 "nbformat": 4,
 "nbformat_minor": 0
}
