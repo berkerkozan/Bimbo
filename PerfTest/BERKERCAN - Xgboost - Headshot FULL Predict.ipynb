{
 "cells": [
  {
   "cell_type": "code",
   "execution_count": 47,
   "metadata": {
    "collapsed": false
   },
   "outputs": [],
   "source": [
    "import pickle\n",
    "import xgboost as xgb\n",
    "import pandas as pd\n",
    "import numpy as np\n",
    "from sklearn.cross_validation import KFold, train_test_split\n",
    "from sklearn.metrics import confusion_matrix, mean_squared_error\n",
    "from sklearn.grid_search import GridSearchCV\n",
    "from sklearn.datasets import load_iris, load_digits, load_boston\n",
    "%matplotlib inline\n",
    "import seaborn as sns\n",
    "from sklearn.metrics import r2_score, mean_squared_error, make_scorer\n",
    "from collections import OrderedDict\n",
    "import gc\n",
    "from sklearn import datasets, linear_model,preprocessing\n",
    "from IPython.display import display, HTML\n",
    "import time\n",
    "import nltk.corpus\n",
    "from nltk.stem.snowball import SnowballStemmer"
   ]
  },
  {
   "cell_type": "code",
   "execution_count": 48,
   "metadata": {
    "collapsed": true
   },
   "outputs": [],
   "source": [
    "def RMSE(y_true,y_pred):\n",
    "    mse = np.sqrt(mean_squared_error(y_true, y_pred))\n",
    "    print 'MSE: %2.3f' % mse\n",
    "    return mse"
   ]
  },
  {
   "cell_type": "code",
   "execution_count": 49,
   "metadata": {
    "collapsed": true
   },
   "outputs": [],
   "source": [
    "#take 1 CSV, then split it to 3..\n",
    "class FeatureEngineering:\n",
    "\n",
    "    def __init__(self, ValidationStart, ValidationEnd, trainHdfPath, trainHdfFile, testHdfPath1, testHdfPath2, testHdfFile, \n",
    "                 testTypes, trainTypes, trainCsvPath, testCsvPath, maxLag=0):\n",
    "        self.ValidationStart = ValidationStart\n",
    "        self.ValidationEnd = ValidationEnd\n",
    "        self.maxLag = maxLag\n",
    "        self.trainHdfPath = trainHdfPath\n",
    "        self.trainHdfFile = trainHdfFile\n",
    "        self.testHdfPath1 = testHdfPath1\n",
    "        self.testHdfPath2 = testHdfPath2\n",
    "        self.testHdfFile = testHdfFile\n",
    "        self.testTypes = testTypes\n",
    "        self.trainTypes = trainTypes\n",
    "        self.trainCsvPath = trainCsvPath\n",
    "        self.testCsvPath = testCsvPath\n",
    "        \n",
    "    @staticmethod\n",
    "    def __printDataFrameBasics__(data):\n",
    "        display(data.head(2))\n",
    "        #print data.dtypes\n",
    "        gc.collect()\n",
    "        print(data.info(memory_usage=True))\n",
    "        \n",
    "    @staticmethod    \n",
    "    def changeIndexTypeToLowerMemory(data):\n",
    "        ##########\n",
    "        #This is very critical, i accept max number is 2^32. Also, if don't do that, memory gets so much higher..\n",
    "        ##########\n",
    "        #data.reset_index(inplace=True)\n",
    "        #data.drop(\"index\",axis=1, inplace=True)\n",
    "        #data.index = data.index.astype('uint32')\n",
    "        gc.collect()\n",
    "        \n",
    "    def ReadHdf(self, trainOrTestOrBoth):\n",
    "        '''Reads and holds Df in object memory'''            \n",
    "        if trainOrTestOrBoth == 'train' or trainOrTestOrBoth=='both':\n",
    "            self.train = pd.read_hdf(self.trainHdfPath,self.trainHdfFile)\n",
    "            FeatureEngineering.changeIndexTypeToLowerMemory(self.train)\n",
    "            FeatureEngineering.__printDataFrameBasics__(self.train)\n",
    "            \n",
    "        if trainOrTestOrBoth == 'test' or trainOrTestOrBoth=='both':\n",
    "            self.test1 = pd.read_hdf(self.testHdfPath1,self.testHdfFile)\n",
    "            self.test2 = pd.read_hdf(self.testHdfPath2,self.testHdfFile)\n",
    "            FeatureEngineering.changeIndexTypeToLowerMemory(self.test1)\n",
    "            FeatureEngineering.changeIndexTypeToLowerMemory(self.test2)\n",
    "            FeatureEngineering.__printDataFrameBasics__(self.test1)\n",
    "            FeatureEngineering.__printDataFrameBasics__(self.test2)\n",
    "        \n",
    "    def ReadCsv(self, trainOrTestOrBoth):\n",
    "        '''Reads and holds Df in memory'''\n",
    "        if trainOrTestOrBoth == 'train' or trainOrTestOrBoth == 'both':\n",
    "            self.train = pd.read_csv(self.trainCsvPath, usecols=self.trainTypes.keys(), dtype=self.trainTypes)\n",
    "            FeatureEngineering.changeIndexTypeToLowerMemory(self.train)\n",
    "            FeatureEngineering.__printDataFrameBasics__(self.train)\n",
    "        if trainOrTestOrBoth == 'test' or trainOrTestOrBoth=='both':\n",
    "            tempTest = pd.read_csv(self.testCsvPath, usecols=self.testTypes.keys(), dtype=self.testTypes)\n",
    "            self.test1 = tempTest.loc[tempTest.Semana.values == self.ValidationStart]\n",
    "            self.test2 = tempTest.loc[tempTest.Semana.values == self.ValidationEnd]\n",
    "            del tempTest\n",
    "            FeatureEngineering.changeIndexTypeToLowerMemory(self.test1)\n",
    "            FeatureEngineering.changeIndexTypeToLowerMemory(self.test2)\n",
    "            FeatureEngineering.__printDataFrameBasics__(self.test1)\n",
    "            FeatureEngineering.__printDataFrameBasics__(self.test2)\n",
    "            \n",
    "    @staticmethod\n",
    "    def ConvertCsvToHdf(csvPath, HdfPath, HdfName, ColumnTypeDict ):\n",
    "        tempDf = pd.read_csv(csvPath, usecols=ColumnTypeDict.keys(), dtype=ColumnTypeDict,index=False)\n",
    "        tempDf.to_hdf(HdfPath, HdfName, format='t')\n",
    "        del tempDf\n",
    "        gc.collect()\n",
    "        print \"ConvertCsvToHdf is done..\"\n",
    "\n",
    "    def Preprocess(self, trainOrTestOrBoth, columnFunctionTypeList):\n",
    "        '''columnFunctionTypeList = [ ['C1',Func1,Type], ['C2',Func2,Type],..    ]'''\n",
    "        for column, func, localType in columnFunctionTypeList:\n",
    "            if trainOrTestOrBoth == 'train' or trainOrTestOrBoth =='both':\n",
    "                self.train.loc[:,column] =  np.apply_along_axis(func,0,FE.train[column].values).astype(localType)\n",
    "                #np.apply_along_axis(lambda x: x+1,0,FE.train[\"Semana\"]).astype(\"int32\")\n",
    "            if trainOrTestOrBoth == 'test' or trainOrTestOrBoth == 'both':\n",
    "                self.test1.loc[:,column] =  np.apply_along_axis(func,0,FE.test1[column].values).astype(localType)\n",
    "                self.test2.loc[:,column] =  np.apply_along_axis(func,0,FE.test2[column].values).astype(localType)\n",
    "        gc.collect()\n",
    "        \n",
    "    def SaveDataFrameToHdf(self,trainOrTestOrBoth):\n",
    "        if trainOrTestOrBoth == 'train' or trainOrTestOrBoth=='both':\n",
    "            self.train.to_hdf(self.trainHdfPath, self.trainHdfFile, format='t', index=\"False\")\n",
    "        if trainOrTestOrBoth == 'test' or trainOrTestOrBoth=='both':\n",
    "            self.test1.to_hdf(self.testHdfPath1, self.testHdfFile, format='t', index=\"False\")\n",
    "            self.test2.to_hdf(self.testHdfPath2, self.testHdfFile, format='t', index=\"False\")\n",
    "        \n",
    "    def AddDemandaGeneralMean(self,trainOrTestOrBoth): \n",
    "        #self.train.loc[:,\"DemandaGeneralMean\"] = self.train[\"Demanda_uni_equil\"].loc[\n",
    "         #   self.train.loc[:,'Semana'] < 10].mean().astype(\"float32\")\n",
    "            \n",
    "        meanOfDemanda = self.train[\"Demanda_uni_equil\"].values.mean().astype(\"float32\")\n",
    "        \n",
    "        if trainOrTestOrBoth == 'train' or trainOrTestOrBoth=='both':\n",
    "            self.train.loc[:,\"DemandaGeneralMean\"] = meanOfDemanda\n",
    "        if trainOrTestOrBoth == 'test' or trainOrTestOrBoth=='both':\n",
    "            self.test1.loc[:,\"DemandaGeneralMean\"] = meanOfDemanda\n",
    "            self.test2.loc[:,\"DemandaGeneralMean\"] = meanOfDemanda\n",
    "        \n",
    "        #self.train.loc[:,\"DemandaGeneralMean\"] = self.train[\"Demanda_uni_equil\"].values[\n",
    "        #(self.train.loc[:,'Semana'].values < self.ValidationStart).values].mean().astype(\"float32\")\n",
    "        gc.collect()\n",
    "        \n",
    "    '''ConfigElements(0,[ (\"A\",[\"Semana\",\"Agencia_ID\"],[\"count\",\"count\"]),'''\n",
    "    def AddConfigurableFeaturesToTrain(self, config):\n",
    "        if config.lag > self.maxLag:\n",
    "            self.maxLag = config.lag\n",
    "        \n",
    "        tempData = self.train[self.train['Semana'].values <= (self.ValidationEnd - config.lag)]\n",
    "        #display(tempData)\n",
    "        if(config.lag != 0):\n",
    "            tempData.loc[:,'Semana'] = tempData['Semana'].values + config.lag\n",
    "        #display(tempData)\n",
    "        \n",
    "        #Means iterative.. eliminate as long as np.nan exists..If there is already one, don't create, use the existing\n",
    "        if config.targetVariable != \"\" and  config.targetVariable not in self.train.columns:\n",
    "            self.train.loc[:,config.targetVariable] = np.nan\n",
    "            self.test1.loc[:,config.targetVariable] = np.nan\n",
    "            \n",
    "            if config.lag != 1:\n",
    "                self.test2.loc[:,config.targetVariable] = np.nan\n",
    "        \n",
    "        for name,groups,aggregate in config.nameAndGroups:\n",
    "            if name not in self.train.columns:\n",
    "                print \"{} is not in columns..\".format(name)            \n",
    "                \n",
    "                groupedDataframe = tempData[groups+['Demanda_uni_equil']].copy().groupby(groups).agg(aggregate[0])\n",
    "                gc.collect()\n",
    "                #groupedDataframe.columns = groupedDataframe.columns.droplevel(0)\n",
    "                groupedDataframe.columns = [name]\n",
    "                \n",
    "                #This is means of the counts of the semana-columns tuples!..!!!\n",
    "                #If no lag and mean, mean of the columns without semana!!..\n",
    "                #If there is lag and count, count of the columns x weeks before\n",
    "                #If there is lag and mean, mean of the columns x weeks before\n",
    "                #if(config.lag == 0 and aggregate == \"count\"):\n",
    "                if(len(aggregate)>1):\n",
    "                    groupedDataframe.reset_index(inplace=True)\n",
    "                    groupedDataframe.drop(\"Semana\",axis=1, inplace=True)\n",
    "                    groups = groups[1:]\n",
    "                    groupedDataframe = groupedDataframe.groupby(groups).agg(aggregate[1])\n",
    "                    groupedDataframe.columns = [name]\n",
    "                    gc.collect()\n",
    "                \n",
    "                display(groupedDataframe)\n",
    "                self.train = self.train.merge( groupedDataframe, left_on=groups,\n",
    "                    right_index=True, how='left', sort=False,copy=False)\n",
    "                gc.collect()\n",
    "                self.test1 = self.test1.merge( groupedDataframe, left_on=groups,\n",
    "                    right_index=True, how='left', sort=False,copy=False)\n",
    "                gc.collect()\n",
    "                if config.lag != 1:\n",
    "                    self.test2 = self.test2.merge( groupedDataframe, left_on=groups,\n",
    "                        right_index=True, how='left', sort=False,copy=False)\n",
    "                \n",
    "                del groupedDataframe\n",
    "                gc.collect()\n",
    "            else:\n",
    "                print \"{} is in columns..\".format(name)\n",
    "            \n",
    "            display(self.train)\n",
    "            display(self.test1)\n",
    "            display(self.test2)\n",
    "            \n",
    "            #Means iterative..!!!!!\n",
    "            if config.targetVariable != \"\":\n",
    "                self.train.loc[pd.isnull(self.train[config.targetVariable].values), \n",
    "                    config.targetVariable] = self.train.loc[pd.isnull(self.train[config.targetVariable].values)\n",
    "                    , name].values\n",
    "                self.test1.loc[pd.isnull(self.test1[config.targetVariable].values), \n",
    "                    config.targetVariable] = self.test1.loc[pd.isnull(self.test1[config.targetVariable].values),\n",
    "                    name].values\n",
    "                if config.lag != 1:\n",
    "                    self.test2.loc[pd.isnull(self.test2[config.targetVariable].values), \n",
    "                        config.targetVariable] = self.test2.loc[pd.isnull(self.test2[config.targetVariable].values)\n",
    "                        , name].values\n",
    "                    \n",
    "                count = self.test1[config.targetVariable].isnull().sum()\n",
    "                print \"Count of missing numbers after {} in validation part 1 in column {} is {}\".format(name, \n",
    "                    config.targetVariable,str(count))\n",
    "                if config.lag != 1:\n",
    "                    count = self.test2.loc[:,config.targetVariable].isnull().sum()\n",
    "                    print \"Count of missing numbers after {} in validation part 2 in column {} is {}\".format(name, \n",
    "                        config.targetVariable,str(count))\n",
    "                \n",
    "                \n",
    "                #display(self.train)\n",
    "                #If column is already in Dataframe and we want to fill target variable, this deletes columns!!!\n",
    "                if(config.deleteColumns):\n",
    "                    self.train.drop(name, axis=1, inplace=True)\n",
    "                    self.test1.drop(name, axis=1, inplace=True)\n",
    "                    if config.lag != 1:\n",
    "                        self.test2.drop(name, axis=1, inplace=True)\n",
    "                gc.collect()\n",
    "                #Only in tesst\n",
    "                #if count == 0:\n",
    "                 #   break\n",
    "        del tempData\n",
    "        display(self.train)   \n",
    "        display(self.test1)   \n",
    "        display(self.test2)\n",
    "        gc.collect()\n",
    "        return \n",
    "    \n",
    "    def DeleteLaggedWeeksFromTrain(self):\n",
    "        self.train = self.train[self.train['Semana'].values >= (3 + self.maxLag)]\n",
    "        gc.collect()\n",
    "        display(self.train.head(2))\n",
    "        \n",
    "    def ReadFirstNRowsOfACsv(self, nrows, trainOrTestOrBoth) :\n",
    "        if trainOrTestOrBoth == 'train' or trainOrTestOrBoth=='both':\n",
    "            self.train = pd.read_csv(self.trainCsvPath, usecols=self.trainTypes.keys(), dtype=self.trainTypes, nrows = nrows)\n",
    "            FeatureEngineering.changeIndexTypeToLowerMemory(self.train)\n",
    "            FeatureEngineering.__printDataFrameBasics__(self.train)\n",
    "        if trainOrTestOrBoth == 'test' or trainOrTestOrBoth=='both':\n",
    "            tempTest = pd.read_csv(self.testCsvPath, usecols=self.testTypes.keys(), dtype=self.testTypes, nrows = nrows*2)\n",
    "            self.test1 = tempTest.loc[tempTest.Semana == self.ValidationStart]\n",
    "            self.test2 = tempTest.loc[tempTest.Semana == self.ValidationEnd]\n",
    "            del tempTest\n",
    "            FeatureEngineering.changeIndexTypeToLowerMemory(self.test1)\n",
    "            FeatureEngineering.changeIndexTypeToLowerMemory(self.test2)\n",
    "            FeatureEngineering.__printDataFrameBasics__(self.test1)\n",
    "            FeatureEngineering.__printDataFrameBasics__(self.test2)\n",
    "    \n",
    "    #Use when concatanating train and validation before predict test for example..\n",
    "    def AppendTestToTrain(self,deleteTest = True):\n",
    "        self.train = self.train.append(self.test1,ignore_index=True)\n",
    "        gc.collect()\n",
    "        if(deleteTest):\n",
    "            del self.test1\n",
    "            gc.collect()\n",
    "        try:\n",
    "            self.train = self.train.append(self.test2,ignore_index=True)\n",
    "            gc.collect()\n",
    "            if(deleteTest):\n",
    "                del self.test2\n",
    "                gc.collect()\n",
    "        except:\n",
    "            pass\n",
    "        #BAD PERFORMANCE!!\n",
    "    #Split train data to train and test1 and test2 (validation)\n",
    "    #def SplitTrainToTestUsingValidationStart(self):\n",
    "     #   boolCondition = self.train.Semana == self.ValidationStart\n",
    "      #  self.test1 = self.train.loc[boolCondition]\n",
    "       # self.train.drop((self.train.loc[boolCondition].index), axis=0,inplace=True)\n",
    "        \n",
    "       # boolCondition = self.train.Semana == self.ValidationEnd\n",
    "       # self.test2 = self.train.loc[boolCondition]\n",
    "       # self.train.drop((self.train.loc[boolCondition].index), axis=0,inplace=True)\n",
    "      #  del boolCondition\n",
    "      #  gc.collect()\n",
    "    \n",
    "    #Reaches 3x memory from train, because of test1, test2 and train itself at the end.. GC fixed in the end..\n",
    "    def SplitTrainToTestUsingValidationStart(self):\n",
    "        boolCondition = self.train.Semana.values == self.ValidationStart\n",
    "        self.test1 = self.train[boolCondition]\n",
    "        boolCondition = self.train.Semana.values == self.ValidationEnd\n",
    "        self.test2 = self.train[boolCondition]\n",
    "        FE.train = FE.train[ FE.train.Semana.values < FE.ValidationStart ]\n",
    "        del boolCondition\n",
    "        gc.collect()\n",
    "        \n",
    "    def XgboostPredictAndSee(self, Test1OrTest2):\n",
    "        self.train_y = self.train[\"Demanda_uni_equil\"].copy()\n",
    "        self.train.drop(\"Demanda_uni_equil\",axis=1, inplace=True)\n",
    "        "
   ]
  },
  {
   "cell_type": "code",
   "execution_count": 50,
   "metadata": {
    "collapsed": false
   },
   "outputs": [
    {
     "name": "stdout",
     "output_type": "stream",
     "text": [
      "{'trainCsvPath': '../../input/train.csv', 'maxLag': 3, 'testTypes': {'Cliente_ID': <type 'numpy.uint32'>, 'Ruta_SAK': <type 'numpy.uint16'>, 'Canal_ID': <type 'numpy.uint8'>, 'Producto_ID': <type 'numpy.uint16'>, 'Agencia_ID': <type 'numpy.uint16'>, 'Semana': <type 'numpy.uint8'>, 'id': <type 'numpy.uint32'>}, 'testHdfFile': 'test', 'trainTypes': {'Dev_proxima': <type 'numpy.float32'>, 'Venta_uni_hoy': <type 'numpy.uint16'>, 'Cliente_ID': <type 'numpy.uint32'>, 'Demanda_uni_equil': <type 'numpy.uint32'>, 'Ruta_SAK': <type 'numpy.uint16'>, 'Canal_ID': <type 'numpy.uint8'>, 'Venta_hoy': <type 'numpy.float32'>, 'Producto_ID': <type 'numpy.uint16'>, 'Agencia_ID': <type 'numpy.uint16'>, 'Dev_uni_proxima': <type 'numpy.uint32'>, 'Semana': <type 'numpy.uint8'>}, 'testHdfPath1': '../../input/test1_full_wz2.h5', 'ValidationEnd': 11, 'testHdfPath2': '../../input/test2_full_wz2.h5', 'testCsvPath': '../../input/test.csv', 'ValidationStart': 10, 'trainHdfFile': 'train', 'trainHdfPath': '../../input/train_full_wz2.h5'}\n"
     ]
    }
   ],
   "source": [
    "parameterDict =       {\"ValidationStart\":10, \n",
    " \"ValidationEnd\":11,\n",
    "   \"maxLag\":3,\n",
    "    \"trainHdfPath\":'../../input/train_full_wz2.h5',\n",
    "    \"trainHdfFile\":\"train\",\n",
    "    \"testHdfPath1\":\"../../input/test1_full_wz2.h5\",\n",
    "    \"testHdfPath2\":\"../../input/test2_full_wz2.h5\",\n",
    "    \"testHdfFile\":\"test\", \n",
    "    \"trainTypes\" : {'Semana':np.uint8, 'Agencia_ID':np.uint16, 'Canal_ID':np.uint8,'Ruta_SAK':np.uint16, \n",
    "        'Cliente_ID':np.uint32, 'Producto_ID':np.uint16,'Venta_uni_hoy':np.uint16, 'Venta_hoy':np.float32,\n",
    "                    'Dev_uni_proxima': np.uint32, 'Dev_proxima':np.float32,'Demanda_uni_equil':np.uint32}, \n",
    "    \"testTypes\" : {'id':np.uint32,'Semana':np.uint8, 'Agencia_ID':np.uint16, 'Canal_ID':np.uint8,'Ruta_SAK':np.uint16,\n",
    "        'Cliente_ID':np.uint32, 'Producto_ID':np.uint16},\n",
    "    \"trainCsvPath\":'../../input/train.csv'   ,\n",
    "    \"testCsvPath\":'../../input/test.csv'}\n",
    "\n",
    "FE = FeatureEngineering(**parameterDict)\n",
    "print FE.__dict__"
   ]
  },
  {
   "cell_type": "code",
   "execution_count": 51,
   "metadata": {
    "collapsed": false,
    "scrolled": false
   },
   "outputs": [
    {
     "data": {
      "text/html": [
       "<div>\n",
       "<table border=\"1\" class=\"dataframe\">\n",
       "  <thead>\n",
       "    <tr style=\"text-align: right;\">\n",
       "      <th></th>\n",
       "      <th>Semana</th>\n",
       "      <th>Agencia_ID</th>\n",
       "      <th>Canal_ID</th>\n",
       "      <th>Ruta_SAK</th>\n",
       "      <th>Cliente_ID</th>\n",
       "      <th>Producto_ID</th>\n",
       "      <th>Venta_uni_hoy</th>\n",
       "      <th>Venta_hoy</th>\n",
       "      <th>Dev_uni_proxima</th>\n",
       "      <th>Dev_proxima</th>\n",
       "      <th>...</th>\n",
       "      <th>ClientPerTown</th>\n",
       "      <th>client_return_sum</th>\n",
       "      <th>client_return_count</th>\n",
       "      <th>Client_return_rate</th>\n",
       "      <th>producto_return_sum</th>\n",
       "      <th>producto_return_count</th>\n",
       "      <th>producto_return_rate</th>\n",
       "      <th>prod_name_return_sum</th>\n",
       "      <th>prod_name_return_count</th>\n",
       "      <th>prod_name_return_rate</th>\n",
       "    </tr>\n",
       "  </thead>\n",
       "  <tbody>\n",
       "    <tr>\n",
       "      <th>0</th>\n",
       "      <td>3</td>\n",
       "      <td>1110</td>\n",
       "      <td>7</td>\n",
       "      <td>3301</td>\n",
       "      <td>15766</td>\n",
       "      <td>1212</td>\n",
       "      <td>3</td>\n",
       "      <td>25.139999</td>\n",
       "      <td>0</td>\n",
       "      <td>0.0</td>\n",
       "      <td>...</td>\n",
       "      <td>4408</td>\n",
       "      <td>0.0</td>\n",
       "      <td>160</td>\n",
       "      <td>0.0</td>\n",
       "      <td>11316.0</td>\n",
       "      <td>1196000</td>\n",
       "      <td>0.009462</td>\n",
       "      <td>20746.0</td>\n",
       "      <td>2029841</td>\n",
       "      <td>0.010221</td>\n",
       "    </tr>\n",
       "    <tr>\n",
       "      <th>1</th>\n",
       "      <td>3</td>\n",
       "      <td>1110</td>\n",
       "      <td>7</td>\n",
       "      <td>3301</td>\n",
       "      <td>15766</td>\n",
       "      <td>1216</td>\n",
       "      <td>4</td>\n",
       "      <td>33.520000</td>\n",
       "      <td>0</td>\n",
       "      <td>0.0</td>\n",
       "      <td>...</td>\n",
       "      <td>4408</td>\n",
       "      <td>0.0</td>\n",
       "      <td>160</td>\n",
       "      <td>0.0</td>\n",
       "      <td>8087.0</td>\n",
       "      <td>1024504</td>\n",
       "      <td>0.007894</td>\n",
       "      <td>14235.0</td>\n",
       "      <td>1689455</td>\n",
       "      <td>0.008426</td>\n",
       "    </tr>\n",
       "  </tbody>\n",
       "</table>\n",
       "<p>2 rows × 46 columns</p>\n",
       "</div>"
      ],
      "text/plain": [
       "   Semana  Agencia_ID  Canal_ID  Ruta_SAK  Cliente_ID  Producto_ID  \\\n",
       "0       3        1110         7      3301       15766         1212   \n",
       "1       3        1110         7      3301       15766         1216   \n",
       "\n",
       "   Venta_uni_hoy  Venta_hoy  Dev_uni_proxima  Dev_proxima  \\\n",
       "0              3  25.139999                0          0.0   \n",
       "1              4  33.520000                0          0.0   \n",
       "\n",
       "           ...            ClientPerTown  client_return_sum  \\\n",
       "0          ...                     4408                0.0   \n",
       "1          ...                     4408                0.0   \n",
       "\n",
       "   client_return_count  Client_return_rate  producto_return_sum  \\\n",
       "0                  160                 0.0              11316.0   \n",
       "1                  160                 0.0               8087.0   \n",
       "\n",
       "   producto_return_count  producto_return_rate  prod_name_return_sum  \\\n",
       "0                1196000              0.009462               20746.0   \n",
       "1                1024504              0.007894               14235.0   \n",
       "\n",
       "  prod_name_return_count  prod_name_return_rate  \n",
       "0                2029841               0.010221  \n",
       "1                1689455               0.008426  \n",
       "\n",
       "[2 rows x 46 columns]"
      ]
     },
     "metadata": {},
     "output_type": "display_data"
    },
    {
     "name": "stdout",
     "output_type": "stream",
     "text": [
      "<class 'pandas.core.frame.DataFrame'>\n",
      "Int64Index: 74180464 entries, 0 to 74180463\n",
      "Data columns (total 46 columns):\n",
      "Semana                                           uint8\n",
      "Agencia_ID                                       uint16\n",
      "Canal_ID                                         uint8\n",
      "Ruta_SAK                                         uint16\n",
      "Cliente_ID                                       uint32\n",
      "Producto_ID                                      uint16\n",
      "Venta_uni_hoy                                    uint16\n",
      "Venta_hoy                                        float32\n",
      "Dev_uni_proxima                                  uint32\n",
      "Dev_proxima                                      float32\n",
      "Demanda_uni_equil                                float64\n",
      "Town_ID                                          uint16\n",
      "State_ID                                         uint8\n",
      "weight                                           uint16\n",
      "pieces                                           uint8\n",
      "Prod_name_ID                                     uint16\n",
      "Brand_ID                                         uint8\n",
      "Demanda_uni_equil_original                       float64\n",
      "DemandaNotEqualTheDifferenceOfVentaUniAndDev     bool\n",
      "Lag0                                             float64\n",
      "Lag1                                             float64\n",
      "Lag2                                             float64\n",
      "Lag3                                             float64\n",
      "weightppieces                                    uint16\n",
      "Client_Sum_Venta_hoy                             float32\n",
      "Client_Sum_Venta_uni_hoy                         float32\n",
      "Client_Sum_venta_div_venta_uni                   float32\n",
      "prod_name_sum_Venta_hoy                          float32\n",
      "prod_name_sum_Venta_uni_hoy                      float32\n",
      "prod_name_sum_venta_div_venta_uni                float32\n",
      "Producto_sum_Venta_hoy                           float32\n",
      "Producto_sum_Venta_uni_hoy                       float32\n",
      "Producto_sum_venta_div_venta_uni                 float32\n",
      "Producto_ID_sum_demanda_divide_sum_venta_uni     float64\n",
      "Prod_name_ID_sum_demanda_divide_sum_venta_uni    float64\n",
      "Cliente_ID_sum_demanda_divide_sum_venta_uni      float64\n",
      "ClientPerTown                                    int64\n",
      "client_return_sum                                float64\n",
      "client_return_count                              int64\n",
      "Client_return_rate                               float64\n",
      "producto_return_sum                              float64\n",
      "producto_return_count                            int64\n",
      "producto_return_rate                             float64\n",
      "prod_name_return_sum                             float64\n",
      "prod_name_return_count                           int64\n",
      "prod_name_return_rate                            float64\n",
      "dtypes: bool(1), float32(11), float64(15), int64(4), uint16(8), uint32(2), uint8(5)\n",
      "memory usage: 16.2 GB\n",
      "None\n"
     ]
    },
    {
     "data": {
      "text/html": [
       "<div>\n",
       "<table border=\"1\" class=\"dataframe\">\n",
       "  <thead>\n",
       "    <tr style=\"text-align: right;\">\n",
       "      <th></th>\n",
       "      <th>id</th>\n",
       "      <th>Semana</th>\n",
       "      <th>Agencia_ID</th>\n",
       "      <th>Canal_ID</th>\n",
       "      <th>Ruta_SAK</th>\n",
       "      <th>Cliente_ID</th>\n",
       "      <th>Producto_ID</th>\n",
       "      <th>Town_ID</th>\n",
       "      <th>State_ID</th>\n",
       "      <th>weight</th>\n",
       "      <th>...</th>\n",
       "      <th>ClientPerTown</th>\n",
       "      <th>client_return_sum</th>\n",
       "      <th>client_return_count</th>\n",
       "      <th>Client_return_rate</th>\n",
       "      <th>producto_return_sum</th>\n",
       "      <th>producto_return_count</th>\n",
       "      <th>producto_return_rate</th>\n",
       "      <th>prod_name_return_sum</th>\n",
       "      <th>prod_name_return_count</th>\n",
       "      <th>prod_name_return_rate</th>\n",
       "    </tr>\n",
       "  </thead>\n",
       "  <tbody>\n",
       "    <tr>\n",
       "      <th>0</th>\n",
       "      <td>2</td>\n",
       "      <td>10</td>\n",
       "      <td>2045</td>\n",
       "      <td>1</td>\n",
       "      <td>2831</td>\n",
       "      <td>4549769</td>\n",
       "      <td>32940</td>\n",
       "      <td>2163</td>\n",
       "      <td>14</td>\n",
       "      <td>110</td>\n",
       "      <td>...</td>\n",
       "      <td>4180</td>\n",
       "      <td>0.0</td>\n",
       "      <td>22.0</td>\n",
       "      <td>0.0</td>\n",
       "      <td>1004.0</td>\n",
       "      <td>250443.0</td>\n",
       "      <td>0.004009</td>\n",
       "      <td>1205.0</td>\n",
       "      <td>301469.0</td>\n",
       "      <td>0.003997</td>\n",
       "    </tr>\n",
       "    <tr>\n",
       "      <th>1</th>\n",
       "      <td>7</td>\n",
       "      <td>10</td>\n",
       "      <td>1612</td>\n",
       "      <td>1</td>\n",
       "      <td>2837</td>\n",
       "      <td>4414012</td>\n",
       "      <td>35305</td>\n",
       "      <td>2352</td>\n",
       "      <td>30</td>\n",
       "      <td>75</td>\n",
       "      <td>...</td>\n",
       "      <td>4139</td>\n",
       "      <td>0.0</td>\n",
       "      <td>9.0</td>\n",
       "      <td>0.0</td>\n",
       "      <td>1709.0</td>\n",
       "      <td>537709.0</td>\n",
       "      <td>0.003178</td>\n",
       "      <td>6286.0</td>\n",
       "      <td>1455315.0</td>\n",
       "      <td>0.004319</td>\n",
       "    </tr>\n",
       "  </tbody>\n",
       "</table>\n",
       "<p>2 rows × 40 columns</p>\n",
       "</div>"
      ],
      "text/plain": [
       "   id  Semana  Agencia_ID  Canal_ID  Ruta_SAK  Cliente_ID  Producto_ID  \\\n",
       "0   2      10        2045         1      2831     4549769        32940   \n",
       "1   7      10        1612         1      2837     4414012        35305   \n",
       "\n",
       "   Town_ID  State_ID  weight          ...            ClientPerTown  \\\n",
       "0     2163        14     110          ...                     4180   \n",
       "1     2352        30      75          ...                     4139   \n",
       "\n",
       "   client_return_sum  client_return_count  Client_return_rate  \\\n",
       "0                0.0                 22.0                 0.0   \n",
       "1                0.0                  9.0                 0.0   \n",
       "\n",
       "   producto_return_sum  producto_return_count  producto_return_rate  \\\n",
       "0               1004.0               250443.0              0.004009   \n",
       "1               1709.0               537709.0              0.003178   \n",
       "\n",
       "   prod_name_return_sum  prod_name_return_count  prod_name_return_rate  \n",
       "0                1205.0                301469.0               0.003997  \n",
       "1                6286.0               1455315.0               0.004319  \n",
       "\n",
       "[2 rows x 40 columns]"
      ]
     },
     "metadata": {},
     "output_type": "display_data"
    },
    {
     "name": "stdout",
     "output_type": "stream",
     "text": [
      "<class 'pandas.core.frame.DataFrame'>\n",
      "Int64Index: 3538385 entries, 0 to 3538384\n",
      "Data columns (total 40 columns):\n",
      "id                                               uint32\n",
      "Semana                                           uint8\n",
      "Agencia_ID                                       uint16\n",
      "Canal_ID                                         uint8\n",
      "Ruta_SAK                                         uint16\n",
      "Cliente_ID                                       uint32\n",
      "Producto_ID                                      uint16\n",
      "Town_ID                                          uint16\n",
      "State_ID                                         uint8\n",
      "weight                                           uint16\n",
      "pieces                                           uint8\n",
      "Prod_name_ID                                     uint16\n",
      "Brand_ID                                         uint8\n",
      "Lag0                                             float64\n",
      "Lag1                                             float64\n",
      "Lag2                                             float64\n",
      "Lag3                                             float64\n",
      "weightppieces                                    uint16\n",
      "Client_Sum_Venta_hoy                             float32\n",
      "Client_Sum_Venta_uni_hoy                         float32\n",
      "Client_Sum_venta_div_venta_uni                   float32\n",
      "prod_name_sum_Venta_hoy                          float32\n",
      "prod_name_sum_Venta_uni_hoy                      float32\n",
      "prod_name_sum_venta_div_venta_uni                float32\n",
      "Producto_sum_Venta_hoy                           float32\n",
      "Producto_sum_Venta_uni_hoy                       float32\n",
      "Producto_sum_venta_div_venta_uni                 float32\n",
      "Producto_ID_sum_demanda_divide_sum_venta_uni     float64\n",
      "Prod_name_ID_sum_demanda_divide_sum_venta_uni    float64\n",
      "Cliente_ID_sum_demanda_divide_sum_venta_uni      float64\n",
      "ClientPerTown                                    int64\n",
      "client_return_sum                                float64\n",
      "client_return_count                              float64\n",
      "Client_return_rate                               float64\n",
      "producto_return_sum                              float64\n",
      "producto_return_count                            float64\n",
      "producto_return_rate                             float64\n",
      "prod_name_return_sum                             float64\n",
      "prod_name_return_count                           float64\n",
      "prod_name_return_rate                            float64\n",
      "dtypes: float32(9), float64(16), int64(1), uint16(7), uint32(2), uint8(5)\n",
      "memory usage: 698.5 MB\n",
      "None\n"
     ]
    },
    {
     "data": {
      "text/html": [
       "<div>\n",
       "<table border=\"1\" class=\"dataframe\">\n",
       "  <thead>\n",
       "    <tr style=\"text-align: right;\">\n",
       "      <th></th>\n",
       "      <th>id</th>\n",
       "      <th>Semana</th>\n",
       "      <th>Agencia_ID</th>\n",
       "      <th>Canal_ID</th>\n",
       "      <th>Ruta_SAK</th>\n",
       "      <th>Cliente_ID</th>\n",
       "      <th>Producto_ID</th>\n",
       "      <th>Town_ID</th>\n",
       "      <th>State_ID</th>\n",
       "      <th>weight</th>\n",
       "      <th>...</th>\n",
       "      <th>ClientPerTown</th>\n",
       "      <th>client_return_sum</th>\n",
       "      <th>client_return_count</th>\n",
       "      <th>Client_return_rate</th>\n",
       "      <th>producto_return_sum</th>\n",
       "      <th>producto_return_count</th>\n",
       "      <th>producto_return_rate</th>\n",
       "      <th>prod_name_return_sum</th>\n",
       "      <th>prod_name_return_count</th>\n",
       "      <th>prod_name_return_rate</th>\n",
       "    </tr>\n",
       "  </thead>\n",
       "  <tbody>\n",
       "    <tr>\n",
       "      <th>0</th>\n",
       "      <td>0</td>\n",
       "      <td>11</td>\n",
       "      <td>4037</td>\n",
       "      <td>1</td>\n",
       "      <td>2209</td>\n",
       "      <td>4639078</td>\n",
       "      <td>35305</td>\n",
       "      <td>2499</td>\n",
       "      <td>28</td>\n",
       "      <td>75</td>\n",
       "      <td>...</td>\n",
       "      <td>5795</td>\n",
       "      <td>1.0</td>\n",
       "      <td>16.0</td>\n",
       "      <td>0.0625</td>\n",
       "      <td>1709.0</td>\n",
       "      <td>537709.0</td>\n",
       "      <td>0.003178</td>\n",
       "      <td>6286.0</td>\n",
       "      <td>1455315.0</td>\n",
       "      <td>0.004319</td>\n",
       "    </tr>\n",
       "    <tr>\n",
       "      <th>1</th>\n",
       "      <td>1</td>\n",
       "      <td>11</td>\n",
       "      <td>2237</td>\n",
       "      <td>1</td>\n",
       "      <td>1226</td>\n",
       "      <td>4705135</td>\n",
       "      <td>1238</td>\n",
       "      <td>2402</td>\n",
       "      <td>4</td>\n",
       "      <td>140</td>\n",
       "      <td>...</td>\n",
       "      <td>7596</td>\n",
       "      <td>0.0</td>\n",
       "      <td>33.0</td>\n",
       "      <td>0.0000</td>\n",
       "      <td>11260.0</td>\n",
       "      <td>1191873.0</td>\n",
       "      <td>0.009447</td>\n",
       "      <td>12904.0</td>\n",
       "      <td>1363704.0</td>\n",
       "      <td>0.009462</td>\n",
       "    </tr>\n",
       "  </tbody>\n",
       "</table>\n",
       "<p>2 rows × 39 columns</p>\n",
       "</div>"
      ],
      "text/plain": [
       "   id  Semana  Agencia_ID  Canal_ID  Ruta_SAK  Cliente_ID  Producto_ID  \\\n",
       "0   0      11        4037         1      2209     4639078        35305   \n",
       "1   1      11        2237         1      1226     4705135         1238   \n",
       "\n",
       "   Town_ID  State_ID  weight          ...            ClientPerTown  \\\n",
       "0     2499        28      75          ...                     5795   \n",
       "1     2402         4     140          ...                     7596   \n",
       "\n",
       "   client_return_sum  client_return_count  Client_return_rate  \\\n",
       "0                1.0                 16.0              0.0625   \n",
       "1                0.0                 33.0              0.0000   \n",
       "\n",
       "   producto_return_sum  producto_return_count  producto_return_rate  \\\n",
       "0               1709.0               537709.0              0.003178   \n",
       "1              11260.0              1191873.0              0.009447   \n",
       "\n",
       "   prod_name_return_sum  prod_name_return_count  prod_name_return_rate  \n",
       "0                6286.0               1455315.0               0.004319  \n",
       "1               12904.0               1363704.0               0.009462  \n",
       "\n",
       "[2 rows x 39 columns]"
      ]
     },
     "metadata": {},
     "output_type": "display_data"
    },
    {
     "name": "stdout",
     "output_type": "stream",
     "text": [
      "<class 'pandas.core.frame.DataFrame'>\n",
      "Int64Index: 3460866 entries, 0 to 3460865\n",
      "Data columns (total 39 columns):\n",
      "id                                               uint32\n",
      "Semana                                           uint8\n",
      "Agencia_ID                                       uint16\n",
      "Canal_ID                                         uint8\n",
      "Ruta_SAK                                         uint16\n",
      "Cliente_ID                                       uint32\n",
      "Producto_ID                                      uint16\n",
      "Town_ID                                          uint16\n",
      "State_ID                                         uint8\n",
      "weight                                           uint16\n",
      "pieces                                           uint8\n",
      "Prod_name_ID                                     uint16\n",
      "Brand_ID                                         uint8\n",
      "Lag0                                             float64\n",
      "Lag2                                             float64\n",
      "Lag3                                             float64\n",
      "weightppieces                                    uint16\n",
      "Client_Sum_Venta_hoy                             float32\n",
      "Client_Sum_Venta_uni_hoy                         float32\n",
      "Client_Sum_venta_div_venta_uni                   float32\n",
      "prod_name_sum_Venta_hoy                          float32\n",
      "prod_name_sum_Venta_uni_hoy                      float32\n",
      "prod_name_sum_venta_div_venta_uni                float32\n",
      "Producto_sum_Venta_hoy                           float32\n",
      "Producto_sum_Venta_uni_hoy                       float32\n",
      "Producto_sum_venta_div_venta_uni                 float32\n",
      "Producto_ID_sum_demanda_divide_sum_venta_uni     float64\n",
      "Prod_name_ID_sum_demanda_divide_sum_venta_uni    float64\n",
      "Cliente_ID_sum_demanda_divide_sum_venta_uni      float64\n",
      "ClientPerTown                                    int64\n",
      "client_return_sum                                float64\n",
      "client_return_count                              float64\n",
      "Client_return_rate                               float64\n",
      "producto_return_sum                              float64\n",
      "producto_return_count                            float64\n",
      "producto_return_rate                             float64\n",
      "prod_name_return_sum                             float64\n",
      "prod_name_return_count                           float64\n",
      "prod_name_return_rate                            float64\n",
      "dtypes: float32(9), float64(15), int64(1), uint16(7), uint32(2), uint8(5)\n",
      "memory usage: 656.8 MB\n",
      "None\n"
     ]
    }
   ],
   "source": [
    "FE.ReadHdf('both')"
   ]
  },
  {
   "cell_type": "code",
   "execution_count": 56,
   "metadata": {
    "collapsed": false
   },
   "outputs": [
    {
     "data": {
      "text/html": [
       "<div>\n",
       "<table border=\"1\" class=\"dataframe\">\n",
       "  <thead>\n",
       "    <tr style=\"text-align: right;\">\n",
       "      <th></th>\n",
       "      <th>Semana</th>\n",
       "      <th>Agencia_ID</th>\n",
       "      <th>Canal_ID</th>\n",
       "      <th>Ruta_SAK</th>\n",
       "      <th>Cliente_ID</th>\n",
       "      <th>Producto_ID</th>\n",
       "      <th>Venta_uni_hoy</th>\n",
       "      <th>Venta_hoy</th>\n",
       "      <th>Dev_uni_proxima</th>\n",
       "      <th>Dev_proxima</th>\n",
       "      <th>...</th>\n",
       "      <th>ClientPerTown</th>\n",
       "      <th>client_return_sum</th>\n",
       "      <th>client_return_count</th>\n",
       "      <th>Client_return_rate</th>\n",
       "      <th>producto_return_sum</th>\n",
       "      <th>producto_return_count</th>\n",
       "      <th>producto_return_rate</th>\n",
       "      <th>prod_name_return_sum</th>\n",
       "      <th>prod_name_return_count</th>\n",
       "      <th>prod_name_return_rate</th>\n",
       "    </tr>\n",
       "  </thead>\n",
       "  <tbody>\n",
       "    <tr>\n",
       "      <th>32790197</th>\n",
       "      <td>6</td>\n",
       "      <td>1110</td>\n",
       "      <td>7</td>\n",
       "      <td>3301</td>\n",
       "      <td>15766</td>\n",
       "      <td>1216</td>\n",
       "      <td>1</td>\n",
       "      <td>8.38</td>\n",
       "      <td>0</td>\n",
       "      <td>0.0</td>\n",
       "      <td>...</td>\n",
       "      <td>4408</td>\n",
       "      <td>0.0</td>\n",
       "      <td>160</td>\n",
       "      <td>0.0</td>\n",
       "      <td>8087.0</td>\n",
       "      <td>1024504</td>\n",
       "      <td>0.007894</td>\n",
       "      <td>14235.0</td>\n",
       "      <td>1689455</td>\n",
       "      <td>0.008426</td>\n",
       "    </tr>\n",
       "    <tr>\n",
       "      <th>32790198</th>\n",
       "      <td>6</td>\n",
       "      <td>1110</td>\n",
       "      <td>7</td>\n",
       "      <td>3301</td>\n",
       "      <td>15766</td>\n",
       "      <td>1238</td>\n",
       "      <td>2</td>\n",
       "      <td>19.66</td>\n",
       "      <td>0</td>\n",
       "      <td>0.0</td>\n",
       "      <td>...</td>\n",
       "      <td>4408</td>\n",
       "      <td>0.0</td>\n",
       "      <td>160</td>\n",
       "      <td>0.0</td>\n",
       "      <td>11260.0</td>\n",
       "      <td>1191873</td>\n",
       "      <td>0.009447</td>\n",
       "      <td>12904.0</td>\n",
       "      <td>1363704</td>\n",
       "      <td>0.009462</td>\n",
       "    </tr>\n",
       "  </tbody>\n",
       "</table>\n",
       "<p>2 rows × 46 columns</p>\n",
       "</div>"
      ],
      "text/plain": [
       "          Semana  Agencia_ID  Canal_ID  Ruta_SAK  Cliente_ID  Producto_ID  \\\n",
       "32790197       6        1110         7      3301       15766         1216   \n",
       "32790198       6        1110         7      3301       15766         1238   \n",
       "\n",
       "          Venta_uni_hoy  Venta_hoy  Dev_uni_proxima  Dev_proxima  \\\n",
       "32790197              1       8.38                0          0.0   \n",
       "32790198              2      19.66                0          0.0   \n",
       "\n",
       "                  ...            ClientPerTown  client_return_sum  \\\n",
       "32790197          ...                     4408                0.0   \n",
       "32790198          ...                     4408                0.0   \n",
       "\n",
       "          client_return_count  Client_return_rate  producto_return_sum  \\\n",
       "32790197                  160                 0.0               8087.0   \n",
       "32790198                  160                 0.0              11260.0   \n",
       "\n",
       "          producto_return_count  producto_return_rate  prod_name_return_sum  \\\n",
       "32790197                1024504              0.007894               14235.0   \n",
       "32790198                1191873              0.009447               12904.0   \n",
       "\n",
       "         prod_name_return_count  prod_name_return_rate  \n",
       "32790197                1689455               0.008426  \n",
       "32790198                1363704               0.009462  \n",
       "\n",
       "[2 rows x 46 columns]"
      ]
     },
     "metadata": {},
     "output_type": "display_data"
    }
   ],
   "source": [
    "FE.DeleteLaggedWeeksFromTrain()"
   ]
  },
  {
   "cell_type": "code",
   "execution_count": 93,
   "metadata": {
    "collapsed": false
   },
   "outputs": [],
   "source": [
    "test2columns = ['State_ID',\n",
    "       'weight', 'pieces', 'Brand_ID', 'Lag0',\n",
    "       'Lag2', 'Lag3', 'weightppieces', 'Client_Sum_Venta_hoy',\n",
    "       'Client_Sum_Venta_uni_hoy', 'Client_Sum_venta_div_venta_uni',\n",
    "       'prod_name_sum_Venta_hoy', 'prod_name_sum_Venta_uni_hoy',\n",
    "       'prod_name_sum_venta_div_venta_uni', 'Producto_sum_Venta_hoy',\n",
    "       'Producto_sum_Venta_uni_hoy', 'Producto_sum_venta_div_venta_uni',\n",
    "       'Producto_ID_sum_demanda_divide_sum_venta_uni',\n",
    "       'Prod_name_ID_sum_demanda_divide_sum_venta_uni',\n",
    "       'Cliente_ID_sum_demanda_divide_sum_venta_uni', 'ClientPerTown',\n",
    "       'client_return_sum', 'client_return_count', 'Client_return_rate',\n",
    "       'producto_return_sum', 'producto_return_count',\n",
    "       'producto_return_rate', 'prod_name_return_sum',\n",
    "       'prod_name_return_count', 'prod_name_return_rate']\n",
    "\n",
    "columns_to_remove = ['client_return_sum', 'client_return_count',\n",
    "                     'Client_Sum_Venta_uni_hoy', 'Producto_sum_venta_div_venta_uni'\n",
    "                    ]"
   ]
  },
  {
   "cell_type": "code",
   "execution_count": 94,
   "metadata": {
    "collapsed": false
   },
   "outputs": [],
   "source": [
    "test2columns = list ( set(test2columns) - set(columns_to_remove))"
   ]
  },
  {
   "cell_type": "code",
   "execution_count": 95,
   "metadata": {
    "collapsed": false
   },
   "outputs": [],
   "source": [
    "test1columns = test2columns + ['Lag1']"
   ]
  },
  {
   "cell_type": "code",
   "execution_count": 98,
   "metadata": {
    "collapsed": false
   },
   "outputs": [],
   "source": [
    "X_train = FE.train[test1columns]\n",
    "X_test = FE.test1[test1columns]\n",
    "y_train = FE.train[\"Demanda_uni_equil\"]\n",
    "#y_test = FE.test1[\"Demanda_uni_equil\"]"
   ]
  },
  {
   "cell_type": "code",
   "execution_count": 101,
   "metadata": {
    "collapsed": false
   },
   "outputs": [
    {
     "data": {
      "text/plain": [
       "19270"
      ]
     },
     "execution_count": 101,
     "metadata": {},
     "output_type": "execute_result"
    }
   ],
   "source": [
    "gc.collect()"
   ]
  },
  {
   "cell_type": "code",
   "execution_count": 102,
   "metadata": {
    "collapsed": false
   },
   "outputs": [
    {
     "name": "stdout",
     "output_type": "stream",
     "text": [
      "(41390267, 27)\n",
      "(3538385, 27)\n",
      "(41390267,)\n"
     ]
    }
   ],
   "source": [
    "print X_train.shape\n",
    "print X_test.shape\n",
    "print y_train.shape\n",
    "#print y_test.shape"
   ]
  },
  {
   "cell_type": "markdown",
   "metadata": {},
   "source": [
    "## Predict test1"
   ]
  },
  {
   "cell_type": "code",
   "execution_count": 104,
   "metadata": {
    "collapsed": false
   },
   "outputs": [
    {
     "name": "stdout",
     "output_type": "stream",
     "text": [
      "[0]\tvalidation_0-rmse:1.2552\n",
      "[1]\tvalidation_0-rmse:1.15649\n",
      "[2]\tvalidation_0-rmse:1.07807\n",
      "[3]\tvalidation_0-rmse:0.981079\n",
      "[4]\tvalidation_0-rmse:0.919073\n",
      "[5]\tvalidation_0-rmse:0.850328\n",
      "[6]\tvalidation_0-rmse:0.778895\n",
      "[7]\tvalidation_0-rmse:0.736839\n",
      "[8]\tvalidation_0-rmse:0.689835\n",
      "[9]\tvalidation_0-rmse:0.649306\n",
      "[10]\tvalidation_0-rmse:0.614511\n",
      "[11]\tvalidation_0-rmse:0.586975\n",
      "[12]\tvalidation_0-rmse:0.563401\n",
      "[13]\tvalidation_0-rmse:0.539394\n",
      "[14]\tvalidation_0-rmse:0.525394\n",
      "[15]\tvalidation_0-rmse:0.497175\n",
      "[16]\tvalidation_0-rmse:0.482345\n",
      "[17]\tvalidation_0-rmse:0.473387\n",
      "[18]\tvalidation_0-rmse:0.462455\n",
      "[19]\tvalidation_0-rmse:0.453293\n",
      "[20]\tvalidation_0-rmse:0.44584\n",
      "[21]\tvalidation_0-rmse:0.439134\n",
      "[22]\tvalidation_0-rmse:0.433524\n",
      "[23]\tvalidation_0-rmse:0.429055\n",
      "[24]\tvalidation_0-rmse:0.425557\n",
      "[25]\tvalidation_0-rmse:0.422279\n",
      "[26]\tvalidation_0-rmse:0.419711\n",
      "[27]\tvalidation_0-rmse:0.408373\n",
      "[28]\tvalidation_0-rmse:0.398083\n",
      "[29]\tvalidation_0-rmse:0.391455\n",
      "[30]\tvalidation_0-rmse:0.384572\n",
      "[31]\tvalidation_0-rmse:0.384002\n",
      "[32]\tvalidation_0-rmse:0.377571\n",
      "[33]\tvalidation_0-rmse:0.37697\n",
      "[34]\tvalidation_0-rmse:0.37652\n",
      "[35]\tvalidation_0-rmse:0.376156\n",
      "[36]\tvalidation_0-rmse:0.375702\n",
      "[37]\tvalidation_0-rmse:0.375323\n",
      "[38]\tvalidation_0-rmse:0.374948\n",
      "[39]\tvalidation_0-rmse:0.374608\n",
      "trainResult:  0.374607940914\n",
      "Best Iteration:  39\n",
      "Best Score:  0.476226\n",
      "Axes(0.125,0.125;0.775x0.775)\n"
     ]
    },
    {
     "data": {
      "image/png": "[encoded data removed]",
      "text/plain": [
       "<matplotlib.figure.Figure at 0x7fe52d79e850>"
      ]
     },
     "metadata": {},
     "output_type": "display_data"
    }
   ],
   "source": [
    "clf1 = pickle.load(open(\"../../input/LastShot.pkl\", \"rb\"))\n",
    "clf1.set_params(**{\"n_estimators\" : clf1.best_iteration+1})\n",
    "\n",
    "clf1.fit(X_train,y_train, verbose=1, eval_set=[(X_train, y_train)])\n",
    "\n",
    "predictions = clf1.predict(X_train,ntree_limit  = clf1.best_iteration+1)\n",
    "predictionsTest = clf1.predict(X_test,ntree_limit  = clf1.best_iteration+1)\n",
    "\n",
    "print \"trainResult: \", np.sqrt(mean_squared_error(y_train, predictions))\n",
    "#print \"testResult: \", np.sqrt(mean_squared_error(y_test, predictionsTest))\n",
    "print \"Best Iteration: \", clf1.best_iteration\n",
    "print \"Best Score: \", clf1.best_score\n",
    "print xgb.plot_importance(clf1)"
   ]
  },
  {
   "cell_type": "code",
   "execution_count": 106,
   "metadata": {
    "collapsed": true
   },
   "outputs": [],
   "source": [
    "submission1 = pd.DataFrame({'id':FE.test1.id, 'Demanda_uni_equil': predictionsTest})"
   ]
  },
  {
   "cell_type": "code",
   "execution_count": null,
   "metadata": {
    "collapsed": true
   },
   "outputs": [],
   "source": []
  },
  {
   "cell_type": "markdown",
   "metadata": {
    "collapsed": true
   },
   "source": [
    "## Predict test2"
   ]
  },
  {
   "cell_type": "code",
   "execution_count": 109,
   "metadata": {
    "collapsed": false
   },
   "outputs": [],
   "source": [
    "X_train = FE.train[test2columns]\n",
    "X_test = FE.test2[test2columns]\n",
    "y_train = FE.train[\"Demanda_uni_equil\"]\n",
    "#y_test = FE.test2[\"Demanda_uni_equil\"]"
   ]
  },
  {
   "cell_type": "code",
   "execution_count": 112,
   "metadata": {
    "collapsed": false
   },
   "outputs": [
    {
     "name": "stdout",
     "output_type": "stream",
     "text": [
      "[0]\tvalidation_0-rmse:1.2552\n",
      "[1]\tvalidation_0-rmse:1.13895\n",
      "[2]\tvalidation_0-rmse:1.04704\n",
      "[3]\tvalidation_0-rmse:0.968373\n",
      "[4]\tvalidation_0-rmse:0.905957\n",
      "[5]\tvalidation_0-rmse:0.828548\n",
      "[6]\tvalidation_0-rmse:0.771853\n",
      "[7]\tvalidation_0-rmse:0.721789\n",
      "[8]\tvalidation_0-rmse:0.666773\n",
      "[9]\tvalidation_0-rmse:0.63541\n",
      "[10]\tvalidation_0-rmse:0.590281\n",
      "[11]\tvalidation_0-rmse:0.551905\n",
      "[12]\tvalidation_0-rmse:0.526219\n",
      "[13]\tvalidation_0-rmse:0.50414\n",
      "[14]\tvalidation_0-rmse:0.476803\n",
      "[15]\tvalidation_0-rmse:0.461944\n",
      "[16]\tvalidation_0-rmse:0.449593\n",
      "[17]\tvalidation_0-rmse:0.43866\n",
      "[18]\tvalidation_0-rmse:0.423098\n",
      "[19]\tvalidation_0-rmse:0.409926\n",
      "[20]\tvalidation_0-rmse:0.396974\n",
      "[21]\tvalidation_0-rmse:0.391894\n",
      "[22]\tvalidation_0-rmse:0.387468\n",
      "[23]\tvalidation_0-rmse:0.378991\n",
      "[24]\tvalidation_0-rmse:0.371956\n",
      "[25]\tvalidation_0-rmse:0.366863\n",
      "[26]\tvalidation_0-rmse:0.364811\n",
      "[27]\tvalidation_0-rmse:0.363241\n",
      "[28]\tvalidation_0-rmse:0.361872\n",
      "trainResult:  0.361871913869\n",
      "Best Iteration:  28\n",
      "Best Score:  0.498475\n",
      "Axes(0.125,0.125;0.775x0.775)\n"
     ]
    },
    {
     "data": {
      "image/png": "[encoded data removed]",
      "text/plain": [
       "<matplotlib.figure.Figure at 0x7fe644331050>"
      ]
     },
     "metadata": {},
     "output_type": "display_data"
    }
   ],
   "source": [
    "clf2 = pickle.load(open(\"../../input/LastShot2.pkl\", \"rb\"))\n",
    "\n",
    "clf2.set_params(**{\"n_estimators\" : clf2.best_iteration+1})\n",
    "\n",
    "clf2.fit(X_train,y_train, verbose=1, eval_set=[(X_train, y_train)])\n",
    "\n",
    "predictions = clf2.predict(X_train,ntree_limit  = clf2.best_iteration+1)\n",
    "predictionsTest = clf2.predict(X_test,ntree_limit  = clf2.best_iteration+1)\n",
    "\n",
    "print \"trainResult: \", np.sqrt(mean_squared_error(y_train, predictions))\n",
    "#print \"testResult: \", np.sqrt(mean_squared_error(y_test, predictionsTest))\n",
    "print \"Best Iteration: \", clf2.best_iteration\n",
    "print \"Best Score: \", clf2.best_score\n",
    "print xgb.plot_importance(clf2)"
   ]
  },
  {
   "cell_type": "code",
   "execution_count": 115,
   "metadata": {
    "collapsed": true
   },
   "outputs": [],
   "source": [
    "submission2 = pd.DataFrame({'id':FE.test2.id, 'Demanda_uni_equil': predictionsTest})"
   ]
  },
  {
   "cell_type": "markdown",
   "metadata": {},
   "source": [
    "## Arrange Submission File"
   ]
  },
  {
   "cell_type": "code",
   "execution_count": 118,
   "metadata": {
    "collapsed": false
   },
   "outputs": [],
   "source": [
    "submission = submission2.append(submission1)"
   ]
  },
  {
   "cell_type": "code",
   "execution_count": 121,
   "metadata": {
    "collapsed": false
   },
   "outputs": [],
   "source": [
    "submission.loc[:,\"Demanda_uni_equil\"] = np.round(np.expm1(submission[\"Demanda_uni_equil\"]))"
   ]
  },
  {
   "cell_type": "code",
   "execution_count": 123,
   "metadata": {
    "collapsed": false
   },
   "outputs": [],
   "source": [
    "submission.sort_values(by=\"id\",inplace=True)"
   ]
  },
  {
   "cell_type": "code",
   "execution_count": 124,
   "metadata": {
    "collapsed": false
   },
   "outputs": [
    {
     "data": {
      "text/plain": [
       "1"
      ]
     },
     "execution_count": 124,
     "metadata": {},
     "output_type": "execute_result"
    }
   ],
   "source": [
    "(submission.id == 0).sum()"
   ]
  },
  {
   "cell_type": "code",
   "execution_count": 125,
   "metadata": {
    "collapsed": false
   },
   "outputs": [
    {
     "data": {
      "text/html": [
       "<div>\n",
       "<table border=\"1\" class=\"dataframe\">\n",
       "  <thead>\n",
       "    <tr style=\"text-align: right;\">\n",
       "      <th></th>\n",
       "      <th>Demanda_uni_equil</th>\n",
       "      <th>id</th>\n",
       "    </tr>\n",
       "  </thead>\n",
       "  <tbody>\n",
       "    <tr>\n",
       "      <th>0</th>\n",
       "      <td>4.0</td>\n",
       "      <td>0</td>\n",
       "    </tr>\n",
       "    <tr>\n",
       "      <th>1</th>\n",
       "      <td>2.0</td>\n",
       "      <td>1</td>\n",
       "    </tr>\n",
       "    <tr>\n",
       "      <th>0</th>\n",
       "      <td>2.0</td>\n",
       "      <td>2</td>\n",
       "    </tr>\n",
       "    <tr>\n",
       "      <th>2</th>\n",
       "      <td>2.0</td>\n",
       "      <td>3</td>\n",
       "    </tr>\n",
       "    <tr>\n",
       "      <th>3</th>\n",
       "      <td>3.0</td>\n",
       "      <td>4</td>\n",
       "    </tr>\n",
       "    <tr>\n",
       "      <th>4</th>\n",
       "      <td>3.0</td>\n",
       "      <td>5</td>\n",
       "    </tr>\n",
       "    <tr>\n",
       "      <th>5</th>\n",
       "      <td>1.0</td>\n",
       "      <td>6</td>\n",
       "    </tr>\n",
       "    <tr>\n",
       "      <th>1</th>\n",
       "      <td>5.0</td>\n",
       "      <td>7</td>\n",
       "    </tr>\n",
       "    <tr>\n",
       "      <th>2</th>\n",
       "      <td>4.0</td>\n",
       "      <td>8</td>\n",
       "    </tr>\n",
       "    <tr>\n",
       "      <th>6</th>\n",
       "      <td>4.0</td>\n",
       "      <td>9</td>\n",
       "    </tr>\n",
       "    <tr>\n",
       "      <th>7</th>\n",
       "      <td>7.0</td>\n",
       "      <td>10</td>\n",
       "    </tr>\n",
       "    <tr>\n",
       "      <th>3</th>\n",
       "      <td>2.0</td>\n",
       "      <td>11</td>\n",
       "    </tr>\n",
       "    <tr>\n",
       "      <th>8</th>\n",
       "      <td>4.0</td>\n",
       "      <td>12</td>\n",
       "    </tr>\n",
       "    <tr>\n",
       "      <th>4</th>\n",
       "      <td>5.0</td>\n",
       "      <td>13</td>\n",
       "    </tr>\n",
       "    <tr>\n",
       "      <th>5</th>\n",
       "      <td>2.0</td>\n",
       "      <td>14</td>\n",
       "    </tr>\n",
       "    <tr>\n",
       "      <th>9</th>\n",
       "      <td>4.0</td>\n",
       "      <td>15</td>\n",
       "    </tr>\n",
       "    <tr>\n",
       "      <th>10</th>\n",
       "      <td>2.0</td>\n",
       "      <td>16</td>\n",
       "    </tr>\n",
       "    <tr>\n",
       "      <th>11</th>\n",
       "      <td>2.0</td>\n",
       "      <td>17</td>\n",
       "    </tr>\n",
       "    <tr>\n",
       "      <th>6</th>\n",
       "      <td>2.0</td>\n",
       "      <td>18</td>\n",
       "    </tr>\n",
       "    <tr>\n",
       "      <th>12</th>\n",
       "      <td>3.0</td>\n",
       "      <td>19</td>\n",
       "    </tr>\n",
       "    <tr>\n",
       "      <th>13</th>\n",
       "      <td>5.0</td>\n",
       "      <td>20</td>\n",
       "    </tr>\n",
       "    <tr>\n",
       "      <th>14</th>\n",
       "      <td>9.0</td>\n",
       "      <td>21</td>\n",
       "    </tr>\n",
       "    <tr>\n",
       "      <th>7</th>\n",
       "      <td>10.0</td>\n",
       "      <td>22</td>\n",
       "    </tr>\n",
       "    <tr>\n",
       "      <th>15</th>\n",
       "      <td>2.0</td>\n",
       "      <td>23</td>\n",
       "    </tr>\n",
       "    <tr>\n",
       "      <th>16</th>\n",
       "      <td>1.0</td>\n",
       "      <td>24</td>\n",
       "    </tr>\n",
       "    <tr>\n",
       "      <th>17</th>\n",
       "      <td>7.0</td>\n",
       "      <td>25</td>\n",
       "    </tr>\n",
       "    <tr>\n",
       "      <th>8</th>\n",
       "      <td>2.0</td>\n",
       "      <td>26</td>\n",
       "    </tr>\n",
       "    <tr>\n",
       "      <th>18</th>\n",
       "      <td>5.0</td>\n",
       "      <td>27</td>\n",
       "    </tr>\n",
       "    <tr>\n",
       "      <th>19</th>\n",
       "      <td>1.0</td>\n",
       "      <td>28</td>\n",
       "    </tr>\n",
       "    <tr>\n",
       "      <th>20</th>\n",
       "      <td>1.0</td>\n",
       "      <td>29</td>\n",
       "    </tr>\n",
       "    <tr>\n",
       "      <th>...</th>\n",
       "      <td>...</td>\n",
       "      <td>...</td>\n",
       "    </tr>\n",
       "    <tr>\n",
       "      <th>3460849</th>\n",
       "      <td>2.0</td>\n",
       "      <td>6999221</td>\n",
       "    </tr>\n",
       "    <tr>\n",
       "      <th>3538372</th>\n",
       "      <td>2.0</td>\n",
       "      <td>6999222</td>\n",
       "    </tr>\n",
       "    <tr>\n",
       "      <th>3538373</th>\n",
       "      <td>5.0</td>\n",
       "      <td>6999223</td>\n",
       "    </tr>\n",
       "    <tr>\n",
       "      <th>3460850</th>\n",
       "      <td>1.0</td>\n",
       "      <td>6999224</td>\n",
       "    </tr>\n",
       "    <tr>\n",
       "      <th>3538374</th>\n",
       "      <td>11.0</td>\n",
       "      <td>6999225</td>\n",
       "    </tr>\n",
       "    <tr>\n",
       "      <th>3460851</th>\n",
       "      <td>3.0</td>\n",
       "      <td>6999226</td>\n",
       "    </tr>\n",
       "    <tr>\n",
       "      <th>3460852</th>\n",
       "      <td>6.0</td>\n",
       "      <td>6999227</td>\n",
       "    </tr>\n",
       "    <tr>\n",
       "      <th>3538375</th>\n",
       "      <td>3.0</td>\n",
       "      <td>6999228</td>\n",
       "    </tr>\n",
       "    <tr>\n",
       "      <th>3538376</th>\n",
       "      <td>3.0</td>\n",
       "      <td>6999229</td>\n",
       "    </tr>\n",
       "    <tr>\n",
       "      <th>3460853</th>\n",
       "      <td>78.0</td>\n",
       "      <td>6999230</td>\n",
       "    </tr>\n",
       "    <tr>\n",
       "      <th>3460854</th>\n",
       "      <td>2.0</td>\n",
       "      <td>6999231</td>\n",
       "    </tr>\n",
       "    <tr>\n",
       "      <th>3538377</th>\n",
       "      <td>2.0</td>\n",
       "      <td>6999232</td>\n",
       "    </tr>\n",
       "    <tr>\n",
       "      <th>3538378</th>\n",
       "      <td>2.0</td>\n",
       "      <td>6999233</td>\n",
       "    </tr>\n",
       "    <tr>\n",
       "      <th>3460855</th>\n",
       "      <td>2.0</td>\n",
       "      <td>6999234</td>\n",
       "    </tr>\n",
       "    <tr>\n",
       "      <th>3460856</th>\n",
       "      <td>5.0</td>\n",
       "      <td>6999235</td>\n",
       "    </tr>\n",
       "    <tr>\n",
       "      <th>3460857</th>\n",
       "      <td>2.0</td>\n",
       "      <td>6999236</td>\n",
       "    </tr>\n",
       "    <tr>\n",
       "      <th>3538379</th>\n",
       "      <td>3.0</td>\n",
       "      <td>6999237</td>\n",
       "    </tr>\n",
       "    <tr>\n",
       "      <th>3538380</th>\n",
       "      <td>6.0</td>\n",
       "      <td>6999238</td>\n",
       "    </tr>\n",
       "    <tr>\n",
       "      <th>3460858</th>\n",
       "      <td>7.0</td>\n",
       "      <td>6999239</td>\n",
       "    </tr>\n",
       "    <tr>\n",
       "      <th>3460859</th>\n",
       "      <td>1.0</td>\n",
       "      <td>6999240</td>\n",
       "    </tr>\n",
       "    <tr>\n",
       "      <th>3538381</th>\n",
       "      <td>1.0</td>\n",
       "      <td>6999241</td>\n",
       "    </tr>\n",
       "    <tr>\n",
       "      <th>3538382</th>\n",
       "      <td>2.0</td>\n",
       "      <td>6999242</td>\n",
       "    </tr>\n",
       "    <tr>\n",
       "      <th>3460860</th>\n",
       "      <td>7.0</td>\n",
       "      <td>6999243</td>\n",
       "    </tr>\n",
       "    <tr>\n",
       "      <th>3460861</th>\n",
       "      <td>36.0</td>\n",
       "      <td>6999244</td>\n",
       "    </tr>\n",
       "    <tr>\n",
       "      <th>3538383</th>\n",
       "      <td>8.0</td>\n",
       "      <td>6999245</td>\n",
       "    </tr>\n",
       "    <tr>\n",
       "      <th>3460862</th>\n",
       "      <td>2.0</td>\n",
       "      <td>6999246</td>\n",
       "    </tr>\n",
       "    <tr>\n",
       "      <th>3538384</th>\n",
       "      <td>2.0</td>\n",
       "      <td>6999247</td>\n",
       "    </tr>\n",
       "    <tr>\n",
       "      <th>3460863</th>\n",
       "      <td>3.0</td>\n",
       "      <td>6999248</td>\n",
       "    </tr>\n",
       "    <tr>\n",
       "      <th>3460864</th>\n",
       "      <td>2.0</td>\n",
       "      <td>6999249</td>\n",
       "    </tr>\n",
       "    <tr>\n",
       "      <th>3460865</th>\n",
       "      <td>1.0</td>\n",
       "      <td>6999250</td>\n",
       "    </tr>\n",
       "  </tbody>\n",
       "</table>\n",
       "<p>6999251 rows × 2 columns</p>\n",
       "</div>"
      ],
      "text/plain": [
       "         Demanda_uni_equil       id\n",
       "0                      4.0        0\n",
       "1                      2.0        1\n",
       "0                      2.0        2\n",
       "2                      2.0        3\n",
       "3                      3.0        4\n",
       "4                      3.0        5\n",
       "5                      1.0        6\n",
       "1                      5.0        7\n",
       "2                      4.0        8\n",
       "6                      4.0        9\n",
       "7                      7.0       10\n",
       "3                      2.0       11\n",
       "8                      4.0       12\n",
       "4                      5.0       13\n",
       "5                      2.0       14\n",
       "9                      4.0       15\n",
       "10                     2.0       16\n",
       "11                     2.0       17\n",
       "6                      2.0       18\n",
       "12                     3.0       19\n",
       "13                     5.0       20\n",
       "14                     9.0       21\n",
       "7                     10.0       22\n",
       "15                     2.0       23\n",
       "16                     1.0       24\n",
       "17                     7.0       25\n",
       "8                      2.0       26\n",
       "18                     5.0       27\n",
       "19                     1.0       28\n",
       "20                     1.0       29\n",
       "...                    ...      ...\n",
       "3460849                2.0  6999221\n",
       "3538372                2.0  6999222\n",
       "3538373                5.0  6999223\n",
       "3460850                1.0  6999224\n",
       "3538374               11.0  6999225\n",
       "3460851                3.0  6999226\n",
       "3460852                6.0  6999227\n",
       "3538375                3.0  6999228\n",
       "3538376                3.0  6999229\n",
       "3460853               78.0  6999230\n",
       "3460854                2.0  6999231\n",
       "3538377                2.0  6999232\n",
       "3538378                2.0  6999233\n",
       "3460855                2.0  6999234\n",
       "3460856                5.0  6999235\n",
       "3460857                2.0  6999236\n",
       "3538379                3.0  6999237\n",
       "3538380                6.0  6999238\n",
       "3460858                7.0  6999239\n",
       "3460859                1.0  6999240\n",
       "3538381                1.0  6999241\n",
       "3538382                2.0  6999242\n",
       "3460860                7.0  6999243\n",
       "3460861               36.0  6999244\n",
       "3538383                8.0  6999245\n",
       "3460862                2.0  6999246\n",
       "3538384                2.0  6999247\n",
       "3460863                3.0  6999248\n",
       "3460864                2.0  6999249\n",
       "3460865                1.0  6999250\n",
       "\n",
       "[6999251 rows x 2 columns]"
      ]
     },
     "execution_count": 125,
     "metadata": {},
     "output_type": "execute_result"
    }
   ],
   "source": [
    "submission.head(20)"
   ]
  },
  {
   "cell_type": "code",
   "execution_count": null,
   "metadata": {
    "collapsed": true
   },
   "outputs": [],
   "source": [
    "submission.shape"
   ]
  },
  {
   "cell_type": "markdown",
   "metadata": {},
   "source": [
    "# PAUSE"
   ]
  },
  {
   "cell_type": "code",
   "execution_count": 126,
   "metadata": {
    "collapsed": true
   },
   "outputs": [],
   "source": [
    "from datetime import datetime"
   ]
  },
  {
   "cell_type": "code",
   "execution_count": 127,
   "metadata": {
    "collapsed": false
   },
   "outputs": [],
   "source": [
    "submission[[\"id\",\"Demanda_uni_equil\"]].to_csv('../../input/' + \n",
    "                                              datetime.now().strftime('%Y-%m-%d-%H-%M-%S') +'.csv', index=False)"
   ]
  },
  {
   "cell_type": "code",
   "execution_count": null,
   "metadata": {
    "collapsed": true
   },
   "outputs": [],
   "source": []
  },
  {
   "cell_type": "markdown",
   "metadata": {},
   "source": [
    "# Stop"
   ]
  },
  {
   "cell_type": "markdown",
   "metadata": {
    "collapsed": false
   },
   "source": [
    "#FE.ReadCsv('test')"
   ]
  },
  {
   "cell_type": "markdown",
   "metadata": {
    "collapsed": true
   },
   "source": [
    "FE.test2 =  pd.DataFrame({\"id\":  FE.test2[\"id\"]})"
   ]
  },
  {
   "cell_type": "markdown",
   "metadata": {
    "collapsed": false
   },
   "source": [
    "#FE.test2.loc[:,\"Demanda_uni_equil\"] = 0"
   ]
  },
  {
   "cell_type": "markdown",
   "metadata": {
    "collapsed": false
   },
   "source": [
    "submission = FE.test2.append(submission1)"
   ]
  },
  {
   "cell_type": "markdown",
   "metadata": {
    "collapsed": false
   },
   "source": [
    "(submission.id == 0).sum()"
   ]
  },
  {
   "cell_type": "markdown",
   "metadata": {
    "collapsed": false
   },
   "source": [
    "(submission1.id == 0).sum()"
   ]
  },
  {
   "cell_type": "markdown",
   "metadata": {
    "collapsed": false
   },
   "source": [
    "(FE.test1.Semana == 0).sum()"
   ]
  },
  {
   "cell_type": "markdown",
   "metadata": {
    "collapsed": false
   },
   "source": [
    "(FE.test2.Semana == 0).sum()"
   ]
  },
  {
   "cell_type": "markdown",
   "metadata": {
    "collapsed": false
   },
   "source": [
    "(FE.test2.id != 0).sum()"
   ]
  },
  {
   "cell_type": "markdown",
   "metadata": {
    "collapsed": false
   },
   "source": [
    "(FE.test1.id != 0).sum()"
   ]
  },
  {
   "cell_type": "markdown",
   "metadata": {
    "collapsed": false
   },
   "source": [
    "FE.test2[(FE.test2.id == 0)]"
   ]
  },
  {
   "cell_type": "markdown",
   "metadata": {
    "collapsed": true
   },
   "source": []
  },
  {
   "cell_type": "markdown",
   "metadata": {
    "collapsed": true
   },
   "source": []
  },
  {
   "cell_type": "markdown",
   "metadata": {
    "collapsed": true
   },
   "source": []
  },
  {
   "cell_type": "markdown",
   "metadata": {
    "collapsed": false
   },
   "source": [
    "submission"
   ]
  },
  {
   "cell_type": "markdown",
   "metadata": {
    "collapsed": false
   },
   "source": [
    "submission.sort_values(by=\"id\",)"
   ]
  },
  {
   "cell_type": "markdown",
   "metadata": {
    "collapsed": true
   },
   "source": [
    "from datetime import datetime"
   ]
  },
  {
   "cell_type": "markdown",
   "metadata": {
    "collapsed": false
   },
   "source": [
    "submission[[\"id\",\"Demanda_uni_equil\"]].to_csv('../../input/' + \n",
    "                                              datetime.now().strftime('%Y-%m-%d-%H-%M-%S') +'.csv', index=False)"
   ]
  },
  {
   "cell_type": "markdown",
   "metadata": {},
   "source": [
    "## Test2 XGBoost"
   ]
  },
  {
   "cell_type": "markdown",
   "metadata": {
    "collapsed": true
   },
   "source": [
    "X_train = FE.train[test2columns]\n",
    "X_test = FE.test2[test2columns]\n",
    "y_train = FE.train[\"Demanda_uni_equil\"]\n",
    "y_test = FE.test2[\"Demanda_uni_equil\"]"
   ]
  },
  {
   "cell_type": "markdown",
   "metadata": {
    "collapsed": false
   },
   "source": [
    "print X_train.shape\n",
    "print X_test.shape\n",
    "print y_train.shape\n",
    "print y_test.shape\n",
    "gc.collect()"
   ]
  },
  {
   "cell_type": "markdown",
   "metadata": {
    "collapsed": false
   },
   "source": [
    "defaultParams = {\"max_depth\":6, \"subsample\":1., \"min_child_weight\":5, \"colsample_bytree\":0.4, \"missing\":np.nan\n",
    "                ,\"n_estimators\":500, \"learning_rate\":0.1}\n",
    "xgb_model2 = xgb.XGBRegressor(**defaultParams) \n",
    "\n",
    "\n",
    "xgb_model2.fit(X_train,y_train,eval_set=[(X_train, y_train),(X_test, y_test)],\n",
    "         verbose=1, early_stopping_rounds = 10)\n",
    "\n",
    "\n",
    "predictions = xgb_model2.predict(X_train,ntree_limit  = xgb_model2.best_iteration+1)\n",
    "predictionsTest = xgb_model2.predict(X_test,ntree_limit  = xgb_model2.best_iteration+1)\n",
    "\n",
    "print \"trainResult: \", np.sqrt(mean_squared_error(y_train, predictions))\n",
    "print \"testResult: \", np.sqrt(mean_squared_error(y_test, predictionsTest))\n",
    "print \"Best Iteration: \", xgb_model2.best_iteration\n",
    "print \"Best Score: \", xgb_model2.best_score\n",
    "print xgb.plot_importance(xgb_model2)"
   ]
  },
  {
   "cell_type": "markdown",
   "metadata": {
    "collapsed": false
   },
   "source": [
    "print(\"Pickling sklearn API models\")\n",
    "# must open in binary format to pickle\n",
    "pickle.dump(xgb_model2, open(\"../../input/test2.pkl\", \"wb\"))"
   ]
  },
  {
   "cell_type": "markdown",
   "metadata": {
    "collapsed": false
   },
   "source": [
    "clf2 = pickle.load(open(\"../../input/test2.pkl\", \"rb\"))\n",
    "\n",
    "clf2.set_params(**{\"n_estimators\" : clf2.best_iteration+1})\n",
    "\n",
    "clf2.fit(X_train,y_train, verbose=1, eval_set=[(X_train, y_train)])\n",
    "\n",
    "predictions = clf2.predict(X_train,ntree_limit  = clf2.best_iteration+1)\n",
    "predictionsTest = clf2.predict(X_test,ntree_limit  = clf2.best_iteration+1)\n",
    "\n",
    "print \"trainResult: \", np.sqrt(mean_squared_error(y_train, predictions))\n",
    "print \"testResult: \", np.sqrt(mean_squared_error(y_test, predictionsTest))\n",
    "print \"Best Iteration: \", clf2.best_iteration\n",
    "print \"Best Score: \", clf2.best_score\n",
    "print xgb.plot_importance(clf2)"
   ]
  },
  {
   "cell_type": "markdown",
   "metadata": {
    "collapsed": true
   },
   "source": []
  },
  {
   "cell_type": "markdown",
   "metadata": {
    "collapsed": true
   },
   "source": []
  },
  {
   "cell_type": "markdown",
   "metadata": {
    "collapsed": true
   },
   "source": []
  },
  {
   "cell_type": "markdown",
   "metadata": {
    "collapsed": true
   },
   "source": []
  },
  {
   "cell_type": "markdown",
   "metadata": {
    "collapsed": true
   },
   "source": []
  },
  {
   "cell_type": "markdown",
   "metadata": {
    "collapsed": true
   },
   "source": []
  },
  {
   "cell_type": "markdown",
   "metadata": {
    "collapsed": false
   },
   "source": [
    "corrDf = FE.train.corr()"
   ]
  },
  {
   "cell_type": "markdown",
   "metadata": {
    "collapsed": true
   },
   "source": [
    "corrDf.to_csv('../../input/coordf.csv')"
   ]
  },
  {
   "cell_type": "markdown",
   "metadata": {
    "collapsed": false
   },
   "source": [
    "corrDf.loc[:,0:16]"
   ]
  },
  {
   "cell_type": "markdown",
   "metadata": {
    "collapsed": true
   },
   "source": [
    "def GiveBestParameterWithoutCV(defaultParams, testParams, X_train, X_test, Y_train, Y_test, fitParams):\n",
    "    xgb_model = xgb.XGBRegressor(**defaultParams) \n",
    "    \n",
    "    minRmse = 10000\n",
    "    minRmseParameter = 10000\n",
    "    bestIteration = 1000\n",
    "        \n",
    "    for key,values in testParams:\n",
    "        minRmseParameter = xgb_model.get_xgb_params()[key]\n",
    "        \n",
    "        for value in values:\n",
    "            \n",
    "            xgb_model.set_params(**{key:value})\n",
    "            xgb_model.fit(X_train,Y_train, eval_set=[(X_train, Y_train),(X_test, Y_test)],\n",
    "                  **fitParams)\n",
    "            if xgb_model.best_score < minRmse:\n",
    "                minRmse = xgb_model.best_score\n",
    "                minRmseParameter = value\n",
    "                bestIteration = xgb_model.best_iteration\n",
    "                \n",
    "        xgb_model.set_params(**{key:minRmseParameter})\n",
    "        print \"Parameters are finished for {}. Best Iteration is {}\".format(key, bestIteration)\n",
    "        print \"Minimum Rmse : {}, optimum parameter is {} between {}\".format(minRmse, minRmseParameter, values)\n",
    "    gc.collect()"
   ]
  },
  {
   "cell_type": "markdown",
   "metadata": {
    "collapsed": false,
    "scrolled": false
   },
   "source": [
    "defaultParams = {\"max_depth\":10, \"subsample\":1., \"min_child_weight\":5, \"colsample_bytree\":0.4, \"missing\":np.nan\n",
    "                ,\"n_estimators\":500, \"learning_rate\":0.1}\n",
    "testParams = [(\"max_depth\",[12,8,6,14]), (\"subsample\",[0.9,0.8,0.6]), (\"min_child_weight\",[1,3,7]),\n",
    "                  (\"colsample_bytree\",[0.3,0.5,0.6, 0.8,1]), (\"learning_rate\",[0.05])]\n",
    "fitParams = {\"verbose\":2, \"early_stopping_rounds\": 10}\n",
    "\n",
    "GiveBestParameterWithoutCV(defaultParams,testParams, X_train, X_test, y_train, y_test, fitParams )"
   ]
  },
  {
   "cell_type": "markdown",
   "metadata": {
    "collapsed": false
   },
   "source": [
    "pd.DataFrame([np.round(np.expm1(predictionsTest[:20])),np.round(np.expm1(y_test[0:20]))])"
   ]
  },
  {
   "cell_type": "markdown",
   "metadata": {
    "collapsed": false
   },
   "source": [
    "np.sqrt(mean_squared_error(y_test, predictionsTest))"
   ]
  },
  {
   "cell_type": "markdown",
   "metadata": {
    "collapsed": false
   },
   "source": [
    "berker = pd.DataFrame( {\"Predict\": np.round(np.expm1(predictionsTest)),\n",
    "    \"Real\" : np.round(np.expm1(y_test))})"
   ]
  },
  {
   "cell_type": "markdown",
   "metadata": {
    "collapsed": false
   },
   "source": [
    "berker.plot()"
   ]
  },
  {
   "cell_type": "markdown",
   "metadata": {
    "collapsed": false
   },
   "source": [
    "np.mean(predictionsTest)"
   ]
  },
  {
   "cell_type": "markdown",
   "metadata": {
    "collapsed": false
   },
   "source": [
    "np.mean(y_test)"
   ]
  },
  {
   "cell_type": "markdown",
   "metadata": {
    "collapsed": true
   },
   "source": [
    "print(\"Pickling sklearn API models\")\n",
    "# must open in binary format to pickle\n",
    "pickle.dump(xgb_model, open(\"best_boston.pkl\", \"wb\"))"
   ]
  }
 ],
 "metadata": {
  "kernelspec": {
   "display_name": "Python [Root]",
   "language": "python",
   "name": "Python [Root]"
  },
  "language_info": {
   "codemirror_mode": {
    "name": "ipython",
    "version": 2
   },
   "file_extension": ".py",
   "mimetype": "text/x-python",
   "name": "python",
   "nbconvert_exporter": "python",
   "pygments_lexer": "ipython2",
   "version": "2.7.12"
  }
 },
 "nbformat": 4,
 "nbformat_minor": 0
}
