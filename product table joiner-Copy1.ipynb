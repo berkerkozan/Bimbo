{
 "cells": [
  {
   "cell_type": "code",
   "execution_count": 1,
   "metadata": {
    "collapsed": true
   },
   "outputs": [],
   "source": [
    "import numpy as np  # linear algebra\n",
    "import pandas as pd  # data processing, CSV file I/O (e.g. pd.read_csv)\n",
    "\n",
    "import gc\n"
   ]
  },
  {
   "cell_type": "code",
   "execution_count": 2,
   "metadata": {
    "collapsed": true
   },
   "outputs": [],
   "source": [
    "products_encoded = pd.read_csv('../input/products_encoded_10_words.csv')"
   ]
  },
  {
   "cell_type": "code",
   "execution_count": 3,
   "metadata": {
    "collapsed": true
   },
   "outputs": [],
   "source": [
    "train_alld = pd.read_csv('../input/train_alld_totals.csv')\n",
    "train_alld = pd.merge(train_alld, products_encoded, on='Producto_ID', how='left')\n",
    "#train_alld = train_alld.join(products_encoded, on='Producto_ID', lsuffix='_t')\n"
   ]
  },
  {
   "cell_type": "code",
   "execution_count": 4,
   "metadata": {
    "collapsed": false
   },
   "outputs": [
    {
     "data": {
      "text/html": [
       "<div>\n",
       "<table border=\"1\" class=\"dataframe\">\n",
       "  <thead>\n",
       "    <tr style=\"text-align: right;\">\n",
       "      <th></th>\n",
       "      <th>Demanda_uni_equil</th>\n",
       "      <th>d1</th>\n",
       "      <th>d2</th>\n",
       "      <th>d3</th>\n",
       "      <th>d4</th>\n",
       "      <th>d5</th>\n",
       "      <th>d6</th>\n",
       "      <th>Cliente_ID</th>\n",
       "      <th>Producto_ID_t</th>\n",
       "      <th>p_total_demand</th>\n",
       "      <th>...</th>\n",
       "      <th>canelit</th>\n",
       "      <th>delici chochit</th>\n",
       "      <th>delici vainill</th>\n",
       "      <th>gansit</th>\n",
       "      <th>medi noch</th>\n",
       "      <th>pan blanc</th>\n",
       "      <th>pan integral</th>\n",
       "      <th>pinguin</th>\n",
       "      <th>tortillin</th>\n",
       "      <th>wond</th>\n",
       "    </tr>\n",
       "  </thead>\n",
       "  <tbody>\n",
       "    <tr>\n",
       "      <th>0</th>\n",
       "      <td>1</td>\n",
       "      <td>-999.0</td>\n",
       "      <td>-999.0</td>\n",
       "      <td>-999.0</td>\n",
       "      <td>-999.0</td>\n",
       "      <td>-999.0</td>\n",
       "      <td>-999.0</td>\n",
       "      <td>100000</td>\n",
       "      <td>43274</td>\n",
       "      <td>1639486</td>\n",
       "      <td>...</td>\n",
       "      <td>NaN</td>\n",
       "      <td>NaN</td>\n",
       "      <td>NaN</td>\n",
       "      <td>NaN</td>\n",
       "      <td>NaN</td>\n",
       "      <td>NaN</td>\n",
       "      <td>NaN</td>\n",
       "      <td>NaN</td>\n",
       "      <td>NaN</td>\n",
       "      <td>NaN</td>\n",
       "    </tr>\n",
       "    <tr>\n",
       "      <th>1</th>\n",
       "      <td>2</td>\n",
       "      <td>1.0</td>\n",
       "      <td>-999.0</td>\n",
       "      <td>-999.0</td>\n",
       "      <td>-999.0</td>\n",
       "      <td>-999.0</td>\n",
       "      <td>-999.0</td>\n",
       "      <td>100000</td>\n",
       "      <td>43274</td>\n",
       "      <td>1639486</td>\n",
       "      <td>...</td>\n",
       "      <td>NaN</td>\n",
       "      <td>NaN</td>\n",
       "      <td>NaN</td>\n",
       "      <td>NaN</td>\n",
       "      <td>NaN</td>\n",
       "      <td>NaN</td>\n",
       "      <td>NaN</td>\n",
       "      <td>NaN</td>\n",
       "      <td>NaN</td>\n",
       "      <td>NaN</td>\n",
       "    </tr>\n",
       "    <tr>\n",
       "      <th>2</th>\n",
       "      <td>2</td>\n",
       "      <td>2.0</td>\n",
       "      <td>1.0</td>\n",
       "      <td>-999.0</td>\n",
       "      <td>-999.0</td>\n",
       "      <td>-999.0</td>\n",
       "      <td>-999.0</td>\n",
       "      <td>100000</td>\n",
       "      <td>43274</td>\n",
       "      <td>1639486</td>\n",
       "      <td>...</td>\n",
       "      <td>NaN</td>\n",
       "      <td>NaN</td>\n",
       "      <td>NaN</td>\n",
       "      <td>NaN</td>\n",
       "      <td>NaN</td>\n",
       "      <td>NaN</td>\n",
       "      <td>NaN</td>\n",
       "      <td>NaN</td>\n",
       "      <td>NaN</td>\n",
       "      <td>NaN</td>\n",
       "    </tr>\n",
       "    <tr>\n",
       "      <th>3</th>\n",
       "      <td>2</td>\n",
       "      <td>0.0</td>\n",
       "      <td>0.0</td>\n",
       "      <td>2.0</td>\n",
       "      <td>2.0</td>\n",
       "      <td>1.0</td>\n",
       "      <td>-999.0</td>\n",
       "      <td>100000</td>\n",
       "      <td>43274</td>\n",
       "      <td>1639486</td>\n",
       "      <td>...</td>\n",
       "      <td>NaN</td>\n",
       "      <td>NaN</td>\n",
       "      <td>NaN</td>\n",
       "      <td>NaN</td>\n",
       "      <td>NaN</td>\n",
       "      <td>NaN</td>\n",
       "      <td>NaN</td>\n",
       "      <td>NaN</td>\n",
       "      <td>NaN</td>\n",
       "      <td>NaN</td>\n",
       "    </tr>\n",
       "    <tr>\n",
       "      <th>4</th>\n",
       "      <td>3</td>\n",
       "      <td>0.0</td>\n",
       "      <td>0.0</td>\n",
       "      <td>-999.0</td>\n",
       "      <td>-999.0</td>\n",
       "      <td>-999.0</td>\n",
       "      <td>-999.0</td>\n",
       "      <td>100000</td>\n",
       "      <td>30572</td>\n",
       "      <td>7229285</td>\n",
       "      <td>...</td>\n",
       "      <td>NaN</td>\n",
       "      <td>NaN</td>\n",
       "      <td>NaN</td>\n",
       "      <td>NaN</td>\n",
       "      <td>NaN</td>\n",
       "      <td>NaN</td>\n",
       "      <td>NaN</td>\n",
       "      <td>NaN</td>\n",
       "      <td>NaN</td>\n",
       "      <td>NaN</td>\n",
       "    </tr>\n",
       "  </tbody>\n",
       "</table>\n",
       "<p>5 rows × 25 columns</p>\n",
       "</div>"
      ],
      "text/plain": [
       "   Demanda_uni_equil     d1     d2     d3     d4     d5     d6  Cliente_ID  \\\n",
       "0                  1 -999.0 -999.0 -999.0 -999.0 -999.0 -999.0      100000   \n",
       "1                  2    1.0 -999.0 -999.0 -999.0 -999.0 -999.0      100000   \n",
       "2                  2    2.0    1.0 -999.0 -999.0 -999.0 -999.0      100000   \n",
       "3                  2    0.0    0.0    2.0    2.0    1.0 -999.0      100000   \n",
       "4                  3    0.0    0.0 -999.0 -999.0 -999.0 -999.0      100000   \n",
       "\n",
       "   Producto_ID_t  p_total_demand  ...   canelit  delici chochit  \\\n",
       "0          43274         1639486  ...       NaN             NaN   \n",
       "1          43274         1639486  ...       NaN             NaN   \n",
       "2          43274         1639486  ...       NaN             NaN   \n",
       "3          43274         1639486  ...       NaN             NaN   \n",
       "4          30572         7229285  ...       NaN             NaN   \n",
       "\n",
       "   delici vainill  gansit  medi noch  pan blanc  pan integral  pinguin  \\\n",
       "0             NaN     NaN        NaN        NaN           NaN      NaN   \n",
       "1             NaN     NaN        NaN        NaN           NaN      NaN   \n",
       "2             NaN     NaN        NaN        NaN           NaN      NaN   \n",
       "3             NaN     NaN        NaN        NaN           NaN      NaN   \n",
       "4             NaN     NaN        NaN        NaN           NaN      NaN   \n",
       "\n",
       "   tortillin  wond  \n",
       "0        NaN   NaN  \n",
       "1        NaN   NaN  \n",
       "2        NaN   NaN  \n",
       "3        NaN   NaN  \n",
       "4        NaN   NaN  \n",
       "\n",
       "[5 rows x 25 columns]"
      ]
     },
     "execution_count": 4,
     "metadata": {},
     "output_type": "execute_result"
    }
   ],
   "source": [
    "train_alld.head()"
   ]
  },
  {
   "cell_type": "code",
   "execution_count": 5,
   "metadata": {
    "collapsed": false
   },
   "outputs": [
    {
     "name": "stdout",
     "output_type": "stream",
     "text": [
      "<class 'pandas.core.frame.DataFrame'>\n",
      "RangeIndex: 74013023 entries, 0 to 74013022\n",
      "Data columns (total 25 columns):\n",
      "Demanda_uni_equil    int64\n",
      "d1                   float64\n",
      "d2                   float64\n",
      "d3                   float64\n",
      "d4                   float64\n",
      "d5                   float64\n",
      "d6                   float64\n",
      "Cliente_ID           int64\n",
      "Producto_ID_t        int64\n",
      "p_total_demand       int64\n",
      "total_demand         int64\n",
      "Unnamed: 0           float64\n",
      "Producto_ID          float64\n",
      "weight               float64\n",
      "pieces               float64\n",
      "canelit              float64\n",
      "delici chochit       float64\n",
      "delici vainill       float64\n",
      "gansit               float64\n",
      "medi noch            float64\n",
      "pan blanc            float64\n",
      "pan integral         float64\n",
      "pinguin              float64\n",
      "tortillin            float64\n",
      "wond                 float64\n",
      "dtypes: float64(20), int64(5)\n",
      "memory usage: 13.8 GB\n"
     ]
    }
   ],
   "source": [
    "train_alld.info()"
   ]
  },
  {
   "cell_type": "code",
   "execution_count": null,
   "metadata": {
    "collapsed": true
   },
   "outputs": [],
   "source": [
    "train_alld = train_alld.drop(['Producto_ID'],axis = 1)"
   ]
  },
  {
   "cell_type": "code",
   "execution_count": null,
   "metadata": {
    "collapsed": false
   },
   "outputs": [],
   "source": [
    "train_alld.to_csv('../input/train_alld_prodnames10.csv', index=False)"
   ]
  },
  {
   "cell_type": "code",
   "execution_count": null,
   "metadata": {
    "collapsed": false
   },
   "outputs": [],
   "source": [
    "del train_alld\n",
    "gc.collect()"
   ]
  },
  {
   "cell_type": "code",
   "execution_count": 3,
   "metadata": {
    "collapsed": false
   },
   "outputs": [
    {
     "name": "stdout",
     "output_type": "stream",
     "text": [
      "<class 'pandas.core.frame.DataFrame'>\n",
      "RangeIndex: 6943675 entries, 0 to 6943674\n",
      "Data columns (total 24 columns):\n",
      "Cliente_ID        int64\n",
      "Producto_ID_t     int64\n",
      "d1                float64\n",
      "d2                float64\n",
      "d3                float64\n",
      "d4                float64\n",
      "d5                float64\n",
      "d6                float64\n",
      "id                int64\n",
      "p_total_demand    int64\n",
      "total_demand      int64\n",
      "Unnamed: 0        float64\n",
      "weight            float64\n",
      "pieces            float64\n",
      "canelit           float64\n",
      "delici chochit    float64\n",
      "delici vainill    float64\n",
      "gansit            float64\n",
      "medi noch         float64\n",
      "pan blanc         float64\n",
      "pan integral      float64\n",
      "pinguin           float64\n",
      "tortillin         float64\n",
      "wond              float64\n",
      "dtypes: float64(19), int64(5)\n",
      "memory usage: 1.2 GB\n"
     ]
    }
   ],
   "source": [
    "test_alld = pd.read_csv('../input/test_alld_totals.csv')\n",
    "test_alld = pd.merge(test_alld, products_encoded, on='Producto_ID', how='left')\n",
    "#test_alld = test_alld.join(products_encoded, on='Producto_ID', lsuffix='_t')\n",
    "test_alld = test_alld.drop(['Producto_ID'],axis = 1)\n",
    "test_alld.info()"
   ]
  },
  {
   "cell_type": "code",
   "execution_count": 13,
   "metadata": {
    "collapsed": true
   },
   "outputs": [],
   "source": [
    "#test_alld = test_alld.drop(['Unnamed: 0'],axis = 1)\n",
    "test_alld.to_csv('../input/test_alld_prodnames10.csv', index=False)"
   ]
  },
  {
   "cell_type": "code",
   "execution_count": null,
   "metadata": {
    "collapsed": true
   },
   "outputs": [],
   "source": []
  }
 ],
 "metadata": {
  "kernelspec": {
   "display_name": "Python [Root]",
   "language": "python",
   "name": "Python [Root]"
  },
  "language_info": {
   "codemirror_mode": {
    "name": "ipython",
    "version": 2
   },
   "file_extension": ".py",
   "mimetype": "text/x-python",
   "name": "python",
   "nbconvert_exporter": "python",
   "pygments_lexer": "ipython2",
   "version": "2.7.12"
  }
 },
 "nbformat": 4,
 "nbformat_minor": 0
}
