{
 "cells": [
  {
   "cell_type": "code",
   "execution_count": 67,
   "metadata": {
    "collapsed": true
   },
   "outputs": [],
   "source": [
    "import numpy as np  # linear algebra\n",
    "import pandas as pd  # data processing, CSV file I/O (e.g. pd.read_csv)\n",
    "from sklearn.cross_validation import train_test_split\n",
    "from ml_metrics import rmsle\n",
    "import xgboost as xgb\n",
    "import math\n",
    "from sklearn.feature_extraction.text import CountVectorizer\n",
    "from sklearn import datasets, linear_model\n",
    "from datetime import datetime\n"
   ]
  },
  {
   "cell_type": "code",
   "execution_count": 68,
   "metadata": {
    "collapsed": true
   },
   "outputs": [],
   "source": [
    "def evalerror(preds, dtrain):\n",
    "\n",
    "    labels = dtrain.get_label()\n",
    "    assert len(preds) == len(labels)\n",
    "    labels = labels.tolist()\n",
    "    preds = preds.tolist()\n",
    "    terms_to_sum = [(math.log(labels[i] + 1) - math.log(max(0,preds[i]) + 1))\n",
    "                    ** 2.0 for i,pred in enumerate(labels)]\n",
    "    return 'error', (sum(terms_to_sum) * (1.0/len(preds))) ** 0.5"
   ]
  },
  {
   "cell_type": "code",
   "execution_count": 69,
   "metadata": {
    "collapsed": false
   },
   "outputs": [],
   "source": [
    "train_joined = pd.read_csv('../input/train_1000000_alld_totals.csv')\n",
    "test_joined = pd.read_csv('../input/test_1000000_alld_totals.csv')"
   ]
  },
  {
   "cell_type": "code",
   "execution_count": 70,
   "metadata": {
    "collapsed": false
   },
   "outputs": [
    {
     "name": "stdout",
     "output_type": "stream",
     "text": [
      "<class 'pandas.core.frame.DataFrame'>\n",
      "RangeIndex: 100 entries, 0 to 99\n",
      "Data columns (total 12 columns):\n",
      "Unnamed: 0           100 non-null int64\n",
      "Demanda_uni_equil    100 non-null int64\n",
      "d1                   100 non-null float64\n",
      "d2                   100 non-null float64\n",
      "d3                   100 non-null float64\n",
      "d4                   100 non-null float64\n",
      "d5                   100 non-null float64\n",
      "d6                   100 non-null float64\n",
      "Cliente_ID           100 non-null int64\n",
      "Producto_ID          100 non-null int64\n",
      "p_total_demand       100 non-null int64\n",
      "total_demand         100 non-null int64\n",
      "dtypes: float64(6), int64(6)\n",
      "memory usage: 9.4 KB\n"
     ]
    }
   ],
   "source": [
    "train.info()"
   ]
  },
  {
   "cell_type": "code",
   "execution_count": 71,
   "metadata": {
    "collapsed": false,
    "scrolled": true
   },
   "outputs": [
    {
     "data": {
      "text/html": [
       "<div>\n",
       "<table border=\"1\" class=\"dataframe\">\n",
       "  <thead>\n",
       "    <tr style=\"text-align: right;\">\n",
       "      <th></th>\n",
       "      <th>Unnamed: 0</th>\n",
       "      <th>Cliente_ID</th>\n",
       "      <th>Producto_ID</th>\n",
       "      <th>d1</th>\n",
       "      <th>d2</th>\n",
       "      <th>d3</th>\n",
       "      <th>d4</th>\n",
       "      <th>d5</th>\n",
       "      <th>d6</th>\n",
       "      <th>id</th>\n",
       "      <th>p_total_demand</th>\n",
       "      <th>total_demand</th>\n",
       "    </tr>\n",
       "  </thead>\n",
       "  <tbody>\n",
       "    <tr>\n",
       "      <th>0</th>\n",
       "      <td>26217</td>\n",
       "      <td>4501148</td>\n",
       "      <td>32940</td>\n",
       "      <td>-999.0</td>\n",
       "      <td>2.0</td>\n",
       "      <td>2.0</td>\n",
       "      <td>0.0</td>\n",
       "      <td>0.0</td>\n",
       "      <td>2.0</td>\n",
       "      <td>6535198</td>\n",
       "      <td>1003938</td>\n",
       "      <td>1941</td>\n",
       "    </tr>\n",
       "    <tr>\n",
       "      <th>1</th>\n",
       "      <td>101342</td>\n",
       "      <td>568294</td>\n",
       "      <td>35484</td>\n",
       "      <td>0.0</td>\n",
       "      <td>0.0</td>\n",
       "      <td>0.0</td>\n",
       "      <td>0.0</td>\n",
       "      <td>0.0</td>\n",
       "      <td>0.0</td>\n",
       "      <td>5639274</td>\n",
       "      <td>138984</td>\n",
       "      <td>240</td>\n",
       "    </tr>\n",
       "    <tr>\n",
       "      <th>2</th>\n",
       "      <td>134331</td>\n",
       "      <td>797017</td>\n",
       "      <td>36610</td>\n",
       "      <td>40.0</td>\n",
       "      <td>40.0</td>\n",
       "      <td>40.0</td>\n",
       "      <td>40.0</td>\n",
       "      <td>40.0</td>\n",
       "      <td>40.0</td>\n",
       "      <td>862981</td>\n",
       "      <td>12680243</td>\n",
       "      <td>1445</td>\n",
       "    </tr>\n",
       "    <tr>\n",
       "      <th>3</th>\n",
       "      <td>186575</td>\n",
       "      <td>3406482</td>\n",
       "      <td>1232</td>\n",
       "      <td>-999.0</td>\n",
       "      <td>4.0</td>\n",
       "      <td>4.0</td>\n",
       "      <td>2.0</td>\n",
       "      <td>4.0</td>\n",
       "      <td>3.0</td>\n",
       "      <td>1837500</td>\n",
       "      <td>4310659</td>\n",
       "      <td>920</td>\n",
       "    </tr>\n",
       "    <tr>\n",
       "      <th>4</th>\n",
       "      <td>235358</td>\n",
       "      <td>1494636</td>\n",
       "      <td>35727</td>\n",
       "      <td>-999.0</td>\n",
       "      <td>4.0</td>\n",
       "      <td>4.0</td>\n",
       "      <td>4.0</td>\n",
       "      <td>2.0</td>\n",
       "      <td>4.0</td>\n",
       "      <td>6938729</td>\n",
       "      <td>707664</td>\n",
       "      <td>5623</td>\n",
       "    </tr>\n",
       "  </tbody>\n",
       "</table>\n",
       "</div>"
      ],
      "text/plain": [
       "   Unnamed: 0  Cliente_ID  Producto_ID     d1    d2    d3    d4    d5    d6  \\\n",
       "0       26217     4501148        32940 -999.0   2.0   2.0   0.0   0.0   2.0   \n",
       "1      101342      568294        35484    0.0   0.0   0.0   0.0   0.0   0.0   \n",
       "2      134331      797017        36610   40.0  40.0  40.0  40.0  40.0  40.0   \n",
       "3      186575     3406482         1232 -999.0   4.0   4.0   2.0   4.0   3.0   \n",
       "4      235358     1494636        35727 -999.0   4.0   4.0   4.0   2.0   4.0   \n",
       "\n",
       "        id  p_total_demand  total_demand  \n",
       "0  6535198         1003938          1941  \n",
       "1  5639274          138984           240  \n",
       "2   862981        12680243          1445  \n",
       "3  1837500         4310659           920  \n",
       "4  6938729          707664          5623  "
      ]
     },
     "execution_count": 71,
     "metadata": {},
     "output_type": "execute_result"
    }
   ],
   "source": [
    "test.head()"
   ]
  },
  {
   "cell_type": "code",
   "execution_count": 72,
   "metadata": {
    "collapsed": false
   },
   "outputs": [],
   "source": [
    "train_joined = train_joined.drop(['Unnamed: 0'],axis = 1)\n",
    "test_joined = test_joined.drop(['Unnamed: 0'],axis = 1)\n",
    "\n",
    "train_joined[['Cliente_ID', 'Producto_ID', 'Demanda_uni_equil', 'd1', 'd2', 'd3', 'd4', 'd5', 'd6']] =train_joined[['Cliente_ID', 'Producto_ID', 'Demanda_uni_equil', 'd1', 'd2', 'd3', 'd4', 'd5', 'd6']].astype('int32')\n",
    "test_joined[['Cliente_ID', 'Producto_ID', 'd1', 'd2', 'd3', 'd4', 'd5', 'd6']]=test_joined[['Cliente_ID', 'Producto_ID', 'd1', 'd2', 'd3', 'd4', 'd5', 'd6']].astype('int32')\n",
    "\n"
   ]
  },
  {
   "cell_type": "code",
   "execution_count": 73,
   "metadata": {
    "collapsed": false
   },
   "outputs": [],
   "source": [
    "ids = test_joined['id']\n",
    "test_joined = test_joined.drop(['id'],axis = 1)"
   ]
  },
  {
   "cell_type": "code",
   "execution_count": 74,
   "metadata": {
    "collapsed": false
   },
   "outputs": [
    {
     "name": "stdout",
     "output_type": "stream",
     "text": [
      "('Division_Set_Shapes:', (1000000, 10), (1000000,))\n",
      "('Validation_Set_Shapes:', (800000, 10), (200000, 10))\n"
     ]
    }
   ],
   "source": [
    "y = train_joined['Demanda_uni_equil']\n",
    "X = train_joined[test_joined.columns.values]\n",
    "\n",
    "X_train, X_test, y_train, y_test = train_test_split(X, y, test_size=0.2, random_state=1729)\n",
    "\n",
    "print ('Division_Set_Shapes:', X.shape, y.shape)\n",
    "print ('Validation_Set_Shapes:', X_train.shape, X_test.shape)"
   ]
  },
  {
   "cell_type": "code",
   "execution_count": 75,
   "metadata": {
    "collapsed": false,
    "scrolled": true
   },
   "outputs": [
    {
     "name": "stdout",
     "output_type": "stream",
     "text": [
      "<class 'pandas.core.frame.DataFrame'>\n",
      "Int64Index: 800000 entries, 470026 to 1677\n",
      "Data columns (total 10 columns):\n",
      "Cliente_ID        800000 non-null int32\n",
      "Producto_ID       800000 non-null int32\n",
      "d1                800000 non-null int32\n",
      "d2                800000 non-null int32\n",
      "d3                800000 non-null int32\n",
      "d4                800000 non-null int32\n",
      "d5                800000 non-null int32\n",
      "d6                800000 non-null int32\n",
      "p_total_demand    800000 non-null int64\n",
      "total_demand      800000 non-null int64\n",
      "dtypes: int32(8), int64(2)\n",
      "memory usage: 42.7 MB\n"
     ]
    }
   ],
   "source": [
    "X_train.info()"
   ]
  },
  {
   "cell_type": "code",
   "execution_count": 76,
   "metadata": {
    "collapsed": true
   },
   "outputs": [],
   "source": [
    "params = {}\n",
    "params['objective'] = \"reg:linear\"\n",
    "params['eta'] = 0.025\n",
    "params['max_depth'] = 5\n",
    "params['subsample'] = 0.8\n",
    "params['colsample_bytree'] = 0.6\n",
    "params['silent'] = True"
   ]
  },
  {
   "cell_type": "code",
   "execution_count": 77,
   "metadata": {
    "collapsed": false
   },
   "outputs": [
    {
     "name": "stderr",
     "output_type": "stream",
     "text": [
      "Will train until train_joined error hasn't decreased in 20 rounds.\n",
      "[0]\ttrain_joined-error:1.352126\n",
      "[10]\ttrain_joined-error:0.878447\n",
      "[20]\ttrain_joined-error:0.721096\n",
      "[30]\ttrain_joined-error:0.661288\n",
      "[40]\ttrain_joined-error:0.644000\n",
      "[50]\ttrain_joined-error:0.638841\n",
      "[60]\ttrain_joined-error:0.640212\n",
      "Stopping. Best iteration:\n",
      "[47]\ttrain_joined-error:0.638090\n",
      "\n"
     ]
    },
    {
     "name": "stdout",
     "output_type": "stream",
     "text": [
      "('RMSLE Score:', 0.64997530979127027)\n"
     ]
    }
   ],
   "source": [
    "test_preds = np.zeros(test_joined.shape[0])\n",
    "xg_train = xgb.DMatrix(X_train, label=y_train, missing = -999)\n",
    "xg_test = xgb.DMatrix(X_test)\n",
    "\n",
    "watchlist = [(xg_train, 'train_joined')]\n",
    "num_rounds = 200\n",
    "\n",
    "xgclassifier = xgb.train(params, xg_train, num_rounds, watchlist, feval = evalerror,\n",
    "                         early_stopping_rounds= 20, verbose_eval = 10)\n",
    "preds = xgclassifier.predict(xg_test, ntree_limit=xgclassifier.best_iteration)\n",
    "\n",
    "print ('RMSLE Score:', rmsle(y_test, preds))"
   ]
  },
  {
   "cell_type": "code",
   "execution_count": 78,
   "metadata": {
    "collapsed": true
   },
   "outputs": [],
   "source": [
    "fxg_test = xgb.DMatrix(test_joined)\n",
    "fold_preds = np.around(xgclassifier.predict(fxg_test, ntree_limit=xgclassifier.best_iteration), decimals = 1)\n",
    "test_preds += fold_preds"
   ]
  },
  {
   "cell_type": "code",
   "execution_count": 79,
   "metadata": {
    "collapsed": true
   },
   "outputs": [],
   "source": [
    "submission = pd.DataFrame({'id':ids, 'Demanda_uni_equil': test_preds})"
   ]
  },
  {
   "cell_type": "code",
   "execution_count": 80,
   "metadata": {
    "collapsed": true
   },
   "outputs": [],
   "source": [
    "submission.Demanda_uni_equil = submission.Demanda_uni_equil.round()"
   ]
  },
  {
   "cell_type": "code",
   "execution_count": 81,
   "metadata": {
    "collapsed": false
   },
   "outputs": [
    {
     "name": "stdout",
     "output_type": "stream",
     "text": [
      "done\n"
     ]
    }
   ],
   "source": [
    "submission[[\"id\",\"Demanda_uni_equil\"]].to_csv('../submissions/ALL' +\n",
    "                                              datetime.now().strftime('%Y-%m-%d-%H-%M-%S') +'.csv', index=False)\n",
    "\n",
    "print ('done')"
   ]
  },
  {
   "cell_type": "code",
   "execution_count": null,
   "metadata": {
    "collapsed": true
   },
   "outputs": [],
   "source": []
  }
 ],
 "metadata": {
  "kernelspec": {
   "display_name": "Python 2",
   "language": "python",
   "name": "python2"
  },
  "language_info": {
   "codemirror_mode": {
    "name": "ipython",
    "version": 2
   },
   "file_extension": ".py",
   "mimetype": "text/x-python",
   "name": "python",
   "nbconvert_exporter": "python",
   "pygments_lexer": "ipython2",
   "version": "2.7.11"
  }
 },
 "nbformat": 4,
 "nbformat_minor": 0
}
