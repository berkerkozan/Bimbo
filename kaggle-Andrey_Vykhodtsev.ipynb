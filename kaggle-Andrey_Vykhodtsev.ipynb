{
 "cells": [
  {
   "cell_type": "code",
   "execution_count": 5,
   "metadata": {
    "collapsed": false
   },
   "outputs": [
    {
     "data": {
      "text/html": [
       "\n",
       "    <div class=\"bk-banner\">\n",
       "        <a href=\"http://bokeh.pydata.org\" target=\"_blank\" class=\"bk-logo bk-logo-small bk-logo-notebook\"></a>\n",
       "        <span id=\"abc87e4c-b102-458e-865a-c4af5742a958\">Loading BokehJS ...</span>\n",
       "    </div>"
      ]
     },
     "metadata": {},
     "output_type": "execute_result"
    },
    {
     "data": {},
     "metadata": {},
     "output_type": "display_data"
    }
   ],
   "source": [
    "from bokeh.plotting import figure, show, output_notebook\n",
    "from bokeh.models import HoverTool, ColumnDataSource\n",
    "import numpy as np\n",
    "import pandas as pd\n",
    "import matplotlib.pyplot as plt\n",
    "import seaborn as sns\n",
    "output_notebook()\n",
    "\n",
    "def get_product_agg(cols):\n",
    "    # type: (object) -> object\n",
    "    df_train = pd.read_csv('../input/train_sample_100.csv', usecols = ['Semana', 'Producto_ID'] + cols,\n",
    "                           dtype  = {'Semana': 'int32',\n",
    "                                     'Producto_ID':'int32',\n",
    "                                     'Venta_hoy':'float32',\n",
    "                                     'Venta_uni_hoy': 'int32',\n",
    "                                     'Dev_uni_proxima':'int32',\n",
    "                                     'Dev_proxima':'float32',\n",
    "                                     'Demanda_uni_equil':'int32'})\n",
    "    agg  = df_train.groupby(['Semana', 'Producto_ID'], as_index=False).agg(['count','sum', 'min', 'max','median','mean'])\n",
    "    agg.columns  =  ['_'.join(col).strip() for col in agg.columns.values]\n",
    "    del(df_train)\n",
    "    return agg"
   ]
  },
  {
   "cell_type": "markdown",
   "metadata": {},
   "source": [
    "### a simple product aggregate. Kaggle computing power allows us to only calculate 1-2 fields at a time."
   ]
  },
  {
   "cell_type": "code",
   "execution_count": 6,
   "metadata": {
    "collapsed": false
   },
   "outputs": [],
   "source": [
    "agg1 = get_product_agg(['Demanda_uni_equil','Dev_uni_proxima'])"
   ]
  },
  {
   "cell_type": "code",
   "execution_count": 7,
   "metadata": {
    "collapsed": false
   },
   "outputs": [
    {
     "data": {
      "text/plain": [
       "(90, 12)"
      ]
     },
     "execution_count": 7,
     "metadata": {},
     "output_type": "execute_result"
    }
   ],
   "source": [
    "agg1.shape"
   ]
  },
  {
   "cell_type": "code",
   "execution_count": 8,
   "metadata": {
    "collapsed": false
   },
   "outputs": [
    {
     "data": {
      "text/html": [
       "<div>\n",
       "<table border=\"1\" class=\"dataframe\">\n",
       "  <thead>\n",
       "    <tr style=\"text-align: right;\">\n",
       "      <th></th>\n",
       "      <th></th>\n",
       "      <th>Dev_uni_proxima_count</th>\n",
       "      <th>Dev_uni_proxima_sum</th>\n",
       "      <th>Dev_uni_proxima_min</th>\n",
       "      <th>Dev_uni_proxima_max</th>\n",
       "      <th>Dev_uni_proxima_median</th>\n",
       "      <th>Dev_uni_proxima_mean</th>\n",
       "      <th>Demanda_uni_equil_count</th>\n",
       "      <th>Demanda_uni_equil_sum</th>\n",
       "      <th>Demanda_uni_equil_min</th>\n",
       "      <th>Demanda_uni_equil_max</th>\n",
       "      <th>Demanda_uni_equil_median</th>\n",
       "      <th>Demanda_uni_equil_mean</th>\n",
       "    </tr>\n",
       "    <tr>\n",
       "      <th>Semana</th>\n",
       "      <th>Producto_ID</th>\n",
       "      <th></th>\n",
       "      <th></th>\n",
       "      <th></th>\n",
       "      <th></th>\n",
       "      <th></th>\n",
       "      <th></th>\n",
       "      <th></th>\n",
       "      <th></th>\n",
       "      <th></th>\n",
       "      <th></th>\n",
       "      <th></th>\n",
       "      <th></th>\n",
       "    </tr>\n",
       "  </thead>\n",
       "  <tbody>\n",
       "    <tr>\n",
       "      <th rowspan=\"5\" valign=\"top\">3</th>\n",
       "      <th>1064</th>\n",
       "      <td>1</td>\n",
       "      <td>0</td>\n",
       "      <td>0</td>\n",
       "      <td>0</td>\n",
       "      <td>0</td>\n",
       "      <td>0</td>\n",
       "      <td>1</td>\n",
       "      <td>2</td>\n",
       "      <td>2</td>\n",
       "      <td>2</td>\n",
       "      <td>2.0</td>\n",
       "      <td>2.0</td>\n",
       "    </tr>\n",
       "    <tr>\n",
       "      <th>1309</th>\n",
       "      <td>1</td>\n",
       "      <td>0</td>\n",
       "      <td>0</td>\n",
       "      <td>0</td>\n",
       "      <td>0</td>\n",
       "      <td>0</td>\n",
       "      <td>1</td>\n",
       "      <td>5</td>\n",
       "      <td>5</td>\n",
       "      <td>5</td>\n",
       "      <td>5.0</td>\n",
       "      <td>5.0</td>\n",
       "    </tr>\n",
       "    <tr>\n",
       "      <th>3631</th>\n",
       "      <td>1</td>\n",
       "      <td>0</td>\n",
       "      <td>0</td>\n",
       "      <td>0</td>\n",
       "      <td>0</td>\n",
       "      <td>0</td>\n",
       "      <td>1</td>\n",
       "      <td>1</td>\n",
       "      <td>1</td>\n",
       "      <td>1</td>\n",
       "      <td>1.0</td>\n",
       "      <td>1.0</td>\n",
       "    </tr>\n",
       "    <tr>\n",
       "      <th>4259</th>\n",
       "      <td>2</td>\n",
       "      <td>0</td>\n",
       "      <td>0</td>\n",
       "      <td>0</td>\n",
       "      <td>0</td>\n",
       "      <td>0</td>\n",
       "      <td>2</td>\n",
       "      <td>10</td>\n",
       "      <td>2</td>\n",
       "      <td>8</td>\n",
       "      <td>5.0</td>\n",
       "      <td>5.0</td>\n",
       "    </tr>\n",
       "    <tr>\n",
       "      <th>35452</th>\n",
       "      <td>1</td>\n",
       "      <td>0</td>\n",
       "      <td>0</td>\n",
       "      <td>0</td>\n",
       "      <td>0</td>\n",
       "      <td>0</td>\n",
       "      <td>1</td>\n",
       "      <td>1</td>\n",
       "      <td>1</td>\n",
       "      <td>1</td>\n",
       "      <td>1.0</td>\n",
       "      <td>1.0</td>\n",
       "    </tr>\n",
       "  </tbody>\n",
       "</table>\n",
       "</div>"
      ],
      "text/plain": [
       "                    Dev_uni_proxima_count  Dev_uni_proxima_sum  \\\n",
       "Semana Producto_ID                                               \n",
       "3      1064                             1                    0   \n",
       "       1309                             1                    0   \n",
       "       3631                             1                    0   \n",
       "       4259                             2                    0   \n",
       "       35452                            1                    0   \n",
       "\n",
       "                    Dev_uni_proxima_min  Dev_uni_proxima_max  \\\n",
       "Semana Producto_ID                                             \n",
       "3      1064                           0                    0   \n",
       "       1309                           0                    0   \n",
       "       3631                           0                    0   \n",
       "       4259                           0                    0   \n",
       "       35452                          0                    0   \n",
       "\n",
       "                    Dev_uni_proxima_median  Dev_uni_proxima_mean  \\\n",
       "Semana Producto_ID                                                 \n",
       "3      1064                              0                     0   \n",
       "       1309                              0                     0   \n",
       "       3631                              0                     0   \n",
       "       4259                              0                     0   \n",
       "       35452                             0                     0   \n",
       "\n",
       "                    Demanda_uni_equil_count  Demanda_uni_equil_sum  \\\n",
       "Semana Producto_ID                                                   \n",
       "3      1064                               1                      2   \n",
       "       1309                               1                      5   \n",
       "       3631                               1                      1   \n",
       "       4259                               2                     10   \n",
       "       35452                              1                      1   \n",
       "\n",
       "                    Demanda_uni_equil_min  Demanda_uni_equil_max  \\\n",
       "Semana Producto_ID                                                 \n",
       "3      1064                             2                      2   \n",
       "       1309                             5                      5   \n",
       "       3631                             1                      1   \n",
       "       4259                             2                      8   \n",
       "       35452                            1                      1   \n",
       "\n",
       "                    Demanda_uni_equil_median  Demanda_uni_equil_mean  \n",
       "Semana Producto_ID                                                    \n",
       "3      1064                              2.0                     2.0  \n",
       "       1309                              5.0                     5.0  \n",
       "       3631                              1.0                     1.0  \n",
       "       4259                              5.0                     5.0  \n",
       "       35452                             1.0                     1.0  "
      ]
     },
     "execution_count": 8,
     "metadata": {},
     "output_type": "execute_result"
    }
   ],
   "source": [
    "agg1.head()"
   ]
  },
  {
   "cell_type": "code",
   "execution_count": 9,
   "metadata": {
    "collapsed": false
   },
   "outputs": [],
   "source": [
    "agg2 = get_product_agg(['Venta_uni_hoy'])\n",
    "agg = agg1.join(agg2)"
   ]
  },
  {
   "cell_type": "markdown",
   "metadata": {},
   "source": [
    "Let's preprocess products a little bit. I borrowed some of the preprocessing from [here](https://www.kaggle.com/lyytinen/grupo-bimbo-inventory-demand/basic-preprocessing-for-products) "
   ]
  },
  {
   "cell_type": "code",
   "execution_count": 10,
   "metadata": {
    "collapsed": false
   },
   "outputs": [
    {
     "data": {
      "text/html": [
       "<div>\n",
       "<table border=\"1\" class=\"dataframe\">\n",
       "  <thead>\n",
       "    <tr style=\"text-align: right;\">\n",
       "      <th></th>\n",
       "      <th>Producto_ID</th>\n",
       "      <th>NombreProducto</th>\n",
       "      <th>short_name</th>\n",
       "      <th>brand</th>\n",
       "      <th>weight</th>\n",
       "      <th>pieces</th>\n",
       "    </tr>\n",
       "  </thead>\n",
       "  <tbody>\n",
       "    <tr>\n",
       "      <th>0</th>\n",
       "      <td>0</td>\n",
       "      <td>NO IDENTIFICADO 0</td>\n",
       "      <td>NO IDENTIFICADO</td>\n",
       "      <td>IDENTIFICADO</td>\n",
       "      <td>NaN</td>\n",
       "      <td>NaN</td>\n",
       "    </tr>\n",
       "    <tr>\n",
       "      <th>1</th>\n",
       "      <td>9</td>\n",
       "      <td>Capuccino Moka 750g NES 9</td>\n",
       "      <td>Capuccino Moka</td>\n",
       "      <td>NES</td>\n",
       "      <td>750.0</td>\n",
       "      <td>NaN</td>\n",
       "    </tr>\n",
       "    <tr>\n",
       "      <th>2</th>\n",
       "      <td>41</td>\n",
       "      <td>Bimbollos Ext sAjonjoli 6p 480g BIM 41</td>\n",
       "      <td>Bimbollos Ext sAjonjoli</td>\n",
       "      <td>BIM</td>\n",
       "      <td>480.0</td>\n",
       "      <td>6.0</td>\n",
       "    </tr>\n",
       "    <tr>\n",
       "      <th>3</th>\n",
       "      <td>53</td>\n",
       "      <td>Burritos Sincro 170g CU LON 53</td>\n",
       "      <td>Burritos Sincro</td>\n",
       "      <td>LON</td>\n",
       "      <td>170.0</td>\n",
       "      <td>NaN</td>\n",
       "    </tr>\n",
       "    <tr>\n",
       "      <th>4</th>\n",
       "      <td>72</td>\n",
       "      <td>Div Tira Mini Doradita 4p 45g TR 72</td>\n",
       "      <td>Div Tira Mini Doradita</td>\n",
       "      <td>TR</td>\n",
       "      <td>45.0</td>\n",
       "      <td>4.0</td>\n",
       "    </tr>\n",
       "  </tbody>\n",
       "</table>\n",
       "</div>"
      ],
      "text/plain": [
       "   Producto_ID                          NombreProducto  \\\n",
       "0            0                       NO IDENTIFICADO 0   \n",
       "1            9               Capuccino Moka 750g NES 9   \n",
       "2           41  Bimbollos Ext sAjonjoli 6p 480g BIM 41   \n",
       "3           53          Burritos Sincro 170g CU LON 53   \n",
       "4           72     Div Tira Mini Doradita 4p 45g TR 72   \n",
       "\n",
       "                 short_name         brand  weight  pieces  \n",
       "0          NO IDENTIFICADO   IDENTIFICADO     NaN     NaN  \n",
       "1           Capuccino Moka            NES   750.0     NaN  \n",
       "2  Bimbollos Ext sAjonjoli            BIM   480.0     6.0  \n",
       "3          Burritos Sincro            LON   170.0     NaN  \n",
       "4   Div Tira Mini Doradita             TR    45.0     4.0  "
      ]
     },
     "execution_count": 10,
     "metadata": {},
     "output_type": "execute_result"
    }
   ],
   "source": [
    "products  =  pd.read_csv(\"../input/producto_tabla.csv\")\n",
    "products['short_name'] = products.NombreProducto.str.extract('^(\\D*)', expand=False)\n",
    "products['brand'] = products.NombreProducto.str.extract('^.+\\s(\\D+) \\d+$', expand=False)\n",
    "w = products.NombreProducto.str.extract('(\\d+)(Kg|g)', expand=True)\n",
    "products['weight'] = w[0].astype('float')*w[1].map({'Kg':1000, 'g':1})\n",
    "products['pieces'] =  products.NombreProducto.str.extract('(\\d+)p ', expand=False).astype('float')\n",
    "products.head()"
   ]
  },
  {
   "cell_type": "code",
   "execution_count": 11,
   "metadata": {
    "collapsed": false
   },
   "outputs": [
    {
     "data": {
      "text/html": [
       "<div>\n",
       "<table border=\"1\" class=\"dataframe\">\n",
       "  <thead>\n",
       "    <tr style=\"text-align: right;\">\n",
       "      <th></th>\n",
       "      <th>Producto_ID</th>\n",
       "      <th>NombreProducto</th>\n",
       "      <th>short_name</th>\n",
       "      <th>brand</th>\n",
       "      <th>weight</th>\n",
       "      <th>pieces</th>\n",
       "    </tr>\n",
       "  </thead>\n",
       "  <tbody>\n",
       "    <tr>\n",
       "      <th>2587</th>\n",
       "      <td>49992</td>\n",
       "      <td>Tostado Integral 180g MTA WON 49992</td>\n",
       "      <td>Tostado Integral</td>\n",
       "      <td>WON</td>\n",
       "      <td>180.0</td>\n",
       "      <td>NaN</td>\n",
       "    </tr>\n",
       "    <tr>\n",
       "      <th>2588</th>\n",
       "      <td>49993</td>\n",
       "      <td>Tostado Integral 180g TAB WON 49993</td>\n",
       "      <td>Tostado Integral</td>\n",
       "      <td>WON</td>\n",
       "      <td>180.0</td>\n",
       "      <td>NaN</td>\n",
       "    </tr>\n",
       "    <tr>\n",
       "      <th>2589</th>\n",
       "      <td>49994</td>\n",
       "      <td>Tostado Int 0pct Grasa Azuc 200g WON 49994</td>\n",
       "      <td>Tostado Int</td>\n",
       "      <td>WON</td>\n",
       "      <td>200.0</td>\n",
       "      <td>NaN</td>\n",
       "    </tr>\n",
       "    <tr>\n",
       "      <th>2590</th>\n",
       "      <td>49996</td>\n",
       "      <td>Tostado Int 0pct Grasa Azuc 200g MTA WON 49996</td>\n",
       "      <td>Tostado Int</td>\n",
       "      <td>WON</td>\n",
       "      <td>200.0</td>\n",
       "      <td>NaN</td>\n",
       "    </tr>\n",
       "    <tr>\n",
       "      <th>2591</th>\n",
       "      <td>49997</td>\n",
       "      <td>Tostado Int 0pct Grasa Azuc 200g TAB WON 49997</td>\n",
       "      <td>Tostado Int</td>\n",
       "      <td>WON</td>\n",
       "      <td>200.0</td>\n",
       "      <td>NaN</td>\n",
       "    </tr>\n",
       "  </tbody>\n",
       "</table>\n",
       "</div>"
      ],
      "text/plain": [
       "      Producto_ID                                  NombreProducto  \\\n",
       "2587        49992             Tostado Integral 180g MTA WON 49992   \n",
       "2588        49993             Tostado Integral 180g TAB WON 49993   \n",
       "2589        49994      Tostado Int 0pct Grasa Azuc 200g WON 49994   \n",
       "2590        49996  Tostado Int 0pct Grasa Azuc 200g MTA WON 49996   \n",
       "2591        49997  Tostado Int 0pct Grasa Azuc 200g TAB WON 49997   \n",
       "\n",
       "             short_name brand  weight  pieces  \n",
       "2587  Tostado Integral    WON   180.0     NaN  \n",
       "2588  Tostado Integral    WON   180.0     NaN  \n",
       "2589       Tostado Int    WON   200.0     NaN  \n",
       "2590       Tostado Int    WON   200.0     NaN  \n",
       "2591       Tostado Int    WON   200.0     NaN  "
      ]
     },
     "execution_count": 11,
     "metadata": {},
     "output_type": "execute_result"
    }
   ],
   "source": [
    "products.tail()"
   ]
  },
  {
   "cell_type": "code",
   "execution_count": 12,
   "metadata": {
    "collapsed": false
   },
   "outputs": [
    {
     "data": {
      "text/plain": [
       "Pan Blanco                       39\n",
       "Tortillinas                      37\n",
       "Deliciosas Vainilla              35\n",
       "Medias Noches                    25\n",
       "Wonder                           22\n",
       "Pan Integral                     19\n",
       "Deliciosas Chochitos             17\n",
       "Canelitas                        17\n",
       "Suavicremas Chocolate            17\n",
       "Suavicremas Vainilla             17\n",
       "Choco Roles                      16\n",
       "Suavicremas Fresa                16\n",
       "Mantecadas Nuez                  15\n",
       "Chocochispas                     15\n",
       "Tostada Ondulada Tubo            15\n",
       "Canapinas                        15\n",
       "Tostado                          14\n",
       "Barritas Fresa                   14\n",
       "Barritas Pina                    13\n",
       "Bran Frut Fresa                  12\n",
       "Triki Trakes                     12\n",
       "Deliciosas Chocochispas          12\n",
       "Barra Multigrano Nuez            12\n",
       "Mantecadas                       12\n",
       "Totopo Chilaquiles               12\n",
       "Plativolos                       12\n",
       "Galleta Gansito                  12\n",
       "Bollos BK                        12\n",
       "Bimbollos                        11\n",
       "Barra Multigrano Linaza          11\n",
       "                                 ..\n",
       "Pallet Canelitas Media KC         1\n",
       "Dulcigomas                        1\n",
       "Barrita Pina Congelada            1\n",
       "Classicas Chocol                  1\n",
       "Chips Jalapeno                    1\n",
       "Canelita ETN                      1\n",
       "Canelitas MG                      1\n",
       "Tortilla Harina FSL               1\n",
       "Bisquet Muestreo                  1\n",
       "Rosquilla Nuez sin Glass          1\n",
       "Polvoron Individual               1\n",
       "Sand Clasico Dob Fibra Cong       1\n",
       "Lonchito Clasico Juzgados         1\n",
       "Bombonete SC                      1\n",
       "Mini Galleta ABC sab Canela       1\n",
       "Mini Milk Besos Nuez              1\n",
       "Cajilla Galletas                  1\n",
       "Lonchera Plastica Baul            1\n",
       "Bran Frut Mix Fresa Pina          1\n",
       "Lonchibox Prem Bco sn Chile       1\n",
       "Bigotes Cajeta                    1\n",
       "Pan Tostado Tradicional Indi      1\n",
       "Totopo Redondo                    1\n",
       "Mi Gansito Doble Choc             1\n",
       "Surtido Fina Variedad             1\n",
       "Barra Silueta Fresa               1\n",
       "Galleta Arandaleta Muestreo       1\n",
       "Burrito Vaporero Mole             1\n",
       "Chocochispas MG                   1\n",
       "Surtido Orejitas                  1\n",
       "Name: short_name, dtype: int64"
      ]
     },
     "execution_count": 12,
     "metadata": {},
     "output_type": "execute_result"
    }
   ],
   "source": [
    "products.short_name.value_counts(dropna=False)"
   ]
  },
  {
   "cell_type": "markdown",
   "metadata": {},
   "source": [
    "There are some weird products that weight 42 Kilos. Check out this Exhibidor :\n",
    "\n",
    "![Exhibidor bimbo](https://mir-s3-cdn-cf.behance.net/project_modules/disp/55c94f24003843.5632c737c062c.jpeg)"
   ]
  },
  {
   "cell_type": "code",
   "execution_count": 13,
   "metadata": {
    "collapsed": false
   },
   "outputs": [
    {
     "data": {
      "text/plain": [
       "<matplotlib.axes._subplots.AxesSubplot at 0x7f6bc0bce9d0>"
      ]
     },
     "execution_count": 13,
     "metadata": {},
     "output_type": "execute_result"
    }
   ],
   "source": [
    "sns.distplot(products.weight.dropna())"
   ]
  },
  {
   "cell_type": "markdown",
   "metadata": {},
   "source": [
    "distribution of pieces"
   ]
  },
  {
   "cell_type": "code",
   "execution_count": 14,
   "metadata": {
    "collapsed": false
   },
   "outputs": [
    {
     "data": {
      "text/plain": [
       "<matplotlib.axes._subplots.AxesSubplot at 0x7f6bc0bce9d0>"
      ]
     },
     "execution_count": 14,
     "metadata": {},
     "output_type": "execute_result"
    }
   ],
   "source": [
    "sns.distplot(products.pieces.dropna())"
   ]
  },
  {
   "cell_type": "markdown",
   "metadata": {},
   "source": [
    "#### Lets clean up product names a bit, we have ~1000 unique names once we cleaned the weights, but there is much more work to be done\n",
    "#### Products have some abbreviation leftovers that I did not clean, products have similar names but different word forms, etc."
   ]
  },
  {
   "cell_type": "code",
   "execution_count": 15,
   "metadata": {
    "collapsed": false
   },
   "outputs": [
    {
     "data": {
      "text/plain": [
       "1014"
      ]
     },
     "execution_count": 15,
     "metadata": {},
     "output_type": "execute_result"
    }
   ],
   "source": [
    "products.short_name.nunique()"
   ]
  },
  {
   "cell_type": "markdown",
   "metadata": {},
   "source": [
    "Let's clean stop words and leave only the word stems (I did not clean abbreviations, sorry)"
   ]
  },
  {
   "cell_type": "code",
   "execution_count": 16,
   "metadata": {
    "collapsed": false
   },
   "outputs": [
    {
     "name": "stdout",
     "output_type": "stream",
     "text": [
      "[u'de', u'la', u'que', u'el', u'en', u'y', u'a', u'los', u'del', u'se', u'las', u'por', u'un', u'para', u'con', u'no', u'una', u'su', u'al', u'lo', u'como', u'm\\xe1s', u'pero', u'sus', u'le', u'ya', u'o', u'este', u's\\xed', u'porque', u'esta', u'entre', u'cuando', u'muy', u'sin', u'sobre', u'tambi\\xe9n', u'me', u'hasta', u'hay', u'donde', u'quien', u'desde', u'todo', u'nos', u'durante', u'todos', u'uno', u'les', u'ni', u'contra', u'otros', u'ese', u'eso', u'ante', u'ellos', u'e', u'esto', u'm\\xed', u'antes', u'algunos', u'qu\\xe9', u'unos', u'yo', u'otro', u'otras', u'otra', u'\\xe9l', u'tanto', u'esa', u'estos', u'mucho', u'quienes', u'nada', u'muchos', u'cual', u'poco', u'ella', u'estar', u'estas', u'algunas', u'algo', u'nosotros', u'mi', u'mis', u't\\xfa', u'te', u'ti', u'tu', u'tus', u'ellas', u'nosotras', u'vosostros', u'vosostras', u'os', u'm\\xedo', u'm\\xeda', u'm\\xedos', u'm\\xedas', u'tuyo', u'tuya', u'tuyos', u'tuyas', u'suyo', u'suya', u'suyos', u'suyas', u'nuestro', u'nuestra', u'nuestros', u'nuestras', u'vuestro', u'vuestra', u'vuestros', u'vuestras', u'esos', u'esas', u'estoy', u'est\\xe1s', u'est\\xe1', u'estamos', u'est\\xe1is', u'est\\xe1n', u'est\\xe9', u'est\\xe9s', u'estemos', u'est\\xe9is', u'est\\xe9n', u'estar\\xe9', u'estar\\xe1s', u'estar\\xe1', u'estaremos', u'estar\\xe9is', u'estar\\xe1n', u'estar\\xeda', u'estar\\xedas', u'estar\\xedamos', u'estar\\xedais', u'estar\\xedan', u'estaba', u'estabas', u'est\\xe1bamos', u'estabais', u'estaban', u'estuve', u'estuviste', u'estuvo', u'estuvimos', u'estuvisteis', u'estuvieron', u'estuviera', u'estuvieras', u'estuvi\\xe9ramos', u'estuvierais', u'estuvieran', u'estuviese', u'estuvieses', u'estuvi\\xe9semos', u'estuvieseis', u'estuviesen', u'estando', u'estado', u'estada', u'estados', u'estadas', u'estad', u'he', u'has', u'ha', u'hemos', u'hab\\xe9is', u'han', u'haya', u'hayas', u'hayamos', u'hay\\xe1is', u'hayan', u'habr\\xe9', u'habr\\xe1s', u'habr\\xe1', u'habremos', u'habr\\xe9is', u'habr\\xe1n', u'habr\\xeda', u'habr\\xedas', u'habr\\xedamos', u'habr\\xedais', u'habr\\xedan', u'hab\\xeda', u'hab\\xedas', u'hab\\xedamos', u'hab\\xedais', u'hab\\xedan', u'hube', u'hubiste', u'hubo', u'hubimos', u'hubisteis', u'hubieron', u'hubiera', u'hubieras', u'hubi\\xe9ramos', u'hubierais', u'hubieran', u'hubiese', u'hubieses', u'hubi\\xe9semos', u'hubieseis', u'hubiesen', u'habiendo', u'habido', u'habida', u'habidos', u'habidas', u'soy', u'eres', u'es', u'somos', u'sois', u'son', u'sea', u'seas', u'seamos', u'se\\xe1is', u'sean', u'ser\\xe9', u'ser\\xe1s', u'ser\\xe1', u'seremos', u'ser\\xe9is', u'ser\\xe1n', u'ser\\xeda', u'ser\\xedas', u'ser\\xedamos', u'ser\\xedais', u'ser\\xedan', u'era', u'eras', u'\\xe9ramos', u'erais', u'eran', u'fui', u'fuiste', u'fue', u'fuimos', u'fuisteis', u'fueron', u'fuera', u'fueras', u'fu\\xe9ramos', u'fuerais', u'fueran', u'fuese', u'fueses', u'fu\\xe9semos', u'fueseis', u'fuesen', u'sintiendo', u'sentido', u'sentida', u'sentidos', u'sentidas', u'siente', u'sentid', u'tengo', u'tienes', u'tiene', u'tenemos', u'ten\\xe9is', u'tienen', u'tenga', u'tengas', u'tengamos', u'teng\\xe1is', u'tengan', u'tendr\\xe9', u'tendr\\xe1s', u'tendr\\xe1', u'tendremos', u'tendr\\xe9is', u'tendr\\xe1n', u'tendr\\xeda', u'tendr\\xedas', u'tendr\\xedamos', u'tendr\\xedais', u'tendr\\xedan', u'ten\\xeda', u'ten\\xedas', u'ten\\xedamos', u'ten\\xedais', u'ten\\xedan', u'tuve', u'tuviste', u'tuvo', u'tuvimos', u'tuvisteis', u'tuvieron', u'tuviera', u'tuvieras', u'tuvi\\xe9ramos', u'tuvierais', u'tuvieran', u'tuviese', u'tuvieses', u'tuvi\\xe9semos', u'tuvieseis', u'tuviesen', u'teniendo', u'tenido', u'tenida', u'tenidos', u'tenidas', u'tened']\n"
     ]
    }
   ],
   "source": [
    "from nltk.corpus import stopwords\n",
    "print(stopwords.words(\"spanish\"))"
   ]
  },
  {
   "cell_type": "code",
   "execution_count": 17,
   "metadata": {
    "collapsed": false
   },
   "outputs": [],
   "source": [
    "products['short_name_processed'] = (products['short_name']\n",
    "                                        .map(lambda x: \" \".join([i for i in x.lower()\n",
    "                                                                 .split() if i not in stopwords.words(\"spanish\")])))"
   ]
  },
  {
   "cell_type": "code",
   "execution_count": 18,
   "metadata": {
    "collapsed": false
   },
   "outputs": [
    {
     "data": {
      "text/plain": [
       "992"
      ]
     },
     "execution_count": 18,
     "metadata": {},
     "output_type": "execute_result"
    }
   ],
   "source": [
    "products['short_name_processed'].nunique()"
   ]
  },
  {
   "cell_type": "code",
   "execution_count": 19,
   "metadata": {
    "collapsed": false
   },
   "outputs": [],
   "source": [
    "from nltk.stem.snowball import SnowballStemmer\n",
    "stemmer = SnowballStemmer(\"spanish\")"
   ]
  },
  {
   "cell_type": "code",
   "execution_count": 20,
   "metadata": {
    "collapsed": false
   },
   "outputs": [
    {
     "name": "stdout",
     "output_type": "stream",
     "text": [
      "tortill\n"
     ]
    }
   ],
   "source": [
    "print(stemmer.stem(\"Tortillas\"))"
   ]
  },
  {
   "cell_type": "code",
   "execution_count": 21,
   "metadata": {
    "collapsed": false
   },
   "outputs": [],
   "source": [
    "products['short_name_processed'] = (products['short_name_processed']\n",
    "                                        .map(lambda x: \" \".join([stemmer.stem(i) for i in x.lower().split()])))"
   ]
  },
  {
   "cell_type": "code",
   "execution_count": 22,
   "metadata": {
    "collapsed": false
   },
   "outputs": [
    {
     "data": {
      "text/plain": [
       "963"
      ]
     },
     "execution_count": 22,
     "metadata": {},
     "output_type": "execute_result"
    }
   ],
   "source": [
    "products.short_name_processed.nunique()"
   ]
  },
  {
   "cell_type": "code",
   "execution_count": 23,
   "metadata": {
    "collapsed": false
   },
   "outputs": [
    {
     "data": {
      "text/plain": [
       "(2592, 688)"
      ]
     },
     "execution_count": 23,
     "metadata": {},
     "output_type": "execute_result"
    }
   ],
   "source": [
    "from sklearn.feature_extraction.text import CountVectorizer\n",
    "vectorizer = CountVectorizer(analyzer = \"word\",   \\\n",
    "                             tokenizer = None,    \\\n",
    "                             preprocessor = None, \\\n",
    "                             stop_words = None,   \\\n",
    "                             max_features = 1000) \n",
    "\n",
    "product_bag_words = vectorizer.fit_transform(products.short_name_processed).toarray()\n",
    "product_bag_words.shape"
   ]
  },
  {
   "cell_type": "code",
   "execution_count": 24,
   "metadata": {
    "collapsed": false
   },
   "outputs": [
    {
     "data": {
      "text/plain": [
       "[u'abc',\n",
       " u'abej',\n",
       " u'aceit',\n",
       " u'actifresh',\n",
       " u'agu',\n",
       " u'ajn',\n",
       " u'ajon',\n",
       " u'ajonj',\n",
       " u'ajonjoli',\n",
       " u'alka',\n",
       " u'almendr',\n",
       " u'almenuez',\n",
       " u'almoh',\n",
       " u'amarant',\n",
       " u'american',\n",
       " u'ami',\n",
       " u'and',\n",
       " u'angus',\n",
       " u'animalit',\n",
       " u'apapach',\n",
       " u'apar',\n",
       " u'arandalet',\n",
       " u'arandan',\n",
       " u'arroz',\n",
       " u'asad',\n",
       " u'atun',\n",
       " u'avellanafs',\n",
       " u'aven',\n",
       " u'azuc',\n",
       " u'azul',\n",
       " u'ba',\n",
       " u'bagel',\n",
       " u'bagels',\n",
       " u'baguett',\n",
       " u'bairds',\n",
       " u'baji',\n",
       " u'balcon',\n",
       " u'banderill',\n",
       " u'bar',\n",
       " u'barbaco',\n",
       " u'barr',\n",
       " u'barri',\n",
       " u'barrit',\n",
       " u'bas',\n",
       " u'baul',\n",
       " u'bc',\n",
       " u'bco',\n",
       " u'bear',\n",
       " u'bes',\n",
       " u'besnuez',\n",
       " u'best',\n",
       " u'betun',\n",
       " u'bicolor',\n",
       " u'big',\n",
       " u'bigot',\n",
       " u'bim',\n",
       " u'bimb',\n",
       " u'bimbocontig',\n",
       " u'bimboll',\n",
       " u'bimbolunch',\n",
       " u'bimboton',\n",
       " u'bimbunuel',\n",
       " u'bimking',\n",
       " u'bisabor',\n",
       " u'biscotel',\n",
       " u'bisquet',\n",
       " u'bk',\n",
       " u'blanc',\n",
       " u'blist',\n",
       " u'bolill',\n",
       " u'boll',\n",
       " u'bols',\n",
       " u'bolsit',\n",
       " u'bombonet',\n",
       " u'bon',\n",
       " u'bran',\n",
       " u'branfrut',\n",
       " u'brav',\n",
       " u'bre',\n",
       " u'briobalanc',\n",
       " u'brioch',\n",
       " u'britt',\n",
       " u'bubulubu',\n",
       " u'burrer',\n",
       " u'burrit',\n",
       " u'butt',\n",
       " u'buttermilk',\n",
       " u'ca',\n",
       " u'cacahuat',\n",
       " u'cachit',\n",
       " u'caf',\n",
       " u'cajet',\n",
       " u'cajill',\n",
       " u'camioncit',\n",
       " u'can',\n",
       " u'canapin',\n",
       " u'canel',\n",
       " u'canelit',\n",
       " u'capuccin',\n",
       " u'car',\n",
       " u'carls',\n",
       " u'carn',\n",
       " u'carton',\n",
       " u'caser',\n",
       " u'catsup',\n",
       " u'cb',\n",
       " u'cer',\n",
       " u'cereal',\n",
       " u'cerealfrut',\n",
       " u'cerelet',\n",
       " u'cerez',\n",
       " u'cfib',\n",
       " u'cfrutsabnj',\n",
       " u'charol',\n",
       " u'chic',\n",
       " u'chicharron',\n",
       " u'chicks',\n",
       " u'chihuahu',\n",
       " u'chil',\n",
       " u'chilaquil',\n",
       " u'chilix',\n",
       " u'chin',\n",
       " u'chipotl',\n",
       " u'chips',\n",
       " u'chisp',\n",
       " u'cho',\n",
       " u'choc',\n",
       " u'chochit',\n",
       " u'chochochisp',\n",
       " u'chococat',\n",
       " u'chocochips',\n",
       " u'chocochisp',\n",
       " u'chocodonit',\n",
       " u'chocol',\n",
       " u'chocolat',\n",
       " u'chocoret',\n",
       " u'chocorol',\n",
       " u'chocotorr',\n",
       " u'churrit',\n",
       " u'ciel',\n",
       " u'circus',\n",
       " u'cj',\n",
       " u'clas',\n",
       " u'clasic',\n",
       " u'clasroset',\n",
       " u'classic',\n",
       " u'classics',\n",
       " u'clust',\n",
       " u'coc',\n",
       " u'col',\n",
       " u'colchon',\n",
       " u'color',\n",
       " u'com',\n",
       " u'comb',\n",
       " u'combin',\n",
       " u'conch',\n",
       " u'conchit',\n",
       " u'confeti',\n",
       " u'cong',\n",
       " u'congel',\n",
       " u'cons',\n",
       " u'consum',\n",
       " u'convenient',\n",
       " u'cooki',\n",
       " u'cor',\n",
       " u'corazon',\n",
       " u'cort',\n",
       " u'costalit',\n",
       " u'country',\n",
       " u'crem',\n",
       " u'crujient',\n",
       " u'crunch',\n",
       " u'cu',\n",
       " u'cuad',\n",
       " u'cuadr',\n",
       " u'cuadradakittybesonuez',\n",
       " u'cuadrit',\n",
       " u'cubet',\n",
       " u'cuern',\n",
       " u'cuernit',\n",
       " u'czon',\n",
       " u'czoncu',\n",
       " u'dalmat',\n",
       " u'dan',\n",
       " u'danes',\n",
       " u'dble',\n",
       " u'decanel',\n",
       " u'degustacion',\n",
       " u'deli',\n",
       " u'delici',\n",
       " u'des',\n",
       " u'deshebr',\n",
       " u'det',\n",
       " u'diabl',\n",
       " u'dif',\n",
       " u'dispens',\n",
       " u'distroll',\n",
       " u'div',\n",
       " u'dob',\n",
       " u'dobl',\n",
       " u'dog',\n",
       " u'dogs',\n",
       " u'dolc',\n",
       " u'don',\n",
       " u'donit',\n",
       " u'donitasespolvor',\n",
       " u'doradit',\n",
       " u'dpy',\n",
       " u'dual',\n",
       " u'dulc',\n",
       " u'dulcigom',\n",
       " u'duo',\n",
       " u'duobarr',\n",
       " u'duobarrit',\n",
       " u'duopack',\n",
       " u'durazn',\n",
       " u'dutch',\n",
       " u'econom',\n",
       " u'edicion',\n",
       " u'elot',\n",
       " u'empac',\n",
       " u'empanadit',\n",
       " u'empaniz',\n",
       " u'empanz',\n",
       " u'enchil',\n",
       " u'energy',\n",
       " u'english',\n",
       " u'enter',\n",
       " u'envin',\n",
       " u'epix',\n",
       " u'escol',\n",
       " u'esp',\n",
       " u'especial',\n",
       " u'espolv',\n",
       " u'espolvor',\n",
       " u'espreabl',\n",
       " u'est',\n",
       " u'estil',\n",
       " u'etn',\n",
       " u'exhib',\n",
       " u'exhibidor',\n",
       " u'exp',\n",
       " u'expendi',\n",
       " u'ext',\n",
       " u'extra',\n",
       " u'fajit',\n",
       " u'famili',\n",
       " u'fant',\n",
       " u'fast',\n",
       " u'fibr',\n",
       " u'fibramm',\n",
       " u'fiest',\n",
       " u'figatz',\n",
       " u'fin',\n",
       " u'flax',\n",
       " u'flor',\n",
       " u'flow',\n",
       " u'food',\n",
       " u'frank',\n",
       " u'freihofers',\n",
       " u'fres',\n",
       " u'fresapin',\n",
       " u'fresc',\n",
       " u'fresk',\n",
       " u'frijol',\n",
       " u'frijolchoriz',\n",
       " u'frut',\n",
       " u'fruttimani',\n",
       " u'fs',\n",
       " u'fsa',\n",
       " u'fsapn',\n",
       " u'fsl',\n",
       " u'fueg',\n",
       " u'futbol',\n",
       " u'gallet',\n",
       " u'galletagansit',\n",
       " u'galleter',\n",
       " u'galleton',\n",
       " u'gallgansit',\n",
       " u'gancher',\n",
       " u'gansi',\n",
       " u'gansit',\n",
       " u'gansitonapolitan',\n",
       " u'gbi',\n",
       " u'gde',\n",
       " u'gdl',\n",
       " u'gener',\n",
       " u'gh',\n",
       " u'glas',\n",
       " u'glass',\n",
       " u'gold',\n",
       " u'got',\n",
       " u'grain',\n",
       " u'gran',\n",
       " u'grand',\n",
       " u'granel',\n",
       " u'granosselectrigosdor',\n",
       " u'gras',\n",
       " u'grill',\n",
       " u'gto',\n",
       " u'guay',\n",
       " u'gum',\n",
       " u'gv',\n",
       " u'hallow',\n",
       " u'hamburgues',\n",
       " u'harin',\n",
       " u'healthy',\n",
       " u'herm',\n",
       " u'hermosi',\n",
       " u'hermosill',\n",
       " u'hermsp',\n",
       " u'hierbabuen',\n",
       " u'hierr',\n",
       " u'hills',\n",
       " u'hna',\n",
       " u'hojuel',\n",
       " u'horn',\n",
       " u'hot',\n",
       " u'hotcak',\n",
       " u'hotdog',\n",
       " u'ice',\n",
       " u'identific',\n",
       " u'iloveyou',\n",
       " u'indi',\n",
       " u'individual',\n",
       " u'industrial',\n",
       " u'inflad',\n",
       " u'inst',\n",
       " u'int',\n",
       " u'inte',\n",
       " u'integ',\n",
       " u'integral',\n",
       " u'intens',\n",
       " u'jalapen',\n",
       " u'jamaic',\n",
       " u'jamon',\n",
       " u'jamonques',\n",
       " u'joy',\n",
       " u'jr',\n",
       " u'jug',\n",
       " u'jumb',\n",
       " u'juzg',\n",
       " u'karamel',\n",
       " u'kc',\n",
       " u'kfc',\n",
       " u'kimon',\n",
       " u'kitty',\n",
       " u'kiyakis',\n",
       " u'kodyz',\n",
       " u'kranky',\n",
       " u'lapicer',\n",
       " u'lat',\n",
       " u'latacorazonchococatbesonuez',\n",
       " u'lech',\n",
       " u'lecher',\n",
       " u'levit',\n",
       " u'lift',\n",
       " u'light',\n",
       " u'limon',\n",
       " u'lin',\n",
       " u'linaz',\n",
       " u'loncher',\n",
       " u'lonchibox',\n",
       " u'lonchit',\n",
       " u'lors',\n",
       " u'lov',\n",
       " u'lt',\n",
       " u'lta',\n",
       " u'mac',\n",
       " u'madalen',\n",
       " u'magn',\n",
       " u'maiz',\n",
       " u'mam',\n",
       " u'mang',\n",
       " u'mantec',\n",
       " u'mantequill',\n",
       " u'manz',\n",
       " u'manzan',\n",
       " u'manzanill',\n",
       " u'marc',\n",
       " u'mari',\n",
       " u'marmol',\n",
       " u'mas',\n",
       " u'mask',\n",
       " u'max',\n",
       " u'maxi',\n",
       " u'mayore',\n",
       " u'mcd',\n",
       " u'mcdonalds',\n",
       " u'medi',\n",
       " u'median',\n",
       " u'ment',\n",
       " u'menth',\n",
       " u'mermel',\n",
       " u'mg',\n",
       " u'mgnuez',\n",
       " u'miel',\n",
       " u'milk',\n",
       " u'mini',\n",
       " u'minibigot',\n",
       " u'minibimbunuel',\n",
       " u'minidoradit',\n",
       " u'mix',\n",
       " u'mixt',\n",
       " u'mm',\n",
       " u'model',\n",
       " u'mok',\n",
       " u'mol',\n",
       " u'monchis',\n",
       " u'monterrey',\n",
       " u'mor',\n",
       " u'morang',\n",
       " u'mouss',\n",
       " u'mp',\n",
       " u'mrs',\n",
       " u'mty',\n",
       " u'muert',\n",
       " u'muestre',\n",
       " u'muffin',\n",
       " u'muffins',\n",
       " u'mul',\n",
       " u'multi',\n",
       " u'multicereal',\n",
       " u'multiempaqu',\n",
       " u'multig',\n",
       " u'multigran',\n",
       " u'multintens',\n",
       " u'multipack',\n",
       " u'mundet',\n",
       " u'mzn',\n",
       " u'nach',\n",
       " u'nan',\n",
       " u'napi',\n",
       " u'napolitan',\n",
       " u'nar',\n",
       " u'naranj',\n",
       " u'nat',\n",
       " u'natur',\n",
       " u'natural',\n",
       " u'navid',\n",
       " u'naviden',\n",
       " u'navigallet',\n",
       " u'nec',\n",
       " u'nect',\n",
       " u'negr',\n",
       " u'nes',\n",
       " u'nit',\n",
       " u'noch',\n",
       " u'nopal',\n",
       " u'norten',\n",
       " u'nuev',\n",
       " u'nuez',\n",
       " u'nuezrol',\n",
       " u'nutriav',\n",
       " u'nutriaven',\n",
       " u'nuts',\n",
       " u'oat',\n",
       " u'oatnut',\n",
       " u'oble',\n",
       " u'ola',\n",
       " u'ond',\n",
       " u'ondul',\n",
       " u'orej',\n",
       " u'orejit',\n",
       " u'ori',\n",
       " u'orig',\n",
       " u'original',\n",
       " u'oro',\n",
       " u'oroweat',\n",
       " u'osit',\n",
       " u'pachoncit',\n",
       " u'pack',\n",
       " u'paletin',\n",
       " u'paleton',\n",
       " u'palitrig',\n",
       " u'pallet',\n",
       " u'pan',\n",
       " u'pandit',\n",
       " u'panditagallet',\n",
       " u'paner',\n",
       " u'paneton',\n",
       " u'panetton',\n",
       " u'panit',\n",
       " u'panq',\n",
       " u'panqu',\n",
       " u'panquecit',\n",
       " u'papatin',\n",
       " u'parriller',\n",
       " u'pas',\n",
       " u'pastel',\n",
       " u'pasteler',\n",
       " u'pastill',\n",
       " u'pastiset',\n",
       " u'paul',\n",
       " u'pay',\n",
       " u'pdq',\n",
       " u'peinet',\n",
       " u'penafiel',\n",
       " u'pic',\n",
       " u'picadit',\n",
       " u'pimient',\n",
       " u'pin',\n",
       " u'pinguin',\n",
       " u'pinguis',\n",
       " u'pipuch',\n",
       " u'plan',\n",
       " u'plastic',\n",
       " u'plativol',\n",
       " u'plum',\n",
       " u'plus',\n",
       " u'pna',\n",
       " u'poblan',\n",
       " u'polvoron',\n",
       " u'polvoroncit',\n",
       " u'pop',\n",
       " u'pound',\n",
       " u'powerad',\n",
       " u'pplus',\n",
       " u'precoc',\n",
       " u'prem',\n",
       " u'premi',\n",
       " u'premium',\n",
       " u'princes',\n",
       " u'princip',\n",
       " u'prom',\n",
       " u'promocaj',\n",
       " u'prueb',\n",
       " u'puerc',\n",
       " u'pullm',\n",
       " u'qso',\n",
       " u'quart',\n",
       " u'qub',\n",
       " u'quem',\n",
       " u'ques',\n",
       " u'rainb',\n",
       " u'random',\n",
       " u'raztachoc',\n",
       " u'rb',\n",
       " u'rc',\n",
       " u'reban',\n",
       " u'rec',\n",
       " u'recet',\n",
       " u'redisen',\n",
       " u'redond',\n",
       " u'refrig',\n",
       " u'refriger',\n",
       " u'reg',\n",
       " u'regal',\n",
       " u'regres',\n",
       " u'regul',\n",
       " u'rell',\n",
       " u'rendidor',\n",
       " u'res',\n",
       " u'resell',\n",
       " u'rey',\n",
       " u'ric',\n",
       " u'rielit',\n",
       " u'rm',\n",
       " u'rn',\n",
       " u'rock',\n",
       " u'rocks',\n",
       " u'roj',\n",
       " u'rol',\n",
       " u'roll',\n",
       " u'ros',\n",
       " u'rosc',\n",
       " u'rosquill',\n",
       " u'runners',\n",
       " u'rw',\n",
       " u'sab',\n",
       " u'sabor',\n",
       " u'sajonjoli',\n",
       " u'sal',\n",
       " u'salm',\n",
       " u'salmit',\n",
       " u'sals',\n",
       " u'salv',\n",
       " u'san',\n",
       " u'sand',\n",
       " u'sandi',\n",
       " u'sandwich',\n",
       " u'sandwicher',\n",
       " u'sandwichon',\n",
       " u'sanissim',\n",
       " u'sc',\n",
       " u'sec',\n",
       " u'semill',\n",
       " u'semit',\n",
       " u'servilleter',\n",
       " u'shot',\n",
       " u'sidral',\n",
       " u'siluet',\n",
       " u'sincr',\n",
       " u'slp',\n",
       " u'sn',\n",
       " u'snack',\n",
       " u'snacks',\n",
       " u'snoopy',\n",
       " u'snvalentin',\n",
       " u'solecit',\n",
       " u'sonor',\n",
       " u'sonris',\n",
       " u'sop',\n",
       " u'sp',\n",
       " u'spaghetti',\n",
       " u'spin',\n",
       " u'spirron',\n",
       " u'sponch',\n",
       " u'sprit',\n",
       " u'star',\n",
       " u'stargum',\n",
       " u'story',\n",
       " u'stroehmann',\n",
       " u'suaj',\n",
       " u'suandy',\n",
       " u'suavicrem',\n",
       " u'submarin',\n",
       " u'sup',\n",
       " u'superboll',\n",
       " u'surt',\n",
       " u'takis',\n",
       " u'taquer',\n",
       " u'tarim',\n",
       " u'tart',\n",
       " u'tartalet',\n",
       " u'tartin',\n",
       " u'teddy',\n",
       " u'tempor',\n",
       " u'temporal',\n",
       " u'tentacion',\n",
       " u'thins',\n",
       " u'timex',\n",
       " u'tip',\n",
       " u'tir',\n",
       " u'tomat',\n",
       " u'toronj',\n",
       " u'torti',\n",
       " u'tortill',\n",
       " u'tortillin',\n",
       " u'tortinach',\n",
       " u'tos',\n",
       " u'tost',\n",
       " u'tostach',\n",
       " u'tostadit',\n",
       " u'totop',\n",
       " u'toy',\n",
       " u'tradicional',\n",
       " u'trail',\n",
       " u'trak',\n",
       " u'tri',\n",
       " u'trig',\n",
       " u'triki',\n",
       " u'tripack',\n",
       " u'troquel',\n",
       " u'tub',\n",
       " u'tubix',\n",
       " u'tuinkids',\n",
       " u'tuinky',\n",
       " u'twin',\n",
       " u'twinki',\n",
       " u'two',\n",
       " u'unic',\n",
       " u'uva',\n",
       " u'vain',\n",
       " u'vainill',\n",
       " u'valentin',\n",
       " u'valentn',\n",
       " u'valenton',\n",
       " u'vanill',\n",
       " u'vap',\n",
       " u'vaporer',\n",
       " u'varied',\n",
       " u'vas',\n",
       " u'vde',\n",
       " u'vidri',\n",
       " u'vips',\n",
       " u'vit',\n",
       " u'vitroler',\n",
       " u'wb',\n",
       " u'wendys',\n",
       " u'whit',\n",
       " u'whol',\n",
       " u'wond',\n",
       " u'wonderbutt',\n",
       " u'yerbabuen',\n",
       " u'you',\n",
       " u'zarzamor',\n",
       " u'zer']"
      ]
     },
     "execution_count": 24,
     "metadata": {},
     "output_type": "execute_result"
    }
   ],
   "source": [
    "vectorizer.get_feature_names()"
   ]
  },
  {
   "cell_type": "code",
   "execution_count": 25,
   "metadata": {
    "collapsed": false
   },
   "outputs": [
    {
     "data": {
      "text/html": [
       "<div>\n",
       "<table border=\"1\" class=\"dataframe\">\n",
       "  <thead>\n",
       "    <tr style=\"text-align: right;\">\n",
       "      <th></th>\n",
       "      <th>Producto_ID</th>\n",
       "      <th>abc</th>\n",
       "      <th>abej</th>\n",
       "      <th>aceit</th>\n",
       "      <th>actifresh</th>\n",
       "      <th>agu</th>\n",
       "      <th>ajn</th>\n",
       "      <th>ajon</th>\n",
       "      <th>ajonj</th>\n",
       "      <th>ajonjoli</th>\n",
       "      <th>...</th>\n",
       "      <th>wb</th>\n",
       "      <th>wendys</th>\n",
       "      <th>whit</th>\n",
       "      <th>whol</th>\n",
       "      <th>wond</th>\n",
       "      <th>wonderbutt</th>\n",
       "      <th>yerbabuen</th>\n",
       "      <th>you</th>\n",
       "      <th>zarzamor</th>\n",
       "      <th>zer</th>\n",
       "    </tr>\n",
       "  </thead>\n",
       "  <tbody>\n",
       "    <tr>\n",
       "      <th>0</th>\n",
       "      <td>0</td>\n",
       "      <td>0</td>\n",
       "      <td>0</td>\n",
       "      <td>0</td>\n",
       "      <td>0</td>\n",
       "      <td>0</td>\n",
       "      <td>0</td>\n",
       "      <td>0</td>\n",
       "      <td>0</td>\n",
       "      <td>0</td>\n",
       "      <td>...</td>\n",
       "      <td>0</td>\n",
       "      <td>0</td>\n",
       "      <td>0</td>\n",
       "      <td>0</td>\n",
       "      <td>0</td>\n",
       "      <td>0</td>\n",
       "      <td>0</td>\n",
       "      <td>0</td>\n",
       "      <td>0</td>\n",
       "      <td>0</td>\n",
       "    </tr>\n",
       "    <tr>\n",
       "      <th>1</th>\n",
       "      <td>9</td>\n",
       "      <td>0</td>\n",
       "      <td>0</td>\n",
       "      <td>0</td>\n",
       "      <td>0</td>\n",
       "      <td>0</td>\n",
       "      <td>0</td>\n",
       "      <td>0</td>\n",
       "      <td>0</td>\n",
       "      <td>0</td>\n",
       "      <td>...</td>\n",
       "      <td>0</td>\n",
       "      <td>0</td>\n",
       "      <td>0</td>\n",
       "      <td>0</td>\n",
       "      <td>0</td>\n",
       "      <td>0</td>\n",
       "      <td>0</td>\n",
       "      <td>0</td>\n",
       "      <td>0</td>\n",
       "      <td>0</td>\n",
       "    </tr>\n",
       "    <tr>\n",
       "      <th>2</th>\n",
       "      <td>41</td>\n",
       "      <td>0</td>\n",
       "      <td>0</td>\n",
       "      <td>0</td>\n",
       "      <td>0</td>\n",
       "      <td>0</td>\n",
       "      <td>0</td>\n",
       "      <td>0</td>\n",
       "      <td>0</td>\n",
       "      <td>0</td>\n",
       "      <td>...</td>\n",
       "      <td>0</td>\n",
       "      <td>0</td>\n",
       "      <td>0</td>\n",
       "      <td>0</td>\n",
       "      <td>0</td>\n",
       "      <td>0</td>\n",
       "      <td>0</td>\n",
       "      <td>0</td>\n",
       "      <td>0</td>\n",
       "      <td>0</td>\n",
       "    </tr>\n",
       "    <tr>\n",
       "      <th>3</th>\n",
       "      <td>53</td>\n",
       "      <td>0</td>\n",
       "      <td>0</td>\n",
       "      <td>0</td>\n",
       "      <td>0</td>\n",
       "      <td>0</td>\n",
       "      <td>0</td>\n",
       "      <td>0</td>\n",
       "      <td>0</td>\n",
       "      <td>0</td>\n",
       "      <td>...</td>\n",
       "      <td>0</td>\n",
       "      <td>0</td>\n",
       "      <td>0</td>\n",
       "      <td>0</td>\n",
       "      <td>0</td>\n",
       "      <td>0</td>\n",
       "      <td>0</td>\n",
       "      <td>0</td>\n",
       "      <td>0</td>\n",
       "      <td>0</td>\n",
       "    </tr>\n",
       "    <tr>\n",
       "      <th>4</th>\n",
       "      <td>72</td>\n",
       "      <td>0</td>\n",
       "      <td>0</td>\n",
       "      <td>0</td>\n",
       "      <td>0</td>\n",
       "      <td>0</td>\n",
       "      <td>0</td>\n",
       "      <td>0</td>\n",
       "      <td>0</td>\n",
       "      <td>0</td>\n",
       "      <td>...</td>\n",
       "      <td>0</td>\n",
       "      <td>0</td>\n",
       "      <td>0</td>\n",
       "      <td>0</td>\n",
       "      <td>0</td>\n",
       "      <td>0</td>\n",
       "      <td>0</td>\n",
       "      <td>0</td>\n",
       "      <td>0</td>\n",
       "      <td>0</td>\n",
       "    </tr>\n",
       "  </tbody>\n",
       "</table>\n",
       "<p>5 rows × 689 columns</p>\n",
       "</div>"
      ],
      "text/plain": [
       "   Producto_ID  abc  abej  aceit  actifresh  agu  ajn  ajon  ajonj  ajonjoli  \\\n",
       "0            0    0     0      0          0    0    0     0      0         0   \n",
       "1            9    0     0      0          0    0    0     0      0         0   \n",
       "2           41    0     0      0          0    0    0     0      0         0   \n",
       "3           53    0     0      0          0    0    0     0      0         0   \n",
       "4           72    0     0      0          0    0    0     0      0         0   \n",
       "\n",
       "  ...   wb  wendys  whit  whol  wond  wonderbutt  yerbabuen  you  zarzamor  \\\n",
       "0 ...    0       0     0     0     0           0          0    0         0   \n",
       "1 ...    0       0     0     0     0           0          0    0         0   \n",
       "2 ...    0       0     0     0     0           0          0    0         0   \n",
       "3 ...    0       0     0     0     0           0          0    0         0   \n",
       "4 ...    0       0     0     0     0           0          0    0         0   \n",
       "\n",
       "   zer  \n",
       "0    0  \n",
       "1    0  \n",
       "2    0  \n",
       "3    0  \n",
       "4    0  \n",
       "\n",
       "[5 rows x 689 columns]"
      ]
     },
     "execution_count": 25,
     "metadata": {},
     "output_type": "execute_result"
    }
   ],
   "source": [
    "product_bag_words = pd.concat([products.Producto_ID, \n",
    "                               pd.DataFrame(product_bag_words, \n",
    "                                            columns= vectorizer.get_feature_names(), index = products.index)], axis=1)\n",
    "product_bag_words.head()"
   ]
  },
  {
   "cell_type": "code",
   "execution_count": 26,
   "metadata": {
    "collapsed": false
   },
   "outputs": [
    {
     "data": {
      "text/plain": [
       "pan          220\n",
       "fres         157\n",
       "tost         115\n",
       "duo          101\n",
       "tub          100\n",
       "vainill       94\n",
       "delici        92\n",
       "blanc         91\n",
       "chocolat      91\n",
       "gallet        84\n",
       "gansit        80\n",
       "barrit        77\n",
       "tortill       76\n",
       "suavicrem     69\n",
       "nuez          63\n",
       "multigran     63\n",
       "frut          63\n",
       "pin           61\n",
       "lat           58\n",
       "bran          57\n",
       "mantec        56\n",
       "boll          56\n",
       "tortillin     55\n",
       "princip       55\n",
       "triki         51\n",
       "mini          51\n",
       "kc            50\n",
       "integral      50\n",
       "choc          49\n",
       "medi          48\n",
       "            ... \n",
       "mm            20\n",
       "jamon         20\n",
       "extra         19\n",
       "azuc          19\n",
       "pinguin       19\n",
       "burrit        18\n",
       "conch         18\n",
       "chochit       18\n",
       "ric           18\n",
       "rock          18\n",
       "bk            18\n",
       "cuernit       17\n",
       "canapin       17\n",
       "reban         17\n",
       "tir           16\n",
       "bigot         16\n",
       "panqu         16\n",
       "escol         15\n",
       "salv          15\n",
       "sponch        15\n",
       "fs            15\n",
       "mari          15\n",
       "chisp         15\n",
       "bols          15\n",
       "thins         14\n",
       "dalmat        14\n",
       "orejit        14\n",
       "pastiset      14\n",
       "fsa           14\n",
       "mix           13\n",
       "dtype: int64"
      ]
     },
     "execution_count": 26,
     "metadata": {},
     "output_type": "execute_result"
    }
   ],
   "source": [
    "product_bag_words.drop('Producto_ID', axis=1).sum().sort_values(ascending=False).head(100)"
   ]
  },
  {
   "cell_type": "markdown",
   "metadata": {},
   "source": [
    "####  let's have a look, what is the product with the biggest demand of all times"
   ]
  },
  {
   "cell_type": "code",
   "execution_count": 27,
   "metadata": {
    "collapsed": false
   },
   "outputs": [],
   "source": [
    "df = (pd.merge(agg1.reset_index(), products, on='Producto_ID', how='left').\n",
    "      groupby('short_name')['Demanda_uni_equil_sum'].sum().sort_values(ascending=False))"
   ]
  },
  {
   "cell_type": "code",
   "execution_count": 28,
   "metadata": {
    "collapsed": false
   },
   "outputs": [
    {
     "data": {
      "text/plain": [
       "<matplotlib.axes._subplots.AxesSubplot at 0x7f6b9b1877d0>"
      ]
     },
     "execution_count": 28,
     "metadata": {},
     "output_type": "execute_result"
    }
   ],
   "source": [
    "plt.figure(figsize = (12,15))\n",
    "df.head(50).sort_values().plot(kind='barh')"
   ]
  },
  {
   "cell_type": "markdown",
   "metadata": {},
   "source": [
    "The best seller is by far Nito. Check this out, looks yummy : \n",
    "\n",
    "![](http://static.manufactura.mx/media/2013/11/20/negrito.jpg)"
   ]
  },
  {
   "cell_type": "markdown",
   "metadata": {},
   "source": [
    "#### a quick look at the distributions"
   ]
  },
  {
   "cell_type": "code",
   "execution_count": 29,
   "metadata": {
    "collapsed": false
   },
   "outputs": [
    {
     "data": {
      "text/plain": [
       "<matplotlib.axes._subplots.AxesSubplot at 0x7f6b9b1877d0>"
      ]
     },
     "execution_count": 29,
     "metadata": {},
     "output_type": "execute_result"
    }
   ],
   "source": [
    "sns.distplot(df)"
   ]
  },
  {
   "cell_type": "code",
   "execution_count": 30,
   "metadata": {
    "collapsed": false
   },
   "outputs": [
    {
     "data": {
      "text/plain": [
       "<matplotlib.axes._subplots.AxesSubplot at 0x7f6b9b1877d0>"
      ]
     },
     "execution_count": 30,
     "metadata": {},
     "output_type": "execute_result"
    }
   ],
   "source": [
    "sns.distplot(np.log1p(df))"
   ]
  },
  {
   "cell_type": "markdown",
   "metadata": {},
   "source": [
    "#### expanding the aggregate"
   ]
  },
  {
   "cell_type": "code",
   "execution_count": 31,
   "metadata": {
    "collapsed": false
   },
   "outputs": [],
   "source": [
    "df = (pd.merge(agg.reset_index(), products, on='Producto_ID', how='left').\n",
    "      groupby('short_name')['Demanda_uni_equil_sum', 'Venta_uni_hoy_sum', 'Dev_uni_proxima_sum', 'Dev_uni_proxima_count']\n",
    "      .sum().sort_values(by = 'Demanda_uni_equil_sum', ascending=False))"
   ]
  },
  {
   "cell_type": "code",
   "execution_count": 32,
   "metadata": {
    "collapsed": false
   },
   "outputs": [
    {
     "data": {
      "text/html": [
       "<div>\n",
       "<table border=\"1\" class=\"dataframe\">\n",
       "  <thead>\n",
       "    <tr style=\"text-align: right;\">\n",
       "      <th></th>\n",
       "      <th>count</th>\n",
       "      <th>mean</th>\n",
       "      <th>std</th>\n",
       "      <th>min</th>\n",
       "      <th>25%</th>\n",
       "      <th>50%</th>\n",
       "      <th>75%</th>\n",
       "      <th>max</th>\n",
       "    </tr>\n",
       "  </thead>\n",
       "  <tbody>\n",
       "    <tr>\n",
       "      <th>Demanda_uni_equil_sum</th>\n",
       "      <td>52.0</td>\n",
       "      <td>10.692308</td>\n",
       "      <td>15.126316</td>\n",
       "      <td>1.0</td>\n",
       "      <td>3.00</td>\n",
       "      <td>6.0</td>\n",
       "      <td>10.5</td>\n",
       "      <td>96.0</td>\n",
       "    </tr>\n",
       "    <tr>\n",
       "      <th>Venta_uni_hoy_sum</th>\n",
       "      <td>52.0</td>\n",
       "      <td>10.846154</td>\n",
       "      <td>15.084578</td>\n",
       "      <td>1.0</td>\n",
       "      <td>3.75</td>\n",
       "      <td>6.5</td>\n",
       "      <td>10.5</td>\n",
       "      <td>96.0</td>\n",
       "    </tr>\n",
       "    <tr>\n",
       "      <th>Dev_uni_proxima_sum</th>\n",
       "      <td>52.0</td>\n",
       "      <td>0.173077</td>\n",
       "      <td>0.785185</td>\n",
       "      <td>0.0</td>\n",
       "      <td>0.00</td>\n",
       "      <td>0.0</td>\n",
       "      <td>0.0</td>\n",
       "      <td>4.0</td>\n",
       "    </tr>\n",
       "    <tr>\n",
       "      <th>Dev_uni_proxima_count</th>\n",
       "      <td>52.0</td>\n",
       "      <td>1.923077</td>\n",
       "      <td>1.265626</td>\n",
       "      <td>1.0</td>\n",
       "      <td>1.00</td>\n",
       "      <td>1.5</td>\n",
       "      <td>2.0</td>\n",
       "      <td>6.0</td>\n",
       "    </tr>\n",
       "  </tbody>\n",
       "</table>\n",
       "</div>"
      ],
      "text/plain": [
       "                       count       mean        std  min   25%  50%   75%   max\n",
       "Demanda_uni_equil_sum   52.0  10.692308  15.126316  1.0  3.00  6.0  10.5  96.0\n",
       "Venta_uni_hoy_sum       52.0  10.846154  15.084578  1.0  3.75  6.5  10.5  96.0\n",
       "Dev_uni_proxima_sum     52.0   0.173077   0.785185  0.0  0.00  0.0   0.0   4.0\n",
       "Dev_uni_proxima_count   52.0   1.923077   1.265626  1.0  1.00  1.5   2.0   6.0"
      ]
     },
     "execution_count": 32,
     "metadata": {},
     "output_type": "execute_result"
    }
   ],
   "source": [
    "df.describe().T"
   ]
  },
  {
   "cell_type": "markdown",
   "metadata": {},
   "source": [
    "There are interesting things. There are products for which Demanda_uni_equil_sum = 0 and other fields are not equal to 0"
   ]
  },
  {
   "cell_type": "code",
   "execution_count": 33,
   "metadata": {
    "collapsed": false
   },
   "outputs": [
    {
     "data": {
      "text/plain": [
       "Demanda_uni_equil_sum    0\n",
       "Venta_uni_hoy_sum        0\n",
       "Dev_uni_proxima_sum      0\n",
       "Dev_uni_proxima_count    0\n",
       "dtype: int64"
      ]
     },
     "execution_count": 33,
     "metadata": {},
     "output_type": "execute_result"
    }
   ],
   "source": [
    "df[df.Demanda_uni_equil_sum == 0].count()"
   ]
  },
  {
   "cell_type": "code",
   "execution_count": 34,
   "metadata": {
    "collapsed": false
   },
   "outputs": [
    {
     "data": {
      "text/html": [
       "<div>\n",
       "<table border=\"1\" class=\"dataframe\">\n",
       "  <thead>\n",
       "    <tr style=\"text-align: right;\">\n",
       "      <th></th>\n",
       "      <th>Demanda_uni_equil_sum</th>\n",
       "      <th>Venta_uni_hoy_sum</th>\n",
       "      <th>Dev_uni_proxima_sum</th>\n",
       "      <th>Dev_uni_proxima_count</th>\n",
       "    </tr>\n",
       "    <tr>\n",
       "      <th>short_name</th>\n",
       "      <th></th>\n",
       "      <th></th>\n",
       "      <th></th>\n",
       "      <th></th>\n",
       "    </tr>\n",
       "  </thead>\n",
       "  <tbody>\n",
       "  </tbody>\n",
       "</table>\n",
       "</div>"
      ],
      "text/plain": [
       "Empty DataFrame\n",
       "Columns: [Demanda_uni_equil_sum, Venta_uni_hoy_sum, Dev_uni_proxima_sum, Dev_uni_proxima_count]\n",
       "Index: []"
      ]
     },
     "execution_count": 34,
     "metadata": {},
     "output_type": "execute_result"
    }
   ],
   "source": [
    "df[df.Demanda_uni_equil_sum == 0]"
   ]
  },
  {
   "cell_type": "markdown",
   "metadata": {},
   "source": [
    "Similarly there are products with 0 sales and only returns"
   ]
  },
  {
   "cell_type": "code",
   "execution_count": 35,
   "metadata": {
    "collapsed": false
   },
   "outputs": [
    {
     "data": {
      "text/html": [
       "<div>\n",
       "<table border=\"1\" class=\"dataframe\">\n",
       "  <thead>\n",
       "    <tr style=\"text-align: right;\">\n",
       "      <th></th>\n",
       "      <th>Demanda_uni_equil_sum</th>\n",
       "      <th>Venta_uni_hoy_sum</th>\n",
       "      <th>Dev_uni_proxima_sum</th>\n",
       "      <th>Dev_uni_proxima_count</th>\n",
       "    </tr>\n",
       "    <tr>\n",
       "      <th>short_name</th>\n",
       "      <th></th>\n",
       "      <th></th>\n",
       "      <th></th>\n",
       "      <th></th>\n",
       "    </tr>\n",
       "  </thead>\n",
       "  <tbody>\n",
       "  </tbody>\n",
       "</table>\n",
       "</div>"
      ],
      "text/plain": [
       "Empty DataFrame\n",
       "Columns: [Demanda_uni_equil_sum, Venta_uni_hoy_sum, Dev_uni_proxima_sum, Dev_uni_proxima_count]\n",
       "Index: []"
      ]
     },
     "execution_count": 35,
     "metadata": {},
     "output_type": "execute_result"
    }
   ],
   "source": [
    "df[df.Venta_uni_hoy_sum == 0]"
   ]
  },
  {
   "cell_type": "markdown",
   "metadata": {},
   "source": [
    "there are products that were never returned"
   ]
  },
  {
   "cell_type": "code",
   "execution_count": 36,
   "metadata": {
    "collapsed": false
   },
   "outputs": [
    {
     "data": {
      "text/plain": [
       "Demanda_uni_equil_sum    49\n",
       "Venta_uni_hoy_sum        49\n",
       "Dev_uni_proxima_sum      49\n",
       "Dev_uni_proxima_count    49\n",
       "dtype: int64"
      ]
     },
     "execution_count": 36,
     "metadata": {},
     "output_type": "execute_result"
    }
   ],
   "source": [
    "df[df.Dev_uni_proxima_sum == 0].count()"
   ]
  },
  {
   "cell_type": "code",
   "execution_count": 37,
   "metadata": {
    "collapsed": false
   },
   "outputs": [
    {
     "data": {
      "text/html": [
       "<div>\n",
       "<table border=\"1\" class=\"dataframe\">\n",
       "  <thead>\n",
       "    <tr style=\"text-align: right;\">\n",
       "      <th></th>\n",
       "      <th>Demanda_uni_equil_sum</th>\n",
       "      <th>Venta_uni_hoy_sum</th>\n",
       "      <th>Dev_uni_proxima_sum</th>\n",
       "      <th>Dev_uni_proxima_count</th>\n",
       "    </tr>\n",
       "    <tr>\n",
       "      <th>short_name</th>\n",
       "      <th></th>\n",
       "      <th></th>\n",
       "      <th></th>\n",
       "      <th></th>\n",
       "    </tr>\n",
       "  </thead>\n",
       "  <tbody>\n",
       "    <tr>\n",
       "      <th>Nito</th>\n",
       "      <td>96</td>\n",
       "      <td>96</td>\n",
       "      <td>0</td>\n",
       "      <td>5</td>\n",
       "    </tr>\n",
       "    <tr>\n",
       "      <th>Pinguinos</th>\n",
       "      <td>50</td>\n",
       "      <td>50</td>\n",
       "      <td>0</td>\n",
       "      <td>4</td>\n",
       "    </tr>\n",
       "    <tr>\n",
       "      <th>Rebanada Sandwich MP</th>\n",
       "      <td>30</td>\n",
       "      <td>30</td>\n",
       "      <td>0</td>\n",
       "      <td>1</td>\n",
       "    </tr>\n",
       "    <tr>\n",
       "      <th>Pan Integral</th>\n",
       "      <td>29</td>\n",
       "      <td>29</td>\n",
       "      <td>0</td>\n",
       "      <td>6</td>\n",
       "    </tr>\n",
       "    <tr>\n",
       "      <th>Dalmata</th>\n",
       "      <td>25</td>\n",
       "      <td>25</td>\n",
       "      <td>0</td>\n",
       "      <td>5</td>\n",
       "    </tr>\n",
       "    <tr>\n",
       "      <th>Leche Nito</th>\n",
       "      <td>21</td>\n",
       "      <td>21</td>\n",
       "      <td>0</td>\n",
       "      <td>2</td>\n",
       "    </tr>\n",
       "    <tr>\n",
       "      <th>Bimbunuelos</th>\n",
       "      <td>19</td>\n",
       "      <td>19</td>\n",
       "      <td>0</td>\n",
       "      <td>4</td>\n",
       "    </tr>\n",
       "    <tr>\n",
       "      <th>Rebanada</th>\n",
       "      <td>18</td>\n",
       "      <td>18</td>\n",
       "      <td>0</td>\n",
       "      <td>2</td>\n",
       "    </tr>\n",
       "    <tr>\n",
       "      <th>Tostado</th>\n",
       "      <td>17</td>\n",
       "      <td>17</td>\n",
       "      <td>0</td>\n",
       "      <td>2</td>\n",
       "    </tr>\n",
       "    <tr>\n",
       "      <th>Gansito</th>\n",
       "      <td>17</td>\n",
       "      <td>17</td>\n",
       "      <td>0</td>\n",
       "      <td>2</td>\n",
       "    </tr>\n",
       "    <tr>\n",
       "      <th>Conchas</th>\n",
       "      <td>15</td>\n",
       "      <td>15</td>\n",
       "      <td>0</td>\n",
       "      <td>4</td>\n",
       "    </tr>\n",
       "    <tr>\n",
       "      <th>Mi Gansito</th>\n",
       "      <td>14</td>\n",
       "      <td>14</td>\n",
       "      <td>0</td>\n",
       "      <td>1</td>\n",
       "    </tr>\n",
       "    <tr>\n",
       "      <th>Polvoron</th>\n",
       "      <td>12</td>\n",
       "      <td>12</td>\n",
       "      <td>0</td>\n",
       "      <td>2</td>\n",
       "    </tr>\n",
       "    <tr>\n",
       "      <th>Tortilla Consumos</th>\n",
       "      <td>10</td>\n",
       "      <td>10</td>\n",
       "      <td>0</td>\n",
       "      <td>1</td>\n",
       "    </tr>\n",
       "    <tr>\n",
       "      <th>Canelitas</th>\n",
       "      <td>10</td>\n",
       "      <td>10</td>\n",
       "      <td>0</td>\n",
       "      <td>2</td>\n",
       "    </tr>\n",
       "    <tr>\n",
       "      <th>Barritas Pina</th>\n",
       "      <td>10</td>\n",
       "      <td>10</td>\n",
       "      <td>0</td>\n",
       "      <td>2</td>\n",
       "    </tr>\n",
       "    <tr>\n",
       "      <th>Panque Marmol</th>\n",
       "      <td>9</td>\n",
       "      <td>9</td>\n",
       "      <td>0</td>\n",
       "      <td>3</td>\n",
       "    </tr>\n",
       "    <tr>\n",
       "      <th>Pan Molido</th>\n",
       "      <td>9</td>\n",
       "      <td>9</td>\n",
       "      <td>0</td>\n",
       "      <td>1</td>\n",
       "    </tr>\n",
       "    <tr>\n",
       "      <th>Pan Blanco Chico</th>\n",
       "      <td>9</td>\n",
       "      <td>9</td>\n",
       "      <td>0</td>\n",
       "      <td>1</td>\n",
       "    </tr>\n",
       "    <tr>\n",
       "      <th>Mantecadas Vainilla</th>\n",
       "      <td>8</td>\n",
       "      <td>8</td>\n",
       "      <td>0</td>\n",
       "      <td>1</td>\n",
       "    </tr>\n",
       "  </tbody>\n",
       "</table>\n",
       "</div>"
      ],
      "text/plain": [
       "                       Demanda_uni_equil_sum  Venta_uni_hoy_sum  \\\n",
       "short_name                                                        \n",
       "Nito                                      96                 96   \n",
       "Pinguinos                                 50                 50   \n",
       "Rebanada Sandwich MP                      30                 30   \n",
       "Pan Integral                              29                 29   \n",
       "Dalmata                                   25                 25   \n",
       "Leche Nito                                21                 21   \n",
       "Bimbunuelos                               19                 19   \n",
       "Rebanada                                  18                 18   \n",
       "Tostado                                   17                 17   \n",
       "Gansito                                   17                 17   \n",
       "Conchas                                   15                 15   \n",
       "Mi Gansito                                14                 14   \n",
       "Polvoron                                  12                 12   \n",
       "Tortilla Consumos                         10                 10   \n",
       "Canelitas                                 10                 10   \n",
       "Barritas Pina                             10                 10   \n",
       "Panque Marmol                              9                  9   \n",
       "Pan Molido                                 9                  9   \n",
       "Pan Blanco Chico                           9                  9   \n",
       "Mantecadas Vainilla                        8                  8   \n",
       "\n",
       "                       Dev_uni_proxima_sum  Dev_uni_proxima_count  \n",
       "short_name                                                         \n",
       "Nito                                     0                      5  \n",
       "Pinguinos                                0                      4  \n",
       "Rebanada Sandwich MP                     0                      1  \n",
       "Pan Integral                             0                      6  \n",
       "Dalmata                                  0                      5  \n",
       "Leche Nito                               0                      2  \n",
       "Bimbunuelos                              0                      4  \n",
       "Rebanada                                 0                      2  \n",
       "Tostado                                  0                      2  \n",
       "Gansito                                  0                      2  \n",
       "Conchas                                  0                      4  \n",
       "Mi Gansito                               0                      1  \n",
       "Polvoron                                 0                      2  \n",
       "Tortilla Consumos                        0                      1  \n",
       "Canelitas                                0                      2  \n",
       "Barritas Pina                            0                      2  \n",
       "Panque Marmol                            0                      3  \n",
       "Pan Molido                               0                      1  \n",
       "Pan Blanco Chico                         0                      1  \n",
       "Mantecadas Vainilla                      0                      1  "
      ]
     },
     "execution_count": 37,
     "metadata": {},
     "output_type": "execute_result"
    }
   ],
   "source": [
    "df[df.Dev_uni_proxima_sum == 0].head(20)"
   ]
  },
  {
   "cell_type": "markdown",
   "metadata": {},
   "source": [
    "Let's cut products into 10 quantiles by summary adjusted demand."
   ]
  },
  {
   "cell_type": "code",
   "execution_count": 38,
   "metadata": {
    "collapsed": false
   },
   "outputs": [
    {
     "ename": "ValueError",
     "evalue": "Bin edges must be unique: array([  1. ,   2. ,   3. ,   4. ,   4. ,   6. ,   8. ,   9.7,  14.8,\n        20.8,  96. ])",
     "traceback": [
      "\u001b[1;31m---------------------------------------------------------------------------\u001b[0m",
      "\u001b[1;31mValueError\u001b[0m                                Traceback (most recent call last)",
      "\u001b[1;32m<ipython-input-38-2ee486791fa7>\u001b[0m in \u001b[0;36m<module>\u001b[1;34m()\u001b[0m\n\u001b[1;32m----> 1\u001b[1;33m \u001b[0mdf\u001b[0m\u001b[1;33m[\u001b[0m\u001b[1;34m'Q'\u001b[0m\u001b[1;33m]\u001b[0m \u001b[1;33m=\u001b[0m \u001b[0mpd\u001b[0m\u001b[1;33m.\u001b[0m\u001b[0mqcut\u001b[0m\u001b[1;33m(\u001b[0m\u001b[0mdf\u001b[0m\u001b[1;33m.\u001b[0m\u001b[0mDemanda_uni_equil_sum\u001b[0m\u001b[1;33m,\u001b[0m \u001b[1;36m10\u001b[0m\u001b[1;33m)\u001b[0m\u001b[1;33m\u001b[0m\u001b[0m\n\u001b[0m\u001b[0;32m      2\u001b[0m \u001b[0mdf\u001b[0m\u001b[1;33m.\u001b[0m\u001b[0mQ\u001b[0m\u001b[1;33m.\u001b[0m\u001b[0mvalue_counts\u001b[0m\u001b[1;33m(\u001b[0m\u001b[1;33m)\u001b[0m\u001b[1;33m\u001b[0m\u001b[0m\n",
      "\u001b[1;32m/home/can/anaconda2/lib/python2.7/site-packages/pandas/tools/tile.pyc\u001b[0m in \u001b[0;36mqcut\u001b[1;34m(x, q, labels, retbins, precision)\u001b[0m\n\u001b[0;32m    171\u001b[0m     \u001b[0mbins\u001b[0m \u001b[1;33m=\u001b[0m \u001b[0malgos\u001b[0m\u001b[1;33m.\u001b[0m\u001b[0mquantile\u001b[0m\u001b[1;33m(\u001b[0m\u001b[0mx\u001b[0m\u001b[1;33m,\u001b[0m \u001b[0mquantiles\u001b[0m\u001b[1;33m)\u001b[0m\u001b[1;33m\u001b[0m\u001b[0m\n\u001b[0;32m    172\u001b[0m     return _bins_to_cuts(x, bins, labels=labels, retbins=retbins,\n\u001b[1;32m--> 173\u001b[1;33m                          precision=precision, include_lowest=True)\n\u001b[0m\u001b[0;32m    174\u001b[0m \u001b[1;33m\u001b[0m\u001b[0m\n\u001b[0;32m    175\u001b[0m \u001b[1;33m\u001b[0m\u001b[0m\n",
      "\u001b[1;32m/home/can/anaconda2/lib/python2.7/site-packages/pandas/tools/tile.pyc\u001b[0m in \u001b[0;36m_bins_to_cuts\u001b[1;34m(x, bins, right, labels, retbins, precision, name, include_lowest)\u001b[0m\n\u001b[0;32m    190\u001b[0m \u001b[1;33m\u001b[0m\u001b[0m\n\u001b[0;32m    191\u001b[0m     \u001b[1;32mif\u001b[0m \u001b[0mlen\u001b[0m\u001b[1;33m(\u001b[0m\u001b[0malgos\u001b[0m\u001b[1;33m.\u001b[0m\u001b[0munique\u001b[0m\u001b[1;33m(\u001b[0m\u001b[0mbins\u001b[0m\u001b[1;33m)\u001b[0m\u001b[1;33m)\u001b[0m \u001b[1;33m<\u001b[0m \u001b[0mlen\u001b[0m\u001b[1;33m(\u001b[0m\u001b[0mbins\u001b[0m\u001b[1;33m)\u001b[0m\u001b[1;33m:\u001b[0m\u001b[1;33m\u001b[0m\u001b[0m\n\u001b[1;32m--> 192\u001b[1;33m         \u001b[1;32mraise\u001b[0m \u001b[0mValueError\u001b[0m\u001b[1;33m(\u001b[0m\u001b[1;34m'Bin edges must be unique: %s'\u001b[0m \u001b[1;33m%\u001b[0m \u001b[0mrepr\u001b[0m\u001b[1;33m(\u001b[0m\u001b[0mbins\u001b[0m\u001b[1;33m)\u001b[0m\u001b[1;33m)\u001b[0m\u001b[1;33m\u001b[0m\u001b[0m\n\u001b[0m\u001b[0;32m    193\u001b[0m \u001b[1;33m\u001b[0m\u001b[0m\n\u001b[0;32m    194\u001b[0m     \u001b[1;32mif\u001b[0m \u001b[0minclude_lowest\u001b[0m\u001b[1;33m:\u001b[0m\u001b[1;33m\u001b[0m\u001b[0m\n",
      "\u001b[1;31mValueError\u001b[0m: Bin edges must be unique: array([  1. ,   2. ,   3. ,   4. ,   4. ,   6. ,   8. ,   9.7,  14.8,\n        20.8,  96. ])"
     ],
     "output_type": "error"
    }
   ],
   "source": [
    "df['Q'] = pd.qcut(df.Demanda_uni_equil_sum, 10)\n",
    "df.Q.value_counts()"
   ]
  },
  {
   "cell_type": "code",
   "execution_count": null,
   "metadata": {
    "collapsed": false
   },
   "outputs": [],
   "source": [
    "df[df.Q == '[0, 49]'].index.values"
   ]
  },
  {
   "cell_type": "markdown",
   "metadata": {},
   "source": [
    "distribution of returns by product"
   ]
  },
  {
   "cell_type": "code",
   "execution_count": null,
   "metadata": {
    "collapsed": false
   },
   "outputs": [],
   "source": [
    "sns.distplot(df.Dev_uni_proxima_sum)"
   ]
  },
  {
   "cell_type": "code",
   "execution_count": null,
   "metadata": {
    "collapsed": false
   },
   "outputs": [],
   "source": [
    "sns.distplot(np.log1p(df.Dev_uni_proxima_sum))"
   ]
  },
  {
   "cell_type": "markdown",
   "metadata": {},
   "source": [
    "Distribution of counts by product"
   ]
  },
  {
   "cell_type": "code",
   "execution_count": null,
   "metadata": {
    "collapsed": false
   },
   "outputs": [],
   "source": [
    "sns.distplot(df.Dev_uni_proxima_count)"
   ]
  },
  {
   "cell_type": "code",
   "execution_count": null,
   "metadata": {
    "collapsed": false
   },
   "outputs": [],
   "source": [
    "sns.distplot(np.log1p(df.Dev_uni_proxima_count))"
   ]
  },
  {
   "cell_type": "markdown",
   "metadata": {},
   "source": [
    "#### lets aggregate by week and short_name now"
   ]
  },
  {
   "cell_type": "code",
   "execution_count": null,
   "metadata": {
    "collapsed": false
   },
   "outputs": [],
   "source": [
    "df_hmp = (pd.merge(agg.reset_index(), products, on='Producto_ID', how='left').\n",
    "      groupby(['Semana','short_name'])['Demanda_uni_equil_sum', 'Venta_uni_hoy_sum', 'Dev_uni_proxima_sum', 'Dev_uni_proxima_count'].sum().reset_index())"
   ]
  },
  {
   "cell_type": "code",
   "execution_count": null,
   "metadata": {
    "collapsed": false
   },
   "outputs": [],
   "source": [
    "df_hmp.head()"
   ]
  },
  {
   "cell_type": "markdown",
   "metadata": {},
   "source": [
    "#### a quick check if demand distribution changes week to week"
   ]
  },
  {
   "cell_type": "code",
   "execution_count": null,
   "metadata": {
    "collapsed": false
   },
   "outputs": [],
   "source": [
    "df_hmp['log1p_Demanda_uni_equil_sum'] = np.log1p(df_hmp.Demanda_uni_equil_sum)\n",
    "g = sns.FacetGrid(df_hmp, row = 'Semana')\n",
    "g = g.map(sns.distplot, 'log1p_Demanda_uni_equil_sum')"
   ]
  },
  {
   "cell_type": "markdown",
   "metadata": {},
   "source": [
    "#### Now let's look at which proucts sell by week with interactive heatmaps. Let's use our quantiles here."
   ]
  },
  {
   "cell_type": "code",
   "execution_count": null,
   "metadata": {
    "collapsed": false
   },
   "outputs": [],
   "source": [
    "from bokeh.charts import HeatMap\n",
    "from bokeh.plotting import vplot\n",
    "\n",
    "heatmaps = []\n",
    "for i in df.Q.cat.categories.values:\n",
    "    hm = HeatMap(df_hmp[df_hmp.short_name.isin(df[df.Q == i].index.values)],\n",
    "                        x='short_name', y = 'Semana', values = 'Demanda_uni_equil_sum',\n",
    "                 hover_tool = True, title = 'Products with summary demand '+ str(i), xgrid = False,\n",
    "                 stat = 'sum',plot_width=950, plot_height=400, tools='hover, box_zoom, resize, save, wheel_zoom, reset',\n",
    "                 )\n",
    "    heatmaps.append(hm)\n",
    "show(vplot(*heatmaps))"
   ]
  },
  {
   "cell_type": "markdown",
   "metadata": {},
   "source": [
    "#### Same series of charts but for returns"
   ]
  },
  {
   "cell_type": "code",
   "execution_count": null,
   "metadata": {
    "collapsed": false
   },
   "outputs": [],
   "source": [
    "from bokeh.charts import HeatMap\n",
    "from bokeh.plotting import vplot\n",
    "df['Q_ret'] = pd.qcut(df.Dev_uni_proxima_sum, 5)\n",
    "heatmaps = []\n",
    "for i in df.Q_ret.cat.categories.values:\n",
    "    hm = HeatMap(df_hmp[df_hmp.short_name.isin(df[df.Q_ret == i].index.values)],\n",
    "                        x='short_name', y = 'Semana', values = 'Demanda_uni_equil_sum',\n",
    "                 hover_tool = True, title = 'Products with summary returns '+ str(i), xgrid = False,\n",
    "                 stat = 'sum',plot_width=800, plot_height=400, tools='hover, box_zoom, resize, save, wheel_zoom, reset',\n",
    "                 )\n",
    "    heatmaps.append(hm)\n",
    "show(vplot(*heatmaps))"
   ]
  },
  {
   "cell_type": "code",
   "execution_count": null,
   "metadata": {
    "collapsed": true
   },
   "outputs": [],
   "source": [
    ""
   ]
  }
 ],
 "metadata": {
  "kernelspec": {
   "display_name": "Python 2",
   "language": "python",
   "name": "python2"
  },
  "language_info": {
   "codemirror_mode": {
    "name": "ipython",
    "version": 2.0
   },
   "file_extension": ".py",
   "mimetype": "text/x-python",
   "name": "python",
   "nbconvert_exporter": "python",
   "pygments_lexer": "ipython2",
   "version": "2.7.11"
  }
 },
 "nbformat": 4,
 "nbformat_minor": 0
}