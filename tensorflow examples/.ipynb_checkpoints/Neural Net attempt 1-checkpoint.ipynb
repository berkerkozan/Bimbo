{
 "cells": [
  {
   "cell_type": "markdown",
   "metadata": {
    "colab_type": "text",
    "id": "eV16J6oUY-HN",
    "slideshow": {
     "slide_type": "slide"
    }
   },
   "source": [
    "# Improving Neural Net Performance\n",
    "**Suggested time to spend on exercise**: 20 minutes\n",
    "\n",
    "In this exercise, we will focus on improving the performance of the NN we trained in the previous exercise. Normalizing the features is particularly important to obtaining good performance. Another way is by trying different optimization algorithms. Note that neither of these methods are specific to neural networks - they are effective means to improve most types of models.\n",
    "\n",
    "First, we'll load the data."
   ]
  },
  {
   "cell_type": "code",
   "execution_count": 1,
   "metadata": {
    "collapsed": true
   },
   "outputs": [],
   "source": [
    "#@test {\"output\": \"ignore\"}\n",
    "\n",
    "%matplotlib inline\n",
    "\n",
    "import numpy as np  # linear algebra\n",
    "import pandas as pd  # data processing, CSV file I/O (e.g. pd.read_csv)\n",
    "from sklearn.cross_validation import train_test_split\n",
    "from ml_metrics import rmsle\n",
    "import xgboost as xgb\n",
    "import math\n",
    "from sklearn.feature_extraction.text import CountVectorizer\n",
    "from sklearn import datasets, linear_model\n",
    "from datetime import datetime\n",
    "import tensorflow as tf\n",
    "from sklearn import metrics\n",
    "import matplotlib\n",
    "import matplotlib.pyplot as plt"
   ]
  },
  {
   "cell_type": "code",
   "execution_count": 2,
   "metadata": {
    "collapsed": true
   },
   "outputs": [],
   "source": [
    "def preprocess_features(bimbo_dataframe):\n",
    "  \"\"\"This function takes an input dataframe and returns a version of it that has\n",
    "  various features selected and pre-processed.  The input dataframe contains\n",
    "  data from the california_housing data set.\"\"\"\n",
    "  # Select fewer columns to allow training a bit faster.\n",
    "  output_features = bimbo_dataframe[\n",
    "    [\"d1\",\n",
    "     \"d2\",\n",
    "     \"d3\",\n",
    "     \"d4\",\n",
    "     \"d5\",\n",
    "     \"d6\",\n",
    "     \"p_total_demand\",\n",
    "     \"total_demand\"]].copy()\n",
    "  return output_features\n",
    "\n",
    "\n",
    "def preprocess_targets(bimbo_dataframe):\n",
    "  \"\"\"This function selects and potentially transforms the output target from\n",
    "  an input dataframe containing data from the california_housing data set.\n",
    "  The object returned is a pandas Series.\"\"\"\n",
    "  output_targets = pd.DataFrame()\n",
    "  # Scale the target to be in units of thousands of dollars.\n",
    "  output_targets[\"Demanda_uni_equil\"] = (\n",
    "    bimbo_dataframe[\"Demanda_uni_equil\"])\n",
    "  return output_targets"
   ]
  },
  {
   "cell_type": "code",
   "execution_count": 3,
   "metadata": {
    "collapsed": false
   },
   "outputs": [
    {
     "ename": "IOError",
     "evalue": "File ../input/train_1000000_alld_totals.csv does not exist",
     "output_type": "error",
     "traceback": [
      "\u001b[1;31m---------------------------------------------------------------------------\u001b[0m",
      "\u001b[1;31mIOError\u001b[0m                                   Traceback (most recent call last)",
      "\u001b[1;32m<ipython-input-3-a9aa29c9d680>\u001b[0m in \u001b[0;36m<module>\u001b[1;34m()\u001b[0m\n\u001b[1;32m----> 1\u001b[1;33m \u001b[0mtrain_joined\u001b[0m \u001b[1;33m=\u001b[0m \u001b[0mpd\u001b[0m\u001b[1;33m.\u001b[0m\u001b[0mread_csv\u001b[0m\u001b[1;33m(\u001b[0m\u001b[1;34m'../input/train_1000000_alld_totals.csv'\u001b[0m\u001b[1;33m)\u001b[0m\u001b[1;33m\u001b[0m\u001b[0m\n\u001b[0m\u001b[0;32m      2\u001b[0m \u001b[1;33m\u001b[0m\u001b[0m\n\u001b[0;32m      3\u001b[0m \u001b[1;31m# Randomize the data before selecting train / validation splits.\u001b[0m\u001b[1;33m\u001b[0m\u001b[1;33m\u001b[0m\u001b[0m\n\u001b[0;32m      4\u001b[0m raw_training_df = train_joined.reindex(np.random.permutation(\n\u001b[0;32m      5\u001b[0m   train_joined.index))\n",
      "\u001b[1;32m/home/can/anaconda2/lib/python2.7/site-packages/pandas/io/parsers.pyc\u001b[0m in \u001b[0;36mparser_f\u001b[1;34m(filepath_or_buffer, sep, delimiter, header, names, index_col, usecols, squeeze, prefix, mangle_dupe_cols, dtype, engine, converters, true_values, false_values, skipinitialspace, skiprows, skipfooter, nrows, na_values, keep_default_na, na_filter, verbose, skip_blank_lines, parse_dates, infer_datetime_format, keep_date_col, date_parser, dayfirst, iterator, chunksize, compression, thousands, decimal, lineterminator, quotechar, quoting, escapechar, comment, encoding, dialect, tupleize_cols, error_bad_lines, warn_bad_lines, skip_footer, doublequote, delim_whitespace, as_recarray, compact_ints, use_unsigned, low_memory, buffer_lines, memory_map, float_precision)\u001b[0m\n\u001b[0;32m    527\u001b[0m                     skip_blank_lines=skip_blank_lines)\n\u001b[0;32m    528\u001b[0m \u001b[1;33m\u001b[0m\u001b[0m\n\u001b[1;32m--> 529\u001b[1;33m         \u001b[1;32mreturn\u001b[0m \u001b[0m_read\u001b[0m\u001b[1;33m(\u001b[0m\u001b[0mfilepath_or_buffer\u001b[0m\u001b[1;33m,\u001b[0m \u001b[0mkwds\u001b[0m\u001b[1;33m)\u001b[0m\u001b[1;33m\u001b[0m\u001b[0m\n\u001b[0m\u001b[0;32m    530\u001b[0m \u001b[1;33m\u001b[0m\u001b[0m\n\u001b[0;32m    531\u001b[0m     \u001b[0mparser_f\u001b[0m\u001b[1;33m.\u001b[0m\u001b[0m__name__\u001b[0m \u001b[1;33m=\u001b[0m \u001b[0mname\u001b[0m\u001b[1;33m\u001b[0m\u001b[0m\n",
      "\u001b[1;32m/home/can/anaconda2/lib/python2.7/site-packages/pandas/io/parsers.pyc\u001b[0m in \u001b[0;36m_read\u001b[1;34m(filepath_or_buffer, kwds)\u001b[0m\n\u001b[0;32m    293\u001b[0m \u001b[1;33m\u001b[0m\u001b[0m\n\u001b[0;32m    294\u001b[0m     \u001b[1;31m# Create the parser.\u001b[0m\u001b[1;33m\u001b[0m\u001b[1;33m\u001b[0m\u001b[0m\n\u001b[1;32m--> 295\u001b[1;33m     \u001b[0mparser\u001b[0m \u001b[1;33m=\u001b[0m \u001b[0mTextFileReader\u001b[0m\u001b[1;33m(\u001b[0m\u001b[0mfilepath_or_buffer\u001b[0m\u001b[1;33m,\u001b[0m \u001b[1;33m**\u001b[0m\u001b[0mkwds\u001b[0m\u001b[1;33m)\u001b[0m\u001b[1;33m\u001b[0m\u001b[0m\n\u001b[0m\u001b[0;32m    296\u001b[0m \u001b[1;33m\u001b[0m\u001b[0m\n\u001b[0;32m    297\u001b[0m     \u001b[1;32mif\u001b[0m \u001b[1;33m(\u001b[0m\u001b[0mnrows\u001b[0m \u001b[1;32mis\u001b[0m \u001b[1;32mnot\u001b[0m \u001b[0mNone\u001b[0m\u001b[1;33m)\u001b[0m \u001b[1;32mand\u001b[0m \u001b[1;33m(\u001b[0m\u001b[0mchunksize\u001b[0m \u001b[1;32mis\u001b[0m \u001b[1;32mnot\u001b[0m \u001b[0mNone\u001b[0m\u001b[1;33m)\u001b[0m\u001b[1;33m:\u001b[0m\u001b[1;33m\u001b[0m\u001b[0m\n",
      "\u001b[1;32m/home/can/anaconda2/lib/python2.7/site-packages/pandas/io/parsers.pyc\u001b[0m in \u001b[0;36m__init__\u001b[1;34m(self, f, engine, **kwds)\u001b[0m\n\u001b[0;32m    610\u001b[0m             \u001b[0mself\u001b[0m\u001b[1;33m.\u001b[0m\u001b[0moptions\u001b[0m\u001b[1;33m[\u001b[0m\u001b[1;34m'has_index_names'\u001b[0m\u001b[1;33m]\u001b[0m \u001b[1;33m=\u001b[0m \u001b[0mkwds\u001b[0m\u001b[1;33m[\u001b[0m\u001b[1;34m'has_index_names'\u001b[0m\u001b[1;33m]\u001b[0m\u001b[1;33m\u001b[0m\u001b[0m\n\u001b[0;32m    611\u001b[0m \u001b[1;33m\u001b[0m\u001b[0m\n\u001b[1;32m--> 612\u001b[1;33m         \u001b[0mself\u001b[0m\u001b[1;33m.\u001b[0m\u001b[0m_make_engine\u001b[0m\u001b[1;33m(\u001b[0m\u001b[0mself\u001b[0m\u001b[1;33m.\u001b[0m\u001b[0mengine\u001b[0m\u001b[1;33m)\u001b[0m\u001b[1;33m\u001b[0m\u001b[0m\n\u001b[0m\u001b[0;32m    613\u001b[0m \u001b[1;33m\u001b[0m\u001b[0m\n\u001b[0;32m    614\u001b[0m     \u001b[1;32mdef\u001b[0m \u001b[0m_get_options_with_defaults\u001b[0m\u001b[1;33m(\u001b[0m\u001b[0mself\u001b[0m\u001b[1;33m,\u001b[0m \u001b[0mengine\u001b[0m\u001b[1;33m)\u001b[0m\u001b[1;33m:\u001b[0m\u001b[1;33m\u001b[0m\u001b[0m\n",
      "\u001b[1;32m/home/can/anaconda2/lib/python2.7/site-packages/pandas/io/parsers.pyc\u001b[0m in \u001b[0;36m_make_engine\u001b[1;34m(self, engine)\u001b[0m\n\u001b[0;32m    745\u001b[0m     \u001b[1;32mdef\u001b[0m \u001b[0m_make_engine\u001b[0m\u001b[1;33m(\u001b[0m\u001b[0mself\u001b[0m\u001b[1;33m,\u001b[0m \u001b[0mengine\u001b[0m\u001b[1;33m=\u001b[0m\u001b[1;34m'c'\u001b[0m\u001b[1;33m)\u001b[0m\u001b[1;33m:\u001b[0m\u001b[1;33m\u001b[0m\u001b[0m\n\u001b[0;32m    746\u001b[0m         \u001b[1;32mif\u001b[0m \u001b[0mengine\u001b[0m \u001b[1;33m==\u001b[0m \u001b[1;34m'c'\u001b[0m\u001b[1;33m:\u001b[0m\u001b[1;33m\u001b[0m\u001b[0m\n\u001b[1;32m--> 747\u001b[1;33m             \u001b[0mself\u001b[0m\u001b[1;33m.\u001b[0m\u001b[0m_engine\u001b[0m \u001b[1;33m=\u001b[0m \u001b[0mCParserWrapper\u001b[0m\u001b[1;33m(\u001b[0m\u001b[0mself\u001b[0m\u001b[1;33m.\u001b[0m\u001b[0mf\u001b[0m\u001b[1;33m,\u001b[0m \u001b[1;33m**\u001b[0m\u001b[0mself\u001b[0m\u001b[1;33m.\u001b[0m\u001b[0moptions\u001b[0m\u001b[1;33m)\u001b[0m\u001b[1;33m\u001b[0m\u001b[0m\n\u001b[0m\u001b[0;32m    748\u001b[0m         \u001b[1;32melse\u001b[0m\u001b[1;33m:\u001b[0m\u001b[1;33m\u001b[0m\u001b[0m\n\u001b[0;32m    749\u001b[0m             \u001b[1;32mif\u001b[0m \u001b[0mengine\u001b[0m \u001b[1;33m==\u001b[0m \u001b[1;34m'python'\u001b[0m\u001b[1;33m:\u001b[0m\u001b[1;33m\u001b[0m\u001b[0m\n",
      "\u001b[1;32m/home/can/anaconda2/lib/python2.7/site-packages/pandas/io/parsers.pyc\u001b[0m in \u001b[0;36m__init__\u001b[1;34m(self, src, **kwds)\u001b[0m\n\u001b[0;32m   1117\u001b[0m         \u001b[0mkwds\u001b[0m\u001b[1;33m[\u001b[0m\u001b[1;34m'allow_leading_cols'\u001b[0m\u001b[1;33m]\u001b[0m \u001b[1;33m=\u001b[0m \u001b[0mself\u001b[0m\u001b[1;33m.\u001b[0m\u001b[0mindex_col\u001b[0m \u001b[1;32mis\u001b[0m \u001b[1;32mnot\u001b[0m \u001b[0mFalse\u001b[0m\u001b[1;33m\u001b[0m\u001b[0m\n\u001b[0;32m   1118\u001b[0m \u001b[1;33m\u001b[0m\u001b[0m\n\u001b[1;32m-> 1119\u001b[1;33m         \u001b[0mself\u001b[0m\u001b[1;33m.\u001b[0m\u001b[0m_reader\u001b[0m \u001b[1;33m=\u001b[0m \u001b[0m_parser\u001b[0m\u001b[1;33m.\u001b[0m\u001b[0mTextReader\u001b[0m\u001b[1;33m(\u001b[0m\u001b[0msrc\u001b[0m\u001b[1;33m,\u001b[0m \u001b[1;33m**\u001b[0m\u001b[0mkwds\u001b[0m\u001b[1;33m)\u001b[0m\u001b[1;33m\u001b[0m\u001b[0m\n\u001b[0m\u001b[0;32m   1120\u001b[0m \u001b[1;33m\u001b[0m\u001b[0m\n\u001b[0;32m   1121\u001b[0m         \u001b[1;31m# XXX\u001b[0m\u001b[1;33m\u001b[0m\u001b[1;33m\u001b[0m\u001b[0m\n",
      "\u001b[1;32mpandas/parser.pyx\u001b[0m in \u001b[0;36mpandas.parser.TextReader.__cinit__ (pandas/parser.c:3246)\u001b[1;34m()\u001b[0m\n",
      "\u001b[1;32mpandas/parser.pyx\u001b[0m in \u001b[0;36mpandas.parser.TextReader._setup_parser_source (pandas/parser.c:6111)\u001b[1;34m()\u001b[0m\n",
      "\u001b[1;31mIOError\u001b[0m: File ../input/train_1000000_alld_totals.csv does not exist"
     ]
    }
   ],
   "source": [
    "train_joined = pd.read_csv('../input/train_1000000_alld_totals.csv')\n",
    "\n",
    "# Randomize the data before selecting train / validation splits.\n",
    "raw_training_df = train_joined.reindex(np.random.permutation(\n",
    "  train_joined.index))"
   ]
  },
  {
   "cell_type": "code",
   "execution_count": null,
   "metadata": {
    "collapsed": true
   },
   "outputs": [],
   "source": [
    "training_examples = preprocess_features(raw_training_df.head(100000))\n",
    "training_targets = preprocess_targets(raw_training_df.head(100000))\n",
    "\n",
    "validation_examples = preprocess_features(raw_training_df.tail(500))\n",
    "validation_targets = preprocess_targets(raw_training_df.tail(500))"
   ]
  },
  {
   "cell_type": "code",
   "execution_count": null,
   "metadata": {
    "cellView": "both",
    "colab": {
     "autoexec": {
      "startup": false,
      "wait_interval": 0
     },
     "test": {
      "output": "ignore",
      "timeout": 600
     }
    },
    "colab_type": "code",
    "collapsed": true,
    "id": "6CspO1zVopXj",
    "slideshow": {
     "slide_type": "slide"
    }
   },
   "outputs": [],
   "source": [
    "training_examples=training_examples.replace(-999,np.NaN)\n",
    "validation_examples=training_examples.replace(-999,np.NaN)"
   ]
  },
  {
   "cell_type": "markdown",
   "metadata": {
    "colab_type": "text",
    "id": "eDEOBjndMThP"
   },
   "source": [
    "Next, we train our NN."
   ]
  },
  {
   "cell_type": "code",
   "execution_count": null,
   "metadata": {
    "cellView": null,
    "colab": {
     "autoexec": {
      "startup": false,
      "wait_interval": 0
     },
     "output_extras": [
      {
       "item_id": 11
      },
      {
       "item_id": 12
      }
     ]
    },
    "colab_type": "code",
    "collapsed": false,
    "executionInfo": {
     "elapsed": 15314,
     "status": "ok",
     "timestamp": 1470394858085,
     "user": {
      "color": "",
      "displayName": "",
      "isAnonymous": false,
      "isMe": true,
      "permissionId": "",
      "photoUrl": "",
      "sessionId": "0",
      "userId": ""
     },
     "user_tz": -180
    },
    "id": "H5GaYCZ1Mi3n",
    "outputId": "b4401d09-de1c-4391-c8bd-ff4dda73d38e"
   },
   "outputs": [],
   "source": [
    "#@test {\"output\": \"ignore\", \"timeout\": 180}\n",
    "\n",
    "LEARNING_RATE = 0.0007  # @param\n",
    "STEPS = 5000  # @param\n",
    "BATCH_SIZE = 70  # @param\n",
    "HIDDEN_UNITS = [10, 10]  # @param\n",
    "periods = 10\n",
    "steps_per_period = STEPS / periods\n",
    "\n",
    "# Set up our NN with the desired learning settings.\n",
    "feature_columns = tf.contrib.learn.infer_real_valued_columns_from_input(\n",
    "  training_examples)\n",
    "dnn_regressor = tf.contrib.learn.DNNRegressor(\n",
    "  feature_columns=feature_columns,\n",
    "  hidden_units=HIDDEN_UNITS,\n",
    "  optimizer=tf.GradientDescentOptimizer(learning_rate=LEARNING_RATE),\n",
    "  gradient_clip_norm=5.0\n",
    ")\n",
    "\n",
    "print \"Training model...\"\n",
    "print \"RMSE:\"\n",
    "root_mean_squared_errors_training = []\n",
    "root_mean_squared_errors_validation = []\n",
    "for period in range (0, periods):\n",
    "  dnn_regressor.fit(\n",
    "    training_examples,\n",
    "    training_targets,\n",
    "    steps=steps_per_period,\n",
    "    batch_size=BATCH_SIZE\n",
    "  )\n",
    "  predictions_validation = dnn_regressor.predict(validation_examples)\n",
    "  predictions_training = dnn_regressor.predict(training_examples)\n",
    "\n",
    "  root_mean_squared_error_validation = math.sqrt(metrics.mean_squared_error(\n",
    "    predictions_validation, validation_targets))\n",
    "  root_mean_squared_error_training = math.sqrt(metrics.mean_squared_error(\n",
    "    predictions_training, training_targets))\n",
    "\n",
    "  root_mean_squared_errors_validation.append(root_mean_squared_error_validation)\n",
    "  root_mean_squared_errors_training.append(root_mean_squared_error_training)\n",
    "\n",
    "  print \"  period %02d : %3.2f\" % (period, root_mean_squared_error_training)\n",
    "\n",
    "# Output a graph of loss metrics over periods.\n",
    "plt.ylabel(\"RMSE\")\n",
    "plt.xlabel(\"Periods\")\n",
    "plt.title(\"Root Mean Squared Error vs. Periods\")\n",
    "plt.plot(root_mean_squared_errors_training, label='training')\n",
    "plt.plot(root_mean_squared_errors_validation, label='validation')\n",
    "plt.legend()\n",
    "\n",
    "# Display some summary information.\n",
    "print \"Final RMSE (on training data):   %0.2f\" % root_mean_squared_error_training\n",
    "print \"Final RMSE (on validation data): %0.2f\" % root_mean_squared_error_validation"
   ]
  },
  {
   "cell_type": "markdown",
   "metadata": {
    "colab_type": "text",
    "id": "MVmuHI76N2Sz",
    "slideshow": {
     "slide_type": "slide"
    }
   },
   "source": [
    "### Task 1: Normalize the features using linear scaling.\n",
    "\n",
    "**Normalize the inputs to the scale -1, 1.  You can use the helper method in the following cell.**\n",
    "\n",
    "**Spend about 5 minutes training and evaluating on the newly normalized data.  How well can you do?**\n",
    "\n",
    "As a rule of thumb, NN's train best when the input features are roughly on the same scale.\n",
    "\n",
    "It can be a good standard practice to normalize the inputs to fall within the range -1, 1. This helps SGD not get stuck taking steps that are too large in one dimension, or too small in another. Fans of numerical optimization may note that there's a connection to the idea of using a preconditioner here.\n",
    "\n",
    "Sanity check your normalized data.  (What would happen if you forgot to normalize one feature?)\n"
   ]
  },
  {
   "cell_type": "code",
   "execution_count": null,
   "metadata": {
    "cellView": "both",
    "colab": {
     "autoexec": {
      "startup": false,
      "wait_interval": 0
     },
     "test": {
      "output": "ignore",
      "timeout": 600
     }
    },
    "colab_type": "code",
    "collapsed": true,
    "id": "Ef0A7gMhRFJg",
    "slideshow": {
     "slide_type": "-"
    }
   },
   "outputs": [],
   "source": [
    "#@test {\"output\": \"ignore\"}\n",
    "\n",
    "def linear_scale(series):\n",
    "  min_val = series.min()\n",
    "  max_val = series.max()\n",
    "  scale = (max_val - min_val) / 2.0\n",
    "  return series.apply(lambda x:((x - min_val) / scale) - 1.0)"
   ]
  },
  {
   "cell_type": "code",
   "execution_count": null,
   "metadata": {
    "cellView": null,
    "colab": {
     "autoexec": {
      "startup": false,
      "wait_interval": 0
     }
    },
    "colab_type": "code",
    "collapsed": true,
    "id": "yD948ZgAM6Cx"
   },
   "outputs": [],
   "source": [
    "#\n",
    "# Your code here: normalize the inputs and retrain the network.\n",
    "#"
   ]
  },
  {
   "cell_type": "code",
   "execution_count": null,
   "metadata": {
    "cellView": "both",
    "colab": {
     "autoexec": {
      "startup": false,
      "wait_interval": 0
     },
     "output_extras": [
      {
       "item_id": 11
      },
      {
       "item_id": 12
      }
     ]
    },
    "colab_type": "code",
    "collapsed": false,
    "executionInfo": {
     "elapsed": 10339,
     "status": "ok",
     "timestamp": 1470403059918,
     "user": {
      "color": "",
      "displayName": "",
      "isAnonymous": false,
      "isMe": true,
      "permissionId": "",
      "photoUrl": "",
      "sessionId": "0",
      "userId": ""
     },
     "user_tz": -180
    },
    "id": "8yKjpwEYBnEX",
    "outputId": "29a13e4f-68f4-4b72-9a6e-bc217df99200"
   },
   "outputs": [],
   "source": [
    "#@title To view a possible solution, toggle Form\n",
    "\n",
    "#@test {\"output\": \"ignore\", \"timeout\": 180}\n",
    "\n",
    "LEARNING_RATE = 0.005\n",
    "STEPS = 2000\n",
    "BATCH_SIZE = 50\n",
    "HIDDEN_UNITS = [10, 10]\n",
    "periods = 10\n",
    "steps_per_period = STEPS / periods\n",
    "\n",
    "#\n",
    "# Solution: normalize all inputs using linear_scale.\n",
    "#\n",
    "def normalize_linear_scale(examples_dataframe):\n",
    "  \"\"\"This function takes an input dataframe and returns a version of it that has\n",
    "  all its features normalized linearly.\"\"\"\n",
    "  processed_features = pd.DataFrame()\n",
    "  processed_features[\"latitude\"] = linear_scale(examples_dataframe[\"latitude\"])\n",
    "  processed_features[\"longitude\"] = linear_scale(examples_dataframe[\"longitude\"])\n",
    "  processed_features[\"housingMedianAge\"] = linear_scale(examples_dataframe[\"housingMedianAge\"])\n",
    "  processed_features[\"totalRooms\"] = linear_scale(examples_dataframe[\"totalRooms\"])\n",
    "  processed_features[\"totalBedrooms\"] = linear_scale(examples_dataframe[\"totalBedrooms\"])\n",
    "  processed_features[\"population\"] = linear_scale(examples_dataframe[\"population\"])\n",
    "  processed_features[\"households\"] = linear_scale(examples_dataframe[\"households\"])\n",
    "  processed_features[\"medianIncome\"] = linear_scale(examples_dataframe[\"medianIncome\"])\n",
    "  processed_features[\"roomsPerPerson\"] = linear_scale(examples_dataframe[\"roomsPerPerson\"])\n",
    "  return processed_features\n",
    "\n",
    "# Since normalization uses min and max, we have to ensure it's done on the\n",
    "# entire dataset at once. We can do that here because all our data is in a\n",
    "# single DataFrame. If we had multiple data sets, a good practice would be\n",
    "# to derive the normalization parameters from the training set and apply\n",
    "# those identically to the test set.\n",
    "normalized_training_df = normalize_linear_scale(preprocess_features(raw_training_df))\n",
    "normalized_training_examples = normalized_training_df.head(12000)\n",
    "normalized_validation_examples = normalized_training_df.tail(5000)\n",
    "\n",
    "# Set up our NN with the desired learning settings.\n",
    "feature_columns = tf.contrib.learn.infer_real_valued_columns_from_input(\n",
    "  normalized_training_examples)\n",
    "dnn_regressor = tf.contrib.learn.DNNRegressor(\n",
    "  feature_columns=feature_columns,\n",
    "  hidden_units=HIDDEN_UNITS,\n",
    "  optimizer=tf.GradientDescentOptimizer(learning_rate=LEARNING_RATE),\n",
    "  gradient_clip_norm=5.0\n",
    ")\n",
    "\n",
    "print \"Training model...\"\n",
    "print \"RMSE:\"\n",
    "root_mean_squared_errors_training = []\n",
    "root_mean_squared_errors_validation = []\n",
    "for period in range (0, periods):\n",
    "  dnn_regressor.fit(\n",
    "    normalized_training_examples,\n",
    "    training_targets,\n",
    "    steps=steps_per_period,\n",
    "    batch_size=BATCH_SIZE\n",
    "  )\n",
    "  predictions_validation = dnn_regressor.predict(normalized_validation_examples)\n",
    "  predictions_training = dnn_regressor.predict(normalized_training_examples)\n",
    "\n",
    "  root_mean_squared_error_validation = math.sqrt(metrics.mean_squared_error(\n",
    "    predictions_validation, validation_targets))\n",
    "  root_mean_squared_error_training = math.sqrt(metrics.mean_squared_error(\n",
    "    predictions_training, training_targets))\n",
    "\n",
    "  root_mean_squared_errors_validation.append(root_mean_squared_error_validation)\n",
    "  root_mean_squared_errors_training.append(root_mean_squared_error_training)\n",
    "\n",
    "  print \"  period %02d : %3.2f\" % (period, root_mean_squared_error_training)\n",
    "print \"Model training finished.\"\n",
    "\n",
    "# Output a graph of loss metrics over periods.\n",
    "plt.ylabel(\"RMSE\")\n",
    "plt.xlabel(\"Periods\")\n",
    "plt.title(\"Root Mean Squared Error vs. Periods\")\n",
    "plt.plot(root_mean_squared_errors_training, label='training')\n",
    "plt.plot(root_mean_squared_errors_validation, label='validation')\n",
    "plt.legend()\n",
    "\n",
    "# Display some summary information.\n",
    "print \"Final RMSE (on training data):   %0.2f\" % root_mean_squared_error_training\n",
    "print \"Final RMSE (on validation data): %0.2f\" % root_mean_squared_error_validation"
   ]
  },
  {
   "cell_type": "markdown",
   "metadata": {
    "colab_type": "text",
    "id": "MrwtdStNJ6ZQ",
    "slideshow": {
     "slide_type": "slide"
    }
   },
   "source": [
    "### Task 2: Try a different optimizer.\n",
    "\n",
    "** Use the Adagrad and RMSProp optimizers and compare performance.**\n",
    "\n",
    "The Adagrad optimizer is one alternative. The key insight of Adagrad is that it modifies the learning rate adaptively for each coefficient in a model, monotonically lowering the effective learning rate.  This works great for convex problems, but isn't always ideal for the non-convex problem Neural Net training.  You can use Adagrad by specifying `AdagradOptimizer` instead of `GradientDescentOptimizer`.  Note that you may need to use a larger learning rate with Adagrad.\n",
    "\n",
    "Another option is RMSProp, which is similar in spirit to Adagrad but does not monotonically decrease the learning rate.  It can sometimes do a better job of making progress on non-convex optimization.  You can use RMSProp by specifying `RMSPropOptimizer`.  This optimizer has additional hyperparameters, decay and momentum.  We'll leave these set to default values for this experiment, but for a production use they should be carefully tuned.  In the Lab, we'll look at using Vizier to automate tuning of so many knobs."
   ]
  },
  {
   "cell_type": "code",
   "execution_count": null,
   "metadata": {
    "cellView": null,
    "colab": {
     "autoexec": {
      "startup": false,
      "wait_interval": 0
     }
    },
    "colab_type": "code",
    "collapsed": true,
    "id": "61GSlDvF7-7q"
   },
   "outputs": [],
   "source": [
    "#\n",
    "# Your code here: retrain the network using Adagrad and then RMSProp.\n",
    "#"
   ]
  },
  {
   "cell_type": "code",
   "execution_count": null,
   "metadata": {
    "cellView": "both",
    "colab": {
     "autoexec": {
      "startup": false,
      "wait_interval": 0
     },
     "output_extras": [
      {
       "item_id": 21
      },
      {
       "item_id": 22
      },
      {
       "item_id": 23
      }
     ]
    },
    "colab_type": "code",
    "collapsed": false,
    "executionInfo": {
     "elapsed": 21345,
     "status": "ok",
     "timestamp": 1470403303113,
     "user": {
      "color": "",
      "displayName": "",
      "isAnonymous": false,
      "isMe": true,
      "permissionId": "",
      "photoUrl": "",
      "sessionId": "0",
      "userId": ""
     },
     "user_tz": -180
    },
    "id": "RN7CckoS6dxT",
    "outputId": "58544926-d493-4f9d-f0fc-d3e322b84e70"
   },
   "outputs": [],
   "source": [
    "#@title To view a possible solution, toggle Form\n",
    "\n",
    "#@test {\"output\": \"ignore\", \"timeout\": 360}\n",
    "\n",
    "# We'll keep the number of steps and network structure fixed, for comparison.\n",
    "HIDDEN_UNITS = [10, 10]\n",
    "STEPS = 500\n",
    "periods = 10\n",
    "steps_per_period = STEPS / periods\n",
    "\n",
    "#\n",
    "# Solution: First, let's try Adagrad. Then we'll try RMSProp.\n",
    "#\n",
    "\n",
    "LEARNING_RATE = 0.5\n",
    "BATCH_SIZE = 100\n",
    "\n",
    "# Set up our NN with the desired learning settings.\n",
    "feature_columns = tf.contrib.learn.infer_real_valued_columns_from_input(\n",
    "  normalized_training_examples)\n",
    "dnn_regressor = tf.contrib.learn.DNNRegressor(\n",
    "  feature_columns=feature_columns,\n",
    "  hidden_units=HIDDEN_UNITS,\n",
    "  optimizer=tf.AdagradOptimizer(learning_rate=LEARNING_RATE),\n",
    "  gradient_clip_norm=5.0\n",
    ")\n",
    "\n",
    "print \"Training model with Adagrad...\"\n",
    "print \"RMSE:\"\n",
    "adagrad_rmse_training = []\n",
    "adagrad_rmse_validation = []\n",
    "for period in range (0, periods):\n",
    "  dnn_regressor.fit(\n",
    "    normalized_training_examples,\n",
    "    training_targets,\n",
    "    steps=steps_per_period,\n",
    "    batch_size=BATCH_SIZE\n",
    "  )\n",
    "  predictions_validation = dnn_regressor.predict(normalized_validation_examples)\n",
    "  predictions_training = dnn_regressor.predict(normalized_training_examples)\n",
    "\n",
    "  root_mean_squared_error_validation = math.sqrt(metrics.mean_squared_error(\n",
    "    predictions_validation, validation_targets))\n",
    "  root_mean_squared_error_training = math.sqrt(metrics.mean_squared_error(\n",
    "    predictions_training, training_targets))\n",
    "\n",
    "  adagrad_rmse_validation.append(root_mean_squared_error_validation)\n",
    "  adagrad_rmse_training.append(root_mean_squared_error_training)\n",
    "\n",
    "  print \"  period %02d : %3.2f\" % (period, root_mean_squared_error_training)\n",
    "\n",
    "# Display some summary information.\n",
    "print \"Final RMSE (on training data):   %0.2f\" % root_mean_squared_error_training\n",
    "print \"Final RMSE (on validation data): %0.2f\" % root_mean_squared_error_validation\n",
    "\n",
    "#\n",
    "# Now let's try RMSProp.\n",
    "#\n",
    "\n",
    "LEARNING_RATE = 0.01\n",
    "BATCH_SIZE = 100\n",
    "\n",
    "# Set up our NN with the desired learning settings.\n",
    "dnn_regressor = tf.contrib.learn.DNNRegressor(\n",
    "  feature_columns=feature_columns,\n",
    "  hidden_units=HIDDEN_UNITS,\n",
    "  optimizer=tf.RMSPropOptimizer(learning_rate=LEARNING_RATE),\n",
    "  gradient_clip_norm=5.0\n",
    ")\n",
    "\n",
    "print \"Training model with RMSProp...\"\n",
    "print \"RMSE:\"\n",
    "rmsprop_rmse_training = []\n",
    "rmsprop_rmse_validation = []\n",
    "for period in range (0, periods):\n",
    "  dnn_regressor.fit(\n",
    "    normalized_training_examples,\n",
    "    training_targets,\n",
    "    steps=steps_per_period,\n",
    "    batch_size=BATCH_SIZE\n",
    "  )\n",
    "  predictions_validation = dnn_regressor.predict(normalized_validation_examples)\n",
    "  predictions_training = dnn_regressor.predict(normalized_training_examples)\n",
    "\n",
    "  root_mean_squared_error_validation = math.sqrt(metrics.mean_squared_error(\n",
    "    predictions_validation, validation_targets))\n",
    "  root_mean_squared_error_training = math.sqrt(metrics.mean_squared_error(\n",
    "    predictions_training, training_targets))\n",
    "\n",
    "  rmsprop_rmse_validation.append(root_mean_squared_error_validation)\n",
    "  rmsprop_rmse_training.append(root_mean_squared_error_training)\n",
    "\n",
    "  print \"  period %02d : %3.2f\" % (period, root_mean_squared_error_training)\n",
    "  \n",
    "# Display some summary information.\n",
    "print \"Final RMSE (on training data):   %0.2f\" % root_mean_squared_error_training\n",
    "print \"Final RMSE (on validation data): %0.2f\" % root_mean_squared_error_validation\n",
    "\n",
    "# Output a graph of loss metrics over periods.\n",
    "plt.ylabel(\"RMSE\")\n",
    "plt.xlabel(\"Periods\")\n",
    "plt.title(\"Root Mean Squared Error vs. Periods\")\n",
    "plt.plot(adagrad_rmse_training, label='Adagrad training')\n",
    "plt.plot(adagrad_rmse_validation, label='Adagrad validation')\n",
    "plt.plot(rmsprop_rmse_training, label='RMSProp training')\n",
    "plt.plot(rmsprop_rmse_validation, label='RMSProp validation')\n",
    "plt.legend()"
   ]
  },
  {
   "cell_type": "markdown",
   "metadata": {
    "colab_type": "text",
    "id": "UySPl7CAQ28C",
    "slideshow": {
     "slide_type": "slide"
    }
   },
   "source": [
    "### Task 3: Explore alternate normalization methods.\n",
    "\n",
    "**Try alternate normalizations for various features to further improve performance.**\n",
    "\n",
    "If you look closely at sanity-check summary stats for your transformed data, you may notice that linear scaling some features leaves them clumped close to `-1`.\n",
    "\n",
    "For example, many features have a median of `-0.8` or so, rather than `0.0`.\n",
    "\n",
    "We might be able to do better by choosing additional ways to transform these features.\n",
    "\n",
    "For example, a log scaling might help some features.  Or clipping extreme values may make the remainder of the scale more informative.\n",
    "\n",
    "The block below contains a few additional possible normalization functions.  Try some of these, or add your own.\n",
    "\n",
    "Running the cell will also output a histogram for each column, which may help guide your choices.\n",
    "\n",
    "Note that if you normalize the target, you'll need to un-normalize the predictions for loss metrics to be comparable."
   ]
  },
  {
   "cell_type": "code",
   "execution_count": null,
   "metadata": {
    "cellView": "both",
    "colab": {
     "autoexec": {
      "startup": false,
      "wait_interval": 0
     },
     "output_extras": [
      {
       "item_id": 1
      },
      {
       "item_id": 2
      }
     ],
     "test": {
      "output": "ignore",
      "timeout": 600
     }
    },
    "colab_type": "code",
    "collapsed": false,
    "executionInfo": {
     "elapsed": 2790,
     "status": "ok",
     "timestamp": 1470403329346,
     "user": {
      "color": "",
      "displayName": "",
      "isAnonymous": false,
      "isMe": true,
      "permissionId": "",
      "photoUrl": "",
      "sessionId": "0",
      "userId": ""
     },
     "user_tz": -180
    },
    "id": "mAAPDJflSLFH",
    "outputId": "93228fb1-376d-462c-ed63-0a45b53f8566",
    "slideshow": {
     "slide_type": "-"
    }
   },
   "outputs": [],
   "source": [
    "#@test {\"output\": \"ignore\"}\n",
    "\n",
    "def log_normalize(series):\n",
    "  return series.apply(lambda x:math.log(x+1.0))\n",
    "\n",
    "def clip(series, clip_to_min, clip_to_max):\n",
    "  return series.apply(lambda x:(\n",
    "    min(max(x, clip_to_min), clip_to_max)))\n",
    "\n",
    "def z_score_normalize(series):\n",
    "  mean = series.mean()\n",
    "  std_dv = series.std()\n",
    "  return series.apply(lambda x:(x - mean) / std_dv)\n",
    "\n",
    "def binary_threshold(series, threshold):\n",
    "  return series.apply(lambda x:(1 if x > threshold else 0))\n",
    "\n",
    "display.display(training_examples.hist(bins=20, figsize=(18, 12)), xlabelsize=2)\n"
   ]
  },
  {
   "cell_type": "code",
   "execution_count": null,
   "metadata": {
    "cellView": null,
    "colab": {
     "autoexec": {
      "startup": false,
      "wait_interval": 0
     },
     "output_extras": [
      {
       "item_id": 11
      },
      {
       "item_id": 12
      }
     ]
    },
    "colab_type": "code",
    "collapsed": false,
    "executionInfo": {
     "elapsed": 11056,
     "status": "ok",
     "timestamp": 1470403680213,
     "user": {
      "color": "",
      "displayName": "",
      "isAnonymous": false,
      "isMe": true,
      "permissionId": "",
      "photoUrl": "",
      "sessionId": "0",
      "userId": ""
     },
     "user_tz": -180
    },
    "id": "8ToG-mLfMO9P",
    "outputId": "334a3326-25fe-414c-d0a0-51bc4dbf8632"
   },
   "outputs": [],
   "source": [
    "#\n",
    "# Your code here: normalize the inputs and retrain the network.\n",
    "##@title To view a possible solution, toggle Form\n",
    "\n",
    "#@test {\"output\": \"ignore\", \"timeout\": 180}\n",
    "\n",
    "LEARNING_RATE = 0.005\n",
    "STEPS = 2000\n",
    "BATCH_SIZE = 50\n",
    "HIDDEN_UNITS = [10, 10]\n",
    "periods = 10\n",
    "steps_per_period = STEPS / periods\n",
    "\n",
    "#\n",
    "# Solution: normalize all inputs using linear_scale.\n",
    "#\n",
    "def normalize_linear_scale(examples_dataframe):\n",
    "  \"\"\"This function takes an input dataframe and returns a version of it that has\n",
    "  all its features normalized linearly.\"\"\"\n",
    "  processed_features = pd.DataFrame()\n",
    "  processed_features[\"latitude\"] = linear_scale(examples_dataframe[\"latitude\"])\n",
    "  processed_features[\"longitude\"] = linear_scale(examples_dataframe[\"longitude\"])\n",
    "  processed_features[\"housingMedianAge\"] = z_score_normalize(examples_dataframe[\"housingMedianAge\"])\n",
    "  processed_features[\"totalRooms\"] = linear_scale(clip(examples_dataframe[\"totalRooms\"],0,15000))\n",
    "  processed_features[\"totalBedrooms\"] = linear_scale(clip(examples_dataframe[\"totalBedrooms\"],0,3000))\n",
    "  processed_features[\"population\"] = log_normalize(examples_dataframe[\"population\"])\n",
    "  processed_features[\"households\"] = linear_scale(examples_dataframe[\"households\"])\n",
    "  processed_features[\"medianIncome\"] = z_score_normalize(examples_dataframe[\"medianIncome\"])\n",
    "  processed_features[\"roomsPerPerson\"] = linear_scale(clip(examples_dataframe[\"roomsPerPerson\"],0,10))\n",
    "  return processed_features\n",
    "\n",
    "# Since normalization uses min and max, we have to ensure it's done on the\n",
    "# entire dataset at once. We can do that here because all our data is in a\n",
    "# single DataFrame. If we had multiple data sets, a good practice would be\n",
    "# to derive the normalization parameters from the training set and apply\n",
    "# those identically to the test set.\n",
    "normalized_training_df = normalize_linear_scale(preprocess_features(raw_training_df))\n",
    "normalized_training_examples = normalized_training_df.head(12000)\n",
    "normalized_validation_examples = normalized_training_df.tail(5000)\n",
    "\n",
    "# Set up our NN with the desired learning settings.\n",
    "feature_columns = tf.contrib.learn.infer_real_valued_columns_from_input(\n",
    "  normalized_training_examples)\n",
    "dnn_regressor = tf.contrib.learn.DNNRegressor(\n",
    "  feature_columns=feature_columns,\n",
    "  hidden_units=HIDDEN_UNITS,\n",
    "  optimizer=tf.GradientDescentOptimizer(learning_rate=LEARNING_RATE),\n",
    "  gradient_clip_norm=5.0\n",
    ")\n",
    "\n",
    "print \"Training model...\"\n",
    "print \"RMSE:\"\n",
    "root_mean_squared_errors_training = []\n",
    "root_mean_squared_errors_validation = []\n",
    "for period in range (0, periods):\n",
    "  dnn_regressor.fit(\n",
    "    normalized_training_examples,\n",
    "    training_targets,\n",
    "    steps=steps_per_period,\n",
    "    batch_size=BATCH_SIZE\n",
    "  )\n",
    "  predictions_validation = dnn_regressor.predict(normalized_validation_examples)\n",
    "  predictions_training = dnn_regressor.predict(normalized_training_examples)\n",
    "\n",
    "  root_mean_squared_error_validation = math.sqrt(metrics.mean_squared_error(\n",
    "    predictions_validation, validation_targets))\n",
    "  root_mean_squared_error_training = math.sqrt(metrics.mean_squared_error(\n",
    "    predictions_training, training_targets))\n",
    "\n",
    "  root_mean_squared_errors_validation.append(root_mean_squared_error_validation)\n",
    "  root_mean_squared_errors_training.append(root_mean_squared_error_training)\n",
    "\n",
    "  print \"  period %02d : %3.2f\" % (period, root_mean_squared_error_training)\n",
    "print \"Model training finished.\"\n",
    "\n",
    "# Output a graph of loss metrics over periods.\n",
    "plt.ylabel(\"RMSE\")\n",
    "plt.xlabel(\"Periods\")\n",
    "plt.title(\"Root Mean Squared Error vs. Periods\")\n",
    "plt.plot(root_mean_squared_errors_training, label='training')\n",
    "plt.plot(root_mean_squared_errors_validation, label='validation')\n",
    "plt.legend()\n",
    "\n",
    "# Display some summary information.\n",
    "print \"Final RMSE (on training data):   %0.2f\" % root_mean_squared_error_training\n",
    "print \"Final RMSE (on validation data): %0.2f\" % root_mean_squared_error_validation"
   ]
  },
  {
   "cell_type": "code",
   "execution_count": null,
   "metadata": {
    "cellView": "both",
    "colab": {
     "autoexec": {
      "startup": false,
      "wait_interval": 0
     },
     "output_extras": [
      {
       "item_id": 12
      },
      {
       "item_id": 13
      },
      {
       "item_id": 14
      }
     ]
    },
    "colab_type": "code",
    "collapsed": false,
    "executionInfo": {
     "elapsed": 10090,
     "status": "ok",
     "timestamp": 1470403700911,
     "user": {
      "color": "",
      "displayName": "",
      "isAnonymous": false,
      "isMe": true,
      "permissionId": "",
      "photoUrl": "",
      "sessionId": "0",
      "userId": ""
     },
     "user_tz": -180
    },
    "id": "Wzax9NDwMfdd",
    "outputId": "75094760-8b52-40c8-b921-375b1c041b91"
   },
   "outputs": [],
   "source": [
    "#@title To view a possible solution, toggle Form\n",
    "\n",
    "#@test {\"output\": \"ignore\", \"timeout\": 180}\n",
    "\n",
    "LEARNING_RATE = 0.15\n",
    "STEPS = 1000\n",
    "BATCH_SIZE = 50\n",
    "HIDDEN_UNITS = [10, 10]\n",
    "periods = 10\n",
    "steps_per_period = STEPS / periods\n",
    "\n",
    "#\n",
    "# Solution: normalize all inputs appropriately.\n",
    "#\n",
    "def normalize(examples_dataframe):\n",
    "  \"\"\"This function takes an input dataframe and returns a version of it that has\n",
    "  all its features normalized for a neural network.\"\"\"\n",
    "  processed_features = pd.DataFrame()\n",
    "\n",
    "  # Below are only a few ways in which we could think about the data.\n",
    "  # Other transformations may work even better!\n",
    "\n",
    "  # \"households\", \"medianIncome\" and \"totalBedrooms\" all appear\n",
    "  # normally-distributed in a log space.\n",
    "  processed_features[\"households\"] = log_normalize(\n",
    "    examples_dataframe[\"households\"])\n",
    "  processed_features[\"medianIncome\"] = log_normalize(\n",
    "    examples_dataframe[\"medianIncome\"])\n",
    "  processed_features[\"totalBedrooms\"] = log_normalize(\n",
    "    examples_dataframe[\"totalBedrooms\"])\n",
    "\n",
    "  # \"latitude\", \"longitude\" and \"housingMedianAge\" would probably be better\n",
    "  # off just scaled linearly, as before.\n",
    "  processed_features[\"latitude\"] = linear_scale(\n",
    "    examples_dataframe[\"latitude\"])\n",
    "  processed_features[\"longitude\"] = linear_scale(\n",
    "    examples_dataframe[\"longitude\"])\n",
    "  processed_features[\"housingMedianAge\"] = linear_scale(\n",
    "    examples_dataframe[\"housingMedianAge\"])\n",
    "\n",
    "  # \"population\", \"totalRooms\" and \"roomsPerPerson\" have a few extreme\n",
    "  # outliers. They seem too extreme for log normalization to help. So let's\n",
    "  # clip them instead.\n",
    "  processed_features[\"population\"] = linear_scale(\n",
    "    clip(examples_dataframe[\"population\"], 0, 5000))\n",
    "  processed_features[\"roomsPerPerson\"] = linear_scale(\n",
    "    clip(examples_dataframe[\"roomsPerPerson\"], 0, 5))\n",
    "  processed_features[\"totalRooms\"] = linear_scale(\n",
    "    clip(examples_dataframe[\"totalRooms\"], 0, 10000))\n",
    "\n",
    "  return processed_features\n",
    "\n",
    "# Apply the normalization.\n",
    "normalized_training_df = normalize(preprocess_features(raw_training_df))\n",
    "normalized_training_examples = normalized_training_df.head(12000)\n",
    "normalized_validation_examples = normalized_training_df.tail(5000)\n",
    "\n",
    "# Plot another histogram to make sure everything looks good.\n",
    "display.display(normalized_training_examples.hist(bins=20, figsize=(18, 12)), xlabelsize=2)\n",
    "plt.figure()\n",
    "\n",
    "# Set up our NN with the desired learning settings.\n",
    "feature_columns = tf.contrib.learn.infer_real_valued_columns_from_input(\n",
    "  normalized_training_examples)\n",
    "dnn_regressor = tf.contrib.learn.DNNRegressor(\n",
    "  feature_columns=feature_columns,\n",
    "  hidden_units=HIDDEN_UNITS,\n",
    "  optimizer=tf.AdagradOptimizer(learning_rate=LEARNING_RATE),\n",
    "  gradient_clip_norm=5.0\n",
    ")\n",
    "\n",
    "print \"Training model...\"\n",
    "print \"RMSE:\"\n",
    "root_mean_squared_errors_training = []\n",
    "root_mean_squared_errors_validation = []\n",
    "for period in range (0, periods):\n",
    "  dnn_regressor.fit(\n",
    "    normalized_training_examples,\n",
    "    training_targets,\n",
    "    steps=steps_per_period,\n",
    "    batch_size=BATCH_SIZE\n",
    "  )\n",
    "  predictions_validation = dnn_regressor.predict(normalized_validation_examples)\n",
    "  predictions_training = dnn_regressor.predict(normalized_training_examples)\n",
    "\n",
    "  root_mean_squared_error_validation = math.sqrt(metrics.mean_squared_error(\n",
    "    predictions_validation, validation_targets))\n",
    "  root_mean_squared_error_training = math.sqrt(metrics.mean_squared_error(\n",
    "    predictions_training, training_targets))\n",
    "\n",
    "  root_mean_squared_errors_validation.append(root_mean_squared_error_validation)\n",
    "  root_mean_squared_errors_training.append(root_mean_squared_error_training)\n",
    "\n",
    "  print \"  period %02d : %3.2f\" % (period, root_mean_squared_error_training)\n",
    "\n",
    "# Output a graph of loss metrics over periods.\n",
    "plt.ylabel(\"RMSE\")\n",
    "plt.xlabel(\"Periods\")\n",
    "plt.title(\"Root Mean Squared Error vs. Periods\")\n",
    "plt.plot(root_mean_squared_errors_training, label='training')\n",
    "plt.plot(root_mean_squared_errors_validation, label='validation')\n",
    "plt.legend()\n",
    "\n",
    "# Display some summary information.\n",
    "print \"Final RMSE (on training data):   %0.2f\" % root_mean_squared_error_training\n",
    "print \"Final RMSE (on validation data): %0.2f\" % root_mean_squared_error_validation"
   ]
  },
  {
   "cell_type": "markdown",
   "metadata": {
    "colab_type": "text",
    "id": "b7atJTbzU9Ca",
    "slideshow": {
     "slide_type": "slide"
    }
   },
   "source": [
    "### Optional Challenge: Use only latitude and longitude features\n",
    "\n",
    "**Train a NN model that only uses latitude and longitude as features.**\n",
    "\n",
    "Real estate people are fond of saying that location is the only important feature in housing price.\n",
    "\n",
    "See if we can confirm this by attempting the following.\n",
    "\n",
    "This will only work well if our NN can learn complex nonlinearities from latitude and longitude.\n",
    "\n",
    "We may need a network structure that has more layers than were useful earlier in the exercise."
   ]
  },
  {
   "cell_type": "code",
   "execution_count": null,
   "metadata": {
    "cellView": null,
    "colab": {
     "autoexec": {
      "startup": false,
      "wait_interval": 0
     }
    },
    "colab_type": "code",
    "collapsed": true,
    "id": "T5McjahpamOc"
   },
   "outputs": [],
   "source": [
    "#\n",
    "# Your code here: train the network using only latitude and longitude\n",
    "#"
   ]
  },
  {
   "cell_type": "code",
   "execution_count": null,
   "metadata": {
    "cellView": "both",
    "colab": {
     "autoexec": {
      "startup": false,
      "wait_interval": 0
     },
     "output_extras": [
      {
       "item_id": 7
      },
      {
       "item_id": 8
      }
     ],
     "test": {
      "output": "ignore",
      "timeout": 600
     }
    },
    "colab_type": "code",
    "collapsed": false,
    "executionInfo": {
     "elapsed": 25286,
     "status": "ok",
     "timestamp": 1470403750463,
     "user": {
      "color": "",
      "displayName": "",
      "isAnonymous": false,
      "isMe": true,
      "permissionId": "",
      "photoUrl": "",
      "sessionId": "0",
      "userId": ""
     },
     "user_tz": -180
    },
    "id": "aDzoKSXlVsAh",
    "outputId": "cbb5c989-07a2-43a4-d6cb-344d4ab2d401",
    "slideshow": {
     "slide_type": "-"
    }
   },
   "outputs": [],
   "source": [
    "#@title To view a possible solution, toggle Form\n",
    "\n",
    "#@test {\"output\": \"ignore\", \"timeout\": 360}\n",
    "\n",
    "LEARNING_RATE = 0.05\n",
    "STEPS = 500\n",
    "BATCH_SIZE = 50\n",
    "HIDDEN_UNITS = [10, 10, 5, 5, 5]\n",
    "periods = 20\n",
    "steps_per_period = STEPS / periods\n",
    "\n",
    "#\n",
    "# Solution: create a DataFrame with just lat and long.\n",
    "#\n",
    "def location_location_location(examples_dataframe):\n",
    "  \"\"\"This function takes an input dataframe and returns a version of it that\n",
    "  keeps only the latitude and longitude.\"\"\"\n",
    "  processed_features = pd.DataFrame()\n",
    "  # It's a good idea to keep them normalized.\n",
    "  processed_features[\"latitude\"] = linear_scale(examples_dataframe[\"latitude\"])\n",
    "  processed_features[\"longitude\"] = linear_scale(examples_dataframe[\"longitude\"])\n",
    "  return processed_features\n",
    "\n",
    "normalized_training_df = location_location_location(raw_training_df)\n",
    "normalized_training_examples = normalized_training_df.head(12000)\n",
    "normalized_validation_examples = normalized_training_df.tail(5000)\n",
    "\n",
    "# Set up our NN with the desired learning settings.\n",
    "feature_columns = tf.contrib.learn.infer_real_valued_columns_from_input(\n",
    "  normalized_training_examples)\n",
    "dnn_regressor = tf.contrib.learn.DNNRegressor(\n",
    "  feature_columns=feature_columns,\n",
    "  hidden_units=HIDDEN_UNITS,\n",
    "  optimizer=tf.AdagradOptimizer(learning_rate=LEARNING_RATE),\n",
    "  gradient_clip_norm=5.0\n",
    ")\n",
    "\n",
    "print \"Training model...\"\n",
    "print \"RMSE:\"\n",
    "root_mean_squared_errors_training = []\n",
    "root_mean_squared_errors_validation = []\n",
    "for period in range (0, periods):\n",
    "  dnn_regressor.fit(\n",
    "    normalized_training_examples,\n",
    "    training_targets,\n",
    "    steps=steps_per_period,\n",
    "    batch_size=BATCH_SIZE\n",
    "  )\n",
    "  predictions_validation = dnn_regressor.predict(normalized_validation_examples)\n",
    "  predictions_training = dnn_regressor.predict(normalized_training_examples)\n",
    "\n",
    "  root_mean_squared_error_validation = math.sqrt(metrics.mean_squared_error(\n",
    "    predictions_validation, validation_targets))\n",
    "  root_mean_squared_error_training = math.sqrt(metrics.mean_squared_error(\n",
    "    predictions_training, training_targets))\n",
    "\n",
    "  root_mean_squared_errors_validation.append(root_mean_squared_error_validation)\n",
    "  root_mean_squared_errors_training.append(root_mean_squared_error_training)\n",
    "\n",
    "  if period % 5 == 0:\n",
    "    print \"  period %02d : %3.2f\" % (period, root_mean_squared_error_training)\n",
    "print \"Model training finished.\"\n",
    "\n",
    "# Output a graph of loss metrics over periods.\n",
    "plt.ylabel(\"RMSE\")\n",
    "plt.xlabel(\"Periods\")\n",
    "plt.title(\"Root Mean Squared Error vs. Periods\")\n",
    "plt.plot(root_mean_squared_errors_training, label='training')\n",
    "plt.plot(root_mean_squared_errors_validation, label='validation')\n",
    "plt.legend()\n",
    "\n",
    "# Display some summary information.\n",
    "print \"Final RMSE (on training data):   %0.2f\" % root_mean_squared_error_training\n",
    "print \"Final RMSE (on validation data): %0.2f\" % root_mean_squared_error_validation\n",
    "print \"\"\"\n",
    "    Well, not bad for just two features! Of course, property values can still\n",
    "    vary significantly between tiny distances.\"\"\""
   ]
  }
 ],
 "metadata": {
  "colab": {
   "default_view": {},
   "name": "Copy of improving_neural_net_performance.ipynb",
   "provenance": [
    {
     "file_id": "/piper/depot/google3/engedu/ml/mlwtf_self_study/colab/improving_neural_net_performance.ipynb",
     "timestamp": 1470403757358
    },
    {
     "file_id": "/piper/depot/google3/engedu/ml/mlwtf_self_study/colab/improving_neural_net_performance.ipynb",
     "timestamp": 1469047716311
    },
    {
     "file_id": "/piper/depot/google3/engedu/ml/mlwtf_self_study/colab/improving_neural_net_performance.ipynb",
     "timestamp": 1468016123705
    },
    {
     "file_id": "/piper/depot/google3/engedu/ml/mlwtf_self_study/colab/improving_neural_net_performance.ipynb",
     "timestamp": 1467996741738
    },
    {
     "file_id": "/piper/depot/google3/engedu/ml/mlwtf_self_study/colab/improving_neural_net_performance.ipynb",
     "timestamp": 1467996018988
    },
    {
     "file_id": "/piper/depot/google3/engedu/ml/mlwtf_self_study/colab/improving_neural_net_performance.ipynb",
     "timestamp": 1466449401217
    },
    {
     "file_id": "/piper/depot/google3/engedu/ml/mlwtf_self_study/colab/improving_neural_net_performance.ipynb",
     "timestamp": 1465588205545
    },
    {
     "file_id": "/piper/depot/google3/engedu/ml/mlwtf_self_study/colab/improving_neural_net_performance.ipynb",
     "timestamp": 1465505610114
    },
    {
     "file_id": "/piper/depot/google3/engedu/ml/mlwtf_self_study/colab/improving_neural_net_performance.ipynb",
     "timestamp": 1465434466998
    },
    {
     "file_id": "/piper/depot/google3/engedu/ml/mlwtf_self_study/colab/improving_neural_net_performance.ipynb",
     "timestamp": 1464816046165
    },
    {
     "file_id": "/piper/depot/google3/engedu/ml/ml101/neural_nets_on_california_housing/exercise.ipynb",
     "timestamp": 1461937939837
    },
    {
     "file_id": "0B9FAPMTzBcMkYnc4MlZzZU9mUnM",
     "timestamp": 1460065036009
    },
    {
     "file_id": "0B9FAPMTzBcMkQmgwRFJBOUh0Vms",
     "timestamp": 1458144075264
    },
    {
     "file_id": "0B9FAPMTzBcMkbWFRYW45czdnb0k",
     "timestamp": 1457965166355
    },
    {
     "file_id": "0B9FAPMTzBcMkWWtjQnU2M0lmZFk",
     "timestamp": 1457723617831
    }
   ],
   "version": "0.3.2",
   "views": {}
  },
  "kernelspec": {
   "display_name": "Python 2",
   "language": "python",
   "name": "python2"
  },
  "language_info": {
   "codemirror_mode": {
    "name": "ipython",
    "version": 2
   },
   "file_extension": ".py",
   "mimetype": "text/x-python",
   "name": "python",
   "nbconvert_exporter": "python",
   "pygments_lexer": "ipython2",
   "version": "2.7.11"
  }
 },
 "nbformat": 4,
 "nbformat_minor": 0
}
