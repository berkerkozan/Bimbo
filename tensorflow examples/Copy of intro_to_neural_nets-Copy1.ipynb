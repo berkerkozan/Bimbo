{
 "cells": [
  {
   "cell_type": "markdown",
   "metadata": {
    "colab_type": "text",
    "id": "eV16J6oUY-HN",
    "slideshow": {
     "slide_type": "slide"
    }
   },
   "source": [
    "# Intro to Neural Nets\n",
    "**Suggested time to spend on exercise**: 15 minutes\n",
    "\n",
    "In the previous exercises, we used synthetic features to help our model incorporate nonlinearities.\n",
    "\n",
    "One important set of nonlinearities was around latitude and longitude, but there may be others.\n",
    "\n",
    "In this exercise, we'll explore using neural nets (NN) to learn these nonlinearities as part of training.\n",
    "\n",
    "We'll also switch back, for now, to a standard regression task, rather than the logistic regression task from the previous exercise. That is, we'll be predicting `medianHouseValue` directly.\n",
    "\n",
    "First, let's load and prepare the data."
   ]
  },
  {
   "cell_type": "code",
   "execution_count": 10,
   "metadata": {
    "cellView": null,
    "colab": {
     "autoexec": {
      "startup": false,
      "wait_interval": 0
     },
     "output_extras": []
    },
    "colab_type": "code",
    "collapsed": false,
    "executionInfo": {
     "elapsed": 11614,
     "status": "ok",
     "timestamp": 1470393989446,
     "user": {
      "color": "",
      "displayName": "",
      "isAnonymous": false,
      "isMe": true,
      "permissionId": "",
      "photoUrl": "",
      "sessionId": "0",
      "userId": ""
     },
     "user_tz": -180
    },
    "id": "mBurno5Rt06F",
    "outputId": "bf7fb7b9-b740-4201-8212-52cdec39119d"
   },
   "outputs": [],
   "source": [
    "#@test {\"output\": \"ignore\"}\n",
    "\n",
    "%matplotlib inline\n",
    "\n",
    "import numpy as np  # linear algebra\n",
    "import pandas as pd  # data processing, CSV file I/O (e.g. pd.read_csv)\n",
    "from sklearn.cross_validation import train_test_split\n",
    "from ml_metrics import rmsle\n",
    "import xgboost as xgb\n",
    "import math\n",
    "from sklearn.feature_extraction.text import CountVectorizer\n",
    "from sklearn import datasets, linear_model\n",
    "from datetime import datetime\n",
    "import tensorflow as tf\n",
    "from sklearn import metrics\n",
    "import matplotlib\n",
    "import matplotlib.pyplot as plt\n",
    "\n",
    "def preprocess_features(bimbo_dataframe):\n",
    "    processed_features = bimbo_dataframe[\n",
    "        [\"d1\", \"d2\", \"d3\", \"d4\", \"d5\", \"d6\", \"p_total_demand\", \"total_demand\"]].copy()\n",
    "    processed_features[\"tot_d\"] = (\n",
    "        bimbo_dataframe[\"d1\"]+bimbo_dataframe[\"d2\"]+bimbo_dataframe[\"d3\"]+bimbo_dataframe[\"d4\"]\n",
    "        +bimbo_dataframe[\"d5\"]+bimbo_dataframe[\"d6\"])\n",
    "    return processed_features\n",
    "\n",
    "\n",
    "def preprocess_targets(bimbo_dataframe):\n",
    "    output_targets = pd.DataFrame()\n",
    "    output_targets[\"Demanda_uni_equil\"] = (\n",
    "        bimbo_dataframe[\"Demanda_uni_equil\"])\n",
    "    return output_targets\n",
    "\n",
    "\n",
    "\n",
    "\n",
    "# Load in the raw data.  Note that there's a separate test data set that we\n",
    "# will leave untouched for now.\n",
    "raw_training_df = pd.read_csv('../../input/train_1000000_alld_totals.csv')\n",
    "# Randomize the data before selecting train / validation splits.\n",
    "raw_training_df = raw_training_df.reindex(\n",
    "  np.random.permutation(raw_training_df.index))\n",
    "\n",
    "# Choose the first 12000 (out of 17000) examples for training.\n",
    "training_examples = preprocess_features(raw_training_df.head(12000))\n",
    "training_targets = preprocess_targets(raw_training_df.head(12000))\n",
    "\n",
    "# Choose the last 5000 (out of 17000) examples for validation.\n",
    "validation_examples = preprocess_features(raw_training_df.tail(5000))\n",
    "validation_targets = preprocess_targets(raw_training_df.tail(5000))"
   ]
  },
  {
   "cell_type": "markdown",
   "metadata": {
    "colab_type": "text",
    "id": "2QhdcCy-Y8QR",
    "slideshow": {
     "slide_type": "slide"
    }
   },
   "source": [
    "### Task 1: Train a NN model\n",
    "\n",
    "**Adjust hyperparameters, aiming to drop RMSE below 110.**\n",
    "\n",
    "Run the following block to train a NN model.  The NN is defined by the [DNNRegressor](https://cs.corp.google.com/search/?q=package:piper+symbol:^DNNRegressor$) class.\n",
    "\n",
    "Recall that in the linear regression exercise with many features, an RMSE of 110 or so was pretty good.  We'll aim to beat that.\n",
    "\n",
    "Your task here is to modify various learning settings to improve accuracy on validation data.\n",
    "\n",
    "We have an important new setting to consider exploring: **`hidden_layers`**.\n",
    "\n",
    "   * Use the `hidden_layers` argument to define the structure of your NN model.\n",
    "\n",
    "   * Hidden layers are defined by a list of ints, each int showing the number of nodes in that hidden layer.\n",
    "\n",
    "   * For example, `[3, 10]` show a model with two hidden layers.  The first layer has 3 units, the second has 10.\n",
    "\n",
    "   * All of our layers will use ReLu activation by default, and they will be fully connected.\n",
    "\n",
    "Overfitting is a real potential hazard for NN's.  You can look at the gap between loss on training data and loss on validation data to help judge if your model is starting to overfit. If the gap starts to grow, that is usually a sure sign of overfitting.\n",
    "\n",
    "Because of the number of different possible settings, it's strongly recommended that you take notes on each trial to help guide your development process.\n",
    "\n",
    "Also, when you get a good setting, try running it multiple times and see how repeatable your result is. NN weights are typically initialized to small random values, so you should see differences from run to run.\n"
   ]
  },
  {
   "cell_type": "code",
   "execution_count": 12,
   "metadata": {
    "cellView": "both",
    "colab": {
     "autoexec": {
      "startup": false,
      "wait_interval": 0
     },
     "output_extras": [
      {
       "item_id": 12
      },
      {
       "item_id": 13
      }
     ],
     "test": {
      "output": "ignore",
      "timeout": 600
     }
    },
    "colab_type": "code",
    "collapsed": false,
    "executionInfo": {
     "elapsed": 85754,
     "status": "ok",
     "timestamp": 1470394415225,
     "user": {
      "color": "",
      "displayName": "",
      "isAnonymous": false,
      "isMe": true,
      "permissionId": "",
      "photoUrl": "",
      "sessionId": "0",
      "userId": ""
     },
     "user_tz": -180
    },
    "id": "6CspO1zVopXj",
    "outputId": "622ef0cb-2246-4e01-b48b-81e50c46d895",
    "slideshow": {
     "slide_type": "slide"
    }
   },
   "outputs": [
    {
     "ename": "AttributeError",
     "evalue": "'module' object has no attribute 'infer_real_valued_columns_from_input'",
     "output_type": "error",
     "traceback": [
      "\u001b[1;31m---------------------------------------------------------------------------\u001b[0m",
      "\u001b[1;31mAttributeError\u001b[0m                            Traceback (most recent call last)",
      "\u001b[1;32m<ipython-input-12-786835eeb2e8>\u001b[0m in \u001b[0;36m<module>\u001b[1;34m()\u001b[0m\n\u001b[0;32m      9\u001b[0m \u001b[1;33m\u001b[0m\u001b[0m\n\u001b[0;32m     10\u001b[0m \u001b[1;31m# Set up our NN with the desired learning settings.\u001b[0m\u001b[1;33m\u001b[0m\u001b[1;33m\u001b[0m\u001b[0m\n\u001b[1;32m---> 11\u001b[1;33m feature_columns = tf.contrib.learn.infer_real_valued_columns_from_input(\n\u001b[0m\u001b[0;32m     12\u001b[0m     training_examples)\n\u001b[0;32m     13\u001b[0m dnn_regressor = tf.contrib.learn.DNNRegressor(\n",
      "\u001b[1;31mAttributeError\u001b[0m: 'module' object has no attribute 'infer_real_valued_columns_from_input'"
     ]
    }
   ],
   "source": [
    "#@test {\"output\": \"ignore\"}\n",
    "\n",
    "LEARNING_RATE = 0.01  # @param\n",
    "STEPS = 50000  # @param\n",
    "BATCH_SIZE = 10  # @param\n",
    "HIDDEN_UNITS = [50, 40, 30, 20, 10 ]  # @param\n",
    "periods = 10\n",
    "steps_per_period = STEPS / periods\n",
    "\n",
    "# Set up our NN with the desired learning settings.\n",
    "feature_columns = tf.contrib.learn.infer_real_valued_columns_from_input(\n",
    "    training_examples)\n",
    "dnn_regressor = tf.contrib.learn.DNNRegressor(\n",
    "  feature_columns=feature_columns,\n",
    "  hidden_units=HIDDEN_UNITS,\n",
    "  optimizer=tf.GradientDescentOptimizer(learning_rate=LEARNING_RATE),\n",
    "  gradient_clip_norm=5.0\n",
    ")\n",
    "\n",
    "print \"Training model...\"\n",
    "print \"RMSE:\"\n",
    "root_mean_squared_errors_training = []\n",
    "root_mean_squared_errors_validation = []\n",
    "for period in range (0, periods):\n",
    "  dnn_regressor.fit(\n",
    "    training_examples,\n",
    "    training_targets,\n",
    "    steps=steps_per_period,\n",
    "    batch_size=BATCH_SIZE\n",
    "  )\n",
    "  predictions_validation = dnn_regressor.predict(validation_examples)\n",
    "  predictions_training = dnn_regressor.predict(training_examples)\n",
    "\n",
    "  root_mean_squared_error_validation = math.sqrt(metrics.mean_squared_error(\n",
    "    predictions_validation, validation_targets))\n",
    "  root_mean_squared_error_training = math.sqrt(metrics.mean_squared_error(\n",
    "    predictions_training, training_targets))\n",
    "\n",
    "  root_mean_squared_errors_validation.append(root_mean_squared_error_validation)\n",
    "  root_mean_squared_errors_training.append(root_mean_squared_error_training)\n",
    "\n",
    "  print \"  period %02d : %3.2f\" % (period, root_mean_squared_error_training)\n",
    "\n",
    "# Output a graph of loss metrics over periods.\n",
    "plt.ylabel(\"RMSE\")\n",
    "plt.xlabel(\"Periods\")\n",
    "plt.title(\"Root Mean Squared Error vs. Periods\")\n",
    "plt.plot(root_mean_squared_errors_training, label='training')\n",
    "plt.plot(root_mean_squared_errors_validation, label='validation')\n",
    "plt.legend()\n",
    "\n",
    "# Display some summary information.\n",
    "print \"Final RMSE (on training data):   %0.2f\" % root_mean_squared_error_training\n",
    "print \"Final RMSE (on validation data): %0.2f\" % root_mean_squared_error_validation"
   ]
  },
  {
   "cell_type": "code",
   "execution_count": 0,
   "metadata": {
    "cellView": "both",
    "colab": {
     "autoexec": {
      "startup": false,
      "wait_interval": 0
     },
     "output_extras": [
      {
       "item_id": 11
      },
      {
       "item_id": 12
      }
     ]
    },
    "colab_type": "code",
    "collapsed": false,
    "executionInfo": {
     "elapsed": 78063,
     "status": "ok",
     "timestamp": 1470394296877,
     "user": {
      "color": "",
      "displayName": "",
      "isAnonymous": false,
      "isMe": true,
      "permissionId": "",
      "photoUrl": "",
      "sessionId": "0",
      "userId": ""
     },
     "user_tz": -180
    },
    "id": "8yKjpwEYBnEX",
    "outputId": "52ebcbd0-1cbd-498f-d5a4-98d739ad989b"
   },
   "outputs": [
    {
     "metadata": {},
     "name": "stdout",
     "output_type": "stream",
     "text": [
      "Training model...\n",
      "RMSE:\n",
      "  period 00 : 165.14\n",
      "  period 01 : 160.59\n",
      "  period 02 : 156.34\n",
      "  period 03 : 150.47\n",
      "  period 04 : 144.80\n",
      "  period 05 : 137.41\n",
      "  period 06 : 129.11\n",
      "  period 07 : 124.45\n",
      "  period 08 : 111.80\n",
      "  period 09 : 108.41\n",
      "Final RMSE (on training data):   108.41\n",
      "Final RMSE (on validation data): 109.62\n"
     ]
    },
    {
     "data": {
      "image/png": "[encoded data removed]",
      "text/plain": [
       "<matplotlib.figure.Figure at 0xd082110>"
      ]
     },
     "metadata": {
      "tags": []
     },
     "output_type": "display_data"
    }
   ],
   "source": [
    "#@title To view a possible solution, toggle Form\n",
    "\n",
    "#@test {\"output\": \"ignore\", \"timeout\": 180}\n",
    "\n",
    "# Solution: note that this selection of parameters is somewhat arbitrary - here\n",
    "# we've tried combinations that are increasingly complex, combined with training\n",
    "# for longer, until the error falls below our objective. This not by no means\n",
    "# the best combination - others may attain an even lower RMSE. If your aim is to\n",
    "# find the model that can attain the best error, then you'll want to use a more\n",
    "# rigorous process, like a parameter search.\n",
    "\n",
    "LEARNING_RATE = 0.001\n",
    "STEPS = 2000\n",
    "BATCH_SIZE = 100\n",
    "HIDDEN_UNITS = [10, 10]\n",
    "periods = 10\n",
    "steps_per_period = STEPS / periods\n",
    "\n",
    "# Set up our NN with the desired learning settings.\n",
    "feature_columns = tf.contrib.learn.infer_real_valued_columns_from_input(\n",
    "  training_examples)\n",
    "dnn_regressor = tf.contrib.learn.DNNRegressor(\n",
    "  feature_columns=feature_columns,\n",
    "  hidden_units=HIDDEN_UNITS,\n",
    "  optimizer=tf.GradientDescentOptimizer(learning_rate=LEARNING_RATE),\n",
    "  gradient_clip_norm=5.0\n",
    ")\n",
    "\n",
    "print \"Training model...\"\n",
    "print \"RMSE:\"\n",
    "root_mean_squared_errors_training = []\n",
    "root_mean_squared_errors_validation = []\n",
    "for period in range (0, periods):\n",
    "  dnn_regressor.fit(\n",
    "    training_examples,\n",
    "    training_targets,\n",
    "    steps=steps_per_period,\n",
    "    batch_size=BATCH_SIZE\n",
    "  )\n",
    "  predictions_validation = dnn_regressor.predict(validation_examples)\n",
    "  predictions_training = dnn_regressor.predict(training_examples)\n",
    "\n",
    "  root_mean_squared_error_validation = math.sqrt(metrics.mean_squared_error(\n",
    "    predictions_validation, validation_targets))\n",
    "  root_mean_squared_error_training = math.sqrt(metrics.mean_squared_error(\n",
    "    predictions_training, training_targets))\n",
    "\n",
    "  root_mean_squared_errors_validation.append(root_mean_squared_error_validation)\n",
    "  root_mean_squared_errors_training.append(root_mean_squared_error_training)\n",
    "\n",
    "  print \"  period %02d : %3.2f\" % (period, root_mean_squared_error_training)\n",
    "\n",
    "# Output a graph of loss metrics over periods.\n",
    "plt.ylabel(\"RMSE\")\n",
    "plt.xlabel(\"Periods\")\n",
    "plt.title(\"Root Mean Squared Error vs. Periods\")\n",
    "plt.plot(root_mean_squared_errors_training, label='training')\n",
    "plt.plot(root_mean_squared_errors_validation, label='validation')\n",
    "plt.legend()\n",
    "\n",
    "# Display some summary information.\n",
    "print \"Final RMSE (on training data):   %0.2f\" % root_mean_squared_error_training\n",
    "print \"Final RMSE (on validation data): %0.2f\" % root_mean_squared_error_validation"
   ]
  },
  {
   "cell_type": "markdown",
   "metadata": {
    "colab_type": "text",
    "id": "c6diezCSeH4Y",
    "slideshow": {
     "slide_type": "slide"
    }
   },
   "source": [
    "### Task 2: Evaluate on test data\n",
    "\n",
    "**Confirm that your validation performance results hold up on test data.**\n",
    "\n",
    "Once you have a model you're happy with, evaluate it on test data to compare that to validation performance.\n",
    "\n",
    "Reminder, the test data set is located here: `/placer/prod/home/ami/mlcc/california_housing/v1/test.csv`"
   ]
  },
  {
   "cell_type": "code",
   "execution_count": 0,
   "metadata": {
    "cellView": "both",
    "colab": {
     "autoexec": {
      "startup": false,
      "wait_interval": 0
     },
     "test": {
      "output": "ignore",
      "timeout": 600
     }
    },
    "colab_type": "code",
    "collapsed": true,
    "id": "icEJIl5Vp51r"
   },
   "outputs": [],
   "source": [
    "#\n",
    "# Your code here: verify the model at Task 1 using the test data.\n",
    "#"
   ]
  },
  {
   "cell_type": "code",
   "execution_count": 0,
   "metadata": {
    "cellView": "both",
    "colab": {
     "autoexec": {
      "startup": false,
      "wait_interval": 0
     },
     "output_extras": [
      {
       "item_id": 1
      }
     ]
    },
    "colab_type": "code",
    "collapsed": false,
    "executionInfo": {
     "elapsed": 80100,
     "status": "ok",
     "timestamp": 1470394415231,
     "user": {
      "color": "",
      "displayName": "",
      "isAnonymous": false,
      "isMe": true,
      "permissionId": "",
      "photoUrl": "",
      "sessionId": "0",
      "userId": ""
     },
     "user_tz": -180
    },
    "id": "V2iHizD2dqtU",
    "outputId": "923eb197-3674-470d-fcd0-2a873caa9a22"
   },
   "outputs": [
    {
     "metadata": {},
     "name": "stdout",
     "output_type": "stream",
     "text": [
      "Final RMSE (on test data): 98.47\n"
     ]
    }
   ],
   "source": [
    "# @title To view a possible solution, toggle Form\n",
    "\n",
    "#@test {\"output\": \"ignore\"}\n",
    "\n",
    "#\n",
    "# Solution: Similarly to what the code above does, we just need to load the\n",
    "# appropriate data file, preprocess it and use predict/mean_squared_error.\n",
    "#\n",
    "raw_test_df = pd.read_csv(\n",
    "  gfile.Open(\"/placer/prod/home/ami/mlcc/california_housing/v1/test.csv\"),\n",
    "  sep=\",\")\n",
    "# Note that we don't have to randomize the test data, since will use all records.\n",
    "\n",
    "# For testing, we don't need to split the data.\n",
    "test_examples = preprocess_features(raw_test_df)\n",
    "test_targets = preprocess_targets(raw_test_df)\n",
    "\n",
    "# Simply pass the features to the trained model and calculate the error.\n",
    "test_predictions = dnn_regressor.predict(test_examples)\n",
    "root_mean_squared_error = math.sqrt(\n",
    "    metrics.mean_squared_error(test_predictions, test_targets))\n",
    "\n",
    "print \"Final RMSE (on test data): %0.2f\" % root_mean_squared_error"
   ]
  }
 ],
 "metadata": {
  "colab": {
   "default_view": {},
   "name": "Copy of intro_to_neural_nets.ipynb",
   "provenance": [
    {
     "file_id": "/piper/depot/google3/engedu/ml/mlwtf_self_study/colab/intro_to_neural_nets.ipynb",
     "timestamp": 1470394425341
    },
    {
     "file_id": "/piper/depot/google3/engedu/ml/mlwtf_self_study/colab/intro_to_neural_nets.ipynb",
     "timestamp": 1467996060947
    },
    {
     "file_id": "/piper/depot/google3/engedu/ml/mlwtf_self_study/colab/intro_to_neural_nets.ipynb",
     "timestamp": 1468025793716
    },
    {
     "file_id": "/piper/depot/google3/engedu/ml/mlwtf_self_study/colab/intro_to_neural_nets.ipynb",
     "timestamp": 1466449377609
    },
    {
     "file_id": "/piper/depot/google3/engedu/ml/mlwtf_self_study/colab/intro_to_neural_nets.ipynb",
     "timestamp": 1465587812537
    },
    {
     "file_id": "/piper/depot/google3/engedu/ml/mlwtf_self_study/colab/intro_to_neural_nets.ipynb",
     "timestamp": 1465538070052
    },
    {
     "file_id": "/piper/depot/google3/engedu/ml/mlwtf_self_study/colab/intro_to_neural_nets.ipynb",
     "timestamp": 1465434458623
    },
    {
     "file_id": "/piper/depot/google3/engedu/ml/mlwtf_self_study/colab/intro_to_neural_nets.ipynb",
     "timestamp": 1464815057473
    },
    {
     "file_id": "/piper/depot/google3/engedu/ml/ml101/neural_nets_on_california_housing/exercise.ipynb",
     "timestamp": 1461937939837
    },
    {
     "file_id": "0B9FAPMTzBcMkYnc4MlZzZU9mUnM",
     "timestamp": 1460065036009
    },
    {
     "file_id": "0B9FAPMTzBcMkQmgwRFJBOUh0Vms",
     "timestamp": 1458144075264
    },
    {
     "file_id": "0B9FAPMTzBcMkbWFRYW45czdnb0k",
     "timestamp": 1457965166355
    },
    {
     "file_id": "0B9FAPMTzBcMkWWtjQnU2M0lmZFk",
     "timestamp": 1457723617831
    }
   ],
   "version": "0.3.2",
   "views": {}
  },
  "kernelspec": {
   "display_name": "Python 2",
   "language": "python",
   "name": "python2"
  },
  "language_info": {
   "codemirror_mode": {
    "name": "ipython",
    "version": 2
   },
   "file_extension": ".py",
   "mimetype": "text/x-python",
   "name": "python",
   "nbconvert_exporter": "python",
   "pygments_lexer": "ipython2",
   "version": "2.7.11"
  }
 },
 "nbformat": 4,
 "nbformat_minor": 0
}
