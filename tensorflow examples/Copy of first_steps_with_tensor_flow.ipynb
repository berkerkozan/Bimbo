{
 "cells": [
  {
   "cell_type": "markdown",
   "metadata": {
    "colab_type": "text",
    "id": "4f3CKqFUqL2-",
    "slideshow": {
     "slide_type": "slide"
    }
   },
   "source": [
    "# First Steps with Tensorflow\n",
    "\n",
    "This is an introductory colab, intended to illustrate some of the concepts from the Descending into ML session.\n",
    "\n",
    "In this colab, we'll be creating a linear regression model to predict median housing price, at the granularity of city blocks, based on one input feature.  The data is based on 1990 census data from California.\n",
    "\n",
    "In this first cell, we'll import some libraries, and also load in the data.  Run this cell to execute the code.\n",
    "\n",
    "Note that comments of the form `#@test {\"output\": \"ignore\"}` are for TAP testing of colab notebooks; you can ignore these."
   ]
  },
  {
   "cell_type": "code",
   "execution_count": 0,
   "metadata": {
    "cellView": "both",
    "colab": {
     "autoexec": {
      "startup": false,
      "wait_interval": 0
     },
     "output_extras": [
      {
       "item_id": 1
      },
      {
       "item_id": 2
      }
     ],
     "test": {
      "output": "ignore",
      "timeout": 600
     }
    },
    "colab_type": "code",
    "collapsed": false,
    "executionInfo": {
     "elapsed": 10893,
     "status": "ok",
     "timestamp": 1470145965788,
     "user": {
      "color": "",
      "displayName": "",
      "isAnonymous": false,
      "isMe": true,
      "permissionId": "",
      "photoUrl": "",
      "sessionId": "0",
      "userId": ""
     },
     "user_tz": -180
    },
    "id": "6CspO1zVopXj",
    "outputId": "124aca00-07fd-4969-9051-db4e84c9d867",
    "slideshow": {
     "slide_type": "-"
    }
   },
   "outputs": [
    {
     "metadata": {},
     "name": "stdout",
     "output_type": "stream",
     "text": [
      "Data set loaded and randomized.\n",
      "\n",
      "The first few entries in the data set are:\n"
     ]
    },
    {
     "data": {
      "text/html": [
       "<div style=\"max-width:1500px;overflow:auto;\">\n",
       "<table border=\"1\" class=\"dataframe\">\n",
       "  <thead>\n",
       "    <tr style=\"text-align: right;\">\n",
       "      <th></th>\n",
       "      <th>totalRooms</th>\n",
       "      <th>population</th>\n",
       "      <th>medianHouseValue</th>\n",
       "    </tr>\n",
       "  </thead>\n",
       "  <tbody>\n",
       "    <tr>\n",
       "      <th>6430</th>\n",
       "      <td>886.0</td>\n",
       "      <td>809.0</td>\n",
       "      <td>164.2</td>\n",
       "    </tr>\n",
       "    <tr>\n",
       "      <th>16236</th>\n",
       "      <td>3850.0</td>\n",
       "      <td>1497.0</td>\n",
       "      <td>400.0</td>\n",
       "    </tr>\n",
       "    <tr>\n",
       "      <th>11490</th>\n",
       "      <td>1703.0</td>\n",
       "      <td>1208.0</td>\n",
       "      <td>55.3</td>\n",
       "    </tr>\n",
       "    <tr>\n",
       "      <th>16692</th>\n",
       "      <td>6190.0</td>\n",
       "      <td>2967.0</td>\n",
       "      <td>195.1</td>\n",
       "    </tr>\n",
       "    <tr>\n",
       "      <th>13572</th>\n",
       "      <td>5775.0</td>\n",
       "      <td>3580.0</td>\n",
       "      <td>314.9</td>\n",
       "    </tr>\n",
       "  </tbody>\n",
       "</table>\n",
       "</div>"
      ],
      "text/plain": [
       "       totalRooms  population  medianHouseValue\n",
       "6430        886.0       809.0             164.2\n",
       "16236      3850.0      1497.0             400.0\n",
       "11490      1703.0      1208.0              55.3\n",
       "16692      6190.0      2967.0             195.1\n",
       "13572      5775.0      3580.0             314.9"
      ]
     },
     "metadata": {
      "tags": []
     },
     "output_type": "display_data"
    }
   ],
   "source": [
    "#@test {\"output\": \"ignore\"}\n",
    "\n",
    "import math\n",
    "import matplotlib.pyplot as plt\n",
    "import numpy as np\n",
    "import pandas as pd\n",
    "import google3\n",
    "import tensorflow.google as tf\n",
    "from IPython import display\n",
    "from google3.pyglib import gfile\n",
    "from matplotlib import cm\n",
    "from matplotlib import gridspec\n",
    "from numpy import linspace\n",
    "from sklearn import metrics\n",
    "\n",
    "# Set the output display to have one digit for decimal places, for display\n",
    "# readability only.\n",
    "pd.options.display.float_format = '{:.1f}'.format\n",
    "\n",
    "# Load in the data from CSV files.\n",
    "california_housing_dataframe = pd.read_csv(\n",
    "  gfile.Open(\"/placer/prod/home/ami/mlcc/california_housing/v1/train.csv\"), sep=\",\")\n",
    "# We'll then randomize the data, just to be sure not to get any pathological\n",
    "# ordering effects that might harm the performance of Stochastic Gradient Descent.\n",
    "california_housing_dataframe = california_housing_dataframe.reindex(\n",
    "  np.random.permutation(california_housing_dataframe.index))\n",
    "print \"Data set loaded and randomized.\\n\"\n",
    "\n",
    "# Pick out the columns we care about for this exercise.\n",
    "california_housing_dataframe = california_housing_dataframe[\n",
    "  [\"totalRooms\", \"population\", \"medianHouseValue\"]]\n",
    "# Scale the medianHouseValue to be in units of thousands, so it can be learned a\n",
    "# little more easily with learning rates in a range that we usually use.\n",
    "california_housing_dataframe[\"medianHouseValue\"] = (\n",
    "  california_housing_dataframe[\"medianHouseValue\"] / 1000.0)\n",
    "\n",
    "# Print out some entries in the data set so we can see what we're dealing with.\n",
    "# (The first column contains original row numbers for each entry pre-randomization)\n",
    "print \"The first few entries in the data set are:\"\n",
    "display.display(california_housing_dataframe.head())"
   ]
  },
  {
   "cell_type": "markdown",
   "metadata": {
    "colab_type": "text",
    "id": "HzzlSs3PtTmt",
    "slideshow": {
     "slide_type": "-"
    }
   },
   "source": [
    "### Examine the data\n",
    "\n",
    "It's a good idea to get to know your data a little bit before you work with it.\n",
    "\n",
    "We'll print out a quick summary of a few useful statistics on each column.\n",
    "\n",
    "This will include things like mean, standard deviation, max, min, and various quantiles."
   ]
  },
  {
   "cell_type": "code",
   "execution_count": 0,
   "metadata": {
    "cellView": "both",
    "colab": {
     "autoexec": {
      "startup": false,
      "wait_interval": 0
     },
     "output_extras": [
      {
       "item_id": 1
      }
     ],
     "test": {
      "output": "ignore",
      "timeout": 600
     }
    },
    "colab_type": "code",
    "collapsed": false,
    "executionInfo": {
     "elapsed": 360,
     "status": "ok",
     "timestamp": 1470145996388,
     "user": {
      "color": "",
      "displayName": "",
      "isAnonymous": false,
      "isMe": true,
      "permissionId": "",
      "photoUrl": "",
      "sessionId": "0",
      "userId": ""
     },
     "user_tz": -180
    },
    "id": "gzb10yoVrydW",
    "outputId": "754ead55-0c33-43bf-d63e-63845f8ae073",
    "slideshow": {
     "slide_type": "slide"
    }
   },
   "outputs": [
    {
     "data": {
      "text/html": [
       "<div style=\"max-width:1500px;overflow:auto;\">\n",
       "<table border=\"1\" class=\"dataframe\">\n",
       "  <thead>\n",
       "    <tr style=\"text-align: right;\">\n",
       "      <th></th>\n",
       "      <th>totalRooms</th>\n",
       "      <th>population</th>\n",
       "      <th>medianHouseValue</th>\n",
       "    </tr>\n",
       "  </thead>\n",
       "  <tbody>\n",
       "    <tr>\n",
       "      <th>count</th>\n",
       "      <td>17000.0</td>\n",
       "      <td>17000.0</td>\n",
       "      <td>17000.0</td>\n",
       "    </tr>\n",
       "    <tr>\n",
       "      <th>mean</th>\n",
       "      <td>2643.7</td>\n",
       "      <td>1429.6</td>\n",
       "      <td>207.3</td>\n",
       "    </tr>\n",
       "    <tr>\n",
       "      <th>std</th>\n",
       "      <td>2179.9</td>\n",
       "      <td>1147.9</td>\n",
       "      <td>116.0</td>\n",
       "    </tr>\n",
       "    <tr>\n",
       "      <th>min</th>\n",
       "      <td>2.0</td>\n",
       "      <td>3.0</td>\n",
       "      <td>15.0</td>\n",
       "    </tr>\n",
       "    <tr>\n",
       "      <th>25%</th>\n",
       "      <td>1462.0</td>\n",
       "      <td>790.0</td>\n",
       "      <td>119.4</td>\n",
       "    </tr>\n",
       "    <tr>\n",
       "      <th>50%</th>\n",
       "      <td>2127.0</td>\n",
       "      <td>1167.0</td>\n",
       "      <td>180.4</td>\n",
       "    </tr>\n",
       "    <tr>\n",
       "      <th>75%</th>\n",
       "      <td>3151.2</td>\n",
       "      <td>1721.0</td>\n",
       "      <td>265.0</td>\n",
       "    </tr>\n",
       "    <tr>\n",
       "      <th>max</th>\n",
       "      <td>37937.0</td>\n",
       "      <td>35682.0</td>\n",
       "      <td>500.0</td>\n",
       "    </tr>\n",
       "  </tbody>\n",
       "</table>\n",
       "</div>"
      ],
      "text/plain": [
       "       totalRooms  population  medianHouseValue\n",
       "count     17000.0     17000.0           17000.0\n",
       "mean       2643.7      1429.6             207.3\n",
       "std        2179.9      1147.9             116.0\n",
       "min           2.0         3.0              15.0\n",
       "25%        1462.0       790.0             119.4\n",
       "50%        2127.0      1167.0             180.4\n",
       "75%        3151.2      1721.0             265.0\n",
       "max       37937.0     35682.0             500.0"
      ]
     },
     "metadata": {
      "tags": []
     },
     "output_type": "display_data"
    }
   ],
   "source": [
    "#@test {\"output\": \"ignore\"}\n",
    "\n",
    "display.display(california_housing_dataframe.describe())"
   ]
  },
  {
   "cell_type": "markdown",
   "metadata": {
    "colab_type": "text",
    "id": "Lr6wYl2bt2Ep",
    "slideshow": {
     "slide_type": "-"
    }
   },
   "source": [
    "### Build the first model\n",
    "\n",
    "In this exercise, we'll be trying to predict `medianHouseValue`.  It will be our label (sometimes also called a target).\n",
    "\n",
    "We'll use `totalRooms` as our input feature.\n",
    "\n",
    "Recall that this data is at the city block level, so these features reflect the total number of rooms in that block, or the total number of people who live on that block, respectively.\n",
    "\n",
    "To train our model, we'll use the [LinearRegressor](https://cs.corp.google.com/search/?q=package:piper+symbol:^LinearRegressor$) interface provided by the TensorFlow Estimators library.\n",
    "\n",
    "The Estimators library is a high level API wrapper on top of TensorFlow Layers.  This takes care of a lot of the plumbing, and exposes a convenient way to interact with data, training, and evaluation.\n",
    "\n",
    "Estimators is an excellent way to set up and train models for many typical uses, both in CoLab and within google3 production uses."
   ]
  },
  {
   "cell_type": "code",
   "execution_count": 0,
   "metadata": {
    "cellView": "both",
    "colab": {
     "autoexec": {
      "startup": false,
      "wait_interval": 0
     },
     "output_extras": [
      {
       "item_id": 2
      }
     ],
     "test": {
      "output": "ignore",
      "timeout": 600
     }
    },
    "colab_type": "code",
    "collapsed": false,
    "executionInfo": {
     "elapsed": 1738,
     "status": "ok",
     "timestamp": 1470146129862,
     "user": {
      "color": "",
      "displayName": "",
      "isAnonymous": false,
      "isMe": true,
      "permissionId": "",
      "photoUrl": "",
      "sessionId": "0",
      "userId": ""
     },
     "user_tz": -180
    },
    "id": "Wvc1-JAhu6Fj",
    "outputId": "29407ba4-f81a-4473-d0da-6be555ba6639",
    "slideshow": {
     "slide_type": "-"
    }
   },
   "outputs": [
    {
     "metadata": {},
     "name": "stdout",
     "output_type": "stream",
     "text": [
      "Training model...\n",
      "Model training finished.\n",
      "Mean Squared Error (on training data): 50621.014\n",
      "Root Mean Squared Error (on training data): 224.991\n"
     ]
    }
   ],
   "source": [
    "#@test {\"output\": \"ignore\"}\n",
    "\n",
    "my_feature = california_housing_dataframe[\"totalRooms\"]\n",
    "targets = california_housing_dataframe[\"medianHouseValue\"]\n",
    "\n",
    "# Create a linear regressor object.\n",
    "# The GradientDescentOptimizer implements Mini-Batch Stochastic Gradient\n",
    "# Descent (SGD), where the size of the mini-batch is given by the batch_size\n",
    "# parameter.\n",
    "# Note the learning_rate parameter to the optimizer: it controls the size of\n",
    "# the gradient step.\n",
    "# We also include a value for gradient_clip_norm for safety. This makes sure\n",
    "# that gradients are never too huge, which helps avoid pathological cases in\n",
    "# gradient descent.\n",
    "feature_columns = tf.contrib.learn.infer_real_valued_columns_from_input(\n",
    "  my_feature)\n",
    "linear_regressor = tf.contrib.learn.LinearRegressor(\n",
    "  feature_columns=feature_columns,\n",
    "  optimizer=tf.GradientDescentOptimizer(learning_rate=0.00001),\n",
    "  gradient_clip_norm=5.0\n",
    ")\n",
    "\n",
    "# Calling .fit() on the feature column and targets will train the model.\n",
    "print \"Training model...\"\n",
    "linear_regressor.fit(\n",
    "  my_feature,\n",
    "  targets,\n",
    "  steps=100,\n",
    "  batch_size=1\n",
    ")\n",
    "print \"Model training finished.\"\n",
    "\n",
    "# Let's make predictions on that training data, to see how well we fit the\n",
    "# training data.\n",
    "predictions = linear_regressor.predict(my_feature)\n",
    "mean_squared_error = metrics.mean_squared_error(predictions, targets)\n",
    "print \"Mean Squared Error (on training data): %0.3f\" % mean_squared_error\n",
    "print \"Root Mean Squared Error (on training data): %0.3f\" % math.sqrt(mean_squared_error)"
   ]
  },
  {
   "cell_type": "markdown",
   "metadata": {
    "colab_type": "text",
    "id": "AKWstXXPzOVz",
    "slideshow": {
     "slide_type": "slide"
    }
   },
   "source": [
    "### Evaluate the model\n",
    "\n",
    "Okay, training the model was easy!  But is this a good model?  How would you judge how large this error is?\n",
    "\n",
    "The mean squared error can be hard to interpret, so we often look at root mean squared error (RMSE)\n",
    "instead.  RMSE has the nice property that it can be interpreted on the same scale as the original targets.\n",
    "\n",
    "Compare the RMSE with the range between min and max of our targets.  How does the RMSE compare to this range?\n",
    "\n",
    "Can we do better?\n",
    "\n",
    "This is the question that nags every model developer.  During the course, we'll develop some basic sanity checking strategies to help give some guidance.\n",
    "\n",
    "The first thing we can do is take a look at how well our predictions match our targets, in terms of overall summary statistics."
   ]
  },
  {
   "cell_type": "code",
   "execution_count": 0,
   "metadata": {
    "cellView": "both",
    "colab": {
     "autoexec": {
      "startup": false,
      "wait_interval": 0
     },
     "output_extras": [
      {
       "item_id": 1
      }
     ],
     "test": {
      "output": "ignore",
      "timeout": 600
     }
    },
    "colab_type": "code",
    "collapsed": false,
    "executionInfo": {
     "elapsed": 359,
     "status": "ok",
     "timestamp": 1470146196264,
     "user": {
      "color": "",
      "displayName": "",
      "isAnonymous": false,
      "isMe": true,
      "permissionId": "",
      "photoUrl": "",
      "sessionId": "0",
      "userId": ""
     },
     "user_tz": -180
    },
    "id": "941nclxbzqGH",
    "outputId": "c099f5c2-fd03-4a01-9501-e2f54b52eb77",
    "slideshow": {
     "slide_type": "-"
    }
   },
   "outputs": [
    {
     "data": {
      "text/html": [
       "<div style=\"max-width:1500px;overflow:auto;\">\n",
       "<table border=\"1\" class=\"dataframe\">\n",
       "  <thead>\n",
       "    <tr style=\"text-align: right;\">\n",
       "      <th></th>\n",
       "      <th>predictions</th>\n",
       "      <th>targets</th>\n",
       "    </tr>\n",
       "  </thead>\n",
       "  <tbody>\n",
       "    <tr>\n",
       "      <th>count</th>\n",
       "      <td>17000.0</td>\n",
       "      <td>17000.0</td>\n",
       "    </tr>\n",
       "    <tr>\n",
       "      <th>mean</th>\n",
       "      <td>14.8</td>\n",
       "      <td>207.3</td>\n",
       "    </tr>\n",
       "    <tr>\n",
       "      <th>std</th>\n",
       "      <td>10.9</td>\n",
       "      <td>116.0</td>\n",
       "    </tr>\n",
       "    <tr>\n",
       "      <th>min</th>\n",
       "      <td>1.6</td>\n",
       "      <td>15.0</td>\n",
       "    </tr>\n",
       "    <tr>\n",
       "      <th>25%</th>\n",
       "      <td>8.9</td>\n",
       "      <td>119.4</td>\n",
       "    </tr>\n",
       "    <tr>\n",
       "      <th>50%</th>\n",
       "      <td>12.3</td>\n",
       "      <td>180.4</td>\n",
       "    </tr>\n",
       "    <tr>\n",
       "      <th>75%</th>\n",
       "      <td>17.4</td>\n",
       "      <td>265.0</td>\n",
       "    </tr>\n",
       "    <tr>\n",
       "      <th>max</th>\n",
       "      <td>191.3</td>\n",
       "      <td>500.0</td>\n",
       "    </tr>\n",
       "  </tbody>\n",
       "</table>\n",
       "</div>"
      ],
      "text/plain": [
       "       predictions  targets\n",
       "count      17000.0  17000.0\n",
       "mean          14.8    207.3\n",
       "std           10.9    116.0\n",
       "min            1.6     15.0\n",
       "25%            8.9    119.4\n",
       "50%           12.3    180.4\n",
       "75%           17.4    265.0\n",
       "max          191.3    500.0"
      ]
     },
     "metadata": {
      "tags": []
     },
     "output_type": "display_data"
    }
   ],
   "source": [
    "#@test {\"output\": \"ignore\"}\n",
    "\n",
    "calibration_data = pd.DataFrame()\n",
    "calibration_data[\"predictions\"] = pd.Series(predictions)\n",
    "calibration_data[\"targets\"] = pd.Series(targets)\n",
    "display.display(calibration_data.describe())"
   ]
  },
  {
   "cell_type": "markdown",
   "metadata": {
    "colab_type": "text",
    "id": "E2-bf8Hq36y8",
    "slideshow": {
     "slide_type": "-"
    }
   },
   "source": [
    "Okay, maybe this information is helpful. How does the mean value compare to the model's RMSE? How about the various quantiles?\n",
    "\n",
    "We can also visualize the data and the line we've learned.  Recall that linear regression on a single feature can be drawn as a line mapping input *x* to output *y*.\n",
    "\n",
    "Run the cell below to see a two-dimensional representation of the data and the line."
   ]
  },
  {
   "cell_type": "code",
   "execution_count": 5,
   "metadata": {
    "cellView": "both",
    "colab": {
     "autoexec": {
      "startup": false,
      "wait_interval": 0
     },
     "output_extras": [
      {
       "item_id": 1
      },
      {
       "item_id": 2
      }
     ],
     "test": {
      "output": "ignore",
      "timeout": 600
     }
    },
    "colab_type": "code",
    "collapsed": false,
    "executionInfo": {
     "elapsed": 695,
     "status": "ok",
     "timestamp": 1470146242253,
     "user": {
      "color": "",
      "displayName": "",
      "isAnonymous": false,
      "isMe": true,
      "permissionId": "",
      "photoUrl": "",
      "sessionId": "0",
      "userId": ""
     },
     "user_tz": -180
    },
    "id": "7G12E76-339G",
    "outputId": "cd804173-3fde-488c-ba45-8ab16703f1ff",
    "slideshow": {
     "slide_type": "-"
    }
   },
   "outputs": [
    {
     "data": {
      "text/plain": [
       "[<matplotlib.lines.Line2D at 0xda479d0>]"
      ]
     },
     "execution_count": 5,
     "metadata": {
      "tags": []
     },
     "output_type": "execute_result"
    },
    {
     "data": {
      "image/png": "[encoded data removed]",
      "text/plain": [
       "<matplotlib.figure.Figure at 0xd062b10>"
      ]
     },
     "metadata": {
      "tags": []
     },
     "output_type": "display_data"
    }
   ],
   "source": [
    "#@test {\"output\": \"ignore\"}\n",
    "\n",
    "# First, get a uniform random sample of the data.  This is helpful to make the scatterplot readable.\n",
    "sample = california_housing_dataframe.sample(n=300)\n",
    "plt.scatter(sample[\"totalRooms\"], sample[\"medianHouseValue\"])\n",
    "\n",
    "# Now plot the line we've learned, drawing from the models bias term and feature weight.\n",
    "# This line will show up red.\n",
    "x_0 = sample[\"totalRooms\"].min()\n",
    "x_1 = sample[\"totalRooms\"].max()\n",
    "y_0 = linear_regressor.weights_[0] * x_0 + linear_regressor.bias_\n",
    "y_1 = linear_regressor.weights_[0] * x_1 + linear_regressor.bias_\n",
    "plt.plot([x_0, x_1], [y_0, y_1], c='r')"
   ]
  },
  {
   "cell_type": "markdown",
   "metadata": {
    "colab_type": "text",
    "id": "AZWF67uv0HTG",
    "slideshow": {
     "slide_type": "slide"
    }
   },
   "source": [
    "This initial line looks way off.  See if you can look back at the summary stats and see the same information encoded there.\n",
    "\n",
    "Together, these initial sanity checks suggest we may be able to find a much better line.\n",
    "\n",
    "### Task 1:  Tweak to try and improve loss and match the target distribution better.\n",
    "For this task, you can use the code block below, which puts all the above code in a single cell for convenience.  You can modify the values in the form on the right and re-run to see the effect.\n",
    "\n",
    "In this cell, we'll proceed in 10 evenly divided periods so that we can observe the model improvement at each period.\n",
    "\n",
    "For each period, we'll compute training loss and graph that.  This may help you judge when a model is converged, or if it needs more iterations.\n",
    "\n",
    "We'll also plot values for the feature weight and bias term learned by the model over time.  This is another way to see how things converge.\n",
    "\n",
    "**Your goal is to try and get anything below about 180 in RMSE for this portion.**\n",
    "\n",
    "_Tip: You will probably find it easier to experiment with parameter settings by switching the following code cell to \"`form`\" view.  To do so, in the menu at the top of the code cell, change \"`both`\" to \"`form`\"._\n",
    "\n",
    "If you haven't gotten 180 or lower RMSE after 5 minutes of trying, run the hint cell block below for a solution.\n"
   ]
  },
  {
   "cell_type": "code",
   "execution_count": 0,
   "metadata": {
    "cellView": "form",
    "colab": {
     "autoexec": {
      "startup": false,
      "wait_interval": 0
     },
     "output_extras": [
      {
       "item_id": 11
      },
      {
       "item_id": 12
      },
      {
       "item_id": 13
      },
      {
       "item_id": 14
      },
      {
       "item_id": 15
      }
     ],
     "test": {
      "output": "ignore",
      "timeout": 600
     }
    },
    "colab_type": "code",
    "collapsed": false,
    "executionInfo": {
     "elapsed": 244498,
     "status": "ok",
     "timestamp": 1470146622864,
     "user": {
      "color": "",
      "displayName": "",
      "isAnonymous": false,
      "isMe": true,
      "permissionId": "",
      "photoUrl": "",
      "sessionId": "0",
      "userId": ""
     },
     "user_tz": -180
    },
    "id": "UzoZUSdLIolF",
    "outputId": "6ee19bc2-5d6a-4e13-9066-c984a27e7370",
    "slideshow": {
     "slide_type": "slide"
    }
   },
   "outputs": [
    {
     "metadata": {},
     "name": "stdout",
     "output_type": "stream",
     "text": [
      "Training model...\n",
      "RMSE (on training data):\n",
      "  period 00 : 166.98\n",
      "  period 01 : 169.24\n",
      "  period 02 : 168.11\n",
      "  period 03 : 165.86\n",
      "  period 04 : 163.70\n",
      "  period 05 : 161.79\n",
      "  period 06 : 160.09\n",
      "  period 07 : 158.49\n",
      "  period 08 : 157.01\n",
      "  period 09 : 155.64\n",
      "Model training finished.\n"
     ]
    },
    {
     "data": {
      "text/plain": [
       "[<matplotlib.lines.Line2D at 0xe1334d0>]"
      ]
     },
     "metadata": {
      "tags": []
     },
     "output_type": "display_data"
    },
    {
     "data": {
      "text/html": [
       "<div style=\"max-width:1500px;overflow:auto;\">\n",
       "<table border=\"1\" class=\"dataframe\">\n",
       "  <thead>\n",
       "    <tr style=\"text-align: right;\">\n",
       "      <th></th>\n",
       "      <th>predictions</th>\n",
       "      <th>targets</th>\n",
       "    </tr>\n",
       "  </thead>\n",
       "  <tbody>\n",
       "    <tr>\n",
       "      <th>count</th>\n",
       "      <td>17000.0</td>\n",
       "      <td>17000.0</td>\n",
       "    </tr>\n",
       "    <tr>\n",
       "      <th>mean</th>\n",
       "      <td>178.8</td>\n",
       "      <td>207.3</td>\n",
       "    </tr>\n",
       "    <tr>\n",
       "      <th>std</th>\n",
       "      <td>99.2</td>\n",
       "      <td>116.0</td>\n",
       "    </tr>\n",
       "    <tr>\n",
       "      <th>min</th>\n",
       "      <td>58.5</td>\n",
       "      <td>15.0</td>\n",
       "    </tr>\n",
       "    <tr>\n",
       "      <th>25%</th>\n",
       "      <td>125.0</td>\n",
       "      <td>119.4</td>\n",
       "    </tr>\n",
       "    <tr>\n",
       "      <th>50%</th>\n",
       "      <td>155.2</td>\n",
       "      <td>180.4</td>\n",
       "    </tr>\n",
       "    <tr>\n",
       "      <th>75%</th>\n",
       "      <td>201.9</td>\n",
       "      <td>265.0</td>\n",
       "    </tr>\n",
       "    <tr>\n",
       "      <th>max</th>\n",
       "      <td>1785.3</td>\n",
       "      <td>500.0</td>\n",
       "    </tr>\n",
       "  </tbody>\n",
       "</table>\n",
       "</div>"
      ],
      "text/plain": [
       "       predictions  targets\n",
       "count      17000.0  17000.0\n",
       "mean         178.8    207.3\n",
       "std           99.2    116.0\n",
       "min           58.5     15.0\n",
       "25%          125.0    119.4\n",
       "50%          155.2    180.4\n",
       "75%          201.9    265.0\n",
       "max         1785.3    500.0"
      ]
     },
     "metadata": {
      "tags": []
     },
     "output_type": "display_data"
    },
    {
     "metadata": {},
     "name": "stdout",
     "output_type": "stream",
     "text": [
      "Final RMSE (on training data): 155.64\n"
     ]
    },
    {
     "data": {
      "image/png": "[encoded data removed]",
      "text/plain": [
       "<matplotlib.figure.Figure at 0xda60c10>"
      ]
     },
     "metadata": {
      "tags": []
     },
     "output_type": "display_data"
    }
   ],
   "source": [
    "#@test {\"output\": \"ignore\"}\n",
    "\n",
    "LEARNING_RATE = 0.000001  #@param\n",
    "STEPS = 100000  #@param\n",
    "BATCH_SIZE = 10  #@param\n",
    "periods = 10\n",
    "steps_per_period = STEPS / periods\n",
    "\n",
    "my_feature = \"totalRooms\"\n",
    "my_feature_column = california_housing_dataframe[my_feature]\n",
    "my_label = \"medianHouseValue\"\n",
    "targets = california_housing_dataframe[my_label]\n",
    "\n",
    "# Create a linear regressor object.\n",
    "feature_columns = tf.contrib.learn.infer_real_valued_columns_from_input(\n",
    "  my_feature_column)\n",
    "linear_regressor = tf.contrib.learn.LinearRegressor(\n",
    "  optimizer=tf.GradientDescentOptimizer(learning_rate=LEARNING_RATE),\n",
    "  gradient_clip_norm=5.0\n",
    ")\n",
    "\n",
    "# Set up to plot the state of our model's line each period.\n",
    "plt.figure(figsize=(15, 6))\n",
    "plt.subplot(1, 2, 1)\n",
    "plt.title(\"Learned Line by Period\")\n",
    "plt.ylabel(my_label)\n",
    "plt.xlabel(my_feature)\n",
    "sample = california_housing_dataframe.sample(n=300)\n",
    "plt.scatter(sample[my_feature], sample[my_label])\n",
    "colors = [ cm.coolwarm(x) for x in linspace(-1, 1, periods) ]\n",
    "\n",
    "# Train the model, but do so inside a loop so that we can periodically assess\n",
    "# loss metrics.\n",
    "print \"Training model...\"\n",
    "print \"RMSE (on training data):\"\n",
    "root_mean_squared_errors = []\n",
    "for period in range (0, periods):\n",
    "  # Train the model, starting from the prior state.\n",
    "  linear_regressor.fit(\n",
    "    my_feature_column,\n",
    "    targets,\n",
    "    steps=steps_per_period,\n",
    "    batch_size=BATCH_SIZE\n",
    "  )\n",
    "  # Take a break and compute predictions.\n",
    "  predictions = linear_regressor.predict(my_feature_column)\n",
    "  # Compute loss.\n",
    "  root_mean_squared_error = math.sqrt(\n",
    "    metrics.mean_squared_error(predictions, targets))\n",
    "  # Occasionally print the current loss.\n",
    "  print \"  period %02d : %0.2f\" % (period, root_mean_squared_error)\n",
    "  # Add the loss metrics from this period to our list.\n",
    "  root_mean_squared_errors.append(root_mean_squared_error)\n",
    "  # Finally, track the weights and biases over time.\n",
    "  # Apply some math to ensure that the data and line are plotted neatly.\n",
    "  y_extents = np.array([0, sample[my_label].max()])\n",
    "  x_extents = (y_extents - linear_regressor.bias_) / linear_regressor.weights_[0]\n",
    "  x_extents = np.maximum(np.minimum(x_extents,\n",
    "                                    sample[my_feature].max()),\n",
    "                         sample[my_feature].min())\n",
    "  y_extents = linear_regressor.weights_[0] * x_extents + linear_regressor.bias_\n",
    "  plt.plot(x_extents, y_extents, color=colors[period]) \n",
    "print \"Model training finished.\"\n",
    "\n",
    "# Output a graph of loss metrics over periods.\n",
    "plt.subplot(1, 2, 2)\n",
    "plt.ylabel('RMSE')\n",
    "plt.xlabel('Periods')\n",
    "plt.title(\"Root Mean Squared Error vs. Periods\")\n",
    "plt.tight_layout()\n",
    "display.display(plt.plot(root_mean_squared_errors))\n",
    "\n",
    "calibration_data = pd.DataFrame()\n",
    "calibration_data[\"predictions\"] = pd.Series(predictions)\n",
    "calibration_data[\"targets\"] = pd.Series(targets)\n",
    "display.display(calibration_data.describe())\n",
    "\n",
    "print (\"Final RMSE (on training data): %0.2f\" % root_mean_squared_error)"
   ]
  },
  {
   "cell_type": "code",
   "execution_count": 0,
   "metadata": {
    "cellView": "form",
    "colab": {
     "autoexec": {
      "startup": false,
      "wait_interval": 0
     },
     "test": {
      "output": "ignore",
      "timeout": 600
     }
    },
    "colab_type": "code",
    "collapsed": true,
    "id": "P3phWsrUleaF",
    "slideshow": {
     "slide_type": "-"
    }
   },
   "outputs": [],
   "source": [
    "#@title Run Me for a hint\n",
    "\n",
    "#@test {\"output\": \"ignore\"}\n",
    "\n",
    "print \"\"\"\n",
    "         Try these values:\n",
    "\n",
    "             LEARNING_RATE: 0.00002\n",
    "             STEPS: 500\n",
    "             BATCH_SIZE: 5\n",
    "\n",
    "         This is just one possible setting; there may be other combinations of\n",
    "         parameter settings that also give good results.  Note that in general,\n",
    "         this exercise isn't about finding the One Best setting, but rather\n",
    "         about getting the experience of exploring parameter settings.\n",
    "         \"\"\""
   ]
  },
  {
   "cell_type": "markdown",
   "metadata": {
    "colab_type": "text",
    "id": "QU5sLyYTqzqL",
    "slideshow": {
     "slide_type": "slide"
    }
   },
   "source": [
    "### Is there a standard method for tuning the model?\n",
    "\n",
    "This is a commonly asked question. The short answer is that the effects of different hyperparameters is data dependent.  So there are no hard and fast rules; you'll need to run tests on your data.\n",
    "\n",
    "Here are a few rules of thumb that may help guide you:\n",
    "\n",
    " * Training error should steadily decrease, steeply at first, and should eventually plateau as training converges.\n",
    " * If the training has not converged, try running it for longer.\n",
    " * If the training error decreases too slowly, increasing the learning rate may help it decrease faster.\n",
    "   * But sometimes the exact opposite may happen if the learning rate is too high.\n",
    " * If the training error varies wildly, try decreasing the learning rate.\n",
    "   * Lower learning rate plus larger number of steps or larger batch size is often a good combination.\n",
    " * Very small batch sizes can also cause instability.  First try larger values like 100 or 1000, and decrease until you see degradation.\n",
    "\n",
    "Again, never go strictly by these rules of thumb, because the effects are data depdendent.  Always experiment and verify.\n",
    "\n",
    "### Can I automate the tuning?\n",
    "\n",
    "We will look at automated tuning using Vizier the Lab on Day 2.\n",
    "\n",
    "However, it is still important to build up personal intuition around what the various knobs do and how they interact, in order to be able to sanity-check the results from automated processes like Vizier.  Our goal in this course is provide a good start along these lines."
   ]
  },
  {
   "cell_type": "markdown",
   "metadata": {
    "colab_type": "text",
    "id": "GpV-uF_cBCBU",
    "slideshow": {
     "slide_type": "slide"
    }
   },
   "source": [
    "### Task 2: Try a different feature.\n",
    "\n",
    "See if you can do any better by replacing the `totalRooms` feature with the `population` feature, in the cell above.\n",
    "\n",
    "Note that some students find it more convenient to create a new code cell (keyboard shortcut: `Ctrl+M,B`), copy-and-paste the above code, and make modifications in the new cell.\n",
    "\n",
    "You may need to tweak learning rates and such.\n",
    "\n",
    "Don't take more than 5 minutes on this portion."
   ]
  },
  {
   "cell_type": "code",
   "execution_count": 0,
   "metadata": {
    "cellView": null,
    "colab": {
     "autoexec": {
      "startup": false,
      "wait_interval": 0
     }
    },
    "colab_type": "code",
    "collapsed": true,
    "id": "I9thBmiUj8Bk"
   },
   "outputs": [],
   "source": []
  },
  {
   "cell_type": "code",
   "execution_count": 0,
   "metadata": {
    "cellView": "both",
    "colab": {
     "autoexec": {
      "startup": false,
      "wait_interval": 0
     },
     "output_extras": [
      {
       "item_id": 1
      },
      {
       "item_id": 2
      },
      {
       "item_id": 3
      },
      {
       "item_id": 4
      }
     ],
     "test": {
      "output": "ignore",
      "timeout": 600
     }
    },
    "colab_type": "code",
    "collapsed": false,
    "executionInfo": {
     "elapsed": 8683,
     "status": "ok",
     "timestamp": 1470146623604,
     "user": {
      "color": "",
      "displayName": "",
      "isAnonymous": false,
      "isMe": true,
      "permissionId": "",
      "photoUrl": "",
      "sessionId": "0",
      "userId": ""
     },
     "user_tz": -180
    },
    "id": "b-uswIKjj95R",
    "outputId": "118cc3ee-6770-4a7f-8621-9665aee770be",
    "slideshow": {
     "slide_type": "-"
    }
   },
   "outputs": [
    {
     "metadata": {},
     "name": "stdout",
     "output_type": "stream",
     "text": [
      "Training model...\n",
      "Model training finished.\n",
      "Mean Squared Error (on training data): 52903.950\n",
      "Root Mean Squared Error (on training data): 230.009\n"
     ]
    },
    {
     "data": {
      "text/html": [
       "<div style=\"max-width:1500px;overflow:auto;\">\n",
       "<table border=\"1\" class=\"dataframe\">\n",
       "  <thead>\n",
       "    <tr style=\"text-align: right;\">\n",
       "      <th></th>\n",
       "      <th>predictions</th>\n",
       "      <th>targets</th>\n",
       "    </tr>\n",
       "  </thead>\n",
       "  <tbody>\n",
       "    <tr>\n",
       "      <th>count</th>\n",
       "      <td>17000.0</td>\n",
       "      <td>17000.0</td>\n",
       "    </tr>\n",
       "    <tr>\n",
       "      <th>mean</th>\n",
       "      <td>8.8</td>\n",
       "      <td>207.3</td>\n",
       "    </tr>\n",
       "    <tr>\n",
       "      <th>std</th>\n",
       "      <td>5.7</td>\n",
       "      <td>116.0</td>\n",
       "    </tr>\n",
       "    <tr>\n",
       "      <th>min</th>\n",
       "      <td>1.6</td>\n",
       "      <td>15.0</td>\n",
       "    </tr>\n",
       "    <tr>\n",
       "      <th>25%</th>\n",
       "      <td>5.6</td>\n",
       "      <td>119.4</td>\n",
       "    </tr>\n",
       "    <tr>\n",
       "      <th>50%</th>\n",
       "      <td>7.5</td>\n",
       "      <td>180.4</td>\n",
       "    </tr>\n",
       "    <tr>\n",
       "      <th>75%</th>\n",
       "      <td>10.2</td>\n",
       "      <td>265.0</td>\n",
       "    </tr>\n",
       "    <tr>\n",
       "      <th>max</th>\n",
       "      <td>180.0</td>\n",
       "      <td>500.0</td>\n",
       "    </tr>\n",
       "  </tbody>\n",
       "</table>\n",
       "</div>"
      ],
      "text/plain": [
       "       predictions  targets\n",
       "count      17000.0  17000.0\n",
       "mean           8.8    207.3\n",
       "std            5.7    116.0\n",
       "min            1.6     15.0\n",
       "25%            5.6    119.4\n",
       "50%            7.5    180.4\n",
       "75%           10.2    265.0\n",
       "max          180.0    500.0"
      ]
     },
     "metadata": {
      "tags": []
     },
     "output_type": "display_data"
    },
    {
     "data": {
      "text/plain": [
       "[<matplotlib.lines.Line2D at 0xe876f50>]"
      ]
     },
     "execution_count": 10,
     "metadata": {
      "tags": []
     },
     "output_type": "execute_result"
    },
    {
     "data": {
      "image/png": "[encoded data removed]",
      "text/plain": [
       "<matplotlib.figure.Figure at 0xe799250>"
      ]
     },
     "metadata": {
      "tags": []
     },
     "output_type": "display_data"
    }
   ],
   "source": [
    "#@test {\"output\": \"ignore\"}\n",
    "\n",
    "my_feature = california_housing_dataframe[\"population\"]\n",
    "targets = california_housing_dataframe[\"medianHouseValue\"]\n",
    "\n",
    "# Create a linear regressor object.\n",
    "# The GradientDescentOptimizer implements Mini-Batch Stochastic Gradient\n",
    "# Descent (SGD), where the size of the mini-batch is given by the batch_size\n",
    "# parameter.\n",
    "# Note the learning_rate parameter to the optimizer: it controls the size of\n",
    "# the gradient step.\n",
    "# We also include a value for gradient_clip_norm for safety. This makes sure\n",
    "# that gradients are never too huge, which helps avoid pathological cases in\n",
    "# gradient descent.\n",
    "feature_columns = tf.contrib.learn.infer_real_valued_columns_from_input(\n",
    "  my_feature)\n",
    "linear_regressor = tf.contrib.learn.LinearRegressor(\n",
    "  feature_columns=feature_columns,\n",
    "  optimizer=tf.GradientDescentOptimizer(learning_rate=0.00001),\n",
    "  gradient_clip_norm=5.0\n",
    ")\n",
    "\n",
    "# Calling .fit() on the feature column and targets will train the model.\n",
    "print \"Training model...\"\n",
    "linear_regressor.fit(\n",
    "  my_feature,\n",
    "  targets,\n",
    "  steps=100,\n",
    "  batch_size=1\n",
    ")\n",
    "print \"Model training finished.\"\n",
    "\n",
    "# Let's make predictions on that training data, to see how well we fit the\n",
    "# training data.\n",
    "predictions = linear_regressor.predict(my_feature)\n",
    "mean_squared_error = metrics.mean_squared_error(predictions, targets)\n",
    "print \"Mean Squared Error (on training data): %0.3f\" % mean_squared_error\n",
    "print \"Root Mean Squared Error (on training data): %0.3f\" % math.sqrt(mean_squared_error)\n",
    "\n",
    "\n",
    "calibration_data = pd.DataFrame()\n",
    "calibration_data[\"predictions\"] = pd.Series(predictions)\n",
    "calibration_data[\"targets\"] = pd.Series(targets)\n",
    "display.display(calibration_data.describe())\n",
    "\n",
    "\n",
    "# First, get a uniform random sample of the data.  This is helpful to make the scatterplot readable.\n",
    "sample = california_housing_dataframe.sample(n=300)\n",
    "plt.scatter(sample[\"population\"], sample[\"medianHouseValue\"])\n",
    "\n",
    "# Now plot the line we've learned, drawing from the models bias term and feature weight.\n",
    "# This line will show up red.\n",
    "x_0 = sample[\"population\"].min()\n",
    "x_1 = sample[\"population\"].max()\n",
    "y_0 = linear_regressor.weights_[0] * x_0 + linear_regressor.bias_\n",
    "y_1 = linear_regressor.weights_[0] * x_1 + linear_regressor.bias_\n",
    "plt.plot([x_0, x_1], [y_0, y_1], c='r')"
   ]
  },
  {
   "cell_type": "code",
   "execution_count": 0,
   "metadata": {
    "cellView": "form",
    "colab": {
     "autoexec": {
      "startup": false,
      "wait_interval": 0
     }
    },
    "colab_type": "code",
    "collapsed": true,
    "id": "Zac-uAj-aksJ"
   },
   "outputs": [],
   "source": [
    "#@title To view a possible solution, toggle Form\n",
    "\n",
    "#@test {\"output\": \"ignore\"}\n",
    "\n",
    "LEARNING_RATE = 0.00002\n",
    "STEPS = 1000\n",
    "BATCH_SIZE = 5\n",
    "periods = 10\n",
    "steps_per_period = STEPS / periods\n",
    "\n",
    "my_feature = \"population\"\n",
    "my_feature_column = california_housing_dataframe[my_feature]\n",
    "my_label = \"medianHouseValue\"\n",
    "targets = california_housing_dataframe[my_label]\n",
    "\n",
    "# Create a linear regressor object.\n",
    "linear_regressor = tf.contrib.learn.LinearRegressor(\n",
    "  optimizer=tf.GradientDescentOptimizer(learning_rate=LEARNING_RATE),\n",
    "  gradient_clip_norm=5.0\n",
    ")\n",
    "\n",
    "# Set up to plot the state of our model's line each period.\n",
    "plt.figure(figsize=(15, 6))\n",
    "plt.subplot(1, 2, 1)\n",
    "plt.title(\"Learned Line by Period\")\n",
    "plt.ylabel(my_label)\n",
    "plt.xlabel(my_feature)\n",
    "sample = california_housing_dataframe.sample(n=300)\n",
    "plt.scatter(sample[my_feature], sample[my_label])\n",
    "colors = [ cm.coolwarm(x) for x in linspace(-1, 1, periods) ]\n",
    "\n",
    "# Train the model, but do so inside a loop so that we can periodically assess\n",
    "# loss metrics.\n",
    "print \"Training model...\"\n",
    "print \"RMSE (on training data):\"\n",
    "root_mean_squared_errors = []\n",
    "for period in range (0, periods):\n",
    "  # Train the model, starting from the prior state.\n",
    "  linear_regressor.fit(\n",
    "    my_feature_column,\n",
    "    targets,\n",
    "    steps=steps_per_period,\n",
    "    batch_size=BATCH_SIZE\n",
    "  )\n",
    "  # Take a break and compute predictions.\n",
    "  predictions = linear_regressor.predict(my_feature_column)\n",
    "  # Compute loss.\n",
    "  root_mean_squared_error = math.sqrt(\n",
    "    metrics.mean_squared_error(predictions, targets))\n",
    "  # Occasionally print the current loss.\n",
    "  print \"  period %02d : %0.2f\" % (period, root_mean_squared_error)\n",
    "  # Add the loss metrics from this period to our list.\n",
    "  root_mean_squared_errors.append(root_mean_squared_error)\n",
    "  # Finally, track the weights and biases over time.\n",
    "  # Apply some math to ensure that the data and line are plotted neatly.\n",
    "  y_extents = np.array([0, sample[my_label].max()])\n",
    "  x_extents = (y_extents - linear_regressor.bias_) / linear_regressor.weights_[0]\n",
    "  x_extents = np.maximum(np.minimum(x_extents,\n",
    "                                    sample[my_feature].max()),\n",
    "                         sample[my_feature].min())\n",
    "  y_extents = linear_regressor.weights_[0] * x_extents + linear_regressor.bias_\n",
    "  plt.plot(x_extents, y_extents, color=colors[period]) \n",
    "print \"Model training finished.\"\n",
    "\n",
    "# Output a graph of loss metrics over periods.\n",
    "plt.subplot(1, 2, 2)\n",
    "plt.ylabel('RMSE')\n",
    "plt.xlabel('Periods')\n",
    "plt.title(\"Root Mean Squared Error vs. Periods\")\n",
    "plt.tight_layout()\n",
    "display.display(plt.plot(root_mean_squared_errors))\n",
    "\n",
    "calibration_data = pd.DataFrame()\n",
    "calibration_data[\"predictions\"] = pd.Series(predictions)\n",
    "calibration_data[\"targets\"] = pd.Series(targets)\n",
    "display.display(calibration_data.describe())\n",
    "\n",
    "print (\"Final RMSE (on training data): %0.2f\" % root_mean_squared_error)"
   ]
  }
 ],
 "metadata": {
  "colab": {
   "default_view": {},
   "name": "Copy of first_steps_with_tensor_flow.ipynb",
   "provenance": [
    {
     "file_id": "/piper/depot/google3/engedu/ml/mlwtf_self_study/colab/first_steps_with_tensor_flow.ipynb",
     "timestamp": 1470146653382
    },
    {
     "file_id": "/piper/depot/google3/engedu/ml/mlwtf_self_study/colab/first_steps_with_tensor_flow.ipynb",
     "timestamp": 1468962238493
    },
    {
     "file_id": "/piper/depot/google3/engedu/ml/mlwtf_self_study/colab/first_steps_with_tensor_flow.ipynb",
     "timestamp": 1466188635411
    },
    {
     "file_id": "/piper/depot/google3/engedu/ml/mlwtf_self_study/colab/first_steps_with_tensor_flow.ipynb",
     "timestamp": 1466106547080
    },
    {
     "file_id": "/piper/depot/google3/engedu/ml/mlwtf_self_study/colab/first_steps_with_tensor_flow.ipynb",
     "timestamp": 1465941846585
    },
    {
     "file_id": "/piper/depot/google3/engedu/ml/mlwtf_self_study/colab/first_steps_with_tensor_flow.ipynb",
     "timestamp": 1465585926745
    },
    {
     "file_id": "/piper/depot/google3/engedu/ml/mlwtf_self_study/colab/first_steps_with_tensor_flow.ipynb",
     "timestamp": 1465535969139
    },
    {
     "file_id": "/piper/depot/google3/engedu/ml/mlwtf_self_study/colab/first_steps_with_tensor_flow.ipynb",
     "timestamp": 1465500447801
    },
    {
     "file_id": "/piper/depot/google3/engedu/ml/mlwtf_self_study/colab/first_steps_with_tensor_flow.ipynb?workspaceId=mdan:mlcc:4660:citc",
     "timestamp": 1465429550786
    },
    {
     "file_id": "/piper/depot/google3/engedu/ml/mlwtf_self_study/colab/first_steps_with_tensor_flow.ipynb",
     "timestamp": 1465415212393
    },
    {
     "file_id": "/piper/depot/google3/engedu/ml/mlwtf_self_study/colab/first_steps_with_tensor_flow.ipynb",
     "timestamp": 1464800132904
    },
    {
     "file_id": "/piper/depot/google3/engedu/ml/mlwtf_self_study/colab/first_steps_with_tensor_flow.ipynb",
     "timestamp": 1464789971970
    },
    {
     "file_id": "0B1ymeC_TeE1dQUdHcVpFbC10YmM",
     "timestamp": 1463102040711
    }
   ],
   "version": "0.3.2",
   "views": {}
  },
  "kernelspec": {
   "display_name": "Python 2",
   "language": "python",
   "name": "python2"
  },
  "language_info": {
   "codemirror_mode": {
    "name": "ipython",
    "version": 2
   },
   "file_extension": ".py",
   "mimetype": "text/x-python",
   "name": "python",
   "nbconvert_exporter": "python",
   "pygments_lexer": "ipython2",
   "version": "2.7.11"
  }
 },
 "nbformat": 4,
 "nbformat_minor": 0
}
