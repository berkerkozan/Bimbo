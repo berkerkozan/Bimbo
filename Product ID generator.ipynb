{
 "cells": [
  {
   "cell_type": "code",
   "execution_count": 41,
   "metadata": {
    "collapsed": true
   },
   "outputs": [],
   "source": [
    "import numpy as np  # linear algebra\n",
    "import pandas as pd  # data processing, CSV file I/O (e.g. pd.read_csv)\n",
    "import nltk.corpus\n",
    "from nltk.stem.snowball import SnowballStemmer\n",
    "from sklearn.cross_validation import train_test_split\n",
    "from ml_metrics import rmsle\n",
    "import xgboost as xgb\n",
    "import math\n",
    "from sklearn.feature_extraction.text import CountVectorizer\n",
    "from sklearn import datasets, linear_model, preprocessing\n",
    "import scipy.sparse as sps\n",
    "from scipy.sparse import coo_matrix, hstack, vstack, csr_matrix\n",
    "from scipy import io\n",
    "from datetime import datetime\n",
    "import gc\n",
    "from sklearn.feature_extraction.text import TfidfVectorizer, CountVectorizer\n",
    "from sklearn.feature_extraction.text import CountVectorizer"
   ]
  },
  {
   "cell_type": "code",
   "execution_count": 42,
   "metadata": {
    "collapsed": true
   },
   "outputs": [],
   "source": [
    "products = pd.read_csv(\"../input/producto_tabla.csv\")"
   ]
  },
  {
   "cell_type": "code",
   "execution_count": 43,
   "metadata": {
    "collapsed": false
   },
   "outputs": [
    {
     "name": "stdout",
     "output_type": "stream",
     "text": [
      "('products shape:', (2592, 5))\n"
     ]
    }
   ],
   "source": [
    "products['short_name'] = products.NombreProducto.str.extract('^(\\D*)', expand=False)\n",
    "products['brand'] = products.NombreProducto.str.extract('^.+\\s(\\D+) \\d+$', expand=False)\n",
    "w = products.NombreProducto.str.extract('(\\d+)(Kg|g)', expand=True)\n",
    "products['weight'] = w[0].astype('float') * w[1].map({'Kg': 1000, 'g': 1})\n",
    "products['pieces'] = products.NombreProducto.str.extract('(\\d+)p ', expand=False).astype('float')\n",
    "\n",
    "products['short_name_processed'] = (products['short_name'].\n",
    "                                    map(lambda x: \" \".\n",
    "                                        join([i for i in x.lower().split() \n",
    "                                              if i not in nltk.corpus.stopwords.words(\"spanish\")])))\n",
    "stemmer = SnowballStemmer(\"spanish\")\n",
    "products['short_name_processed'] = (products['short_name_processed'].\n",
    "                                    map(lambda x: \" \".join([stemmer.stem(i) for i in x.lower().split()])))\n",
    "\n",
    "le = preprocessing.LabelEncoder()\n",
    "\n",
    "products['Prod_name_ID']=le.fit_transform(products['short_name_processed'])\n",
    "products['Brand_ID']=le.fit_transform(products['brand'])\n",
    "\n",
    "products = products.drop(['short_name', 'brand', 'short_name_processed', 'NombreProducto'], axis=1)\n",
    "products.fillna(value=0, inplace=True)\n",
    "print('products shape:', products.shape)"
   ]
  },
  {
   "cell_type": "code",
   "execution_count": 44,
   "metadata": {
    "collapsed": false
   },
   "outputs": [
    {
     "data": {
      "text/html": [
       "<div>\n",
       "<table border=\"1\" class=\"dataframe\">\n",
       "  <thead>\n",
       "    <tr style=\"text-align: right;\">\n",
       "      <th></th>\n",
       "      <th>Producto_ID</th>\n",
       "      <th>weight</th>\n",
       "      <th>pieces</th>\n",
       "      <th>Prod_name_ID</th>\n",
       "      <th>Brand_ID</th>\n",
       "    </tr>\n",
       "  </thead>\n",
       "  <tbody>\n",
       "    <tr>\n",
       "      <th>count</th>\n",
       "      <td>2592.000000</td>\n",
       "      <td>2592.000000</td>\n",
       "      <td>2592.000000</td>\n",
       "      <td>2592.000000</td>\n",
       "      <td>2592.000000</td>\n",
       "    </tr>\n",
       "    <tr>\n",
       "      <th>mean</th>\n",
       "      <td>32591.095679</td>\n",
       "      <td>396.512731</td>\n",
       "      <td>4.554012</td>\n",
       "      <td>493.928627</td>\n",
       "      <td>19.851852</td>\n",
       "    </tr>\n",
       "    <tr>\n",
       "      <th>std</th>\n",
       "      <td>13004.091024</td>\n",
       "      <td>1746.272566</td>\n",
       "      <td>8.988187</td>\n",
       "      <td>285.759610</td>\n",
       "      <td>12.819128</td>\n",
       "    </tr>\n",
       "    <tr>\n",
       "      <th>min</th>\n",
       "      <td>0.000000</td>\n",
       "      <td>0.000000</td>\n",
       "      <td>0.000000</td>\n",
       "      <td>0.000000</td>\n",
       "      <td>0.000000</td>\n",
       "    </tr>\n",
       "    <tr>\n",
       "      <th>25%</th>\n",
       "      <td>31515.500000</td>\n",
       "      <td>70.000000</td>\n",
       "      <td>0.000000</td>\n",
       "      <td>249.000000</td>\n",
       "      <td>4.000000</td>\n",
       "    </tr>\n",
       "    <tr>\n",
       "      <th>50%</th>\n",
       "      <td>35224.000000</td>\n",
       "      <td>170.000000</td>\n",
       "      <td>0.000000</td>\n",
       "      <td>498.000000</td>\n",
       "      <td>23.000000</td>\n",
       "    </tr>\n",
       "    <tr>\n",
       "      <th>75%</th>\n",
       "      <td>40447.250000</td>\n",
       "      <td>384.000000</td>\n",
       "      <td>6.000000</td>\n",
       "      <td>750.250000</td>\n",
       "      <td>25.000000</td>\n",
       "    </tr>\n",
       "    <tr>\n",
       "      <th>max</th>\n",
       "      <td>49997.000000</td>\n",
       "      <td>42000.000000</td>\n",
       "      <td>200.000000</td>\n",
       "      <td>962.000000</td>\n",
       "      <td>44.000000</td>\n",
       "    </tr>\n",
       "  </tbody>\n",
       "</table>\n",
       "</div>"
      ],
      "text/plain": [
       "        Producto_ID        weight       pieces  Prod_name_ID     Brand_ID\n",
       "count   2592.000000   2592.000000  2592.000000   2592.000000  2592.000000\n",
       "mean   32591.095679    396.512731     4.554012    493.928627    19.851852\n",
       "std    13004.091024   1746.272566     8.988187    285.759610    12.819128\n",
       "min        0.000000      0.000000     0.000000      0.000000     0.000000\n",
       "25%    31515.500000     70.000000     0.000000    249.000000     4.000000\n",
       "50%    35224.000000    170.000000     0.000000    498.000000    23.000000\n",
       "75%    40447.250000    384.000000     6.000000    750.250000    25.000000\n",
       "max    49997.000000  42000.000000   200.000000    962.000000    44.000000"
      ]
     },
     "execution_count": 44,
     "metadata": {},
     "output_type": "execute_result"
    }
   ],
   "source": [
    "products.describe()"
   ]
  },
  {
   "cell_type": "code",
   "execution_count": 45,
   "metadata": {
    "collapsed": false
   },
   "outputs": [
    {
     "name": "stdout",
     "output_type": "stream",
     "text": [
      "<class 'pandas.core.frame.DataFrame'>\n",
      "RangeIndex: 2592 entries, 0 to 2591\n",
      "Data columns (total 5 columns):\n",
      "Producto_ID     2592 non-null int64\n",
      "weight          2592 non-null float64\n",
      "pieces          2592 non-null float64\n",
      "Prod_name_ID    2592 non-null int64\n",
      "Brand_ID        2592 non-null int64\n",
      "dtypes: float64(2), int64(3)\n",
      "memory usage: 101.3 KB\n"
     ]
    }
   ],
   "source": [
    "products.info()"
   ]
  },
  {
   "cell_type": "code",
   "execution_count": 46,
   "metadata": {
    "collapsed": false
   },
   "outputs": [],
   "source": [
    "products[['pieces','Brand_ID']] = products[['pieces','Brand_ID']].astype('uint8')\n",
    "products[['Producto_ID','weight', 'Prod_name_ID']] = products[['Producto_ID','weight', 'Prod_name_ID']].astype('uint16')"
   ]
  },
  {
   "cell_type": "code",
   "execution_count": 47,
   "metadata": {
    "collapsed": false
   },
   "outputs": [
    {
     "data": {
      "text/html": [
       "<div>\n",
       "<table border=\"1\" class=\"dataframe\">\n",
       "  <thead>\n",
       "    <tr style=\"text-align: right;\">\n",
       "      <th></th>\n",
       "      <th>Producto_ID</th>\n",
       "      <th>weight</th>\n",
       "      <th>pieces</th>\n",
       "      <th>Prod_name_ID</th>\n",
       "      <th>Brand_ID</th>\n",
       "    </tr>\n",
       "  </thead>\n",
       "  <tbody>\n",
       "    <tr>\n",
       "      <th>count</th>\n",
       "      <td>2592.000000</td>\n",
       "      <td>2592.000000</td>\n",
       "      <td>2592.000000</td>\n",
       "      <td>2592.000000</td>\n",
       "      <td>2592.000000</td>\n",
       "    </tr>\n",
       "    <tr>\n",
       "      <th>mean</th>\n",
       "      <td>32591.095679</td>\n",
       "      <td>396.512731</td>\n",
       "      <td>4.554012</td>\n",
       "      <td>493.928627</td>\n",
       "      <td>19.851852</td>\n",
       "    </tr>\n",
       "    <tr>\n",
       "      <th>std</th>\n",
       "      <td>13004.091024</td>\n",
       "      <td>1746.272566</td>\n",
       "      <td>8.988187</td>\n",
       "      <td>285.759610</td>\n",
       "      <td>12.819128</td>\n",
       "    </tr>\n",
       "    <tr>\n",
       "      <th>min</th>\n",
       "      <td>0.000000</td>\n",
       "      <td>0.000000</td>\n",
       "      <td>0.000000</td>\n",
       "      <td>0.000000</td>\n",
       "      <td>0.000000</td>\n",
       "    </tr>\n",
       "    <tr>\n",
       "      <th>25%</th>\n",
       "      <td>31515.500000</td>\n",
       "      <td>70.000000</td>\n",
       "      <td>0.000000</td>\n",
       "      <td>249.000000</td>\n",
       "      <td>4.000000</td>\n",
       "    </tr>\n",
       "    <tr>\n",
       "      <th>50%</th>\n",
       "      <td>35224.000000</td>\n",
       "      <td>170.000000</td>\n",
       "      <td>0.000000</td>\n",
       "      <td>498.000000</td>\n",
       "      <td>23.000000</td>\n",
       "    </tr>\n",
       "    <tr>\n",
       "      <th>75%</th>\n",
       "      <td>40447.250000</td>\n",
       "      <td>384.000000</td>\n",
       "      <td>6.000000</td>\n",
       "      <td>750.250000</td>\n",
       "      <td>25.000000</td>\n",
       "    </tr>\n",
       "    <tr>\n",
       "      <th>max</th>\n",
       "      <td>49997.000000</td>\n",
       "      <td>42000.000000</td>\n",
       "      <td>200.000000</td>\n",
       "      <td>962.000000</td>\n",
       "      <td>44.000000</td>\n",
       "    </tr>\n",
       "  </tbody>\n",
       "</table>\n",
       "</div>"
      ],
      "text/plain": [
       "        Producto_ID        weight       pieces  Prod_name_ID     Brand_ID\n",
       "count   2592.000000   2592.000000  2592.000000   2592.000000  2592.000000\n",
       "mean   32591.095679    396.512731     4.554012    493.928627    19.851852\n",
       "std    13004.091024   1746.272566     8.988187    285.759610    12.819128\n",
       "min        0.000000      0.000000     0.000000      0.000000     0.000000\n",
       "25%    31515.500000     70.000000     0.000000    249.000000     4.000000\n",
       "50%    35224.000000    170.000000     0.000000    498.000000    23.000000\n",
       "75%    40447.250000    384.000000     6.000000    750.250000    25.000000\n",
       "max    49997.000000  42000.000000   200.000000    962.000000    44.000000"
      ]
     },
     "execution_count": 47,
     "metadata": {},
     "output_type": "execute_result"
    }
   ],
   "source": [
    "products.describe()"
   ]
  },
  {
   "cell_type": "code",
   "execution_count": 48,
   "metadata": {
    "collapsed": false
   },
   "outputs": [
    {
     "name": "stdout",
     "output_type": "stream",
     "text": [
      "<class 'pandas.core.frame.DataFrame'>\n",
      "RangeIndex: 2592 entries, 0 to 2591\n",
      "Data columns (total 5 columns):\n",
      "Producto_ID     2592 non-null uint16\n",
      "weight          2592 non-null uint16\n",
      "pieces          2592 non-null uint8\n",
      "Prod_name_ID    2592 non-null uint16\n",
      "Brand_ID        2592 non-null uint8\n",
      "dtypes: uint16(3), uint8(2)\n",
      "memory usage: 20.3 KB\n"
     ]
    }
   ],
   "source": [
    "products.info()"
   ]
  },
  {
   "cell_type": "code",
   "execution_count": 49,
   "metadata": {
    "collapsed": true
   },
   "outputs": [],
   "source": [
    "products.to_csv('../input/products_ID.csv')"
   ]
  },
  {
   "cell_type": "code",
   "execution_count": null,
   "metadata": {
    "collapsed": true
   },
   "outputs": [],
   "source": []
  }
 ],
 "metadata": {
  "anaconda-cloud": {},
  "kernelspec": {
   "display_name": "Python 2",
   "language": "python",
   "name": "python2"
  },
  "language_info": {
   "codemirror_mode": {
    "name": "ipython",
    "version": 2
   },
   "file_extension": ".py",
   "mimetype": "text/x-python",
   "name": "python",
   "nbconvert_exporter": "python",
   "pygments_lexer": "ipython2",
   "version": "2.7.12"
  }
 },
 "nbformat": 4,
 "nbformat_minor": 0
}
